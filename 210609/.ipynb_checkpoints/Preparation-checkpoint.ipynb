{
 "cells": [
  {
   "cell_type": "code",
   "execution_count": 15,
   "id": "bcddca8e-487d-4dc2-b227-78ecc9da146b",
   "metadata": {},
   "outputs": [],
   "source": [
    "# Data Preparation  데이터 전처리\n",
    "\n",
    "%matplotlib inline\n",
    "import numpy as np\n",
    "import matplotlib.pyplot as plt\n",
    "import pandas as pd\n",
    "\n",
    "file_path ='../python-data-analysis-master/data/chipotle.tsv'\n",
    "chipo = pd.read_csv(file_path, sep = '\\t')\n"
   ]
  },
  {
   "cell_type": "code",
   "execution_count": 91,
   "id": "fbcb4a8a-9ddf-4241-a7a0-0a6893daeba2",
   "metadata": {},
   "outputs": [
    {
     "name": "stdout",
     "output_type": "stream",
     "text": [
      "$16.11\n",
      "16.77\n",
      "\n",
      "<class 'str'>\n"
     ]
    },
    {
     "data": {
      "text/plain": [
       "16.11"
      ]
     },
     "execution_count": 91,
     "metadata": {},
     "output_type": "execute_result"
    }
   ],
   "source": [
    "#***** 변환하는 법 , 형 변환 하는법\n",
    "print('$16.11')\n",
    "print('$16.77' [1:])\n",
    "\n",
    "#인덱스 1부터 불러와서 앞에 달러 표시를 없애버림 ㄷㄷ 천재적\n",
    "\n",
    "print()\n",
    "print(type('$16.11'))\n",
    "\n",
    "float('$16.11'[1:])\n",
    "\n",
    "\n",
    "### 람다 알아보기"
   ]
  },
  {
   "cell_type": "code",
   "execution_count": 78,
   "id": "e5af1a3f-c120-472d-ad65-70ba257acbc6",
   "metadata": {},
   "outputs": [],
   "source": [
    "# object, str 같은 형식의 데이터를 int 형으로 변환 한다\n"
   ]
  },
  {
   "cell_type": "code",
   "execution_count": 17,
   "id": "5c2d2f5c-3273-4f96-8605-1db9529abb5a",
   "metadata": {},
   "outputs": [
    {
     "data": {
      "text/html": [
       "<div>\n",
       "<style scoped>\n",
       "    .dataframe tbody tr th:only-of-type {\n",
       "        vertical-align: middle;\n",
       "    }\n",
       "\n",
       "    .dataframe tbody tr th {\n",
       "        vertical-align: top;\n",
       "    }\n",
       "\n",
       "    .dataframe thead th {\n",
       "        text-align: right;\n",
       "    }\n",
       "</style>\n",
       "<table border=\"1\" class=\"dataframe\">\n",
       "  <thead>\n",
       "    <tr style=\"text-align: right;\">\n",
       "      <th></th>\n",
       "      <th>order_id</th>\n",
       "      <th>quantity</th>\n",
       "      <th>item_price</th>\n",
       "    </tr>\n",
       "  </thead>\n",
       "  <tbody>\n",
       "    <tr>\n",
       "      <th>count</th>\n",
       "      <td>4622.000000</td>\n",
       "      <td>4622.000000</td>\n",
       "      <td>4622.000000</td>\n",
       "    </tr>\n",
       "    <tr>\n",
       "      <th>mean</th>\n",
       "      <td>927.254868</td>\n",
       "      <td>1.075725</td>\n",
       "      <td>7.464336</td>\n",
       "    </tr>\n",
       "    <tr>\n",
       "      <th>std</th>\n",
       "      <td>528.890796</td>\n",
       "      <td>0.410186</td>\n",
       "      <td>4.245557</td>\n",
       "    </tr>\n",
       "    <tr>\n",
       "      <th>min</th>\n",
       "      <td>1.000000</td>\n",
       "      <td>1.000000</td>\n",
       "      <td>1.090000</td>\n",
       "    </tr>\n",
       "    <tr>\n",
       "      <th>25%</th>\n",
       "      <td>477.250000</td>\n",
       "      <td>1.000000</td>\n",
       "      <td>3.390000</td>\n",
       "    </tr>\n",
       "    <tr>\n",
       "      <th>50%</th>\n",
       "      <td>926.000000</td>\n",
       "      <td>1.000000</td>\n",
       "      <td>8.750000</td>\n",
       "    </tr>\n",
       "    <tr>\n",
       "      <th>75%</th>\n",
       "      <td>1393.000000</td>\n",
       "      <td>1.000000</td>\n",
       "      <td>9.250000</td>\n",
       "    </tr>\n",
       "    <tr>\n",
       "      <th>max</th>\n",
       "      <td>1834.000000</td>\n",
       "      <td>15.000000</td>\n",
       "      <td>44.250000</td>\n",
       "    </tr>\n",
       "  </tbody>\n",
       "</table>\n",
       "</div>"
      ],
      "text/plain": [
       "          order_id     quantity   item_price\n",
       "count  4622.000000  4622.000000  4622.000000\n",
       "mean    927.254868     1.075725     7.464336\n",
       "std     528.890796     0.410186     4.245557\n",
       "min       1.000000     1.000000     1.090000\n",
       "25%     477.250000     1.000000     3.390000\n",
       "50%     926.000000     1.000000     8.750000\n",
       "75%    1393.000000     1.000000     9.250000\n",
       "max    1834.000000    15.000000    44.250000"
      ]
     },
     "execution_count": 17,
     "metadata": {},
     "output_type": "execute_result"
    }
   ],
   "source": [
    "# column 단위 데이터에 apply 함수로 전처리를 적용한다\n",
    "\n",
    "chipo['item_price'] = chipo['item_price'].apply(lambda x: float(x[1:]))\n",
    "chipo.describe()\n",
    "\n"
   ]
  },
  {
   "cell_type": "code",
   "execution_count": 18,
   "id": "d37fa2c8-6156-4200-bae8-9c8b064f4ee8",
   "metadata": {},
   "outputs": [],
   "source": [
    "# item_price 에 원래는 $ 표시가 있고 object 타입이었는데..\n",
    "# int 형 타입으로 변환 되었다."
   ]
  },
  {
   "cell_type": "code",
   "execution_count": null,
   "id": "3a9078f8-be5a-4eeb-b412-03581c61f785",
   "metadata": {},
   "outputs": [],
   "source": []
  },
  {
   "cell_type": "code",
   "execution_count": null,
   "id": "e9c29920-a0ab-441b-8428-d3be8f1cefd9",
   "metadata": {},
   "outputs": [],
   "source": [
    "'''\n",
    "탐색적 분석\n",
    "\n",
    "1) 주문당 평균 계산금액 출력하기\n",
    "2) 한 주문에 10달러 이상 사용한 주문의 id들 출력하기\n",
    "3) 각 아이템의 가격 구하기\n",
    "4) 가장 비싼 주문에서 item이 몇개 팔렸는지 구하기\n",
    "5) Veggie Salad bowl 이 몇 번 주문되었는지 구하기\n",
    "6) chicken bowl 을 2개 이상 주문한 주문 횟수 구하기\n",
    "\n",
    "'''"
   ]
  },
  {
   "cell_type": "code",
   "execution_count": null,
   "id": "197dd507-adbf-4e77-800a-bb8c8e81c50a",
   "metadata": {},
   "outputs": [],
   "source": []
  },
  {
   "cell_type": "code",
   "execution_count": 37,
   "id": "6d5d55b6-9008-4384-90ad-549fdf0803e5",
   "metadata": {},
   "outputs": [],
   "source": [
    "# 1. 주문당 평균 계산금액 출력하기"
   ]
  },
  {
   "cell_type": "code",
   "execution_count": 38,
   "id": "5c71a703-3db8-4627-a9ef-700f03d32283",
   "metadata": {},
   "outputs": [],
   "source": [
    "Order_AVG = chipo.groupby('order_id')['item_price'].sum().mean()"
   ]
  },
  {
   "cell_type": "code",
   "execution_count": 39,
   "id": "56a82302-7bd2-4228-9cc4-8c284408ec31",
   "metadata": {},
   "outputs": [
    {
     "name": "stdout",
     "output_type": "stream",
     "text": [
      "18.811428571428568\n"
     ]
    }
   ],
   "source": [
    "print(Order_AVG)"
   ]
  },
  {
   "cell_type": "code",
   "execution_count": null,
   "id": "62e2f2d2-b390-4e5a-b6d6-081f781c01d0",
   "metadata": {},
   "outputs": [],
   "source": [
    "\n",
    "\n",
    "\n",
    "\n"
   ]
  },
  {
   "cell_type": "code",
   "execution_count": 92,
   "id": "527a912a-74c9-4480-9c95-f137b328cccd",
   "metadata": {},
   "outputs": [],
   "source": [
    "# 2. 한 주문에 10달러 이상 사용한 주문의 id들 출력하기"
   ]
  },
  {
   "cell_type": "code",
   "execution_count": 94,
   "id": "ef715422-329e-43df-b51a-db1f997591e1",
   "metadata": {},
   "outputs": [
    {
     "data": {
      "text/html": [
       "<div>\n",
       "<style scoped>\n",
       "    .dataframe tbody tr th:only-of-type {\n",
       "        vertical-align: middle;\n",
       "    }\n",
       "\n",
       "    .dataframe tbody tr th {\n",
       "        vertical-align: top;\n",
       "    }\n",
       "\n",
       "    .dataframe thead th {\n",
       "        text-align: right;\n",
       "    }\n",
       "</style>\n",
       "<table border=\"1\" class=\"dataframe\">\n",
       "  <thead>\n",
       "    <tr style=\"text-align: right;\">\n",
       "      <th></th>\n",
       "      <th>order_id</th>\n",
       "      <th>quantity</th>\n",
       "      <th>item_name</th>\n",
       "      <th>choice_description</th>\n",
       "      <th>item_price</th>\n",
       "    </tr>\n",
       "  </thead>\n",
       "  <tbody>\n",
       "    <tr>\n",
       "      <th>0</th>\n",
       "      <td>1</td>\n",
       "      <td>1</td>\n",
       "      <td>Chips and Fresh Tomato Salsa</td>\n",
       "      <td>NaN</td>\n",
       "      <td>2.39</td>\n",
       "    </tr>\n",
       "    <tr>\n",
       "      <th>1</th>\n",
       "      <td>1</td>\n",
       "      <td>1</td>\n",
       "      <td>Izze</td>\n",
       "      <td>[Clementine]</td>\n",
       "      <td>3.39</td>\n",
       "    </tr>\n",
       "    <tr>\n",
       "      <th>2</th>\n",
       "      <td>1</td>\n",
       "      <td>1</td>\n",
       "      <td>Nantucket Nectar</td>\n",
       "      <td>[Apple]</td>\n",
       "      <td>3.39</td>\n",
       "    </tr>\n",
       "    <tr>\n",
       "      <th>3</th>\n",
       "      <td>1</td>\n",
       "      <td>1</td>\n",
       "      <td>Chips and Tomatillo-Green Chili Salsa</td>\n",
       "      <td>NaN</td>\n",
       "      <td>2.39</td>\n",
       "    </tr>\n",
       "    <tr>\n",
       "      <th>4</th>\n",
       "      <td>2</td>\n",
       "      <td>2</td>\n",
       "      <td>Chicken Bowl</td>\n",
       "      <td>[Tomatillo-Red Chili Salsa (Hot), [Black Beans...</td>\n",
       "      <td>16.98</td>\n",
       "    </tr>\n",
       "  </tbody>\n",
       "</table>\n",
       "</div>"
      ],
      "text/plain": [
       "   order_id  quantity                              item_name  \\\n",
       "0         1         1           Chips and Fresh Tomato Salsa   \n",
       "1         1         1                                   Izze   \n",
       "2         1         1                       Nantucket Nectar   \n",
       "3         1         1  Chips and Tomatillo-Green Chili Salsa   \n",
       "4         2         2                           Chicken Bowl   \n",
       "\n",
       "                                  choice_description  item_price  \n",
       "0                                                NaN        2.39  \n",
       "1                                       [Clementine]        3.39  \n",
       "2                                            [Apple]        3.39  \n",
       "3                                                NaN        2.39  \n",
       "4  [Tomatillo-Red Chili Salsa (Hot), [Black Beans...       16.98  "
      ]
     },
     "execution_count": 94,
     "metadata": {},
     "output_type": "execute_result"
    }
   ],
   "source": [
    "chipo.head()"
   ]
  },
  {
   "cell_type": "code",
   "execution_count": 127,
   "id": "d5b8b6ae-2049-4fd1-8baa-b20ec74874e7",
   "metadata": {},
   "outputs": [
    {
     "data": {
      "text/html": [
       "<div>\n",
       "<style scoped>\n",
       "    .dataframe tbody tr th:only-of-type {\n",
       "        vertical-align: middle;\n",
       "    }\n",
       "\n",
       "    .dataframe tbody tr th {\n",
       "        vertical-align: top;\n",
       "    }\n",
       "\n",
       "    .dataframe thead th {\n",
       "        text-align: right;\n",
       "    }\n",
       "</style>\n",
       "<table border=\"1\" class=\"dataframe\">\n",
       "  <thead>\n",
       "    <tr style=\"text-align: right;\">\n",
       "      <th></th>\n",
       "      <th>quantity</th>\n",
       "      <th>item_price</th>\n",
       "    </tr>\n",
       "    <tr>\n",
       "      <th>order_id</th>\n",
       "      <th></th>\n",
       "      <th></th>\n",
       "    </tr>\n",
       "  </thead>\n",
       "  <tbody>\n",
       "    <tr>\n",
       "      <th>1</th>\n",
       "      <td>4</td>\n",
       "      <td>11.56</td>\n",
       "    </tr>\n",
       "    <tr>\n",
       "      <th>2</th>\n",
       "      <td>2</td>\n",
       "      <td>16.98</td>\n",
       "    </tr>\n",
       "    <tr>\n",
       "      <th>3</th>\n",
       "      <td>2</td>\n",
       "      <td>12.67</td>\n",
       "    </tr>\n",
       "    <tr>\n",
       "      <th>4</th>\n",
       "      <td>2</td>\n",
       "      <td>21.00</td>\n",
       "    </tr>\n",
       "    <tr>\n",
       "      <th>5</th>\n",
       "      <td>2</td>\n",
       "      <td>13.70</td>\n",
       "    </tr>\n",
       "  </tbody>\n",
       "</table>\n",
       "</div>"
      ],
      "text/plain": [
       "          quantity  item_price\n",
       "order_id                      \n",
       "1                4       11.56\n",
       "2                2       16.98\n",
       "3                2       12.67\n",
       "4                2       21.00\n",
       "5                2       13.70"
      ]
     },
     "execution_count": 127,
     "metadata": {},
     "output_type": "execute_result"
    }
   ],
   "source": [
    "Gid =  chipo.groupby('order_id').sum()\n",
    "Gid.head()"
   ]
  },
  {
   "cell_type": "code",
   "execution_count": 130,
   "id": "20c9b522-faa7-45c3-8f98-bce112d0047b",
   "metadata": {},
   "outputs": [],
   "source": [
    "Gid_D10 = Gid[Gid.item_price >= 10]"
   ]
  },
  {
   "cell_type": "code",
   "execution_count": 132,
   "id": "46f654c5-6b68-4753-b0e2-82937ac6b836",
   "metadata": {},
   "outputs": [
    {
     "name": "stdout",
     "output_type": "stream",
     "text": [
      "          quantity  item_price\n",
      "order_id                      \n",
      "1                4       11.56\n",
      "2                2       16.98\n",
      "3                2       12.67\n",
      "4                2       21.00\n",
      "5                2       13.70\n",
      "6                2       17.50\n",
      "7                2       15.70\n",
      "8                2       10.88\n",
      "9                3       10.67\n",
      "10               2       13.20\n"
     ]
    }
   ],
   "source": [
    "print(Gid_D10[:10])"
   ]
  },
  {
   "cell_type": "code",
   "execution_count": 136,
   "id": "7a250e8c-eb82-4e8c-a180-a7c7cc083c38",
   "metadata": {},
   "outputs": [
    {
     "name": "stdout",
     "output_type": "stream",
     "text": [
      "[   1    2    3 ... 1832 1833 1834]\n"
     ]
    }
   ],
   "source": [
    "print(Gid_D10.index.values)"
   ]
  },
  {
   "cell_type": "code",
   "execution_count": null,
   "id": "1910ec4d-b6db-4212-8fdc-f5f47591dc45",
   "metadata": {},
   "outputs": [],
   "source": [
    "\n",
    "\n",
    "\n"
   ]
  },
  {
   "cell_type": "code",
   "execution_count": 138,
   "id": "21f1f8cf-dfa0-41a8-9674-bd757ed788a2",
   "metadata": {},
   "outputs": [],
   "source": [
    "## 3. 각 아이템의 가격 구하기"
   ]
  },
  {
   "cell_type": "code",
   "execution_count": 141,
   "id": "3fd32b16-4ca5-4e53-ad58-7a8094b8a037",
   "metadata": {},
   "outputs": [
    {
     "data": {
      "text/html": [
       "<div>\n",
       "<style scoped>\n",
       "    .dataframe tbody tr th:only-of-type {\n",
       "        vertical-align: middle;\n",
       "    }\n",
       "\n",
       "    .dataframe tbody tr th {\n",
       "        vertical-align: top;\n",
       "    }\n",
       "\n",
       "    .dataframe thead th {\n",
       "        text-align: right;\n",
       "    }\n",
       "</style>\n",
       "<table border=\"1\" class=\"dataframe\">\n",
       "  <thead>\n",
       "    <tr style=\"text-align: right;\">\n",
       "      <th></th>\n",
       "      <th>order_id</th>\n",
       "      <th>quantity</th>\n",
       "      <th>item_name</th>\n",
       "      <th>choice_description</th>\n",
       "      <th>item_price</th>\n",
       "    </tr>\n",
       "  </thead>\n",
       "  <tbody>\n",
       "    <tr>\n",
       "      <th>0</th>\n",
       "      <td>1</td>\n",
       "      <td>1</td>\n",
       "      <td>Chips and Fresh Tomato Salsa</td>\n",
       "      <td>NaN</td>\n",
       "      <td>2.39</td>\n",
       "    </tr>\n",
       "    <tr>\n",
       "      <th>1</th>\n",
       "      <td>1</td>\n",
       "      <td>1</td>\n",
       "      <td>Izze</td>\n",
       "      <td>[Clementine]</td>\n",
       "      <td>3.39</td>\n",
       "    </tr>\n",
       "    <tr>\n",
       "      <th>2</th>\n",
       "      <td>1</td>\n",
       "      <td>1</td>\n",
       "      <td>Nantucket Nectar</td>\n",
       "      <td>[Apple]</td>\n",
       "      <td>3.39</td>\n",
       "    </tr>\n",
       "    <tr>\n",
       "      <th>3</th>\n",
       "      <td>1</td>\n",
       "      <td>1</td>\n",
       "      <td>Chips and Tomatillo-Green Chili Salsa</td>\n",
       "      <td>NaN</td>\n",
       "      <td>2.39</td>\n",
       "    </tr>\n",
       "    <tr>\n",
       "      <th>4</th>\n",
       "      <td>2</td>\n",
       "      <td>2</td>\n",
       "      <td>Chicken Bowl</td>\n",
       "      <td>[Tomatillo-Red Chili Salsa (Hot), [Black Beans...</td>\n",
       "      <td>16.98</td>\n",
       "    </tr>\n",
       "  </tbody>\n",
       "</table>\n",
       "</div>"
      ],
      "text/plain": [
       "   order_id  quantity                              item_name  \\\n",
       "0         1         1           Chips and Fresh Tomato Salsa   \n",
       "1         1         1                                   Izze   \n",
       "2         1         1                       Nantucket Nectar   \n",
       "3         1         1  Chips and Tomatillo-Green Chili Salsa   \n",
       "4         2         2                           Chicken Bowl   \n",
       "\n",
       "                                  choice_description  item_price  \n",
       "0                                                NaN        2.39  \n",
       "1                                       [Clementine]        3.39  \n",
       "2                                            [Apple]        3.39  \n",
       "3                                                NaN        2.39  \n",
       "4  [Tomatillo-Red Chili Salsa (Hot), [Black Beans...       16.98  "
      ]
     },
     "execution_count": 141,
     "metadata": {},
     "output_type": "execute_result"
    }
   ],
   "source": [
    "chipo.head()"
   ]
  },
  {
   "cell_type": "code",
   "execution_count": 181,
   "id": "1ce72e26-860a-4d3f-a1a5-910dc965220c",
   "metadata": {},
   "outputs": [
    {
     "data": {
      "text/html": [
       "<div>\n",
       "<style scoped>\n",
       "    .dataframe tbody tr th:only-of-type {\n",
       "        vertical-align: middle;\n",
       "    }\n",
       "\n",
       "    .dataframe tbody tr th {\n",
       "        vertical-align: top;\n",
       "    }\n",
       "\n",
       "    .dataframe thead th {\n",
       "        text-align: right;\n",
       "    }\n",
       "</style>\n",
       "<table border=\"1\" class=\"dataframe\">\n",
       "  <thead>\n",
       "    <tr style=\"text-align: right;\">\n",
       "      <th></th>\n",
       "      <th>order_id</th>\n",
       "      <th>quantity</th>\n",
       "      <th>item_price</th>\n",
       "    </tr>\n",
       "    <tr>\n",
       "      <th>item_name</th>\n",
       "      <th></th>\n",
       "      <th></th>\n",
       "      <th></th>\n",
       "    </tr>\n",
       "  </thead>\n",
       "  <tbody>\n",
       "    <tr>\n",
       "      <th>6 Pack Soft Drink</th>\n",
       "      <td>52322</td>\n",
       "      <td>55</td>\n",
       "      <td>356.95</td>\n",
       "    </tr>\n",
       "    <tr>\n",
       "      <th>Barbacoa Bowl</th>\n",
       "      <td>53972</td>\n",
       "      <td>66</td>\n",
       "      <td>672.36</td>\n",
       "    </tr>\n",
       "    <tr>\n",
       "      <th>Barbacoa Burrito</th>\n",
       "      <td>74718</td>\n",
       "      <td>91</td>\n",
       "      <td>894.75</td>\n",
       "    </tr>\n",
       "    <tr>\n",
       "      <th>Barbacoa Crispy Tacos</th>\n",
       "      <td>5613</td>\n",
       "      <td>12</td>\n",
       "      <td>120.21</td>\n",
       "    </tr>\n",
       "    <tr>\n",
       "      <th>Barbacoa Salad Bowl</th>\n",
       "      <td>9708</td>\n",
       "      <td>10</td>\n",
       "      <td>106.40</td>\n",
       "    </tr>\n",
       "    <tr>\n",
       "      <th>Barbacoa Soft Tacos</th>\n",
       "      <td>18725</td>\n",
       "      <td>25</td>\n",
       "      <td>250.46</td>\n",
       "    </tr>\n",
       "    <tr>\n",
       "      <th>Bottled Water</th>\n",
       "      <td>175944</td>\n",
       "      <td>211</td>\n",
       "      <td>302.56</td>\n",
       "    </tr>\n",
       "    <tr>\n",
       "      <th>Bowl</th>\n",
       "      <td>472</td>\n",
       "      <td>4</td>\n",
       "      <td>29.60</td>\n",
       "    </tr>\n",
       "    <tr>\n",
       "      <th>Burrito</th>\n",
       "      <td>1550</td>\n",
       "      <td>6</td>\n",
       "      <td>44.40</td>\n",
       "    </tr>\n",
       "    <tr>\n",
       "      <th>Canned Soda</th>\n",
       "      <td>76396</td>\n",
       "      <td>126</td>\n",
       "      <td>137.34</td>\n",
       "    </tr>\n",
       "  </tbody>\n",
       "</table>\n",
       "</div>"
      ],
      "text/plain": [
       "                       order_id  quantity  item_price\n",
       "item_name                                            \n",
       "6 Pack Soft Drink         52322        55      356.95\n",
       "Barbacoa Bowl             53972        66      672.36\n",
       "Barbacoa Burrito          74718        91      894.75\n",
       "Barbacoa Crispy Tacos      5613        12      120.21\n",
       "Barbacoa Salad Bowl        9708        10      106.40\n",
       "Barbacoa Soft Tacos       18725        25      250.46\n",
       "Bottled Water            175944       211      302.56\n",
       "Bowl                        472         4       29.60\n",
       "Burrito                    1550         6       44.40\n",
       "Canned Soda               76396       126      137.34"
      ]
     },
     "execution_count": 181,
     "metadata": {},
     "output_type": "execute_result"
    }
   ],
   "source": [
    "food = chipo.groupby('item_name').sum()\n",
    "food.head(10)"
   ]
  },
  {
   "cell_type": "code",
   "execution_count": 150,
   "id": "5010fb49-d6d0-48d0-9eea-8bad5dee8410",
   "metadata": {},
   "outputs": [],
   "source": [
    "AQ = food.quantity.values"
   ]
  },
  {
   "cell_type": "code",
   "execution_count": 154,
   "id": "a86efe80-9dcf-427c-86df-9b7ba98a7783",
   "metadata": {},
   "outputs": [
    {
     "name": "stdout",
     "output_type": "stream",
     "text": [
      "[ 55  66  91  12  10  25 211   4   6 126 351  71  60   8   1   6  40 761\n",
      " 591  50   9 123 120 230 130 506   1  23  18  45  50  33  25   2  20  29\n",
      "   2 110 221 386  36   4  31  56  87  97   1   6  18   8]\n"
     ]
    }
   ],
   "source": [
    "print(AQ)"
   ]
  },
  {
   "cell_type": "code",
   "execution_count": 175,
   "id": "6333966c-8fa8-459b-84a9-7b1f338ffd90",
   "metadata": {},
   "outputs": [],
   "source": [
    "AP = food.item_price"
   ]
  },
  {
   "cell_type": "code",
   "execution_count": 176,
   "id": "65b421e2-9397-4f27-8e4e-4c21f248e496",
   "metadata": {},
   "outputs": [
    {
     "name": "stdout",
     "output_type": "stream",
     "text": [
      "item_name\n",
      "6 Pack Soft Drink                         356.95\n",
      "Barbacoa Bowl                             672.36\n",
      "Barbacoa Burrito                          894.75\n",
      "Barbacoa Crispy Tacos                     120.21\n",
      "Barbacoa Salad Bowl                       106.40\n",
      "Barbacoa Soft Tacos                       250.46\n",
      "Bottled Water                             302.56\n",
      "Bowl                                       29.60\n",
      "Burrito                                    44.40\n",
      "Canned Soda                               137.34\n",
      "Canned Soft Drink                         438.75\n",
      "Carnitas Bowl                             736.71\n",
      "Carnitas Burrito                          597.83\n",
      "Carnitas Crispy Tacos                      77.96\n",
      "Carnitas Salad                              8.99\n",
      "Carnitas Salad Bowl                        66.34\n",
      "Carnitas Soft Tacos                       375.94\n",
      "Chicken Bowl                             7342.73\n",
      "Chicken Burrito                          5575.82\n",
      "Chicken Crispy Tacos                      472.13\n",
      "Chicken Salad                              81.09\n",
      "Chicken Salad Bowl                       1228.75\n",
      "Chicken Soft Tacos                       1108.09\n",
      "Chips                                     494.34\n",
      "Chips and Fresh Tomato Salsa              361.36\n",
      "Chips and Guacamole                      2201.04\n",
      "Chips and Mild Fresh Tomato Salsa           3.00\n",
      "Chips and Roasted Chili Corn Salsa         67.85\n",
      "Chips and Roasted Chili-Corn Salsa         43.02\n",
      "Chips and Tomatillo Green Chili Salsa     132.75\n",
      "Chips and Tomatillo Red Chili Salsa       147.50\n",
      "Chips and Tomatillo-Green Chili Salsa      78.87\n",
      "Chips and Tomatillo-Red Chili Salsa        59.75\n",
      "Crispy Tacos                               14.80\n",
      "Izze                                       67.80\n",
      "Nantucket Nectar                           98.31\n",
      "Salad                                      14.80\n",
      "Side of Chips                             185.90\n",
      "Steak Bowl                               2260.19\n",
      "Steak Burrito                            3851.43\n",
      "Steak Crispy Tacos                        357.34\n",
      "Steak Salad                                35.66\n",
      "Steak Salad Bowl                          343.59\n",
      "Steak Soft Tacos                          536.05\n",
      "Veggie Bowl                               867.99\n",
      "Veggie Burrito                            934.77\n",
      "Veggie Crispy Tacos                         8.49\n",
      "Veggie Salad                               50.94\n",
      "Veggie Salad Bowl                         182.50\n",
      "Veggie Soft Tacos                          73.96\n",
      "Name: item_price, dtype: float64\n"
     ]
    }
   ],
   "source": [
    "print(AP)"
   ]
  },
  {
   "cell_type": "code",
   "execution_count": 177,
   "id": "3686b5b2-d497-4653-a78b-3392f5225d9b",
   "metadata": {},
   "outputs": [],
   "source": [
    "Menu_P = AP/AQ"
   ]
  },
  {
   "cell_type": "code",
   "execution_count": 178,
   "id": "6041fd0a-a5ea-4a69-8444-e6bd8731f7bd",
   "metadata": {},
   "outputs": [
    {
     "name": "stdout",
     "output_type": "stream",
     "text": [
      "item_name\n",
      "6 Pack Soft Drink                         6.490000\n",
      "Barbacoa Bowl                            10.187273\n",
      "Barbacoa Burrito                          9.832418\n",
      "Barbacoa Crispy Tacos                    10.017500\n",
      "Barbacoa Salad Bowl                      10.640000\n",
      "Barbacoa Soft Tacos                      10.018400\n",
      "Bottled Water                             1.433934\n",
      "Bowl                                      7.400000\n",
      "Burrito                                   7.400000\n",
      "Canned Soda                               1.090000\n",
      "Canned Soft Drink                         1.250000\n",
      "Carnitas Bowl                            10.376197\n",
      "Carnitas Burrito                          9.963833\n",
      "Carnitas Crispy Tacos                     9.745000\n",
      "Carnitas Salad                            8.990000\n",
      "Carnitas Salad Bowl                      11.056667\n",
      "Carnitas Soft Tacos                       9.398500\n",
      "Chicken Bowl                              9.648791\n",
      "Chicken Burrito                           9.434552\n",
      "Chicken Crispy Tacos                      9.442600\n",
      "Chicken Salad                             9.010000\n",
      "Chicken Salad Bowl                        9.989837\n",
      "Chicken Soft Tacos                        9.234083\n",
      "Chips                                     2.149304\n",
      "Chips and Fresh Tomato Salsa              2.779692\n",
      "Chips and Guacamole                       4.349881\n",
      "Chips and Mild Fresh Tomato Salsa         3.000000\n",
      "Chips and Roasted Chili Corn Salsa        2.950000\n",
      "Chips and Roasted Chili-Corn Salsa        2.390000\n",
      "Chips and Tomatillo Green Chili Salsa     2.950000\n",
      "Chips and Tomatillo Red Chili Salsa       2.950000\n",
      "Chips and Tomatillo-Green Chili Salsa     2.390000\n",
      "Chips and Tomatillo-Red Chili Salsa       2.390000\n",
      "Crispy Tacos                              7.400000\n",
      "Izze                                      3.390000\n",
      "Nantucket Nectar                          3.390000\n",
      "Salad                                     7.400000\n",
      "Side of Chips                             1.690000\n",
      "Steak Bowl                               10.227104\n",
      "Steak Burrito                             9.977798\n",
      "Steak Crispy Tacos                        9.926111\n",
      "Steak Salad                               8.915000\n",
      "Steak Salad Bowl                         11.083548\n",
      "Steak Soft Tacos                          9.572321\n",
      "Veggie Bowl                               9.976897\n",
      "Veggie Burrito                            9.636804\n",
      "Veggie Crispy Tacos                       8.490000\n",
      "Veggie Salad                              8.490000\n",
      "Veggie Salad Bowl                        10.138889\n",
      "Veggie Soft Tacos                         9.245000\n",
      "Name: item_price, dtype: float64\n"
     ]
    }
   ],
   "source": [
    "print(Menu_P)"
   ]
  },
  {
   "cell_type": "code",
   "execution_count": null,
   "id": "f73cc6dc-f623-4b10-b970-8f9a91c60be4",
   "metadata": {},
   "outputs": [],
   "source": [
    "\n",
    "\n",
    "\n",
    "\n"
   ]
  },
  {
   "cell_type": "code",
   "execution_count": 182,
   "id": "2d09a465-c5b8-4d8d-94e8-dd824eea3e4a",
   "metadata": {},
   "outputs": [],
   "source": [
    "# 각 아이템의 가격을 계산 (다른방법으로..)"
   ]
  },
  {
   "cell_type": "code",
   "execution_count": 186,
   "id": "3b635db2-4052-47b7-9e77-4f0e6bba89fc",
   "metadata": {},
   "outputs": [
    {
     "data": {
      "text/html": [
       "<div>\n",
       "<style scoped>\n",
       "    .dataframe tbody tr th:only-of-type {\n",
       "        vertical-align: middle;\n",
       "    }\n",
       "\n",
       "    .dataframe tbody tr th {\n",
       "        vertical-align: top;\n",
       "    }\n",
       "\n",
       "    .dataframe thead th {\n",
       "        text-align: right;\n",
       "    }\n",
       "</style>\n",
       "<table border=\"1\" class=\"dataframe\">\n",
       "  <thead>\n",
       "    <tr style=\"text-align: right;\">\n",
       "      <th></th>\n",
       "      <th>order_id</th>\n",
       "      <th>quantity</th>\n",
       "      <th>choice_description</th>\n",
       "      <th>item_price</th>\n",
       "    </tr>\n",
       "    <tr>\n",
       "      <th>item_name</th>\n",
       "      <th></th>\n",
       "      <th></th>\n",
       "      <th></th>\n",
       "      <th></th>\n",
       "    </tr>\n",
       "  </thead>\n",
       "  <tbody>\n",
       "    <tr>\n",
       "      <th>Steak Salad Bowl</th>\n",
       "      <td>250</td>\n",
       "      <td>1</td>\n",
       "      <td>[Fresh Tomato Salsa, Lettuce]</td>\n",
       "      <td>9.39</td>\n",
       "    </tr>\n",
       "    <tr>\n",
       "      <th>Barbacoa Salad Bowl</th>\n",
       "      <td>501</td>\n",
       "      <td>1</td>\n",
       "      <td>[Fresh Tomato Salsa, Guacamole]</td>\n",
       "      <td>9.39</td>\n",
       "    </tr>\n",
       "    <tr>\n",
       "      <th>Carnitas Salad Bowl</th>\n",
       "      <td>468</td>\n",
       "      <td>1</td>\n",
       "      <td>[Fresh Tomato Salsa, [Rice, Black Beans, Chees...</td>\n",
       "      <td>9.39</td>\n",
       "    </tr>\n",
       "    <tr>\n",
       "      <th>Carnitas Soft Tacos</th>\n",
       "      <td>103</td>\n",
       "      <td>1</td>\n",
       "      <td>[Fresh Tomato Salsa (Mild), [Black Beans, Rice...</td>\n",
       "      <td>8.99</td>\n",
       "    </tr>\n",
       "    <tr>\n",
       "      <th>Carnitas Crispy Tacos</th>\n",
       "      <td>230</td>\n",
       "      <td>1</td>\n",
       "      <td>[Fresh Tomato Salsa, [Fajita Vegetables, Rice,...</td>\n",
       "      <td>8.99</td>\n",
       "    </tr>\n",
       "    <tr>\n",
       "      <th>Steak Soft Tacos</th>\n",
       "      <td>4</td>\n",
       "      <td>1</td>\n",
       "      <td>[Fresh Tomato Salsa (Mild), [Cheese, Sour Cream]]</td>\n",
       "      <td>8.99</td>\n",
       "    </tr>\n",
       "    <tr>\n",
       "      <th>Carnitas Salad</th>\n",
       "      <td>1500</td>\n",
       "      <td>1</td>\n",
       "      <td>[[Fresh Tomato Salsa (Mild), Roasted Chili Cor...</td>\n",
       "      <td>8.99</td>\n",
       "    </tr>\n",
       "    <tr>\n",
       "      <th>Carnitas Bowl</th>\n",
       "      <td>17</td>\n",
       "      <td>1</td>\n",
       "      <td>[Fresh Tomato (Mild), [Guacamole, Lettuce, Ric...</td>\n",
       "      <td>8.99</td>\n",
       "    </tr>\n",
       "    <tr>\n",
       "      <th>Barbacoa Soft Tacos</th>\n",
       "      <td>26</td>\n",
       "      <td>1</td>\n",
       "      <td>[Fresh Tomato Salsa, [Black Beans, Cheese, Let...</td>\n",
       "      <td>8.99</td>\n",
       "    </tr>\n",
       "    <tr>\n",
       "      <th>Barbacoa Crispy Tacos</th>\n",
       "      <td>75</td>\n",
       "      <td>1</td>\n",
       "      <td>[Fresh Tomato Salsa, Guacamole]</td>\n",
       "      <td>8.99</td>\n",
       "    </tr>\n",
       "  </tbody>\n",
       "</table>\n",
       "</div>"
      ],
      "text/plain": [
       "                       order_id  quantity  \\\n",
       "item_name                                   \n",
       "Steak Salad Bowl            250         1   \n",
       "Barbacoa Salad Bowl         501         1   \n",
       "Carnitas Salad Bowl         468         1   \n",
       "Carnitas Soft Tacos         103         1   \n",
       "Carnitas Crispy Tacos       230         1   \n",
       "Steak Soft Tacos              4         1   \n",
       "Carnitas Salad             1500         1   \n",
       "Carnitas Bowl                17         1   \n",
       "Barbacoa Soft Tacos          26         1   \n",
       "Barbacoa Crispy Tacos        75         1   \n",
       "\n",
       "                                                      choice_description  \\\n",
       "item_name                                                                  \n",
       "Steak Salad Bowl                           [Fresh Tomato Salsa, Lettuce]   \n",
       "Barbacoa Salad Bowl                      [Fresh Tomato Salsa, Guacamole]   \n",
       "Carnitas Salad Bowl    [Fresh Tomato Salsa, [Rice, Black Beans, Chees...   \n",
       "Carnitas Soft Tacos    [Fresh Tomato Salsa (Mild), [Black Beans, Rice...   \n",
       "Carnitas Crispy Tacos  [Fresh Tomato Salsa, [Fajita Vegetables, Rice,...   \n",
       "Steak Soft Tacos       [Fresh Tomato Salsa (Mild), [Cheese, Sour Cream]]   \n",
       "Carnitas Salad         [[Fresh Tomato Salsa (Mild), Roasted Chili Cor...   \n",
       "Carnitas Bowl          [Fresh Tomato (Mild), [Guacamole, Lettuce, Ric...   \n",
       "Barbacoa Soft Tacos    [Fresh Tomato Salsa, [Black Beans, Cheese, Let...   \n",
       "Barbacoa Crispy Tacos                    [Fresh Tomato Salsa, Guacamole]   \n",
       "\n",
       "                       item_price  \n",
       "item_name                          \n",
       "Steak Salad Bowl             9.39  \n",
       "Barbacoa Salad Bowl          9.39  \n",
       "Carnitas Salad Bowl          9.39  \n",
       "Carnitas Soft Tacos          8.99  \n",
       "Carnitas Crispy Tacos        8.99  \n",
       "Steak Soft Tacos             8.99  \n",
       "Carnitas Salad               8.99  \n",
       "Carnitas Bowl                8.99  \n",
       "Barbacoa Soft Tacos          8.99  \n",
       "Barbacoa Crispy Tacos        8.99  "
      ]
     },
     "execution_count": 186,
     "metadata": {},
     "output_type": "execute_result"
    }
   ],
   "source": [
    "chipo_one_item = chipo[chipo.quantity == 1]\n",
    "price_per_item = chipo_one_item.groupby('item_name').min()\n",
    "price_per_item.sort_values(by = 'item_price', ascending = False)[:10]"
   ]
  },
  {
   "cell_type": "code",
   "execution_count": null,
   "id": "583c4c51-7d20-45e1-816c-88220b2ade76",
   "metadata": {},
   "outputs": [],
   "source": []
  },
  {
   "cell_type": "code",
   "execution_count": null,
   "id": "c934140c-5e0c-4f13-8037-8e905eff0373",
   "metadata": {},
   "outputs": [],
   "source": []
  }
 ],
 "metadata": {
  "kernelspec": {
   "display_name": "Python 3",
   "language": "python",
   "name": "python3"
  },
  "language_info": {
   "codemirror_mode": {
    "name": "ipython",
    "version": 3
   },
   "file_extension": ".py",
   "mimetype": "text/x-python",
   "name": "python",
   "nbconvert_exporter": "python",
   "pygments_lexer": "ipython3",
   "version": "3.9.5"
  }
 },
 "nbformat": 4,
 "nbformat_minor": 5
}
