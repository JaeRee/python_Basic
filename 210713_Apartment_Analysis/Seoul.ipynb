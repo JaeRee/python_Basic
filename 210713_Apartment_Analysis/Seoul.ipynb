{
 "cells": [
  {
   "cell_type": "code",
   "execution_count": 109,
   "id": "cd19cb95-1019-4e3e-8308-e3eb069d92ee",
   "metadata": {},
   "outputs": [
    {
     "data": {
      "text/html": [
       "<div>\n",
       "<style scoped>\n",
       "    .dataframe tbody tr th:only-of-type {\n",
       "        vertical-align: middle;\n",
       "    }\n",
       "\n",
       "    .dataframe tbody tr th {\n",
       "        vertical-align: top;\n",
       "    }\n",
       "\n",
       "    .dataframe thead th {\n",
       "        text-align: right;\n",
       "    }\n",
       "</style>\n",
       "<table border=\"1\" class=\"dataframe\">\n",
       "  <thead>\n",
       "    <tr style=\"text-align: right;\">\n",
       "      <th></th>\n",
       "      <th>학교종류명</th>\n",
       "      <th>설립구분</th>\n",
       "      <th>표준학교코드</th>\n",
       "      <th>학교명</th>\n",
       "      <th>영문학교명</th>\n",
       "      <th>관할조직명</th>\n",
       "      <th>도로명우편번호</th>\n",
       "      <th>도로명주소</th>\n",
       "      <th>도로명상세주소</th>\n",
       "      <th>전화번호</th>\n",
       "      <th>...</th>\n",
       "      <th>주야구분명</th>\n",
       "      <th>설립일자</th>\n",
       "      <th>개교기념일</th>\n",
       "      <th>시도교육청코드</th>\n",
       "      <th>시도교육청명</th>\n",
       "      <th>소재지명</th>\n",
       "      <th>주야과정</th>\n",
       "      <th>계열명</th>\n",
       "      <th>학과명</th>\n",
       "      <th>적재일시</th>\n",
       "    </tr>\n",
       "  </thead>\n",
       "  <tbody>\n",
       "    <tr>\n",
       "      <th>0</th>\n",
       "      <td>각종학교(중)</td>\n",
       "      <td>사립</td>\n",
       "      <td>7134155</td>\n",
       "      <td>선화예술중학교</td>\n",
       "      <td>Sunhwa Arts Middle School</td>\n",
       "      <td>서울특별시성동광진교육지원청</td>\n",
       "      <td>4991.0</td>\n",
       "      <td>서울특별시 광진구 천호대로 664</td>\n",
       "      <td>/ 선화예술중고등학교 (능동)</td>\n",
       "      <td>02-2204-1100</td>\n",
       "      <td>...</td>\n",
       "      <td>주간</td>\n",
       "      <td>19731201</td>\n",
       "      <td>19730705</td>\n",
       "      <td>B10</td>\n",
       "      <td>서울특별시교육청</td>\n",
       "      <td>서울특별시</td>\n",
       "      <td>NaN</td>\n",
       "      <td>NaN</td>\n",
       "      <td>NaN</td>\n",
       "      <td>20210602</td>\n",
       "    </tr>\n",
       "    <tr>\n",
       "      <th>1</th>\n",
       "      <td>초등학교</td>\n",
       "      <td>공립</td>\n",
       "      <td>7134150</td>\n",
       "      <td>서울숭신초등학교</td>\n",
       "      <td>Seoul Soongshin Elementary School</td>\n",
       "      <td>서울특별시성동광진교육지원청</td>\n",
       "      <td>4702.0</td>\n",
       "      <td>서울특별시 성동구 마장로 161</td>\n",
       "      <td>(하왕십리동)</td>\n",
       "      <td>02-2252-5950</td>\n",
       "      <td>...</td>\n",
       "      <td>주간</td>\n",
       "      <td>19590403</td>\n",
       "      <td>19590403</td>\n",
       "      <td>B10</td>\n",
       "      <td>서울특별시교육청</td>\n",
       "      <td>서울특별시</td>\n",
       "      <td>NaN</td>\n",
       "      <td>NaN</td>\n",
       "      <td>NaN</td>\n",
       "      <td>20210602</td>\n",
       "    </tr>\n",
       "    <tr>\n",
       "      <th>2</th>\n",
       "      <td>중학교</td>\n",
       "      <td>공립</td>\n",
       "      <td>7134142</td>\n",
       "      <td>행당중학교</td>\n",
       "      <td>Haengdang Middle School</td>\n",
       "      <td>서울특별시성동광진교육지원청</td>\n",
       "      <td>4764.0</td>\n",
       "      <td>서울특별시 성동구 왕십리로 189</td>\n",
       "      <td>(행당동/행당중학교)</td>\n",
       "      <td>02-2292-2721</td>\n",
       "      <td>...</td>\n",
       "      <td>주간</td>\n",
       "      <td>19680806</td>\n",
       "      <td>19681002</td>\n",
       "      <td>B10</td>\n",
       "      <td>서울특별시교육청</td>\n",
       "      <td>서울특별시</td>\n",
       "      <td>NaN</td>\n",
       "      <td>NaN</td>\n",
       "      <td>NaN</td>\n",
       "      <td>20210602</td>\n",
       "    </tr>\n",
       "    <tr>\n",
       "      <th>3</th>\n",
       "      <td>중학교</td>\n",
       "      <td>사립</td>\n",
       "      <td>7134141</td>\n",
       "      <td>한양대학교사범대학부속중학교</td>\n",
       "      <td>Hanyang University Middle School</td>\n",
       "      <td>서울특별시성동광진교육지원청</td>\n",
       "      <td>4761.0</td>\n",
       "      <td>서울특별시 성동구 마조로 42</td>\n",
       "      <td>(사근동/한양사대부속중?고등학교)</td>\n",
       "      <td>02-2200-3700</td>\n",
       "      <td>...</td>\n",
       "      <td>주간</td>\n",
       "      <td>19600118</td>\n",
       "      <td>19600118</td>\n",
       "      <td>B10</td>\n",
       "      <td>서울특별시교육청</td>\n",
       "      <td>서울특별시</td>\n",
       "      <td>NaN</td>\n",
       "      <td>NaN</td>\n",
       "      <td>NaN</td>\n",
       "      <td>20210602</td>\n",
       "    </tr>\n",
       "    <tr>\n",
       "      <th>4</th>\n",
       "      <td>중학교</td>\n",
       "      <td>공립</td>\n",
       "      <td>7134140</td>\n",
       "      <td>자양중학교</td>\n",
       "      <td>Jayang Middle School</td>\n",
       "      <td>서울특별시성동광진교육지원청</td>\n",
       "      <td>5069.0</td>\n",
       "      <td>서울특별시 광진구 뚝섬로41길 33</td>\n",
       "      <td>(자양동/서울자양중학교)</td>\n",
       "      <td>02-446-0365</td>\n",
       "      <td>...</td>\n",
       "      <td>주간</td>\n",
       "      <td>19840301</td>\n",
       "      <td>19840301</td>\n",
       "      <td>B10</td>\n",
       "      <td>서울특별시교육청</td>\n",
       "      <td>서울특별시</td>\n",
       "      <td>NaN</td>\n",
       "      <td>NaN</td>\n",
       "      <td>NaN</td>\n",
       "      <td>20210602</td>\n",
       "    </tr>\n",
       "    <tr>\n",
       "      <th>...</th>\n",
       "      <td>...</td>\n",
       "      <td>...</td>\n",
       "      <td>...</td>\n",
       "      <td>...</td>\n",
       "      <td>...</td>\n",
       "      <td>...</td>\n",
       "      <td>...</td>\n",
       "      <td>...</td>\n",
       "      <td>...</td>\n",
       "      <td>...</td>\n",
       "      <td>...</td>\n",
       "      <td>...</td>\n",
       "      <td>...</td>\n",
       "      <td>...</td>\n",
       "      <td>...</td>\n",
       "      <td>...</td>\n",
       "      <td>...</td>\n",
       "      <td>...</td>\n",
       "      <td>...</td>\n",
       "      <td>...</td>\n",
       "      <td>...</td>\n",
       "    </tr>\n",
       "    <tr>\n",
       "      <th>3852</th>\n",
       "      <td>고등학교</td>\n",
       "      <td>국립</td>\n",
       "      <td>1371661</td>\n",
       "      <td>국립국악고등학교</td>\n",
       "      <td>Gukak National High School</td>\n",
       "      <td>교육부</td>\n",
       "      <td>6311.0</td>\n",
       "      <td>서울특별시 강남구 개포로22길 65</td>\n",
       "      <td>/ (개포동/ 국립국악고등학교)</td>\n",
       "      <td>02-3460-0500</td>\n",
       "      <td>...</td>\n",
       "      <td>주간</td>\n",
       "      <td>19720711</td>\n",
       "      <td>19720909</td>\n",
       "      <td>B10</td>\n",
       "      <td>서울특별시교육청</td>\n",
       "      <td>서울특별시</td>\n",
       "      <td>주간</td>\n",
       "      <td>예술계</td>\n",
       "      <td>무용과</td>\n",
       "      <td>20210602</td>\n",
       "    </tr>\n",
       "    <tr>\n",
       "      <th>3853</th>\n",
       "      <td>특수학교</td>\n",
       "      <td>국립</td>\n",
       "      <td>1342102</td>\n",
       "      <td>한국우진학교</td>\n",
       "      <td>Hanguk Woojin School</td>\n",
       "      <td>교육부</td>\n",
       "      <td>3934.0</td>\n",
       "      <td>서울특별시 마포구 월드컵북로38길 21</td>\n",
       "      <td>/ 한국우진학교 (중동)</td>\n",
       "      <td>02-6388-5800</td>\n",
       "      <td>...</td>\n",
       "      <td>주간</td>\n",
       "      <td>20000301</td>\n",
       "      <td>20000306</td>\n",
       "      <td>B10</td>\n",
       "      <td>서울특별시교육청</td>\n",
       "      <td>서울특별시</td>\n",
       "      <td>NaN</td>\n",
       "      <td>NaN</td>\n",
       "      <td>NaN</td>\n",
       "      <td>20210602</td>\n",
       "    </tr>\n",
       "    <tr>\n",
       "      <th>3854</th>\n",
       "      <td>특수학교</td>\n",
       "      <td>국립</td>\n",
       "      <td>1342099</td>\n",
       "      <td>서울농학교</td>\n",
       "      <td>Seoul National school for the Deaf</td>\n",
       "      <td>교육부</td>\n",
       "      <td>3032.0</td>\n",
       "      <td>서울특별시 종로구 필운대로 103</td>\n",
       "      <td>(신교동)</td>\n",
       "      <td>02-737-0659</td>\n",
       "      <td>...</td>\n",
       "      <td>주간</td>\n",
       "      <td>19130401</td>\n",
       "      <td>19130401</td>\n",
       "      <td>B10</td>\n",
       "      <td>서울특별시교육청</td>\n",
       "      <td>서울특별시</td>\n",
       "      <td>NaN</td>\n",
       "      <td>NaN</td>\n",
       "      <td>NaN</td>\n",
       "      <td>20210602</td>\n",
       "    </tr>\n",
       "    <tr>\n",
       "      <th>3855</th>\n",
       "      <td>특수학교</td>\n",
       "      <td>국립</td>\n",
       "      <td>1342098</td>\n",
       "      <td>서울맹학교</td>\n",
       "      <td>Seoul National School for the Blind</td>\n",
       "      <td>교육부</td>\n",
       "      <td>3032.0</td>\n",
       "      <td>서울특별시 종로구 필운대로 97</td>\n",
       "      <td>(신교동)</td>\n",
       "      <td>02-731-6772</td>\n",
       "      <td>...</td>\n",
       "      <td>주간</td>\n",
       "      <td>19130401</td>\n",
       "      <td>19130401</td>\n",
       "      <td>B10</td>\n",
       "      <td>서울특별시교육청</td>\n",
       "      <td>서울특별시</td>\n",
       "      <td>NaN</td>\n",
       "      <td>NaN</td>\n",
       "      <td>NaN</td>\n",
       "      <td>20210602</td>\n",
       "    </tr>\n",
       "    <tr>\n",
       "      <th>3856</th>\n",
       "      <td>공동실습소</td>\n",
       "      <td>공립</td>\n",
       "      <td>0</td>\n",
       "      <td>경기기계공업고등학교부설공동실습소</td>\n",
       "      <td>NaN</td>\n",
       "      <td>서울특별시교육청</td>\n",
       "      <td>139869.0</td>\n",
       "      <td>서울특별시 노원구 공릉로 264</td>\n",
       "      <td>(하계동/경기기계공업고등학교)</td>\n",
       "      <td>02-970-8922</td>\n",
       "      <td>...</td>\n",
       "      <td>주간</td>\n",
       "      <td>19820601</td>\n",
       "      <td>19820601</td>\n",
       "      <td>B10</td>\n",
       "      <td>서울특별시교육청</td>\n",
       "      <td>서울특별시</td>\n",
       "      <td>주간</td>\n",
       "      <td>기계공동실습소</td>\n",
       "      <td>공동실습소</td>\n",
       "      <td>20210602</td>\n",
       "    </tr>\n",
       "  </tbody>\n",
       "</table>\n",
       "<p>3857 rows × 28 columns</p>\n",
       "</div>"
      ],
      "text/plain": [
       "        학교종류명 설립구분   표준학교코드                학교명  \\\n",
       "0     각종학교(중)   사립  7134155            선화예술중학교   \n",
       "1        초등학교   공립  7134150           서울숭신초등학교   \n",
       "2         중학교   공립  7134142              행당중학교   \n",
       "3         중학교   사립  7134141     한양대학교사범대학부속중학교   \n",
       "4         중학교   공립  7134140              자양중학교   \n",
       "...       ...  ...      ...                ...   \n",
       "3852     고등학교   국립  1371661           국립국악고등학교   \n",
       "3853     특수학교   국립  1342102             한국우진학교   \n",
       "3854     특수학교   국립  1342099              서울농학교   \n",
       "3855     특수학교   국립  1342098              서울맹학교   \n",
       "3856    공동실습소   공립        0  경기기계공업고등학교부설공동실습소   \n",
       "\n",
       "                                    영문학교명           관할조직명   도로명우편번호  \\\n",
       "0               Sunhwa Arts Middle School  서울특별시성동광진교육지원청    4991.0   \n",
       "1       Seoul Soongshin Elementary School  서울특별시성동광진교육지원청    4702.0   \n",
       "2                 Haengdang Middle School  서울특별시성동광진교육지원청    4764.0   \n",
       "3        Hanyang University Middle School  서울특별시성동광진교육지원청    4761.0   \n",
       "4                    Jayang Middle School  서울특별시성동광진교육지원청    5069.0   \n",
       "...                                   ...             ...       ...   \n",
       "3852           Gukak National High School             교육부    6311.0   \n",
       "3853                 Hanguk Woojin School             교육부    3934.0   \n",
       "3854   Seoul National school for the Deaf             교육부    3032.0   \n",
       "3855  Seoul National School for the Blind             교육부    3032.0   \n",
       "3856                                  NaN        서울특별시교육청  139869.0   \n",
       "\n",
       "                      도로명주소             도로명상세주소          전화번호  ... 주야구분명  \\\n",
       "0        서울특별시 광진구 천호대로 664    / 선화예술중고등학교 (능동)  02-2204-1100  ...    주간   \n",
       "1         서울특별시 성동구 마장로 161             (하왕십리동)  02-2252-5950  ...    주간   \n",
       "2        서울특별시 성동구 왕십리로 189         (행당동/행당중학교)  02-2292-2721  ...    주간   \n",
       "3          서울특별시 성동구 마조로 42  (사근동/한양사대부속중?고등학교)  02-2200-3700  ...    주간   \n",
       "4       서울특별시 광진구 뚝섬로41길 33       (자양동/서울자양중학교)   02-446-0365  ...    주간   \n",
       "...                     ...                 ...           ...  ...   ...   \n",
       "3852    서울특별시 강남구 개포로22길 65   / (개포동/ 국립국악고등학교)  02-3460-0500  ...    주간   \n",
       "3853  서울특별시 마포구 월드컵북로38길 21       / 한국우진학교 (중동)  02-6388-5800  ...    주간   \n",
       "3854     서울특별시 종로구 필운대로 103               (신교동)   02-737-0659  ...    주간   \n",
       "3855      서울특별시 종로구 필운대로 97               (신교동)   02-731-6772  ...    주간   \n",
       "3856      서울특별시 노원구 공릉로 264    (하계동/경기기계공업고등학교)   02-970-8922  ...    주간   \n",
       "\n",
       "          설립일자     개교기념일 시도교육청코드    시도교육청명   소재지명 주야과정      계열명    학과명  \\\n",
       "0     19731201  19730705     B10  서울특별시교육청  서울특별시  NaN      NaN    NaN   \n",
       "1     19590403  19590403     B10  서울특별시교육청  서울특별시  NaN      NaN    NaN   \n",
       "2     19680806  19681002     B10  서울특별시교육청  서울특별시  NaN      NaN    NaN   \n",
       "3     19600118  19600118     B10  서울특별시교육청  서울특별시  NaN      NaN    NaN   \n",
       "4     19840301  19840301     B10  서울특별시교육청  서울특별시  NaN      NaN    NaN   \n",
       "...        ...       ...     ...       ...    ...  ...      ...    ...   \n",
       "3852  19720711  19720909     B10  서울특별시교육청  서울특별시   주간      예술계    무용과   \n",
       "3853  20000301  20000306     B10  서울특별시교육청  서울특별시  NaN      NaN    NaN   \n",
       "3854  19130401  19130401     B10  서울특별시교육청  서울특별시  NaN      NaN    NaN   \n",
       "3855  19130401  19130401     B10  서울특별시교육청  서울특별시  NaN      NaN    NaN   \n",
       "3856  19820601  19820601     B10  서울특별시교육청  서울특별시   주간  기계공동실습소  공동실습소   \n",
       "\n",
       "          적재일시  \n",
       "0     20210602  \n",
       "1     20210602  \n",
       "2     20210602  \n",
       "3     20210602  \n",
       "4     20210602  \n",
       "...        ...  \n",
       "3852  20210602  \n",
       "3853  20210602  \n",
       "3854  20210602  \n",
       "3855  20210602  \n",
       "3856  20210602  \n",
       "\n",
       "[3857 rows x 28 columns]"
      ]
     },
     "execution_count": 109,
     "metadata": {},
     "output_type": "execute_result"
    }
   ],
   "source": [
    "import pandas as pd\n",
    "\n",
    "path = 'Seoul_school.csv'\n",
    "\n",
    "\n",
    "df = pd.read_csv(path, encoding='cp949')\n",
    "\n",
    "df"
   ]
  },
  {
   "cell_type": "code",
   "execution_count": 110,
   "id": "e9c00454-ff84-451d-a5e5-b3bcf95ed75d",
   "metadata": {},
   "outputs": [
    {
     "name": "stdout",
     "output_type": "stream",
     "text": [
      "학교종류명\n",
      "설립구분\n",
      "표준학교코드\n",
      "학교명\n",
      "영문학교명\n",
      "관할조직명\n",
      "도로명우편번호\n",
      "도로명주소\n",
      "도로명상세주소\n",
      "전화번호\n",
      "홈페이지주소\n",
      "팩스번호\n",
      "남녀공학구분명\n",
      "고등학교구분명\n",
      "산업체특별학급존재여부\n",
      "고등학교일반실업구분명\n",
      "특수목적고등학교계열명\n",
      "입시전후기구분명\n",
      "주야구분명\n",
      "설립일자\n",
      "개교기념일\n",
      "시도교육청코드\n",
      "시도교육청명\n",
      "소재지명\n",
      "주야과정\n",
      "계열명\n",
      "학과명\n",
      "적재일시\n"
     ]
    }
   ],
   "source": [
    "# 컬럼명 보기\n",
    "for col in df.columns:\n",
    "    print(col)"
   ]
  },
  {
   "cell_type": "code",
   "execution_count": 111,
   "id": "72f073ea-3d4e-46f6-bfa7-7a580bd36390",
   "metadata": {},
   "outputs": [],
   "source": [
    "# 필요한 컬럼만 뽑기,\n",
    "# 학교명, 도로명주소(에서 '구'만 뽑기), 도로명상세주소\n",
    "\n",
    "df_need = df[['학교명','도로명주소','도로명상세주소']]"
   ]
  },
  {
   "cell_type": "code",
   "execution_count": 112,
   "id": "a5487bbc-ed4d-4cb2-9978-f4e8aef5ca47",
   "metadata": {},
   "outputs": [
    {
     "data": {
      "text/html": [
       "<div>\n",
       "<style scoped>\n",
       "    .dataframe tbody tr th:only-of-type {\n",
       "        vertical-align: middle;\n",
       "    }\n",
       "\n",
       "    .dataframe tbody tr th {\n",
       "        vertical-align: top;\n",
       "    }\n",
       "\n",
       "    .dataframe thead th {\n",
       "        text-align: right;\n",
       "    }\n",
       "</style>\n",
       "<table border=\"1\" class=\"dataframe\">\n",
       "  <thead>\n",
       "    <tr style=\"text-align: right;\">\n",
       "      <th></th>\n",
       "      <th>학교명</th>\n",
       "      <th>도로명주소</th>\n",
       "      <th>도로명상세주소</th>\n",
       "    </tr>\n",
       "  </thead>\n",
       "  <tbody>\n",
       "    <tr>\n",
       "      <th>0</th>\n",
       "      <td>선화예술중학교</td>\n",
       "      <td>서울특별시 광진구 천호대로 664</td>\n",
       "      <td>/ 선화예술중고등학교 (능동)</td>\n",
       "    </tr>\n",
       "    <tr>\n",
       "      <th>1</th>\n",
       "      <td>서울숭신초등학교</td>\n",
       "      <td>서울특별시 성동구 마장로 161</td>\n",
       "      <td>(하왕십리동)</td>\n",
       "    </tr>\n",
       "    <tr>\n",
       "      <th>2</th>\n",
       "      <td>행당중학교</td>\n",
       "      <td>서울특별시 성동구 왕십리로 189</td>\n",
       "      <td>(행당동/행당중학교)</td>\n",
       "    </tr>\n",
       "    <tr>\n",
       "      <th>3</th>\n",
       "      <td>한양대학교사범대학부속중학교</td>\n",
       "      <td>서울특별시 성동구 마조로 42</td>\n",
       "      <td>(사근동/한양사대부속중?고등학교)</td>\n",
       "    </tr>\n",
       "    <tr>\n",
       "      <th>4</th>\n",
       "      <td>자양중학교</td>\n",
       "      <td>서울특별시 광진구 뚝섬로41길 33</td>\n",
       "      <td>(자양동/서울자양중학교)</td>\n",
       "    </tr>\n",
       "  </tbody>\n",
       "</table>\n",
       "</div>"
      ],
      "text/plain": [
       "              학교명                도로명주소             도로명상세주소\n",
       "0         선화예술중학교   서울특별시 광진구 천호대로 664    / 선화예술중고등학교 (능동)\n",
       "1        서울숭신초등학교    서울특별시 성동구 마장로 161             (하왕십리동)\n",
       "2           행당중학교   서울특별시 성동구 왕십리로 189         (행당동/행당중학교)\n",
       "3  한양대학교사범대학부속중학교     서울특별시 성동구 마조로 42  (사근동/한양사대부속중?고등학교)\n",
       "4           자양중학교  서울특별시 광진구 뚝섬로41길 33       (자양동/서울자양중학교)"
      ]
     },
     "execution_count": 112,
     "metadata": {},
     "output_type": "execute_result"
    }
   ],
   "source": [
    "df_need.head()"
   ]
  },
  {
   "cell_type": "code",
   "execution_count": 113,
   "id": "ce5e4592-a08a-4b89-89bb-61cf8332f291",
   "metadata": {},
   "outputs": [
    {
     "name": "stderr",
     "output_type": "stream",
     "text": [
      "C:\\ProgramData\\Anaconda3\\lib\\site-packages\\pandas\\core\\frame.py:4441: SettingWithCopyWarning: \n",
      "A value is trying to be set on a copy of a slice from a DataFrame\n",
      "\n",
      "See the caveats in the documentation: https://pandas.pydata.org/pandas-docs/stable/user_guide/indexing.html#returning-a-view-versus-a-copy\n",
      "  return super().rename(\n"
     ]
    }
   ],
   "source": [
    "# 컬럼명 변경하기\n",
    "\n",
    "df_need.rename(columns={'도로명주소':'구'}, inplace=True)\n",
    "df_need.rename(columns={'도로명상세주소':'주소'}, inplace=True)\n"
   ]
  },
  {
   "cell_type": "code",
   "execution_count": 114,
   "id": "ee29dbf0-7ab6-4950-abd2-77e62cb2fa5f",
   "metadata": {},
   "outputs": [
    {
     "data": {
      "text/html": [
       "<div>\n",
       "<style scoped>\n",
       "    .dataframe tbody tr th:only-of-type {\n",
       "        vertical-align: middle;\n",
       "    }\n",
       "\n",
       "    .dataframe tbody tr th {\n",
       "        vertical-align: top;\n",
       "    }\n",
       "\n",
       "    .dataframe thead th {\n",
       "        text-align: right;\n",
       "    }\n",
       "</style>\n",
       "<table border=\"1\" class=\"dataframe\">\n",
       "  <thead>\n",
       "    <tr style=\"text-align: right;\">\n",
       "      <th></th>\n",
       "      <th>학교명</th>\n",
       "      <th>구</th>\n",
       "      <th>주소</th>\n",
       "    </tr>\n",
       "  </thead>\n",
       "  <tbody>\n",
       "    <tr>\n",
       "      <th>0</th>\n",
       "      <td>선화예술중학교</td>\n",
       "      <td>서울특별시 광진구 천호대로 664</td>\n",
       "      <td>/ 선화예술중고등학교 (능동)</td>\n",
       "    </tr>\n",
       "    <tr>\n",
       "      <th>1</th>\n",
       "      <td>서울숭신초등학교</td>\n",
       "      <td>서울특별시 성동구 마장로 161</td>\n",
       "      <td>(하왕십리동)</td>\n",
       "    </tr>\n",
       "    <tr>\n",
       "      <th>2</th>\n",
       "      <td>행당중학교</td>\n",
       "      <td>서울특별시 성동구 왕십리로 189</td>\n",
       "      <td>(행당동/행당중학교)</td>\n",
       "    </tr>\n",
       "    <tr>\n",
       "      <th>3</th>\n",
       "      <td>한양대학교사범대학부속중학교</td>\n",
       "      <td>서울특별시 성동구 마조로 42</td>\n",
       "      <td>(사근동/한양사대부속중?고등학교)</td>\n",
       "    </tr>\n",
       "    <tr>\n",
       "      <th>4</th>\n",
       "      <td>자양중학교</td>\n",
       "      <td>서울특별시 광진구 뚝섬로41길 33</td>\n",
       "      <td>(자양동/서울자양중학교)</td>\n",
       "    </tr>\n",
       "  </tbody>\n",
       "</table>\n",
       "</div>"
      ],
      "text/plain": [
       "              학교명                    구                  주소\n",
       "0         선화예술중학교   서울특별시 광진구 천호대로 664    / 선화예술중고등학교 (능동)\n",
       "1        서울숭신초등학교    서울특별시 성동구 마장로 161             (하왕십리동)\n",
       "2           행당중학교   서울특별시 성동구 왕십리로 189         (행당동/행당중학교)\n",
       "3  한양대학교사범대학부속중학교     서울특별시 성동구 마조로 42  (사근동/한양사대부속중?고등학교)\n",
       "4           자양중학교  서울특별시 광진구 뚝섬로41길 33       (자양동/서울자양중학교)"
      ]
     },
     "execution_count": 114,
     "metadata": {},
     "output_type": "execute_result"
    }
   ],
   "source": [
    "df_need.head()"
   ]
  },
  {
   "cell_type": "code",
   "execution_count": 115,
   "id": "8212efb3-6f08-4310-9720-0fb044a4abfc",
   "metadata": {},
   "outputs": [
    {
     "name": "stdout",
     "output_type": "stream",
     "text": [
      "<class 'pandas.core.frame.DataFrame'>\n",
      "RangeIndex: 3857 entries, 0 to 3856\n",
      "Data columns (total 3 columns):\n",
      " #   Column  Non-Null Count  Dtype \n",
      "---  ------  --------------  ----- \n",
      " 0   학교명     3857 non-null   object\n",
      " 1   구       3841 non-null   object\n",
      " 2   주소      3841 non-null   object\n",
      "dtypes: object(3)\n",
      "memory usage: 90.5+ KB\n"
     ]
    }
   ],
   "source": [
    "df_need.info()"
   ]
  },
  {
   "cell_type": "code",
   "execution_count": 116,
   "id": "fff52dc8-bccf-478b-aaa5-f88f23f40124",
   "metadata": {},
   "outputs": [
    {
     "name": "stderr",
     "output_type": "stream",
     "text": [
      "<ipython-input-116-341763472372>:1: SettingWithCopyWarning: \n",
      "A value is trying to be set on a copy of a slice from a DataFrame.\n",
      "Try using .loc[row_indexer,col_indexer] = value instead\n",
      "\n",
      "See the caveats in the documentation: https://pandas.pydata.org/pandas-docs/stable/user_guide/indexing.html#returning-a-view-versus-a-copy\n",
      "  df_need['구'] = df_need['구'].str.strip('%%구')\n"
     ]
    }
   ],
   "source": [
    "df_need['구'] = df_need['구'].str.strip('%%구')"
   ]
  },
  {
   "cell_type": "code",
   "execution_count": 117,
   "id": "1b54a1da-f137-4188-92fd-d691f5b11394",
   "metadata": {},
   "outputs": [
    {
     "data": {
      "text/plain": [
       "pandas.core.series.Series"
      ]
     },
     "execution_count": 117,
     "metadata": {},
     "output_type": "execute_result"
    }
   ],
   "source": [
    "type(df_need['구'])"
   ]
  },
  {
   "cell_type": "code",
   "execution_count": 118,
   "id": "f9bf9957-dfab-435d-9249-42db60cba1bc",
   "metadata": {},
   "outputs": [
    {
     "data": {
      "text/plain": [
       "0          서울특별시 광진구 천호대로 664\n",
       "1           서울특별시 성동구 마장로 161\n",
       "2          서울특별시 성동구 왕십리로 189\n",
       "3            서울특별시 성동구 마조로 42\n",
       "4         서울특별시 광진구 뚝섬로41길 33\n",
       "                ...          \n",
       "3852      서울특별시 강남구 개포로22길 65\n",
       "3853    서울특별시 마포구 월드컵북로38길 21\n",
       "3854       서울특별시 종로구 필운대로 103\n",
       "3855        서울특별시 종로구 필운대로 97\n",
       "3856        서울특별시 노원구 공릉로 264\n",
       "Name: 구, Length: 3857, dtype: object"
      ]
     },
     "execution_count": 118,
     "metadata": {},
     "output_type": "execute_result"
    }
   ],
   "source": [
    "df_need['구']"
   ]
  },
  {
   "cell_type": "code",
   "execution_count": 119,
   "id": "bbeeb265-520c-4e4b-8673-7b361ad9a709",
   "metadata": {},
   "outputs": [],
   "source": [
    "#  구만 뽑으려고 했는데 실패 ㅠ   서울특별시로 안되있는 것도 잇어서\n",
    "# for new in df_need['구']:\n",
    "#      str = new[5:10]\n",
    "#         print(str)"
   ]
  },
  {
   "cell_type": "code",
   "execution_count": 120,
   "id": "6a782db4-4a4b-439c-a743-bc2ba981bae2",
   "metadata": {},
   "outputs": [],
   "source": [
    "# 이것도 실패...\n",
    "# df_need['구'].str.split(\" \", expand=True).head()"
   ]
  },
  {
   "cell_type": "code",
   "execution_count": 121,
   "id": "77bfb3af-0594-4fef-b945-7e50aa345d74",
   "metadata": {},
   "outputs": [
    {
     "data": {
      "text/plain": [
       "0     [광진구]\n",
       "1     [성동구]\n",
       "2     [성동구]\n",
       "3     [성동구]\n",
       "4     [광진구]\n",
       "      ...  \n",
       "95    [관악구]\n",
       "96    [관악구]\n",
       "97    [동작구]\n",
       "98    [동작구]\n",
       "99    [동작구]\n",
       "Name: 구, Length: 100, dtype: object"
      ]
     },
     "execution_count": 121,
     "metadata": {},
     "output_type": "execute_result"
    }
   ],
   "source": [
    "# 구만 딱 뽑아버리기!! \n",
    "df_need['구'].str.findall('\\w+구').head(100)"
   ]
  },
  {
   "cell_type": "code",
   "execution_count": 122,
   "id": "322ccc61-5343-4339-a83b-bde466880d07",
   "metadata": {},
   "outputs": [
    {
     "data": {
      "text/plain": [
       "3757    [영등포구]\n",
       "3758    [영등포구]\n",
       "3759    [영등포구]\n",
       "3760    [영등포구]\n",
       "3761     [관악구]\n",
       "         ...  \n",
       "3852     [강남구]\n",
       "3853     [마포구]\n",
       "3854     [종로구]\n",
       "3855     [종로구]\n",
       "3856     [노원구]\n",
       "Name: 구, Length: 100, dtype: object"
      ]
     },
     "execution_count": 122,
     "metadata": {},
     "output_type": "execute_result"
    }
   ],
   "source": [
    "df_need['구'].str.findall('\\w+구').tail(100)"
   ]
  },
  {
   "cell_type": "code",
   "execution_count": 124,
   "id": "5f9975cc-640e-47aa-9dad-43fb213f269f",
   "metadata": {},
   "outputs": [
    {
     "data": {
      "text/plain": [
       "16"
      ]
     },
     "execution_count": 124,
     "metadata": {},
     "output_type": "execute_result"
    }
   ],
   "source": [
    "df_need['구'].isnull().sum()"
   ]
  },
  {
   "cell_type": "code",
   "execution_count": 126,
   "id": "428ad271-61ed-4d0b-bc26-73dff9656f3a",
   "metadata": {},
   "outputs": [],
   "source": [
    "df_gu = df_need['구'].str.findall('\\w+구')"
   ]
  },
  {
   "cell_type": "code",
   "execution_count": 128,
   "id": "7ca74832-2ef8-40d7-ae3d-879378439aa9",
   "metadata": {},
   "outputs": [
    {
     "data": {
      "text/plain": [
       "16"
      ]
     },
     "execution_count": 128,
     "metadata": {},
     "output_type": "execute_result"
    }
   ],
   "source": [
    "df_gu.isnull().sum()"
   ]
  },
  {
   "cell_type": "code",
   "execution_count": 129,
   "id": "98c57d34-0c82-4e8f-9684-bc0c138f9efe",
   "metadata": {},
   "outputs": [
    {
     "name": "stderr",
     "output_type": "stream",
     "text": [
      "<ipython-input-129-f49da5c38cc3>:1: SettingWithCopyWarning: \n",
      "A value is trying to be set on a copy of a slice from a DataFrame.\n",
      "Try using .loc[row_indexer,col_indexer] = value instead\n",
      "\n",
      "See the caveats in the documentation: https://pandas.pydata.org/pandas-docs/stable/user_guide/indexing.html#returning-a-view-versus-a-copy\n",
      "  df_need['구'] = df_gu\n"
     ]
    }
   ],
   "source": [
    "df_need['구'] = df_gu"
   ]
  },
  {
   "cell_type": "code",
   "execution_count": 130,
   "id": "bda21a66-7128-4d45-83cb-2728959774d8",
   "metadata": {},
   "outputs": [
    {
     "data": {
      "text/plain": [
       "16"
      ]
     },
     "execution_count": 130,
     "metadata": {},
     "output_type": "execute_result"
    }
   ],
   "source": [
    "df_need['구'].isnull().sum()"
   ]
  },
  {
   "cell_type": "code",
   "execution_count": 131,
   "id": "5cc1c8b9-1365-47c2-a9ad-4968872149bc",
   "metadata": {},
   "outputs": [
    {
     "data": {
      "text/plain": [
       "3837    [송파구]\n",
       "3838    [송파구]\n",
       "3839    [금천구]\n",
       "3840    [금천구]\n",
       "3841    [금천구]\n",
       "3842    [금천구]\n",
       "3843    [금천구]\n",
       "3844    [금천구]\n",
       "3845    [금천구]\n",
       "3846    [금천구]\n",
       "3847    [금천구]\n",
       "3848    [금천구]\n",
       "3849    [금천구]\n",
       "3850    [강남구]\n",
       "3851    [강남구]\n",
       "3852    [강남구]\n",
       "3853    [마포구]\n",
       "3854    [종로구]\n",
       "3855    [종로구]\n",
       "3856    [노원구]\n",
       "Name: 구, dtype: object"
      ]
     },
     "execution_count": 131,
     "metadata": {},
     "output_type": "execute_result"
    }
   ],
   "source": [
    "df_need['구'].tail(20)"
   ]
  },
  {
   "cell_type": "code",
   "execution_count": 133,
   "id": "35251ae2-2346-499a-9d96-fc95a77b8d88",
   "metadata": {},
   "outputs": [
    {
     "data": {
      "text/html": [
       "<div>\n",
       "<style scoped>\n",
       "    .dataframe tbody tr th:only-of-type {\n",
       "        vertical-align: middle;\n",
       "    }\n",
       "\n",
       "    .dataframe tbody tr th {\n",
       "        vertical-align: top;\n",
       "    }\n",
       "\n",
       "    .dataframe thead th {\n",
       "        text-align: right;\n",
       "    }\n",
       "</style>\n",
       "<table border=\"1\" class=\"dataframe\">\n",
       "  <thead>\n",
       "    <tr style=\"text-align: right;\">\n",
       "      <th></th>\n",
       "      <th>학교명</th>\n",
       "      <th>구</th>\n",
       "      <th>주소</th>\n",
       "    </tr>\n",
       "  </thead>\n",
       "  <tbody>\n",
       "    <tr>\n",
       "      <th>0</th>\n",
       "      <td>선화예술중학교</td>\n",
       "      <td>[광진구]</td>\n",
       "      <td>/ 선화예술중고등학교 (능동)</td>\n",
       "    </tr>\n",
       "    <tr>\n",
       "      <th>1</th>\n",
       "      <td>서울숭신초등학교</td>\n",
       "      <td>[성동구]</td>\n",
       "      <td>(하왕십리동)</td>\n",
       "    </tr>\n",
       "    <tr>\n",
       "      <th>2</th>\n",
       "      <td>행당중학교</td>\n",
       "      <td>[성동구]</td>\n",
       "      <td>(행당동/행당중학교)</td>\n",
       "    </tr>\n",
       "    <tr>\n",
       "      <th>3</th>\n",
       "      <td>한양대학교사범대학부속중학교</td>\n",
       "      <td>[성동구]</td>\n",
       "      <td>(사근동/한양사대부속중?고등학교)</td>\n",
       "    </tr>\n",
       "    <tr>\n",
       "      <th>4</th>\n",
       "      <td>자양중학교</td>\n",
       "      <td>[광진구]</td>\n",
       "      <td>(자양동/서울자양중학교)</td>\n",
       "    </tr>\n",
       "    <tr>\n",
       "      <th>5</th>\n",
       "      <td>용곡중학교</td>\n",
       "      <td>[광진구]</td>\n",
       "      <td>(중곡동/용곡중학교)</td>\n",
       "    </tr>\n",
       "    <tr>\n",
       "      <th>6</th>\n",
       "      <td>옥정중학교</td>\n",
       "      <td>[성동구]</td>\n",
       "      <td>/ 옥정중학교 (옥수동)</td>\n",
       "    </tr>\n",
       "    <tr>\n",
       "      <th>7</th>\n",
       "      <td>양진중학교</td>\n",
       "      <td>[광진구]</td>\n",
       "      <td>/ 양진중학교</td>\n",
       "    </tr>\n",
       "    <tr>\n",
       "      <th>8</th>\n",
       "      <td>신양중학교</td>\n",
       "      <td>[광진구]</td>\n",
       "      <td>/ 신양중학교 (자양동)</td>\n",
       "    </tr>\n",
       "    <tr>\n",
       "      <th>9</th>\n",
       "      <td>성원중학교</td>\n",
       "      <td>[성동구]</td>\n",
       "      <td>(성수동2가/ 성원중학교)</td>\n",
       "    </tr>\n",
       "    <tr>\n",
       "      <th>10</th>\n",
       "      <td>성수중학교</td>\n",
       "      <td>[성동구]</td>\n",
       "      <td>(성수동1가/ 성수중학교)</td>\n",
       "    </tr>\n",
       "    <tr>\n",
       "      <th>11</th>\n",
       "      <td>무학중학교</td>\n",
       "      <td>[성동구]</td>\n",
       "      <td>(행당동)</td>\n",
       "    </tr>\n",
       "    <tr>\n",
       "      <th>12</th>\n",
       "      <td>마장중학교</td>\n",
       "      <td>[성동구]</td>\n",
       "      <td>/ 마장중학교 (마장동)</td>\n",
       "    </tr>\n",
       "    <tr>\n",
       "      <th>13</th>\n",
       "      <td>대원국제중학교</td>\n",
       "      <td>[광진구]</td>\n",
       "      <td>/ 대원국제중학교 (중곡동)</td>\n",
       "    </tr>\n",
       "    <tr>\n",
       "      <th>14</th>\n",
       "      <td>동마중학교</td>\n",
       "      <td>[성동구]</td>\n",
       "      <td>(마장동)</td>\n",
       "    </tr>\n",
       "    <tr>\n",
       "      <th>15</th>\n",
       "      <td>동국대학교사범대학부속여자중학교</td>\n",
       "      <td>[광진구]</td>\n",
       "      <td>/ 동국대학교사범대학부속여자중학교 (구의동)</td>\n",
       "    </tr>\n",
       "    <tr>\n",
       "      <th>16</th>\n",
       "      <td>구의중학교</td>\n",
       "      <td>[광진구]</td>\n",
       "      <td>(화양동)</td>\n",
       "    </tr>\n",
       "    <tr>\n",
       "      <th>17</th>\n",
       "      <td>광희중학교</td>\n",
       "      <td>[성동구]</td>\n",
       "      <td>/ 광희중학교 (응봉동)</td>\n",
       "    </tr>\n",
       "    <tr>\n",
       "      <th>18</th>\n",
       "      <td>광진중학교</td>\n",
       "      <td>[광진구]</td>\n",
       "      <td>(자양동/광진중학교)</td>\n",
       "    </tr>\n",
       "    <tr>\n",
       "      <th>19</th>\n",
       "      <td>광장중학교</td>\n",
       "      <td>[광진구]</td>\n",
       "      <td>/ 광장중학교 (광장동)</td>\n",
       "    </tr>\n",
       "  </tbody>\n",
       "</table>\n",
       "</div>"
      ],
      "text/plain": [
       "                 학교명      구                        주소\n",
       "0            선화예술중학교  [광진구]          / 선화예술중고등학교 (능동)\n",
       "1           서울숭신초등학교  [성동구]                   (하왕십리동)\n",
       "2              행당중학교  [성동구]               (행당동/행당중학교)\n",
       "3     한양대학교사범대학부속중학교  [성동구]        (사근동/한양사대부속중?고등학교)\n",
       "4              자양중학교  [광진구]             (자양동/서울자양중학교)\n",
       "5              용곡중학교  [광진구]               (중곡동/용곡중학교)\n",
       "6              옥정중학교  [성동구]             / 옥정중학교 (옥수동)\n",
       "7              양진중학교  [광진구]                   / 양진중학교\n",
       "8              신양중학교  [광진구]             / 신양중학교 (자양동)\n",
       "9              성원중학교  [성동구]            (성수동2가/ 성원중학교)\n",
       "10             성수중학교  [성동구]            (성수동1가/ 성수중학교)\n",
       "11             무학중학교  [성동구]                     (행당동)\n",
       "12             마장중학교  [성동구]             / 마장중학교 (마장동)\n",
       "13           대원국제중학교  [광진구]           / 대원국제중학교 (중곡동)\n",
       "14             동마중학교  [성동구]                     (마장동)\n",
       "15  동국대학교사범대학부속여자중학교  [광진구]  / 동국대학교사범대학부속여자중학교 (구의동)\n",
       "16             구의중학교  [광진구]                     (화양동)\n",
       "17             광희중학교  [성동구]             / 광희중학교 (응봉동)\n",
       "18             광진중학교  [광진구]               (자양동/광진중학교)\n",
       "19             광장중학교  [광진구]             / 광장중학교 (광장동)"
      ]
     },
     "execution_count": 133,
     "metadata": {},
     "output_type": "execute_result"
    }
   ],
   "source": [
    "df_need.head(20)"
   ]
  },
  {
   "cell_type": "code",
   "execution_count": 134,
   "id": "c8671ef2-fad9-4729-b0ea-024b1319049a",
   "metadata": {},
   "outputs": [
    {
     "data": {
      "text/plain": [
       "0        [능동]\n",
       "1     [하왕십리동]\n",
       "2       [행당동]\n",
       "3       [사근동]\n",
       "4       [자양동]\n",
       "       ...   \n",
       "95      [신림동]\n",
       "96      [봉천동]\n",
       "97      [상도동]\n",
       "98      [대방동]\n",
       "99      [흑석동]\n",
       "Name: 주소, Length: 100, dtype: object"
      ]
     },
     "execution_count": 134,
     "metadata": {},
     "output_type": "execute_result"
    }
   ],
   "source": [
    "# 동만 딱 뽑아버리기!! \n",
    "df_need['주소'].str.findall('\\w+동').head(100)"
   ]
  },
  {
   "cell_type": "code",
   "execution_count": 135,
   "id": "cab49f8d-2921-42c1-a381-a3fc12fdcafd",
   "metadata": {},
   "outputs": [],
   "source": [
    "df_Dong = df_need['주소'].str.findall('\\w+동')"
   ]
  },
  {
   "cell_type": "code",
   "execution_count": 136,
   "id": "b6de978d-dcec-4a3a-9b59-527f196ba897",
   "metadata": {},
   "outputs": [
    {
     "data": {
      "text/plain": [
       "16"
      ]
     },
     "execution_count": 136,
     "metadata": {},
     "output_type": "execute_result"
    }
   ],
   "source": [
    "df_Dong.isnull().sum()"
   ]
  },
  {
   "cell_type": "code",
   "execution_count": 137,
   "id": "4f04a425-eee3-4692-8d08-ebee3a53e51e",
   "metadata": {},
   "outputs": [
    {
     "name": "stderr",
     "output_type": "stream",
     "text": [
      "<ipython-input-137-3e3c89110ff5>:1: SettingWithCopyWarning: \n",
      "A value is trying to be set on a copy of a slice from a DataFrame.\n",
      "Try using .loc[row_indexer,col_indexer] = value instead\n",
      "\n",
      "See the caveats in the documentation: https://pandas.pydata.org/pandas-docs/stable/user_guide/indexing.html#returning-a-view-versus-a-copy\n",
      "  df_need['주소'] = df_Dong\n"
     ]
    }
   ],
   "source": [
    "df_need['주소'] = df_Dong"
   ]
  },
  {
   "cell_type": "code",
   "execution_count": 138,
   "id": "ea85854a-6bc0-4621-9b0a-e3183d2b3b3d",
   "metadata": {},
   "outputs": [
    {
     "data": {
      "text/plain": [
       "(3857, 3)"
      ]
     },
     "execution_count": 138,
     "metadata": {},
     "output_type": "execute_result"
    }
   ],
   "source": [
    "df_need.shape"
   ]
  },
  {
   "cell_type": "code",
   "execution_count": null,
   "id": "651d49b9-c2ca-4a83-b4d9-c29d6698895f",
   "metadata": {},
   "outputs": [],
   "source": []
  },
  {
   "cell_type": "code",
   "execution_count": 139,
   "id": "85195c19-7359-40b2-9cd0-64705849ffc0",
   "metadata": {},
   "outputs": [],
   "source": [
    "# 엑셀로 저장하기 \n",
    "#df_need.to_excel(excel_writer='New_School.xlsx')\n",
    "\n",
    "# 절대경로 설정하고 저장하기\n",
    "# raw_data.to_excel(excel_writer='C:/Users/pmw72/test/sample.xlsx')"
   ]
  },
  {
   "cell_type": "code",
   "execution_count": 141,
   "id": "65a91113-9191-4fbb-bec0-bb5e1bacade7",
   "metadata": {},
   "outputs": [],
   "source": [
    "# CSV 파일로 저장하기\n",
    "\n",
    "df_need.to_csv('New_School.csv', mode='a', header=True, encoding='cp949')\n",
    "\n",
    "# "
   ]
  },
  {
   "cell_type": "code",
   "execution_count": 142,
   "id": "d9ddbc40-ac26-40f8-8036-a4aa8ce0fa94",
   "metadata": {},
   "outputs": [
    {
     "name": "stdout",
     "output_type": "stream",
     "text": [
      "<class 'pandas.core.frame.DataFrame'>\n",
      "RangeIndex: 3857 entries, 0 to 3856\n",
      "Data columns (total 3 columns):\n",
      " #   Column  Non-Null Count  Dtype \n",
      "---  ------  --------------  ----- \n",
      " 0   학교명     3857 non-null   object\n",
      " 1   구       3841 non-null   object\n",
      " 2   주소      3841 non-null   object\n",
      "dtypes: object(3)\n",
      "memory usage: 90.5+ KB\n"
     ]
    }
   ],
   "source": [
    "df_need.info()"
   ]
  },
  {
   "cell_type": "code",
   "execution_count": null,
   "id": "efb7e783-655a-4fe0-8e34-c99690ae676d",
   "metadata": {},
   "outputs": [],
   "source": []
  }
 ],
 "metadata": {
  "kernelspec": {
   "display_name": "Python 3",
   "language": "python",
   "name": "python3"
  },
  "language_info": {
   "codemirror_mode": {
    "name": "ipython",
    "version": 3
   },
   "file_extension": ".py",
   "mimetype": "text/x-python",
   "name": "python",
   "nbconvert_exporter": "python",
   "pygments_lexer": "ipython3",
   "version": "3.8.8"
  }
 },
 "nbformat": 4,
 "nbformat_minor": 5
}
