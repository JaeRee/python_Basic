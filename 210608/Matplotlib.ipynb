{
 "cells": [
  {
   "cell_type": "code",
   "execution_count": 6,
   "id": "d8017df0-c1c1-45a8-8103-1ab5cd3c846b",
   "metadata": {},
   "outputs": [],
   "source": [
    "import pandas as pd"
   ]
  },
  {
   "cell_type": "code",
   "execution_count": 7,
   "id": "defab693-9694-4fc1-98e5-88ff54a11ac2",
   "metadata": {},
   "outputs": [],
   "source": [
    "names = ['Bob','Jessica','Mary','John', 'Mel']\n",
    "births = [968, 155, 77, 578, 973]\n",
    "coutom = [1, 5, 25, 13, 23232]"
   ]
  },
  {
   "cell_type": "code",
   "execution_count": 8,
   "id": "2f1429f5-04e2-4827-96e4-9bf94bdfd25e",
   "metadata": {},
   "outputs": [],
   "source": [
    "BabyDataSet = list(zip(names,births))\n",
    "df = pd.DataFrame(data = BabyDataSet, columns=['Names','Births'])"
   ]
  },
  {
   "cell_type": "code",
   "execution_count": 18,
   "id": "7b992e59-ebff-4303-8867-49efe65af6a0",
   "metadata": {},
   "outputs": [],
   "source": [
    "import numpy as np"
   ]
  },
  {
   "cell_type": "code",
   "execution_count": null,
   "id": "46d67d6e-804c-4b25-a71a-50e9be9c8c9a",
   "metadata": {},
   "outputs": [],
   "source": []
  },
  {
   "cell_type": "code",
   "execution_count": null,
   "id": "9945c0fa-eadf-446a-afd4-8ddc67b85e4d",
   "metadata": {},
   "outputs": [],
   "source": []
  },
  {
   "cell_type": "code",
   "execution_count": null,
   "id": "a56a7e4a-46f0-45e4-ab67-649ddf57f188",
   "metadata": {},
   "outputs": [],
   "source": []
  },
  {
   "cell_type": "code",
   "execution_count": 9,
   "id": "2ce2b35c-25f0-4bc2-8bf4-3b8bd566b109",
   "metadata": {},
   "outputs": [],
   "source": [
    "# Matplotib 메티플로티브 사용법 (시각화)\n",
    "# jupter에서 사용할때는 inline\n"
   ]
  },
  {
   "cell_type": "code",
   "execution_count": 11,
   "id": "49e3796f-1b25-490a-a228-f50bdf17cdc3",
   "metadata": {},
   "outputs": [],
   "source": [
    "%matplotlib inline\n",
    "import matplotlib.pyplot as plt"
   ]
  },
  {
   "cell_type": "code",
   "execution_count": 12,
   "id": "a21f9c59-8f18-403b-8735-0f9f5f926ce6",
   "metadata": {},
   "outputs": [],
   "source": [
    "y = df['Births']\n",
    "x = df['Names']"
   ]
  },
  {
   "cell_type": "code",
   "execution_count": 13,
   "id": "ec3f5fa9-54e8-4907-9788-c6ba3a7a34c5",
   "metadata": {},
   "outputs": [
    {
     "name": "stdout",
     "output_type": "stream",
     "text": [
      "0        Bob\n",
      "1    Jessica\n",
      "2       Mary\n",
      "3       John\n",
      "4        Mel\n",
      "Name: Names, dtype: object\n"
     ]
    }
   ],
   "source": [
    "print(x)"
   ]
  },
  {
   "cell_type": "code",
   "execution_count": null,
   "id": "c9bb890c-adb3-4532-8823-0673574a1362",
   "metadata": {},
   "outputs": [],
   "source": [
    "\n"
   ]
  },
  {
   "cell_type": "code",
   "execution_count": 14,
   "id": "c1b35f45-95c2-447b-a662-54e432f2d3c2",
   "metadata": {},
   "outputs": [
    {
     "data": {
      "image/png": "[encoded data removed]",
      "text/plain": [
       "<Figure size 432x288 with 1 Axes>"
      ]
     },
     "metadata": {
      "needs_background": "light"
     },
     "output_type": "display_data"
    }
   ],
   "source": [
    "y = df['Births']\n",
    "x = df['Names']\n",
    "\n",
    "# bar plot 를 출력합니다.\n",
    "\n",
    "plt.bar(x, y)  # --> 막대 그래프 객체 생성\n",
    "plt.xlabel('Names')  # --> x 축 제목\n",
    "plt.ylabel('Births')   # --> y 축 제목\n",
    "plt.title('Bar plot')  # --> 그래프 제목\n",
    "plt.show()           # --> 그래프 출력"
   ]
  },
  {
   "cell_type": "code",
   "execution_count": 16,
   "id": "80066805-3baf-4c45-9615-3ac8c67dc9a9",
   "metadata": {},
   "outputs": [
    {
     "data": {
      "image/png": "[encoded data removed]",
      "text/plain": [
       "<Figure size 432x288 with 1 Axes>"
      ]
     },
     "metadata": {
      "needs_background": "light"
     },
     "output_type": "display_data"
    }
   ],
   "source": [
    "\n",
    "# scatter plot 를 출력합니다.\n",
    "# 데이터 프레임으로 스케터 출력\n",
    "\n",
    "plt.scatter(x, y)  # --> 산점도(스케터) 그래프 객체 생성\n",
    "plt.xlabel('Names')  # --> x 축 제목\n",
    "plt.ylabel('Births')   # --> y 축 제목\n",
    "plt.title('Bar plot')  # --> 그래프 제목\n",
    "plt.show()           # --> 그래프 출력"
   ]
  },
  {
   "cell_type": "code",
   "execution_count": 25,
   "id": "8d59af35-4a0b-4dd5-addf-874eebf61290",
   "metadata": {},
   "outputs": [
    {
     "data": {
      "image/png": "[encoded data removed]",
      "text/plain": [
       "<Figure size 432x288 with 1 Axes>"
      ]
     },
     "metadata": {
      "needs_background": "light"
     },
     "output_type": "display_data"
    }
   ],
   "source": [
    "# 랜덤 추출 시드를 고정합니다.\n",
    "np.random.seed(19920528)\n",
    "\n",
    "# scatter plot  데이터를 생성합니다.\n",
    "x = np.arange(0.0, 100.0, 1.0)                             # x 값을 np.arange 로 0~100 값을 1단위로 총 100개의 점\n",
    "y = (x * 1.5) + np.random.rand(100) * 50             # y 값은 수식을 이해못함  일단 np. 해서 랜덤값으로 100개 넣음 \n",
    "\n",
    "# numpy 로 scatter plot 를 출력합니다.\n",
    "plt.scatter(x, y, c ='b', alpha=0.5, label='scatter point')   #alpha 는 디자인 관련 파라미터\n",
    "plt.xlabel('X')\n",
    "plt.ylabel('Y')\n",
    "plt.legend(loc= 'upper left')   # 왼쪽 상단에 디자인 관려 파라미터\n",
    "plt.title('Scatter plot')\n",
    "plt.show()\n",
    "\n"
   ]
  },
  {
   "cell_type": "code",
   "execution_count": 32,
   "id": "1beda964-fb58-4884-8698-e157e657a238",
   "metadata": {},
   "outputs": [
    {
     "name": "stdout",
     "output_type": "stream",
     "text": [
      "[24.96567908 15.22448499 40.22944776]\n"
     ]
    }
   ],
   "source": [
    "# 자세한 사용법은 https://matplotlib.org/\n",
    "z = np.random.rand(3)*50\n",
    "print(z)"
   ]
  },
  {
   "cell_type": "code",
   "execution_count": null,
   "id": "42b2cfa6-fbda-4139-812b-83f26219e189",
   "metadata": {},
   "outputs": [],
   "source": []
  }
 ],
 "metadata": {
  "kernelspec": {
   "display_name": "Python 3",
   "language": "python",
   "name": "python3"
  },
  "language_info": {
   "codemirror_mode": {
    "name": "ipython",
    "version": 3
   },
   "file_extension": ".py",
   "mimetype": "text/x-python",
   "name": "python",
   "nbconvert_exporter": "python",
   "pygments_lexer": "ipython3",
   "version": "3.9.5"
  }
 },
 "nbformat": 4,
 "nbformat_minor": 5
}
