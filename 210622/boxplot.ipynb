{
 "cells": [
  {
   "cell_type": "code",
   "execution_count": 1,
   "id": "9c8206d1-011d-4bb0-bdd7-1a23581730dd",
   "metadata": {},
   "outputs": [
    {
     "data": {
      "text/html": [
       "<div>\n",
       "<style scoped>\n",
       "    .dataframe tbody tr th:only-of-type {\n",
       "        vertical-align: middle;\n",
       "    }\n",
       "\n",
       "    .dataframe tbody tr th {\n",
       "        vertical-align: top;\n",
       "    }\n",
       "\n",
       "    .dataframe thead th {\n",
       "        text-align: right;\n",
       "    }\n",
       "</style>\n",
       "<table border=\"1\" class=\"dataframe\">\n",
       "  <thead>\n",
       "    <tr style=\"text-align: right;\">\n",
       "      <th></th>\n",
       "      <th>자전거번호</th>\n",
       "      <th>대여일시</th>\n",
       "      <th>대여소번호</th>\n",
       "      <th>대여소명</th>\n",
       "      <th>대여거치대</th>\n",
       "      <th>반납일시</th>\n",
       "      <th>반납대여소번호</th>\n",
       "      <th>반납대여소명</th>\n",
       "      <th>반납거치대</th>\n",
       "      <th>이용시간</th>\n",
       "      <th>이용거리</th>\n",
       "      <th>나이</th>\n",
       "    </tr>\n",
       "  </thead>\n",
       "  <tbody>\n",
       "    <tr>\n",
       "      <th>0</th>\n",
       "      <td>SPB-23220</td>\n",
       "      <td>2019-11-01 8:48</td>\n",
       "      <td>646</td>\n",
       "      <td>장한평역 1번출구 (국민은행앞)</td>\n",
       "      <td>3.0</td>\n",
       "      <td>2019-11-01 9:01</td>\n",
       "      <td>3</td>\n",
       "      <td>중랑센터</td>\n",
       "      <td>7.0</td>\n",
       "      <td>12.0</td>\n",
       "      <td>1100.0</td>\n",
       "      <td>50</td>\n",
       "    </tr>\n",
       "    <tr>\n",
       "      <th>1</th>\n",
       "      <td>SPB-16216</td>\n",
       "      <td>2019-11-04 8:38</td>\n",
       "      <td>646</td>\n",
       "      <td>장한평역 1번출구 (국민은행앞)</td>\n",
       "      <td>2.0</td>\n",
       "      <td>2019-11-04 8:56</td>\n",
       "      <td>3</td>\n",
       "      <td>중랑센터</td>\n",
       "      <td>2.0</td>\n",
       "      <td>7.0</td>\n",
       "      <td>1420.0</td>\n",
       "      <td>31</td>\n",
       "    </tr>\n",
       "    <tr>\n",
       "      <th>2</th>\n",
       "      <td>SPB-21097</td>\n",
       "      <td>2019-11-04 8:46</td>\n",
       "      <td>646</td>\n",
       "      <td>장한평역 1번출구 (국민은행앞)</td>\n",
       "      <td>1.0</td>\n",
       "      <td>2019-11-04 8:57</td>\n",
       "      <td>3</td>\n",
       "      <td>중랑센터</td>\n",
       "      <td>7.0</td>\n",
       "      <td>10.0</td>\n",
       "      <td>NaN</td>\n",
       "      <td>32</td>\n",
       "    </tr>\n",
       "    <tr>\n",
       "      <th>3</th>\n",
       "      <td>SPB-22292</td>\n",
       "      <td>2019-11-05 8:34</td>\n",
       "      <td>646</td>\n",
       "      <td>장한평역 1번출구 (국민은행앞)</td>\n",
       "      <td>1.0</td>\n",
       "      <td>2019-11-05 8:45</td>\n",
       "      <td>3</td>\n",
       "      <td>중랑센터</td>\n",
       "      <td>NaN</td>\n",
       "      <td>10.0</td>\n",
       "      <td>1380.0</td>\n",
       "      <td>21</td>\n",
       "    </tr>\n",
       "    <tr>\n",
       "      <th>4</th>\n",
       "      <td>SPB-07935</td>\n",
       "      <td>2019-11-05 12:29</td>\n",
       "      <td>512</td>\n",
       "      <td>뚝섬역 1번 출구 옆</td>\n",
       "      <td>11.0</td>\n",
       "      <td>2019-11-05 12:39</td>\n",
       "      <td>3</td>\n",
       "      <td>중랑센터</td>\n",
       "      <td>7.0</td>\n",
       "      <td>10.0</td>\n",
       "      <td>1650.0</td>\n",
       "      <td>120</td>\n",
       "    </tr>\n",
       "    <tr>\n",
       "      <th>...</th>\n",
       "      <td>...</td>\n",
       "      <td>...</td>\n",
       "      <td>...</td>\n",
       "      <td>...</td>\n",
       "      <td>...</td>\n",
       "      <td>...</td>\n",
       "      <td>...</td>\n",
       "      <td>...</td>\n",
       "      <td>...</td>\n",
       "      <td>...</td>\n",
       "      <td>...</td>\n",
       "      <td>...</td>\n",
       "    </tr>\n",
       "    <tr>\n",
       "      <th>415</th>\n",
       "      <td>SPB-12116</td>\n",
       "      <td>2019-11-15 4:22</td>\n",
       "      <td>112</td>\n",
       "      <td>극동방송국 앞</td>\n",
       "      <td>5.0</td>\n",
       "      <td>2019-11-15 4:33</td>\n",
       "      <td>101</td>\n",
       "      <td>(구)합정동 주민센터</td>\n",
       "      <td>1.0</td>\n",
       "      <td>11.0</td>\n",
       "      <td>2200.0</td>\n",
       "      <td>22</td>\n",
       "    </tr>\n",
       "    <tr>\n",
       "      <th>416</th>\n",
       "      <td>SPB-17768</td>\n",
       "      <td>2019-11-15 9:31</td>\n",
       "      <td>103</td>\n",
       "      <td>망원역 2번출구 앞</td>\n",
       "      <td>14.0</td>\n",
       "      <td>2019-11-15 9:37</td>\n",
       "      <td>101</td>\n",
       "      <td>(구)합정동 주민센터</td>\n",
       "      <td>NaN</td>\n",
       "      <td>5.0</td>\n",
       "      <td>NaN</td>\n",
       "      <td>22</td>\n",
       "    </tr>\n",
       "    <tr>\n",
       "      <th>417</th>\n",
       "      <td>SPB-18841</td>\n",
       "      <td>2019-11-15 20:40</td>\n",
       "      <td>113</td>\n",
       "      <td>홍대입구역 2번출구 앞</td>\n",
       "      <td>24.0</td>\n",
       "      <td>2019-11-15 20:53</td>\n",
       "      <td>101</td>\n",
       "      <td>(구)합정동 주민센터</td>\n",
       "      <td>1.0</td>\n",
       "      <td>12.0</td>\n",
       "      <td>2280.0</td>\n",
       "      <td>37</td>\n",
       "    </tr>\n",
       "    <tr>\n",
       "      <th>418</th>\n",
       "      <td>SPB-24467</td>\n",
       "      <td>2019-11-15 21:55</td>\n",
       "      <td>152</td>\n",
       "      <td>마포구민체육센터 앞</td>\n",
       "      <td>18.0</td>\n",
       "      <td>2019-11-15 22:05</td>\n",
       "      <td>101</td>\n",
       "      <td>(구)합정동 주민센터</td>\n",
       "      <td>1.0</td>\n",
       "      <td>10.0</td>\n",
       "      <td>1180.0</td>\n",
       "      <td>27</td>\n",
       "    </tr>\n",
       "    <tr>\n",
       "      <th>419</th>\n",
       "      <td>SPB-17570</td>\n",
       "      <td>2019-11-15 22:16</td>\n",
       "      <td>391</td>\n",
       "      <td>정동길입구</td>\n",
       "      <td>7.0</td>\n",
       "      <td>2019-11-15 23:04</td>\n",
       "      <td>101</td>\n",
       "      <td>(구)합정동 주민센터</td>\n",
       "      <td>5.0</td>\n",
       "      <td>48.0</td>\n",
       "      <td>8100.0</td>\n",
       "      <td>28</td>\n",
       "    </tr>\n",
       "  </tbody>\n",
       "</table>\n",
       "<p>420 rows × 12 columns</p>\n",
       "</div>"
      ],
      "text/plain": [
       "         자전거번호              대여일시  대여소번호               대여소명  대여거치대  \\\n",
       "0    SPB-23220   2019-11-01 8:48    646  장한평역 1번출구 (국민은행앞)    3.0   \n",
       "1    SPB-16216   2019-11-04 8:38    646  장한평역 1번출구 (국민은행앞)    2.0   \n",
       "2    SPB-21097   2019-11-04 8:46    646  장한평역 1번출구 (국민은행앞)    1.0   \n",
       "3    SPB-22292   2019-11-05 8:34    646  장한평역 1번출구 (국민은행앞)    1.0   \n",
       "4    SPB-07935  2019-11-05 12:29    512        뚝섬역 1번 출구 옆   11.0   \n",
       "..         ...               ...    ...                ...    ...   \n",
       "415  SPB-12116   2019-11-15 4:22    112            극동방송국 앞    5.0   \n",
       "416  SPB-17768   2019-11-15 9:31    103         망원역 2번출구 앞   14.0   \n",
       "417  SPB-18841  2019-11-15 20:40    113       홍대입구역 2번출구 앞   24.0   \n",
       "418  SPB-24467  2019-11-15 21:55    152         마포구민체육센터 앞   18.0   \n",
       "419  SPB-17570  2019-11-15 22:16    391              정동길입구    7.0   \n",
       "\n",
       "                 반납일시  반납대여소번호       반납대여소명  반납거치대  이용시간    이용거리   나이  \n",
       "0     2019-11-01 9:01        3         중랑센터    7.0  12.0  1100.0   50  \n",
       "1     2019-11-04 8:56        3         중랑센터    2.0   7.0  1420.0   31  \n",
       "2     2019-11-04 8:57        3         중랑센터    7.0  10.0     NaN   32  \n",
       "3     2019-11-05 8:45        3         중랑센터    NaN  10.0  1380.0   21  \n",
       "4    2019-11-05 12:39        3         중랑센터    7.0  10.0  1650.0  120  \n",
       "..                ...      ...          ...    ...   ...     ...  ...  \n",
       "415   2019-11-15 4:33      101  (구)합정동 주민센터    1.0  11.0  2200.0   22  \n",
       "416   2019-11-15 9:37      101  (구)합정동 주민센터    NaN   5.0     NaN   22  \n",
       "417  2019-11-15 20:53      101  (구)합정동 주민센터    1.0  12.0  2280.0   37  \n",
       "418  2019-11-15 22:05      101  (구)합정동 주민센터    1.0  10.0  1180.0   27  \n",
       "419  2019-11-15 23:04      101  (구)합정동 주민센터    5.0  48.0  8100.0   28  \n",
       "\n",
       "[420 rows x 12 columns]"
      ]
     },
     "execution_count": 1,
     "metadata": {},
     "output_type": "execute_result"
    }
   ],
   "source": [
    "# 데이터 가져오기\n",
    "\n",
    "import pandas as pd\n",
    "\n",
    "path =  '../bicycle/bicycle_out.csv'\n",
    "\n",
    "df = pd.read_csv(path, encoding = 'cp949')\n",
    "\n",
    "df"
   ]
  },
  {
   "cell_type": "code",
   "execution_count": 97,
   "id": "61cff26f-36f1-488e-a564-046f6fb205cd",
   "metadata": {},
   "outputs": [
    {
     "data": {
      "text/plain": [
       "42070.0"
      ]
     },
     "execution_count": 97,
     "metadata": {},
     "output_type": "execute_result"
    }
   ],
   "source": []
  },
  {
   "cell_type": "code",
   "execution_count": 98,
   "id": "63f8b113-79df-4319-a9aa-72dbd6e7b66c",
   "metadata": {},
   "outputs": [
    {
     "data": {
      "text/plain": [
       "122.0"
      ]
     },
     "execution_count": 98,
     "metadata": {},
     "output_type": "execute_result"
    }
   ],
   "source": []
  },
  {
   "cell_type": "code",
   "execution_count": 3,
   "id": "9d2ba7a9-03a8-40b1-9646-8c40f4555615",
   "metadata": {},
   "outputs": [
    {
     "data": {
      "text/html": [
       "<div>\n",
       "<style scoped>\n",
       "    .dataframe tbody tr th:only-of-type {\n",
       "        vertical-align: middle;\n",
       "    }\n",
       "\n",
       "    .dataframe tbody tr th {\n",
       "        vertical-align: top;\n",
       "    }\n",
       "\n",
       "    .dataframe thead th {\n",
       "        text-align: right;\n",
       "    }\n",
       "</style>\n",
       "<table border=\"1\" class=\"dataframe\">\n",
       "  <thead>\n",
       "    <tr style=\"text-align: right;\">\n",
       "      <th></th>\n",
       "      <th>대여소번호</th>\n",
       "      <th>대여거치대</th>\n",
       "      <th>반납대여소번호</th>\n",
       "      <th>반납거치대</th>\n",
       "      <th>이용시간</th>\n",
       "      <th>이용거리</th>\n",
       "      <th>나이</th>\n",
       "    </tr>\n",
       "  </thead>\n",
       "  <tbody>\n",
       "    <tr>\n",
       "      <th>count</th>\n",
       "      <td>420.000000</td>\n",
       "      <td>396.000000</td>\n",
       "      <td>420.000000</td>\n",
       "      <td>409.000000</td>\n",
       "      <td>405.000000</td>\n",
       "      <td>404.000000</td>\n",
       "      <td>420.000000</td>\n",
       "    </tr>\n",
       "    <tr>\n",
       "      <th>mean</th>\n",
       "      <td>243.254762</td>\n",
       "      <td>7.585859</td>\n",
       "      <td>93.338095</td>\n",
       "      <td>2.831296</td>\n",
       "      <td>21.269136</td>\n",
       "      <td>2679.678218</td>\n",
       "      <td>35.445238</td>\n",
       "    </tr>\n",
       "    <tr>\n",
       "      <th>std</th>\n",
       "      <td>301.148255</td>\n",
       "      <td>6.258985</td>\n",
       "      <td>26.270667</td>\n",
       "      <td>1.687148</td>\n",
       "      <td>20.237064</td>\n",
       "      <td>3028.272755</td>\n",
       "      <td>31.823039</td>\n",
       "    </tr>\n",
       "    <tr>\n",
       "      <th>min</th>\n",
       "      <td>3.000000</td>\n",
       "      <td>1.000000</td>\n",
       "      <td>3.000000</td>\n",
       "      <td>1.000000</td>\n",
       "      <td>2.000000</td>\n",
       "      <td>0.000000</td>\n",
       "      <td>21.000000</td>\n",
       "    </tr>\n",
       "    <tr>\n",
       "      <th>25%</th>\n",
       "      <td>104.000000</td>\n",
       "      <td>3.000000</td>\n",
       "      <td>101.000000</td>\n",
       "      <td>1.000000</td>\n",
       "      <td>7.000000</td>\n",
       "      <td>1070.000000</td>\n",
       "      <td>24.000000</td>\n",
       "    </tr>\n",
       "    <tr>\n",
       "      <th>50%</th>\n",
       "      <td>117.500000</td>\n",
       "      <td>6.000000</td>\n",
       "      <td>101.000000</td>\n",
       "      <td>2.000000</td>\n",
       "      <td>14.000000</td>\n",
       "      <td>1680.000000</td>\n",
       "      <td>29.000000</td>\n",
       "    </tr>\n",
       "    <tr>\n",
       "      <th>75%</th>\n",
       "      <td>226.500000</td>\n",
       "      <td>10.000000</td>\n",
       "      <td>101.000000</td>\n",
       "      <td>4.000000</td>\n",
       "      <td>27.000000</td>\n",
       "      <td>3757.500000</td>\n",
       "      <td>40.000000</td>\n",
       "    </tr>\n",
       "    <tr>\n",
       "      <th>max</th>\n",
       "      <td>3102.000000</td>\n",
       "      <td>30.000000</td>\n",
       "      <td>101.000000</td>\n",
       "      <td>7.000000</td>\n",
       "      <td>122.000000</td>\n",
       "      <td>42070.000000</td>\n",
       "      <td>533.000000</td>\n",
       "    </tr>\n",
       "  </tbody>\n",
       "</table>\n",
       "</div>"
      ],
      "text/plain": [
       "             대여소번호       대여거치대     반납대여소번호       반납거치대        이용시간  \\\n",
       "count   420.000000  396.000000  420.000000  409.000000  405.000000   \n",
       "mean    243.254762    7.585859   93.338095    2.831296   21.269136   \n",
       "std     301.148255    6.258985   26.270667    1.687148   20.237064   \n",
       "min       3.000000    1.000000    3.000000    1.000000    2.000000   \n",
       "25%     104.000000    3.000000  101.000000    1.000000    7.000000   \n",
       "50%     117.500000    6.000000  101.000000    2.000000   14.000000   \n",
       "75%     226.500000   10.000000  101.000000    4.000000   27.000000   \n",
       "max    3102.000000   30.000000  101.000000    7.000000  122.000000   \n",
       "\n",
       "               이용거리          나이  \n",
       "count    404.000000  420.000000  \n",
       "mean    2679.678218   35.445238  \n",
       "std     3028.272755   31.823039  \n",
       "min        0.000000   21.000000  \n",
       "25%     1070.000000   24.000000  \n",
       "50%     1680.000000   29.000000  \n",
       "75%     3757.500000   40.000000  \n",
       "max    42070.000000  533.000000  "
      ]
     },
     "execution_count": 3,
     "metadata": {},
     "output_type": "execute_result"
    }
   ],
   "source": [
    "df.describe()"
   ]
  },
  {
   "cell_type": "code",
   "execution_count": 4,
   "id": "f6686a6b-22e0-40ca-a527-48a9f8fa59a1",
   "metadata": {},
   "outputs": [],
   "source": [
    "# 대충 봐서 대여소번호, 이용거리, 나이가 조금 문제가 있어보인다."
   ]
  },
  {
   "cell_type": "code",
   "execution_count": 6,
   "id": "087ba6ff-05b2-4eda-bc01-e14409da504c",
   "metadata": {},
   "outputs": [
    {
     "data": {
      "text/plain": [
       "{'whiskers': [<matplotlib.lines.Line2D at 0x249dc0b5130>,\n",
       "  <matplotlib.lines.Line2D at 0x249dc0b5400>],\n",
       " 'caps': [<matplotlib.lines.Line2D at 0x249dc0b5790>,\n",
       "  <matplotlib.lines.Line2D at 0x249dc0b5b20>],\n",
       " 'boxes': [<matplotlib.lines.Line2D at 0x249da09aca0>],\n",
       " 'medians': [<matplotlib.lines.Line2D at 0x249dc0b5eb0>],\n",
       " 'fliers': [<matplotlib.lines.Line2D at 0x249dc0c1280>],\n",
       " 'means': []}"
      ]
     },
     "execution_count": 6,
     "metadata": {},
     "output_type": "execute_result"
    },
    {
     "data": {
      "image/png": "[encoded data removed]",
      "text/plain": [
       "<Figure size 432x288 with 1 Axes>"
      ]
     },
     "metadata": {
      "needs_background": "light"
     },
     "output_type": "display_data"
    }
   ],
   "source": [
    "import matplotlib.pyplot as plt\n",
    "plt.boxplot(df['나이'])"
   ]
  },
  {
   "cell_type": "code",
   "execution_count": 12,
   "id": "9034fe06-29ec-4afc-98e1-99a87a3fa36f",
   "metadata": {},
   "outputs": [
    {
     "data": {
      "text/plain": [
       "16.0"
      ]
     },
     "execution_count": 12,
     "metadata": {},
     "output_type": "execute_result"
    }
   ],
   "source": [
    "import numpy as np\n",
    "\n",
    "# q1 = np.percentile(df['나이'], 25)\n",
    "# q3 = np.percentile(df['나이'], 75)\n",
    "\n",
    "q1, q3 = np.percentile(df['나이'], [25,75])\n",
    "\n",
    "iqr = q3 - q1\n",
    "\n",
    "iqr\n",
    "\n",
    "\n",
    "# iqr 은 중간에 50%의 데이터가 흩어진 정도를 의미한다."
   ]
  },
  {
   "cell_type": "code",
   "execution_count": 17,
   "id": "3826b5ec-a80a-460b-a9e9-ff9c4627806a",
   "metadata": {},
   "outputs": [
    {
     "data": {
      "text/plain": [
       "4      120\n",
       "30     533\n",
       "47     320\n",
       "86     220\n",
       "123     69\n",
       "148     65\n",
       "221     66\n",
       "294     65\n",
       "362     65\n",
       "363     67\n",
       "Name: 나이, dtype: int64"
      ]
     },
     "execution_count": 17,
     "metadata": {},
     "output_type": "execute_result"
    }
   ],
   "source": [
    "upperfence = q3 + iqr*1.5\n",
    "df[df['나이']>upperfence]['나이']"
   ]
  },
  {
   "cell_type": "code",
   "execution_count": 18,
   "id": "c4b13511-968e-45b3-a3d5-204deb0f8ebd",
   "metadata": {},
   "outputs": [
    {
     "data": {
      "text/plain": [
       "4     120\n",
       "30    533\n",
       "47    320\n",
       "86    220\n",
       "Name: 나이, dtype: int64"
      ]
     },
     "execution_count": 18,
     "metadata": {},
     "output_type": "execute_result"
    }
   ],
   "source": [
    "upperfence = q3 + iqr*3\n",
    "df[df['나이']>upperfence]['나이']"
   ]
  },
  {
   "cell_type": "code",
   "execution_count": 33,
   "id": "de60a1d0-2a7e-461b-ba3b-5cd9cb45f136",
   "metadata": {},
   "outputs": [
    {
     "data": {
      "text/plain": [
       "{'whiskers': [<matplotlib.lines.Line2D at 0x249ded04c10>,\n",
       "  <matplotlib.lines.Line2D at 0x249ded04dc0>],\n",
       " 'caps': [<matplotlib.lines.Line2D at 0x249ded15370>,\n",
       "  <matplotlib.lines.Line2D at 0x249ded15970>],\n",
       " 'boxes': [<matplotlib.lines.Line2D at 0x249ded04880>],\n",
       " 'medians': [<matplotlib.lines.Line2D at 0x249ded15b20>],\n",
       " 'fliers': [<matplotlib.lines.Line2D at 0x249dec9e0d0>],\n",
       " 'means': []}"
      ]
     },
     "execution_count": 33,
     "metadata": {},
     "output_type": "execute_result"
    },
    {
     "data": {
      "image/png": "[encoded data removed]",
      "text/plain": [
       "<Figure size 432x288 with 1 Axes>"
      ]
     },
     "metadata": {
      "needs_background": "light"
     },
     "output_type": "display_data"
    }
   ],
   "source": [
    "df = df[df['나이']<120]\n",
    "plt.boxplot(df['나이'])"
   ]
  },
  {
   "cell_type": "code",
   "execution_count": 35,
   "id": "97dc943e-4200-4119-85f5-b32d7c0c07b2",
   "metadata": {},
   "outputs": [
    {
     "data": {
      "text/plain": [
       "0"
      ]
     },
     "execution_count": 35,
     "metadata": {},
     "output_type": "execute_result"
    }
   ],
   "source": []
  },
  {
   "cell_type": "code",
   "execution_count": null,
   "id": "117b4335-05d0-4d04-a77d-58a58ede6c28",
   "metadata": {},
   "outputs": [],
   "source": [
    "\n",
    "\n",
    "# 나이는 해결했고 대여소번호, 이용거리 조금 문제가 있어보인다.\n",
    "\n"
   ]
  },
  {
   "cell_type": "code",
   "execution_count": 21,
   "id": "85fb91cd-da35-465d-969f-aca190c9c395",
   "metadata": {},
   "outputs": [
    {
     "data": {
      "text/plain": [
       "{'whiskers': [<matplotlib.lines.Line2D at 0x249decf06d0>,\n",
       "  <matplotlib.lines.Line2D at 0x249decf0a60>],\n",
       " 'caps': [<matplotlib.lines.Line2D at 0x249decf0df0>,\n",
       "  <matplotlib.lines.Line2D at 0x249de6131c0>],\n",
       " 'boxes': [<matplotlib.lines.Line2D at 0x249decf0340>],\n",
       " 'medians': [<matplotlib.lines.Line2D at 0x249de613550>],\n",
       " 'fliers': [<matplotlib.lines.Line2D at 0x249de6138e0>],\n",
       " 'means': []}"
      ]
     },
     "execution_count": 21,
     "metadata": {},
     "output_type": "execute_result"
    },
    {
     "data": {
      "image/png": "[encoded data removed]",
      "text/plain": [
       "<Figure size 432x288 with 1 Axes>"
      ]
     },
     "metadata": {
      "needs_background": "light"
     },
     "output_type": "display_data"
    }
   ],
   "source": [
    "import numpy as np\n",
    "import matplotlib.pyplot as plt\n",
    "\n",
    "plt.boxplot(df['이용거리'])"
   ]
  },
  {
   "cell_type": "code",
   "execution_count": 78,
   "id": "5b7b1a88-8cf5-4ced-bb4b-2ee3fbd090db",
   "metadata": {},
   "outputs": [
    {
     "data": {
      "text/plain": [
       "42070.0"
      ]
     },
     "execution_count": 78,
     "metadata": {},
     "output_type": "execute_result"
    }
   ],
   "source": [
    "df['이용거리'].max()\n",
    "\n",
    "# max값이 말이안댐.. 자전거타고 갈 거리가 아니다 ㅡㅡ"
   ]
  },
  {
   "cell_type": "code",
   "execution_count": 79,
   "id": "07e8d2df-c99b-45c0-a68a-9519257d52e1",
   "metadata": {},
   "outputs": [
    {
     "data": {
      "text/plain": [
       "0"
      ]
     },
     "execution_count": 79,
     "metadata": {},
     "output_type": "execute_result"
    }
   ],
   "source": [
    "df['이용거리'].isnull().sum()\n",
    "\n",
    "# plot 가 안돼서 확인해보니까 결측치값이 존재하네요"
   ]
  },
  {
   "cell_type": "code",
   "execution_count": 80,
   "id": "416289df-c34b-40d9-96d6-7b323cc712f5",
   "metadata": {},
   "outputs": [],
   "source": [
    "df['이용거리'].mean()\n",
    "\n",
    "#일단은 평균값을 구해둠\n",
    "\n",
    "mean1 = df['이용거리'].mean()"
   ]
  },
  {
   "cell_type": "code",
   "execution_count": 81,
   "id": "031a2c89-4876-4e22-b81c-91c2b552af74",
   "metadata": {},
   "outputs": [],
   "source": [
    "df2 = df"
   ]
  },
  {
   "cell_type": "code",
   "execution_count": 82,
   "id": "fb1238a5-a31a-430c-a20c-7da733897be7",
   "metadata": {},
   "outputs": [],
   "source": [
    "df2['이용거리'] = df2['이용거리'].replace(np.nan, mean1)"
   ]
  },
  {
   "cell_type": "code",
   "execution_count": 83,
   "id": "18331e52-b0f1-4561-9b40-edbea1773e12",
   "metadata": {},
   "outputs": [
    {
     "data": {
      "text/plain": [
       "0"
      ]
     },
     "execution_count": 83,
     "metadata": {},
     "output_type": "execute_result"
    }
   ],
   "source": [
    "df2['이용거리'].isnull().sum()"
   ]
  },
  {
   "cell_type": "code",
   "execution_count": 76,
   "id": "ae2d06ae-441c-46d6-84bb-aa34d2927949",
   "metadata": {},
   "outputs": [],
   "source": [
    "## df2['이용거리']=df2['이용거리'].replace(np.nan, mean1)"
   ]
  },
  {
   "cell_type": "code",
   "execution_count": 84,
   "id": "1f38cf87-fbc4-4207-b96e-b22138a50602",
   "metadata": {},
   "outputs": [
    {
     "data": {
      "text/plain": [
       "{'whiskers': [<matplotlib.lines.Line2D at 0x249dec01640>,\n",
       "  <matplotlib.lines.Line2D at 0x249dec011f0>],\n",
       " 'caps': [<matplotlib.lines.Line2D at 0x249debe14f0>,\n",
       "  <matplotlib.lines.Line2D at 0x249debe10a0>],\n",
       " 'boxes': [<matplotlib.lines.Line2D at 0x249dec01880>],\n",
       " 'medians': [<matplotlib.lines.Line2D at 0x249debe1df0>],\n",
       " 'fliers': [<matplotlib.lines.Line2D at 0x249ded97310>],\n",
       " 'means': []}"
      ]
     },
     "execution_count": 84,
     "metadata": {},
     "output_type": "execute_result"
    },
    {
     "data": {
      "image/png": "[encoded data removed]",
      "text/plain": [
       "<Figure size 432x288 with 1 Axes>"
      ]
     },
     "metadata": {
      "needs_background": "light"
     },
     "output_type": "display_data"
    }
   ],
   "source": [
    "plt.boxplot(df2['이용거리'])"
   ]
  },
  {
   "cell_type": "code",
   "execution_count": 89,
   "id": "0113c8b2-599e-4ae1-8713-10b64a23d3f2",
   "metadata": {},
   "outputs": [
    {
     "data": {
      "text/plain": [
       "1070.0"
      ]
     },
     "execution_count": 89,
     "metadata": {},
     "output_type": "execute_result"
    }
   ],
   "source": [
    "q1 = np.percentile(df2['이용거리'], 25)\n",
    "q1"
   ]
  },
  {
   "cell_type": "code",
   "execution_count": 91,
   "id": "c018ec64-2fa3-42c5-91ca-842d48c529d7",
   "metadata": {},
   "outputs": [
    {
     "data": {
      "text/plain": [
       "3572.5"
      ]
     },
     "execution_count": 91,
     "metadata": {},
     "output_type": "execute_result"
    }
   ],
   "source": [
    "q3 = np.percentile(df2['이용거리'], 75)\n",
    "q3"
   ]
  },
  {
   "cell_type": "code",
   "execution_count": 92,
   "id": "fe10a3f6-5dec-426a-b350-30879ae30e07",
   "metadata": {},
   "outputs": [
    {
     "data": {
      "text/plain": [
       "2502.5"
      ]
     },
     "execution_count": 92,
     "metadata": {},
     "output_type": "execute_result"
    }
   ],
   "source": [
    "iqr = q3 - q1\n",
    "iqr"
   ]
  },
  {
   "cell_type": "code",
   "execution_count": 102,
   "id": "1ff18f0e-f0aa-40f6-9d61-32a3a8c78684",
   "metadata": {},
   "outputs": [
    {
     "data": {
      "text/plain": [
       "-2683.75"
      ]
     },
     "execution_count": 102,
     "metadata": {},
     "output_type": "execute_result"
    }
   ],
   "source": [
    "upperfence = q3 + iqr*1.5\n",
    "lowerfence = q1 - iqr*1.5\n",
    "lowerfence"
   ]
  },
  {
   "cell_type": "code",
   "execution_count": 96,
   "id": "8ea2eafe-b497-4f09-93f1-bf3c583a83a3",
   "metadata": {},
   "outputs": [
    {
     "data": {
      "text/plain": [
       "75     42070.0\n",
       "110    17060.0\n",
       "111    16910.0\n",
       "120     8530.0\n",
       "173     8160.0\n",
       "221    12610.0\n",
       "291     8120.0\n",
       "307     7750.0\n",
       "317     9310.0\n",
       "353     8290.0\n",
       "380     7330.0\n",
       "398    10260.0\n",
       "399     7420.0\n",
       "410     7510.0\n",
       "419     8100.0\n",
       "Name: 이용거리, dtype: float64"
      ]
     },
     "execution_count": 96,
     "metadata": {},
     "output_type": "execute_result"
    }
   ],
   "source": [
    "df2[df2['이용거리']>upperfence]['이용거리']"
   ]
  },
  {
   "cell_type": "code",
   "execution_count": 103,
   "id": "25319573-2052-44ad-8d11-e908b3fa6128",
   "metadata": {},
   "outputs": [
    {
     "data": {
      "text/plain": [
       "Series([], Name: 이용거리, dtype: float64)"
      ]
     },
     "execution_count": 103,
     "metadata": {},
     "output_type": "execute_result"
    }
   ],
   "source": [
    "df2[df2['이용거리']<0]['이용거리']"
   ]
  },
  {
   "cell_type": "code",
   "execution_count": null,
   "id": "c82c3094-d285-44e7-a453-c2610a8119e9",
   "metadata": {},
   "outputs": [],
   "source": []
  },
  {
   "cell_type": "code",
   "execution_count": null,
   "id": "3676af19-3ee9-48dc-a91a-3a6a44051538",
   "metadata": {},
   "outputs": [],
   "source": []
  }
 ],
 "metadata": {
  "kernelspec": {
   "display_name": "Python 3",
   "language": "python",
   "name": "python3"
  },
  "language_info": {
   "codemirror_mode": {
    "name": "ipython",
    "version": 3
   },
   "file_extension": ".py",
   "mimetype": "text/x-python",
   "name": "python",
   "nbconvert_exporter": "python",
   "pygments_lexer": "ipython3",
   "version": "3.9.5"
  }
 },
 "nbformat": 4,
 "nbformat_minor": 5
}
