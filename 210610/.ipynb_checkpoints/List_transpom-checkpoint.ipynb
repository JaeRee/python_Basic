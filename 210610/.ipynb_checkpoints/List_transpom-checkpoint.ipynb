{
 "cells": [
  {
   "cell_type": "code",
   "execution_count": 24,
   "id": "c304aad0-4195-45ad-8727-b41322c1259c",
   "metadata": {},
   "outputs": [],
   "source": [
    "coffee_menu_str = \"에스프레소 아메리카노 카페라테 카푸치노\".split()"
   ]
  },
  {
   "cell_type": "code",
   "execution_count": 25,
   "id": "c5b1d38b-f2ab-43b2-b758-31457b0f8d59",
   "metadata": {},
   "outputs": [
    {
     "name": "stdout",
     "output_type": "stream",
     "text": [
      "['에스프레소', '아메리카노', '카페라테', '카푸치노']\n"
     ]
    }
   ],
   "source": [
    "print(coffee_menu_str)"
   ]
  },
  {
   "cell_type": "code",
   "execution_count": null,
   "id": "fd03b72e-48ab-4822-b679-74b6264324a4",
   "metadata": {},
   "outputs": [],
   "source": []
  },
  {
   "cell_type": "code",
   "execution_count": 26,
   "id": "ee12c361-1d69-4f81-92f8-1ddb4b3a909a",
   "metadata": {},
   "outputs": [],
   "source": [
    "# 모든 리스트의 모든 항목을 하나의 문자열로 묶을때 .join()\n"
   ]
  },
  {
   "cell_type": "code",
   "execution_count": 27,
   "id": "a8de06e7-c9b2-4bb1-a2bf-7297f4cecb16",
   "metadata": {},
   "outputs": [],
   "source": [
    "address_list = [\"서울시\", \"서초구\", \"반포대로\", \"201(반포동)\"]"
   ]
  },
  {
   "cell_type": "code",
   "execution_count": 28,
   "id": "617351be-f59c-4767-a25f-1558ac2f929c",
   "metadata": {},
   "outputs": [
    {
     "data": {
      "text/plain": [
       "['서울시', '서초구', '반포대로', '201(반포동)']"
      ]
     },
     "execution_count": 28,
     "metadata": {},
     "output_type": "execute_result"
    }
   ],
   "source": [
    "address_list"
   ]
  },
  {
   "cell_type": "code",
   "execution_count": 29,
   "id": "e1625551-73b7-4fe7-a7b9-01d8dc2431c7",
   "metadata": {},
   "outputs": [
    {
     "data": {
      "text/plain": [
       "'서울시 서초구 반포대로 201(반포동)'"
      ]
     },
     "execution_count": 29,
     "metadata": {},
     "output_type": "execute_result"
    }
   ],
   "source": [
    "a = \" \"\n",
    "a.join(address_list)"
   ]
  },
  {
   "cell_type": "code",
   "execution_count": 30,
   "id": "bc317cd4-efcd-4591-a75d-9cbc775d0f36",
   "metadata": {},
   "outputs": [
    {
     "data": {
      "text/plain": [
       "'서울시 서초구 반포대로 201(반포동)'"
      ]
     },
     "execution_count": 30,
     "metadata": {},
     "output_type": "execute_result"
    }
   ],
   "source": [
    "\" \".join(address_list)"
   ]
  },
  {
   "cell_type": "code",
   "execution_count": 31,
   "id": "53522edc-bf58-4249-b468-9c2aff4a137e",
   "metadata": {},
   "outputs": [
    {
     "data": {
      "text/plain": [
       "'서울시*^_^*서초구*^_^*반포대로*^_^*201(반포동)'"
      ]
     },
     "execution_count": 31,
     "metadata": {},
     "output_type": "execute_result"
    }
   ],
   "source": [
    "\"*^_^*\".join(address_list)"
   ]
  },
  {
   "cell_type": "code",
   "execution_count": null,
   "id": "a144bdd2-66d5-4cdc-b84e-3e95ef3c06fa",
   "metadata": {},
   "outputs": [],
   "source": []
  },
  {
   "cell_type": "code",
   "execution_count": 32,
   "id": "8de1a42b-23a8-440b-bceb-01b017bdc513",
   "metadata": {},
   "outputs": [],
   "source": [
    "# 문자열을 찾을 때 .find()\n"
   ]
  },
  {
   "cell_type": "code",
   "execution_count": 34,
   "id": "91ef92df-168b-43cb-a932-bdd42df77b3b",
   "metadata": {},
   "outputs": [
    {
     "name": "stdout",
     "output_type": "stream",
     "text": [
      "찾을 문자열의 위치:  0\n",
      "찾을 문자열의 위치:  5\n",
      "찾을 문자열의 위치:  -1\n"
     ]
    }
   ],
   "source": [
    "str_f = \"Python code\"\n",
    "\n",
    "print(\"찾을 문자열의 위치: \", str_f.find(\"Python\"))\n",
    "print(\"찾을 문자열의 위치: \", str_f.find(\"n\"))\n",
    "print(\"찾을 문자열의 위치: \", str_f.find(\"no\"))\n",
    "\n",
    "# 찾을 수 없는 값은 -1 을 반환"
   ]
  },
  {
   "cell_type": "code",
   "execution_count": null,
   "id": "f0a356eb-0938-4de3-9bd2-feddc5c1c899",
   "metadata": {},
   "outputs": [],
   "source": []
  },
  {
   "cell_type": "code",
   "execution_count": 62,
   "id": "6ec4da4b-a373-436e-ba4d-e740ed47834f",
   "metadata": {},
   "outputs": [],
   "source": [
    "f = open('coffeeShopSales.txt','w')\n",
    "cul = [\"날짜 \", \"에스프레소 \", \"아메리카노 \", \"카페라테 \", \"카푸치노\\n\"]\n",
    "num1 = [\"10.15 \", \"10 \", \"50 \", \"45 \", \"20\\n\"]\n",
    "num2 = [\"10.16 \", \"10 \", \"50 \", \"45 \", \"20\\n\"]\n",
    "num3 = [\"10.17 \", \"10 \", \"50 \", \"45 \", \"20\\n\"]\n",
    "\n",
    "li = cul+num1+num2+num3\n",
    "\n",
    "for i in li:\n",
    "    val = i\n",
    "    f.write(val)\n",
    "\n",
    "f.close()"
   ]
  },
  {
   "cell_type": "code",
   "execution_count": null,
   "id": "b584621a-c231-491a-8bb9-f0fe34fa31ac",
   "metadata": {},
   "outputs": [],
   "source": []
  },
  {
   "cell_type": "code",
   "execution_count": 63,
   "id": "573b3809-f14f-46cb-933b-b412626590a9",
   "metadata": {},
   "outputs": [
    {
     "name": "stdout",
     "output_type": "stream",
     "text": [
      "날짜 에스프레소 아메리카노 카페라테 카푸치노\n",
      "10.15 10 50 45 20\n",
      "10.16 10 50 45 20\n",
      "10.17 10 50 45 20\n"
     ]
    }
   ],
   "source": [
    "file_name = 'coffeeShopSales.txt'\n",
    "\n",
    "f = open(file_name)\n",
    "for line in f:\n",
    "    print(line, end='')\n",
    "f.close()"
   ]
  },
  {
   "cell_type": "code",
   "execution_count": null,
   "id": "af7c2112-f0e7-4f70-8815-151cf9f082ff",
   "metadata": {},
   "outputs": [],
   "source": []
  },
  {
   "cell_type": "code",
   "execution_count": 72,
   "id": "f89696cb-f45e-443c-80e9-2a94daf88273",
   "metadata": {},
   "outputs": [
    {
     "data": {
      "text/plain": [
       "['날짜', '에스프레소', '아메리카노', '카페라테', '카푸치노']"
      ]
     },
     "execution_count": 72,
     "metadata": {},
     "output_type": "execute_result"
    }
   ],
   "source": [
    "f = open(file_name)\n",
    "header = f.readline()\n",
    "f.close()\n",
    "\n",
    "\n",
    "header_list = header.split()\n",
    "header_list"
   ]
  },
  {
   "cell_type": "code",
   "execution_count": null,
   "id": "ac150fd2-f9f5-441d-a28a-8a93206eac94",
   "metadata": {},
   "outputs": [],
   "source": []
  },
  {
   "cell_type": "code",
   "execution_count": 73,
   "id": "8e76787d-6f8f-4ff8-8ad6-2ebd78392827",
   "metadata": {},
   "outputs": [
    {
     "name": "stdout",
     "output_type": "stream",
     "text": [
      "['10.15', '10', '50', '45', '20']\n",
      "['10.16', '10', '50', '45', '20']\n",
      "['10.17', '10', '50', '45', '20']\n"
     ]
    }
   ],
   "source": [
    "f = open(file_name)\n",
    "\n",
    "for line in f:\n",
    "    data_list = line.split()\n",
    "    print(data_list)\n",
    "    \n",
    "f.close()"
   ]
  },
  {
   "cell_type": "code",
   "execution_count": null,
   "id": "f7b733ac-5141-401c-97b7-c804028deb49",
   "metadata": {},
   "outputs": [],
   "source": []
  }
 ],
 "metadata": {
  "kernelspec": {
   "display_name": "Python 3",
   "language": "python",
   "name": "python3"
  },
  "language_info": {
   "codemirror_mode": {
    "name": "ipython",
    "version": 3
   },
   "file_extension": ".py",
   "mimetype": "text/x-python",
   "name": "python",
   "nbconvert_exporter": "python",
   "pygments_lexer": "ipython3",
   "version": "3.9.5"
  }
 },
 "nbformat": 4,
 "nbformat_minor": 5
}
