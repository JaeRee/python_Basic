{
 "cells": [
  {
   "cell_type": "code",
   "execution_count": 1,
   "id": "21a70d2c-4dc0-4603-a772-766d4bf4c651",
   "metadata": {},
   "outputs": [],
   "source": [
    "import pandas as pd\n",
    "\n",
    "path = '../data/bicycle/sample_NoNA.csv'\n",
    "\n",
    "\n",
    "df = pd.read_csv(path, encoding='cp949')\n"
   ]
  },
  {
   "cell_type": "code",
   "execution_count": 2,
   "id": "e682bf63-15cb-458a-834a-42b1d42d74b2",
   "metadata": {},
   "outputs": [
    {
     "data": {
      "text/html": [
       "<div>\n",
       "<style scoped>\n",
       "    .dataframe tbody tr th:only-of-type {\n",
       "        vertical-align: middle;\n",
       "    }\n",
       "\n",
       "    .dataframe tbody tr th {\n",
       "        vertical-align: top;\n",
       "    }\n",
       "\n",
       "    .dataframe thead th {\n",
       "        text-align: right;\n",
       "    }\n",
       "</style>\n",
       "<table border=\"1\" class=\"dataframe\">\n",
       "  <thead>\n",
       "    <tr style=\"text-align: right;\">\n",
       "      <th></th>\n",
       "      <th>cty</th>\n",
       "      <th>hwy</th>\n",
       "    </tr>\n",
       "  </thead>\n",
       "  <tbody>\n",
       "    <tr>\n",
       "      <th>count</th>\n",
       "      <td>226.000000</td>\n",
       "      <td>229.000000</td>\n",
       "    </tr>\n",
       "    <tr>\n",
       "      <th>mean</th>\n",
       "      <td>29.588496</td>\n",
       "      <td>115.135371</td>\n",
       "    </tr>\n",
       "    <tr>\n",
       "      <th>std</th>\n",
       "      <td>112.855084</td>\n",
       "      <td>932.040957</td>\n",
       "    </tr>\n",
       "    <tr>\n",
       "      <th>min</th>\n",
       "      <td>-50.000000</td>\n",
       "      <td>12.000000</td>\n",
       "    </tr>\n",
       "    <tr>\n",
       "      <th>25%</th>\n",
       "      <td>14.000000</td>\n",
       "      <td>18.000000</td>\n",
       "    </tr>\n",
       "    <tr>\n",
       "      <th>50%</th>\n",
       "      <td>17.000000</td>\n",
       "      <td>25.000000</td>\n",
       "    </tr>\n",
       "    <tr>\n",
       "      <th>75%</th>\n",
       "      <td>19.000000</td>\n",
       "      <td>28.000000</td>\n",
       "    </tr>\n",
       "    <tr>\n",
       "      <th>max</th>\n",
       "      <td>999.000000</td>\n",
       "      <td>9999.000000</td>\n",
       "    </tr>\n",
       "  </tbody>\n",
       "</table>\n",
       "</div>"
      ],
      "text/plain": [
       "              cty          hwy\n",
       "count  226.000000   229.000000\n",
       "mean    29.588496   115.135371\n",
       "std    112.855084   932.040957\n",
       "min    -50.000000    12.000000\n",
       "25%     14.000000    18.000000\n",
       "50%     17.000000    25.000000\n",
       "75%     19.000000    28.000000\n",
       "max    999.000000  9999.000000"
      ]
     },
     "execution_count": 2,
     "metadata": {},
     "output_type": "execute_result"
    }
   ],
   "source": [
    "df.describe()"
   ]
  },
  {
   "cell_type": "code",
   "execution_count": 3,
   "id": "623e3189-c308-4384-a9d1-849200fc9e19",
   "metadata": {},
   "outputs": [],
   "source": [
    "# Desctibe 로 알수 있는건 도심연비와 고속 연비의 개수가 다른것으로 봐서 결측치가 존재한다.\n",
    "# 평균연비를 보면 도심연비는 29이고, 고속연비는 115로 이상치가 존재하는 것을 알수 있다.\n",
    "# 도심연비의 최소값이 음수이고, 최대값이 100을 넘는 수치 그리고 사분위수에 비해 많은 차이가\n",
    "# 나는것을 봐서 이상치가 존재함을 알 수 있다."
   ]
  },
  {
   "cell_type": "code",
   "execution_count": 4,
   "id": "0eac67d8-9674-4d64-b78f-5eb3d8932033",
   "metadata": {},
   "outputs": [
    {
     "name": "stdout",
     "output_type": "stream",
     "text": [
      "<class 'pandas.core.frame.DataFrame'>\n",
      "RangeIndex: 234 entries, 0 to 233\n",
      "Data columns (total 3 columns):\n",
      " #   Column  Non-Null Count  Dtype  \n",
      "---  ------  --------------  -----  \n",
      " 0   癤풻lass  219 non-null    object \n",
      " 1   cty     226 non-null    float64\n",
      " 2   hwy     229 non-null    float64\n",
      "dtypes: float64(2), object(1)\n",
      "memory usage: 5.6+ KB\n"
     ]
    }
   ],
   "source": [
    "df.info()"
   ]
  },
  {
   "cell_type": "code",
   "execution_count": 5,
   "id": "82fcfe1f-2466-4423-afbe-90e2350672ed",
   "metadata": {},
   "outputs": [
    {
     "data": {
      "text/html": [
       "<div>\n",
       "<style scoped>\n",
       "    .dataframe tbody tr th:only-of-type {\n",
       "        vertical-align: middle;\n",
       "    }\n",
       "\n",
       "    .dataframe tbody tr th {\n",
       "        vertical-align: top;\n",
       "    }\n",
       "\n",
       "    .dataframe thead th {\n",
       "        text-align: right;\n",
       "    }\n",
       "</style>\n",
       "<table border=\"1\" class=\"dataframe\">\n",
       "  <thead>\n",
       "    <tr style=\"text-align: right;\">\n",
       "      <th></th>\n",
       "      <th>癤풻lass</th>\n",
       "      <th>cty</th>\n",
       "      <th>hwy</th>\n",
       "    </tr>\n",
       "  </thead>\n",
       "  <tbody>\n",
       "    <tr>\n",
       "      <th>0</th>\n",
       "      <td>compact</td>\n",
       "      <td>18.0</td>\n",
       "      <td>29.0</td>\n",
       "    </tr>\n",
       "    <tr>\n",
       "      <th>1</th>\n",
       "      <td>compact</td>\n",
       "      <td>21.0</td>\n",
       "      <td>29.0</td>\n",
       "    </tr>\n",
       "    <tr>\n",
       "      <th>2</th>\n",
       "      <td>compact</td>\n",
       "      <td>NaN</td>\n",
       "      <td>31.0</td>\n",
       "    </tr>\n",
       "    <tr>\n",
       "      <th>3</th>\n",
       "      <td>compact</td>\n",
       "      <td>21.0</td>\n",
       "      <td>30.0</td>\n",
       "    </tr>\n",
       "    <tr>\n",
       "      <th>4</th>\n",
       "      <td>compact</td>\n",
       "      <td>16.0</td>\n",
       "      <td>26.0</td>\n",
       "    </tr>\n",
       "    <tr>\n",
       "      <th>5</th>\n",
       "      <td>compact</td>\n",
       "      <td>18.0</td>\n",
       "      <td>26.0</td>\n",
       "    </tr>\n",
       "    <tr>\n",
       "      <th>6</th>\n",
       "      <td>compact</td>\n",
       "      <td>18.0</td>\n",
       "      <td>NaN</td>\n",
       "    </tr>\n",
       "    <tr>\n",
       "      <th>7</th>\n",
       "      <td>compact</td>\n",
       "      <td>18.0</td>\n",
       "      <td>26.0</td>\n",
       "    </tr>\n",
       "    <tr>\n",
       "      <th>8</th>\n",
       "      <td>compact</td>\n",
       "      <td>16.0</td>\n",
       "      <td>25.0</td>\n",
       "    </tr>\n",
       "    <tr>\n",
       "      <th>9</th>\n",
       "      <td>compact</td>\n",
       "      <td>20.0</td>\n",
       "      <td>28.0</td>\n",
       "    </tr>\n",
       "    <tr>\n",
       "      <th>10</th>\n",
       "      <td>compact</td>\n",
       "      <td>19.0</td>\n",
       "      <td>27.0</td>\n",
       "    </tr>\n",
       "    <tr>\n",
       "      <th>11</th>\n",
       "      <td>NaN</td>\n",
       "      <td>15.0</td>\n",
       "      <td>25.0</td>\n",
       "    </tr>\n",
       "    <tr>\n",
       "      <th>12</th>\n",
       "      <td>compact</td>\n",
       "      <td>17.0</td>\n",
       "      <td>25.0</td>\n",
       "    </tr>\n",
       "    <tr>\n",
       "      <th>13</th>\n",
       "      <td>compact</td>\n",
       "      <td>17.0</td>\n",
       "      <td>25.0</td>\n",
       "    </tr>\n",
       "    <tr>\n",
       "      <th>14</th>\n",
       "      <td>compact</td>\n",
       "      <td>15.0</td>\n",
       "      <td>25.0</td>\n",
       "    </tr>\n",
       "    <tr>\n",
       "      <th>15</th>\n",
       "      <td>midsize</td>\n",
       "      <td>15.0</td>\n",
       "      <td>24.0</td>\n",
       "    </tr>\n",
       "    <tr>\n",
       "      <th>16</th>\n",
       "      <td>midsize</td>\n",
       "      <td>17.0</td>\n",
       "      <td>25.0</td>\n",
       "    </tr>\n",
       "    <tr>\n",
       "      <th>17</th>\n",
       "      <td>midsize</td>\n",
       "      <td>16.0</td>\n",
       "      <td>23.0</td>\n",
       "    </tr>\n",
       "    <tr>\n",
       "      <th>18</th>\n",
       "      <td>NaN</td>\n",
       "      <td>14.0</td>\n",
       "      <td>20.0</td>\n",
       "    </tr>\n",
       "    <tr>\n",
       "      <th>19</th>\n",
       "      <td>suv</td>\n",
       "      <td>11.0</td>\n",
       "      <td>15.0</td>\n",
       "    </tr>\n",
       "  </tbody>\n",
       "</table>\n",
       "</div>"
      ],
      "text/plain": [
       "     癤풻lass   cty   hwy\n",
       "0   compact  18.0  29.0\n",
       "1   compact  21.0  29.0\n",
       "2   compact   NaN  31.0\n",
       "3   compact  21.0  30.0\n",
       "4   compact  16.0  26.0\n",
       "5   compact  18.0  26.0\n",
       "6   compact  18.0   NaN\n",
       "7   compact  18.0  26.0\n",
       "8   compact  16.0  25.0\n",
       "9   compact  20.0  28.0\n",
       "10  compact  19.0  27.0\n",
       "11      NaN  15.0  25.0\n",
       "12  compact  17.0  25.0\n",
       "13  compact  17.0  25.0\n",
       "14  compact  15.0  25.0\n",
       "15  midsize  15.0  24.0\n",
       "16  midsize  17.0  25.0\n",
       "17  midsize  16.0  23.0\n",
       "18      NaN  14.0  20.0\n",
       "19      suv  11.0  15.0"
      ]
     },
     "execution_count": 5,
     "metadata": {},
     "output_type": "execute_result"
    }
   ],
   "source": [
    "df.head(20)"
   ]
  },
  {
   "cell_type": "code",
   "execution_count": 6,
   "id": "4afedbeb-2d13-49cd-8897-0e7815a75684",
   "metadata": {},
   "outputs": [
    {
     "data": {
      "text/html": [
       "<div>\n",
       "<style scoped>\n",
       "    .dataframe tbody tr th:only-of-type {\n",
       "        vertical-align: middle;\n",
       "    }\n",
       "\n",
       "    .dataframe tbody tr th {\n",
       "        vertical-align: top;\n",
       "    }\n",
       "\n",
       "    .dataframe thead th {\n",
       "        text-align: right;\n",
       "    }\n",
       "</style>\n",
       "<table border=\"1\" class=\"dataframe\">\n",
       "  <thead>\n",
       "    <tr style=\"text-align: right;\">\n",
       "      <th></th>\n",
       "      <th>癤풻lass</th>\n",
       "      <th>cty</th>\n",
       "      <th>hwy</th>\n",
       "    </tr>\n",
       "  </thead>\n",
       "  <tbody>\n",
       "    <tr>\n",
       "      <th>10</th>\n",
       "      <td>compact</td>\n",
       "      <td>19.0</td>\n",
       "      <td>27.0</td>\n",
       "    </tr>\n",
       "    <tr>\n",
       "      <th>11</th>\n",
       "      <td>NaN</td>\n",
       "      <td>15.0</td>\n",
       "      <td>25.0</td>\n",
       "    </tr>\n",
       "    <tr>\n",
       "      <th>12</th>\n",
       "      <td>compact</td>\n",
       "      <td>17.0</td>\n",
       "      <td>25.0</td>\n",
       "    </tr>\n",
       "    <tr>\n",
       "      <th>13</th>\n",
       "      <td>compact</td>\n",
       "      <td>17.0</td>\n",
       "      <td>25.0</td>\n",
       "    </tr>\n",
       "    <tr>\n",
       "      <th>14</th>\n",
       "      <td>compact</td>\n",
       "      <td>15.0</td>\n",
       "      <td>25.0</td>\n",
       "    </tr>\n",
       "    <tr>\n",
       "      <th>15</th>\n",
       "      <td>midsize</td>\n",
       "      <td>15.0</td>\n",
       "      <td>24.0</td>\n",
       "    </tr>\n",
       "    <tr>\n",
       "      <th>16</th>\n",
       "      <td>midsize</td>\n",
       "      <td>17.0</td>\n",
       "      <td>25.0</td>\n",
       "    </tr>\n",
       "    <tr>\n",
       "      <th>17</th>\n",
       "      <td>midsize</td>\n",
       "      <td>16.0</td>\n",
       "      <td>23.0</td>\n",
       "    </tr>\n",
       "    <tr>\n",
       "      <th>18</th>\n",
       "      <td>NaN</td>\n",
       "      <td>14.0</td>\n",
       "      <td>20.0</td>\n",
       "    </tr>\n",
       "    <tr>\n",
       "      <th>19</th>\n",
       "      <td>suv</td>\n",
       "      <td>11.0</td>\n",
       "      <td>15.0</td>\n",
       "    </tr>\n",
       "  </tbody>\n",
       "</table>\n",
       "</div>"
      ],
      "text/plain": [
       "     癤풻lass   cty   hwy\n",
       "10  compact  19.0  27.0\n",
       "11      NaN  15.0  25.0\n",
       "12  compact  17.0  25.0\n",
       "13  compact  17.0  25.0\n",
       "14  compact  15.0  25.0\n",
       "15  midsize  15.0  24.0\n",
       "16  midsize  17.0  25.0\n",
       "17  midsize  16.0  23.0\n",
       "18      NaN  14.0  20.0\n",
       "19      suv  11.0  15.0"
      ]
     },
     "execution_count": 6,
     "metadata": {},
     "output_type": "execute_result"
    }
   ],
   "source": [
    "df[10:20]"
   ]
  },
  {
   "cell_type": "code",
   "execution_count": 7,
   "id": "3ac3140f-95b4-4ea2-9511-0792f3f5baf4",
   "metadata": {},
   "outputs": [
    {
     "data": {
      "text/plain": [
       "癤풻lass    15\n",
       "cty        8\n",
       "hwy        5\n",
       "dtype: int64"
      ]
     },
     "execution_count": 7,
     "metadata": {},
     "output_type": "execute_result"
    }
   ],
   "source": [
    "df.isnull().sum()"
   ]
  },
  {
   "cell_type": "code",
   "execution_count": 8,
   "id": "39033a13-9000-46b9-bc65-0e3904400767",
   "metadata": {},
   "outputs": [
    {
     "name": "stdout",
     "output_type": "stream",
     "text": [
      "<class 'pandas.core.frame.DataFrame'>\n",
      "RangeIndex: 234 entries, 0 to 233\n",
      "Data columns (total 3 columns):\n",
      " #   Column  Non-Null Count  Dtype  \n",
      "---  ------  --------------  -----  \n",
      " 0   class   229 non-null    object \n",
      " 1   cty     226 non-null    float64\n",
      " 2   hwy     229 non-null    float64\n",
      "dtypes: float64(2), object(1)\n",
      "memory usage: 5.6+ KB\n"
     ]
    }
   ],
   "source": [
    "import pandas as pd\n",
    "\n",
    "path = '../data/bicycle/sample_NoNA_modify.csv'\n",
    "\n",
    "df = pd.read_csv(path, encoding = 'cp949')\n",
    "\n",
    "df.info()"
   ]
  },
  {
   "cell_type": "code",
   "execution_count": 9,
   "id": "8b1e7552-10df-469f-9a8e-7692e54c7031",
   "metadata": {},
   "outputs": [
    {
     "data": {
      "text/html": [
       "<div>\n",
       "<style scoped>\n",
       "    .dataframe tbody tr th:only-of-type {\n",
       "        vertical-align: middle;\n",
       "    }\n",
       "\n",
       "    .dataframe tbody tr th {\n",
       "        vertical-align: top;\n",
       "    }\n",
       "\n",
       "    .dataframe thead th {\n",
       "        text-align: right;\n",
       "    }\n",
       "</style>\n",
       "<table border=\"1\" class=\"dataframe\">\n",
       "  <thead>\n",
       "    <tr style=\"text-align: right;\">\n",
       "      <th></th>\n",
       "      <th>class</th>\n",
       "      <th>cty</th>\n",
       "      <th>hwy</th>\n",
       "    </tr>\n",
       "  </thead>\n",
       "  <tbody>\n",
       "    <tr>\n",
       "      <th>18</th>\n",
       "      <td>NaN</td>\n",
       "      <td>14.0</td>\n",
       "      <td>20.0</td>\n",
       "    </tr>\n",
       "    <tr>\n",
       "      <th>22</th>\n",
       "      <td>NaN</td>\n",
       "      <td>12.0</td>\n",
       "      <td>17.0</td>\n",
       "    </tr>\n",
       "    <tr>\n",
       "      <th>74</th>\n",
       "      <td>NaN</td>\n",
       "      <td>11.0</td>\n",
       "      <td>17.0</td>\n",
       "    </tr>\n",
       "    <tr>\n",
       "      <th>75</th>\n",
       "      <td>NaN</td>\n",
       "      <td>11.0</td>\n",
       "      <td>17.0</td>\n",
       "    </tr>\n",
       "    <tr>\n",
       "      <th>173</th>\n",
       "      <td>NaN</td>\n",
       "      <td>15.0</td>\n",
       "      <td>20.0</td>\n",
       "    </tr>\n",
       "  </tbody>\n",
       "</table>\n",
       "</div>"
      ],
      "text/plain": [
       "    class   cty   hwy\n",
       "18    NaN  14.0  20.0\n",
       "22    NaN  12.0  17.0\n",
       "74    NaN  11.0  17.0\n",
       "75    NaN  11.0  17.0\n",
       "173   NaN  15.0  20.0"
      ]
     },
     "execution_count": 9,
     "metadata": {},
     "output_type": "execute_result"
    }
   ],
   "source": [
    "df[df['class'].isnull()]"
   ]
  },
  {
   "cell_type": "code",
   "execution_count": 10,
   "id": "a869f3ea-26f8-424f-ae1b-8f0c86ed7335",
   "metadata": {},
   "outputs": [
    {
     "data": {
      "text/plain": [
       "class    0\n",
       "cty      8\n",
       "hwy      5\n",
       "dtype: int64"
      ]
     },
     "execution_count": 10,
     "metadata": {},
     "output_type": "execute_result"
    }
   ],
   "source": [
    "df_class = df[df['class'].notnull()]\n",
    "df_class.isnull().sum()"
   ]
  },
  {
   "cell_type": "code",
   "execution_count": 11,
   "id": "ed29303c-401f-4654-bb85-ec93de8d1ea6",
   "metadata": {},
   "outputs": [
    {
     "data": {
      "text/html": [
       "<div>\n",
       "<style scoped>\n",
       "    .dataframe tbody tr th:only-of-type {\n",
       "        vertical-align: middle;\n",
       "    }\n",
       "\n",
       "    .dataframe tbody tr th {\n",
       "        vertical-align: top;\n",
       "    }\n",
       "\n",
       "    .dataframe thead th {\n",
       "        text-align: right;\n",
       "    }\n",
       "</style>\n",
       "<table border=\"1\" class=\"dataframe\">\n",
       "  <thead>\n",
       "    <tr style=\"text-align: right;\">\n",
       "      <th></th>\n",
       "      <th>cty</th>\n",
       "      <th>hwy</th>\n",
       "    </tr>\n",
       "  </thead>\n",
       "  <tbody>\n",
       "    <tr>\n",
       "      <th>count</th>\n",
       "      <td>221.000000</td>\n",
       "      <td>224.000000</td>\n",
       "    </tr>\n",
       "    <tr>\n",
       "      <th>mean</th>\n",
       "      <td>29.972851</td>\n",
       "      <td>117.299107</td>\n",
       "    </tr>\n",
       "    <tr>\n",
       "      <th>std</th>\n",
       "      <td>114.100670</td>\n",
       "      <td>942.317620</td>\n",
       "    </tr>\n",
       "    <tr>\n",
       "      <th>min</th>\n",
       "      <td>-50.000000</td>\n",
       "      <td>12.000000</td>\n",
       "    </tr>\n",
       "    <tr>\n",
       "      <th>25%</th>\n",
       "      <td>14.000000</td>\n",
       "      <td>18.000000</td>\n",
       "    </tr>\n",
       "    <tr>\n",
       "      <th>50%</th>\n",
       "      <td>17.000000</td>\n",
       "      <td>25.000000</td>\n",
       "    </tr>\n",
       "    <tr>\n",
       "      <th>75%</th>\n",
       "      <td>19.000000</td>\n",
       "      <td>28.000000</td>\n",
       "    </tr>\n",
       "    <tr>\n",
       "      <th>max</th>\n",
       "      <td>999.000000</td>\n",
       "      <td>9999.000000</td>\n",
       "    </tr>\n",
       "  </tbody>\n",
       "</table>\n",
       "</div>"
      ],
      "text/plain": [
       "              cty          hwy\n",
       "count  221.000000   224.000000\n",
       "mean    29.972851   117.299107\n",
       "std    114.100670   942.317620\n",
       "min    -50.000000    12.000000\n",
       "25%     14.000000    18.000000\n",
       "50%     17.000000    25.000000\n",
       "75%     19.000000    28.000000\n",
       "max    999.000000  9999.000000"
      ]
     },
     "execution_count": 11,
     "metadata": {},
     "output_type": "execute_result"
    }
   ],
   "source": [
    "df_class.describe()"
   ]
  },
  {
   "cell_type": "code",
   "execution_count": 12,
   "id": "61f73458-33ac-469b-a6c0-998eab2e2ba1",
   "metadata": {},
   "outputs": [
    {
     "data": {
      "text/plain": [
       "{'whiskers': [<matplotlib.lines.Line2D at 0x219ab6567f0>,\n",
       "  <matplotlib.lines.Line2D at 0x219ab656ac0>],\n",
       " 'caps': [<matplotlib.lines.Line2D at 0x219ab656e50>,\n",
       "  <matplotlib.lines.Line2D at 0x219ad671220>],\n",
       " 'boxes': [<matplotlib.lines.Line2D at 0x219ab6563a0>],\n",
       " 'medians': [<matplotlib.lines.Line2D at 0x219ad6715b0>],\n",
       " 'fliers': [<matplotlib.lines.Line2D at 0x219ad671940>],\n",
       " 'means': []}"
      ]
     },
     "execution_count": 12,
     "metadata": {},
     "output_type": "execute_result"
    },
    {
     "data": {
      "image/png": "[encoded data removed]",
      "text/plain": [
       "<Figure size 432x288 with 1 Axes>"
      ]
     },
     "metadata": {
      "needs_background": "light"
     },
     "output_type": "display_data"
    }
   ],
   "source": [
    "import matplotlib.pyplot as plt\n",
    "plt.boxplot(df_class['cty'])"
   ]
  },
  {
   "cell_type": "code",
   "execution_count": 13,
   "id": "7add3481-5db8-4c16-a608-271786ef7151",
   "metadata": {},
   "outputs": [],
   "source": [
    "# 이상치 확인을 위해 boxplot을 실행했지만 아무런 결과도 나타나지 않았다.\n",
    "# 이는 결측치가 존재하여 나타날수 있는 문제이다."
   ]
  },
  {
   "cell_type": "code",
   "execution_count": 14,
   "id": "aac3f263-33e6-41f5-b0dd-88ba7245d6f2",
   "metadata": {},
   "outputs": [
    {
     "ename": "NameError",
     "evalue": "name 'cty_series' is not defined",
     "output_type": "error",
     "traceback": [
      "\u001b[1;31m---------------------------------------------------------------------------\u001b[0m",
      "\u001b[1;31mNameError\u001b[0m                                 Traceback (most recent call last)",
      "\u001b[1;32m<ipython-input-14-7e7366f3c623>\u001b[0m in \u001b[0;36m<module>\u001b[1;34m\u001b[0m\n\u001b[1;32m----> 1\u001b[1;33m \u001b[0mcty_series\u001b[0m\u001b[1;33m.\u001b[0m\u001b[0misnull\u001b[0m\u001b[1;33m(\u001b[0m\u001b[1;33m)\u001b[0m\u001b[1;33m.\u001b[0m\u001b[0msum\u001b[0m\u001b[1;33m(\u001b[0m\u001b[1;33m)\u001b[0m\u001b[1;33m\u001b[0m\u001b[1;33m\u001b[0m\u001b[0m\n\u001b[0m",
      "\u001b[1;31mNameError\u001b[0m: name 'cty_series' is not defined"
     ]
    }
   ],
   "source": [
    "cty_series.isnull().sum()"
   ]
  },
  {
   "cell_type": "code",
   "execution_count": null,
   "id": "c7bf092a-9e9b-4749-b220-4769972a738e",
   "metadata": {},
   "outputs": [],
   "source": [
    "# 8개가 존재함"
   ]
  },
  {
   "cell_type": "code",
   "execution_count": null,
   "id": "b3295b59-0d8e-4b00-b877-efe5bc10e5cf",
   "metadata": {},
   "outputs": [],
   "source": [
    "# notnull 로 결측치가 배제된 데이터만 뽑음\n",
    "\n",
    "cty_series = df_class['cty']\n",
    "cty_series[cty_series.notnull()]\n"
   ]
  },
  {
   "cell_type": "code",
   "execution_count": null,
   "id": "7038da2c-8972-4bce-80e6-9e995ca3f839",
   "metadata": {},
   "outputs": [],
   "source": [
    "plt.boxplot(cty_series[cty_series.notnull()])"
   ]
  },
  {
   "cell_type": "code",
   "execution_count": null,
   "id": "a88d747b-6df6-45db-b1f4-93d7356ba8bd",
   "metadata": {},
   "outputs": [],
   "source": [
    "# 0 이하 값과 1000 이상의 값이 이상치로 확인됨"
   ]
  },
  {
   "cell_type": "code",
   "execution_count": null,
   "id": "46534afb-0de5-435e-90f5-4458c4c370c6",
   "metadata": {},
   "outputs": [],
   "source": [
    "cty_series[cty_series.notnull()].describe()"
   ]
  },
  {
   "cell_type": "code",
   "execution_count": null,
   "id": "80c70f15-7849-42dc-aa46-503bc4d1afec",
   "metadata": {},
   "outputs": [],
   "source": [
    "import numpy as np\n",
    "\n",
    "cty_series_notnull = cty_series[cty_series.notnull()]\n",
    "q1, q3 = np.percentile(cty_series_notnull, [25, 75])\n",
    "\n",
    "iqr = q3 - q1\n",
    "\n",
    "cty_lowerfence = q1 - iqr*1.5\n",
    "cty_upperfence = q3 + iqr*1.5\n",
    "\n",
    "print(cty_lowerfence)\n",
    "print(cty_upperfence)"
   ]
  },
  {
   "cell_type": "code",
   "execution_count": null,
   "id": "fcc768b1-5059-4d3c-af57-a316374e2039",
   "metadata": {},
   "outputs": [],
   "source": [
    "df_class[df_class['cty']<cty_lowerfence]"
   ]
  },
  {
   "cell_type": "code",
   "execution_count": null,
   "id": "fe2f36c4-f33e-41b4-a198-0829f0ff506a",
   "metadata": {},
   "outputs": [],
   "source": [
    "df_class[df_class['cty']>cty_upperfence]"
   ]
  },
  {
   "cell_type": "code",
   "execution_count": null,
   "id": "52dadddf-e6ee-4f16-9dd4-3bac85439f9e",
   "metadata": {},
   "outputs": [],
   "source": [
    "cty_upperfence = q3+iqr*3\n",
    "cty_upperfence"
   ]
  },
  {
   "cell_type": "code",
   "execution_count": null,
   "id": "a04011ac-6194-4828-8b33-7ef89e4bb8dd",
   "metadata": {},
   "outputs": [],
   "source": [
    "df_class[df_class['cty']>cty_upperfence]"
   ]
  },
  {
   "cell_type": "code",
   "execution_count": null,
   "id": "9bb30a12-5cba-4552-a19c-ac224fdf51b2",
   "metadata": {},
   "outputs": [],
   "source": [
    "df_class[df_class['class']=='suv']\n",
    "df_class[df_class['hwy']==15]\n",
    "\n",
    "df_class[(df_class['class']=='suv')&(df_class['hwy']==15)]"
   ]
  },
  {
   "cell_type": "code",
   "execution_count": null,
   "id": "a62f860d-e7cc-4cf5-85d9-2bd7dc23e974",
   "metadata": {},
   "outputs": [],
   "source": [
    "df_class_suv_15 = df_class[(df_class['class']=='suv')&(df_class['hwy']==15)]\n",
    "df_class_suv_15.describe()"
   ]
  },
  {
   "cell_type": "code",
   "execution_count": null,
   "id": "856ee4a3-0eba-49ab-ba41-e7fd59ada5b5",
   "metadata": {},
   "outputs": [],
   "source": [
    "df_class_suv_15.median()\n",
    "\n",
    "#  -50 때문에 평균은 사용할수 없으니 중앙값으로 대체한다. 50% = median "
   ]
  },
  {
   "cell_type": "code",
   "execution_count": null,
   "id": "64470f32-2e9f-4b3d-b1d4-9399e57589e4",
   "metadata": {},
   "outputs": [],
   "source": [
    "className = 'suv'\n",
    "mpg = '20'\n",
    "\n",
    "df1 = pd.DataFrame()\n",
    "df1 = df1.append({\n",
    "    'class':className,\n",
    "    'cty':999,\n",
    "    'hwy':mpg\n",
    "}, ignore_index=True)\n",
    "df1 = df1.append({\n",
    "    'class':className,\n",
    "    'cty':999,\n",
    "    'hwy':mpg\n",
    "}, ignore_index=True)\n",
    "df1 = df1.append({\n",
    "    'class':className,\n",
    "    'cty':11,\n",
    "    'hwy':mpg\n",
    "}, ignore_index=True)\n",
    "df1 = df1.append({\n",
    "    'class':className,\n",
    "    'cty':-50,\n",
    "    'hwy':mpg\n",
    "}, ignore_index=True)\n",
    "\n",
    "df1"
   ]
  },
  {
   "cell_type": "code",
   "execution_count": null,
   "id": "bfba11e2-f304-404d-96f8-0ba93c7c2dd5",
   "metadata": {},
   "outputs": [],
   "source": [
    "target = 'cty'\n",
    "lower = 0\n",
    "upper = 100\n",
    "\n",
    "boolupper = df1[target]>upper\n",
    "boollower = df1[target]<lower\n",
    "\n",
    "df1[boolupper|boollower]"
   ]
  },
  {
   "cell_type": "code",
   "execution_count": null,
   "id": "ec952195-e778-4103-a1c2-de3c4e28fcb5",
   "metadata": {},
   "outputs": [],
   "source": [
    "for val in df1[boolupper|boollower]:\n",
    "    print(val)"
   ]
  },
  {
   "cell_type": "code",
   "execution_count": null,
   "id": "1eccb266-1db3-462d-9cbc-51e7a9e40338",
   "metadata": {},
   "outputs": [],
   "source": [
    "print(df1[boolupper | boollower])\n",
    "df1_drop_duplicates = df1[boolupper | boollower].drop_duplicates(target)\n",
    "df1_drop_duplicates"
   ]
  },
  {
   "cell_type": "code",
   "execution_count": null,
   "id": "91036bfb-2c73-48e1-9f69-811f5036cc00",
   "metadata": {},
   "outputs": [],
   "source": [
    "min = 11\n",
    "\n",
    "for val in df1_drop_duplicates[target]:\n",
    "    df1 = df1.replace({target:val}, {target:min})\n",
    "\n",
    "df1"
   ]
  },
  {
   "cell_type": "code",
   "execution_count": null,
   "id": "91708776-3ac0-4e74-85fa-6fe651964af4",
   "metadata": {},
   "outputs": [],
   "source": [
    "className = 'suv'\n",
    "mpg=15\n",
    "\n",
    "df['class']==className\n",
    "df['hwy']==mpg\n",
    "\n",
    "bool_target = (df['class']==className)&(df['hwy']==mpg)\n",
    "df[bool_target]"
   ]
  },
  {
   "cell_type": "code",
   "execution_count": null,
   "id": "f6e605a5-6dba-4d78-a987-c59fadb277ba",
   "metadata": {},
   "outputs": [],
   "source": [
    "df_sample.describe()"
   ]
  },
  {
   "cell_type": "code",
   "execution_count": null,
   "id": "65c45778-0e1e-4785-861f-a9252f80645d",
   "metadata": {},
   "outputs": [],
   "source": [
    "df_sample = df[bool_target]\n",
    "median = np.median(df_sample['cty'])\n",
    "median"
   ]
  },
  {
   "cell_type": "code",
   "execution_count": null,
   "id": "eb6bae79-7a95-4c49-9bfd-bca222846317",
   "metadata": {},
   "outputs": [],
   "source": [
    "def ConvertAbnormality(data_frame, className, mpg):\n",
    "    bool_target = (data_frame['class']==className) & (data_frame['hwy']==mpg)\n",
    "    df_sample = data_frame[bool_target]\n",
    "    median = np.median(df_sample['cty'])\n",
    "    print(median)\n"
   ]
  },
  {
   "cell_type": "code",
   "execution_count": null,
   "id": "c8963812-8bc3-4808-9225-1ad152f6c011",
   "metadata": {},
   "outputs": [],
   "source": [
    "ConvertAbnormality(df, 'suv', 15)"
   ]
  },
  {
   "cell_type": "code",
   "execution_count": null,
   "id": "e13c3faa-59f7-4502-a709-e1b712037d2e",
   "metadata": {},
   "outputs": [],
   "source": [
    "lower = 0\n",
    "upper = 100\n",
    "\n",
    "bool_upper = df_sample['cty']>upper\n",
    "bool_lower = df_sample['cty']<lower\n",
    "\n",
    "df_drop = df_sample[bool_lower|bool_upper].drop_duplicates('cty')"
   ]
  },
  {
   "cell_type": "code",
   "execution_count": null,
   "id": "df63694c-da59-4d99-8a25-ddcab83b3d8a",
   "metadata": {},
   "outputs": [],
   "source": [
    "df_drop"
   ]
  },
  {
   "cell_type": "code",
   "execution_count": null,
   "id": "552c6b33-4e58-4285-b958-8e2fb9ae8462",
   "metadata": {},
   "outputs": [],
   "source": [
    "def Convert(data_frame, className, mpg, lower, upper):\n",
    "    # 중간값 구하기\n",
    "    bool_target = (data_frame['class']==className)&(data_frame['hwy']==mpg)\n",
    "    df_sample = data_frame[bool_target]\n",
    "    median = np.median(df_sample['cty'])\n",
    "    \n",
    "    # 중복 제거\n",
    "    bool_upper = df_sample['cty']>upper\n",
    "    bool_lower = df_sample['cty']<lower\n",
    "    \n",
    "    df_drop = df_sample[bool_lower | bool_upper].drop_duplicates('cty')\n",
    "    \n",
    "    # 이상치 치환\n",
    "    for val in df_drop['cty']:\n",
    "        data_frame[bool_target] = data_frame[bool_target].replace({'cty':val}, {'cty':median})\n",
    "        \n",
    "    return data_frame\n",
    "\n",
    "df2 = Convert(df, 'midsize', 29.0, 0, 100)\n",
    "\n",
    "df2"
   ]
  },
  {
   "cell_type": "code",
   "execution_count": 15,
   "id": "c4cf54b2-39a1-460a-bb25-8a8a76eff91e",
   "metadata": {},
   "outputs": [],
   "source": [
    "# 이상치 제거 목록 만들기"
   ]
  },
  {
   "cell_type": "code",
   "execution_count": 16,
   "id": "4a998155-d512-42a5-84ec-09df77ec6b3c",
   "metadata": {},
   "outputs": [
    {
     "name": "stdout",
     "output_type": "stream",
     "text": [
      "   class   cty   hwy\n",
      "63   suv -50.0  15.0\n",
      "          class    cty   hwy\n",
      "106  subcompact  999.0  36.0\n",
      "156     midsize  999.0  27.0\n",
      "230     midsize  999.0  29.0\n"
     ]
    }
   ],
   "source": [
    "lowerfence = 0\n",
    "upperfence = 100\n",
    "\n",
    "df_lower = df_class[df_class['cty']<lowerfence]\n",
    "df_upper = df_class[df_class['cty']>upperfence]\n",
    "\n",
    "print(df_lower)\n",
    "print(df_upper)"
   ]
  },
  {
   "cell_type": "code",
   "execution_count": 25,
   "id": "3460d0c0-eddb-4cee-bffa-1111f986d11e",
   "metadata": {},
   "outputs": [
    {
     "data": {
      "text/html": [
       "<div>\n",
       "<style scoped>\n",
       "    .dataframe tbody tr th:only-of-type {\n",
       "        vertical-align: middle;\n",
       "    }\n",
       "\n",
       "    .dataframe tbody tr th {\n",
       "        vertical-align: top;\n",
       "    }\n",
       "\n",
       "    .dataframe thead th {\n",
       "        text-align: right;\n",
       "    }\n",
       "</style>\n",
       "<table border=\"1\" class=\"dataframe\">\n",
       "  <thead>\n",
       "    <tr style=\"text-align: right;\">\n",
       "      <th></th>\n",
       "      <th>class</th>\n",
       "      <th>cty</th>\n",
       "      <th>hwy</th>\n",
       "    </tr>\n",
       "  </thead>\n",
       "  <tbody>\n",
       "    <tr>\n",
       "      <th>63</th>\n",
       "      <td>suv</td>\n",
       "      <td>-50.0</td>\n",
       "      <td>15.0</td>\n",
       "    </tr>\n",
       "    <tr>\n",
       "      <th>106</th>\n",
       "      <td>subcompact</td>\n",
       "      <td>999.0</td>\n",
       "      <td>36.0</td>\n",
       "    </tr>\n",
       "    <tr>\n",
       "      <th>156</th>\n",
       "      <td>midsize</td>\n",
       "      <td>999.0</td>\n",
       "      <td>27.0</td>\n",
       "    </tr>\n",
       "    <tr>\n",
       "      <th>230</th>\n",
       "      <td>midsize</td>\n",
       "      <td>999.0</td>\n",
       "      <td>29.0</td>\n",
       "    </tr>\n",
       "  </tbody>\n",
       "</table>\n",
       "</div>"
      ],
      "text/plain": [
       "          class    cty   hwy\n",
       "63          suv  -50.0  15.0\n",
       "106  subcompact  999.0  36.0\n",
       "156     midsize  999.0  27.0\n",
       "230     midsize  999.0  29.0"
      ]
     },
     "execution_count": 25,
     "metadata": {},
     "output_type": "execute_result"
    }
   ],
   "source": [
    "df_abnormality = df_class[(df_class['cty']<lowerfence) | (df_class['cty']>upperfence)]\n",
    "df_abnormality"
   ]
  },
  {
   "cell_type": "code",
   "execution_count": 27,
   "id": "1fb8fe4f-305e-4602-a3e7-065e174e7fd4",
   "metadata": {},
   "outputs": [
    {
     "data": {
      "text/html": [
       "<div>\n",
       "<style scoped>\n",
       "    .dataframe tbody tr th:only-of-type {\n",
       "        vertical-align: middle;\n",
       "    }\n",
       "\n",
       "    .dataframe tbody tr th {\n",
       "        vertical-align: top;\n",
       "    }\n",
       "\n",
       "    .dataframe thead th {\n",
       "        text-align: right;\n",
       "    }\n",
       "</style>\n",
       "<table border=\"1\" class=\"dataframe\">\n",
       "  <thead>\n",
       "    <tr style=\"text-align: right;\">\n",
       "      <th></th>\n",
       "      <th>class</th>\n",
       "      <th>cty</th>\n",
       "      <th>hwy</th>\n",
       "    </tr>\n",
       "  </thead>\n",
       "  <tbody>\n",
       "    <tr>\n",
       "      <th>63</th>\n",
       "      <td>suv</td>\n",
       "      <td>-50.0</td>\n",
       "      <td>15.0</td>\n",
       "    </tr>\n",
       "    <tr>\n",
       "      <th>106</th>\n",
       "      <td>subcompact</td>\n",
       "      <td>999.0</td>\n",
       "      <td>36.0</td>\n",
       "    </tr>\n",
       "    <tr>\n",
       "      <th>156</th>\n",
       "      <td>midsize</td>\n",
       "      <td>999.0</td>\n",
       "      <td>27.0</td>\n",
       "    </tr>\n",
       "    <tr>\n",
       "      <th>230</th>\n",
       "      <td>midsize</td>\n",
       "      <td>999.0</td>\n",
       "      <td>29.0</td>\n",
       "    </tr>\n",
       "  </tbody>\n",
       "</table>\n",
       "</div>"
      ],
      "text/plain": [
       "          class    cty   hwy\n",
       "63          suv  -50.0  15.0\n",
       "106  subcompact  999.0  36.0\n",
       "156     midsize  999.0  27.0\n",
       "230     midsize  999.0  29.0"
      ]
     },
     "execution_count": 27,
     "metadata": {},
     "output_type": "execute_result"
    }
   ],
   "source": [
    "# 두 데이터프레임을 concat으로 합친다\n",
    "\n",
    "df_abnormality = pd.concat([df_lower, df_upper])\n",
    "df_abnormality\n"
   ]
  },
  {
   "cell_type": "code",
   "execution_count": 30,
   "id": "f5d0b60c-8147-4eb8-b770-61a80bbb4f96",
   "metadata": {},
   "outputs": [
    {
     "name": "stdout",
     "output_type": "stream",
     "text": [
      "63\n",
      "class     suv\n",
      "cty     -50.0\n",
      "hwy      15.0\n",
      "Name: 63, dtype: object\n",
      "==========================\n",
      "106\n",
      "class    subcompact\n",
      "cty           999.0\n",
      "hwy            36.0\n",
      "Name: 106, dtype: object\n",
      "==========================\n",
      "156\n",
      "class    midsize\n",
      "cty        999.0\n",
      "hwy         27.0\n",
      "Name: 156, dtype: object\n",
      "==========================\n",
      "230\n",
      "class    midsize\n",
      "cty        999.0\n",
      "hwy         29.0\n",
      "Name: 230, dtype: object\n",
      "==========================\n"
     ]
    }
   ],
   "source": [
    "# intterrows() 함수는 index와 row 정보를 전달한다.\n",
    "# 인덱스와 각 행의 전달\n",
    "\n",
    "for idx, row in df_abnormality.iterrows():\n",
    "    print(idx)\n",
    "    print(row)\n",
    "    print('==========================')"
   ]
  },
  {
   "cell_type": "code",
   "execution_count": null,
   "id": "ce25be3e-5205-42e8-bb29-ac3e90de8a6f",
   "metadata": {},
   "outputs": [],
   "source": []
  }
 ],
 "metadata": {
  "kernelspec": {
   "display_name": "Python 3",
   "language": "python",
   "name": "python3"
  },
  "language_info": {
   "codemirror_mode": {
    "name": "ipython",
    "version": 3
   },
   "file_extension": ".py",
   "mimetype": "text/x-python",
   "name": "python",
   "nbconvert_exporter": "python",
   "pygments_lexer": "ipython3",
   "version": "3.9.5"
  }
 },
 "nbformat": 4,
 "nbformat_minor": 5
}
