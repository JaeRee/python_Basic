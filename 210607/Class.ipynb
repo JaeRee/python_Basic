{
 "cells": [
  {
   "cell_type": "code",
   "execution_count": 3,
   "id": "335f7c65-a42b-49f4-83e9-fb763db37c6d",
   "metadata": {},
   "outputs": [],
   "source": [
    "class FourCal:\n",
    "    pass"
   ]
  },
  {
   "cell_type": "code",
   "execution_count": 5,
   "id": "ebb213a9-5383-46bc-bac6-a6fb4511a9b2",
   "metadata": {},
   "outputs": [
    {
     "data": {
      "text/plain": [
       "__main__.FourCal"
      ]
     },
     "execution_count": 5,
     "metadata": {},
     "output_type": "execute_result"
    }
   ],
   "source": [
    "a = FourCal()\n",
    "type(a)"
   ]
  },
  {
   "cell_type": "code",
   "execution_count": null,
   "id": "69523354-2f6c-4ca3-8789-795650e476dc",
   "metadata": {},
   "outputs": [],
   "source": []
  },
  {
   "cell_type": "code",
   "execution_count": 6,
   "id": "fa1468af-1093-4dfe-a062-0788fca0fdbf",
   "metadata": {},
   "outputs": [],
   "source": [
    "class  FourCal:\n",
    "    def setdata(self, first, second):\n",
    "        self.first = first\n",
    "        self.second = second"
   ]
  },
  {
   "cell_type": "code",
   "execution_count": 11,
   "id": "f4d12942-885c-4592-acf4-6eb75b85f424",
   "metadata": {},
   "outputs": [],
   "source": [
    "a = FourCal()\n",
    "a.setdata(3,5)\n",
    "\n",
    "# a 라는 객체 생성, FourCal()의 인스턴스 a 생성\n",
    "# self = a , first = 3, second = 5  가 들어가게 된다."
   ]
  },
  {
   "cell_type": "code",
   "execution_count": 12,
   "id": "a06b0cae-3c9c-4a4d-bf79-3406528c8d1f",
   "metadata": {},
   "outputs": [
    {
     "name": "stdout",
     "output_type": "stream",
     "text": [
      "3\n",
      "5\n"
     ]
    }
   ],
   "source": [
    "print(a.first)\n",
    "print(a.second)"
   ]
  },
  {
   "cell_type": "code",
   "execution_count": null,
   "id": "99f1591b-9b75-4200-848c-4897178ddba7",
   "metadata": {},
   "outputs": [],
   "source": [
    "\n"
   ]
  },
  {
   "cell_type": "code",
   "execution_count": 17,
   "id": "37e9bd12-8aa3-45ff-a4f1-6eedd1b4dfeb",
   "metadata": {},
   "outputs": [
    {
     "name": "stdout",
     "output_type": "stream",
     "text": [
      "8\n",
      "5\n"
     ]
    }
   ],
   "source": [
    "# +- 클래스 만들기\n",
    "\n",
    "class Calcul:\n",
    "    def add(self, a,b):\n",
    "        self.a = a\n",
    "        self.b = b\n",
    "        return a+b\n",
    "    def cha(self,a,b):\n",
    "        self.a = a\n",
    "        self.b = b\n",
    "        return a-b\n",
    "\n",
    "test = Calcul()\n",
    "print(test.add(3,5))\n",
    "print(test.cha(9,4))"
   ]
  },
  {
   "cell_type": "code",
   "execution_count": null,
   "id": "b4ca2bd7-8ccd-4657-8634-3cec96566f62",
   "metadata": {},
   "outputs": [],
   "source": []
  },
  {
   "cell_type": "code",
   "execution_count": 18,
   "id": "0d50c7d2-eb13-444a-8446-c12dadedac27",
   "metadata": {},
   "outputs": [],
   "source": [
    "# init 이라는 생성자\n",
    "\n",
    "class FourCal:\n",
    "    def __init__(self, first, second):\n",
    "        self.first = first\n",
    "        self.second = second\n",
    "    def setdata(self, first, second):\n",
    "        self.first = first\n",
    "        self.second = second\n",
    "    def add(self):\n",
    "        result = self.first + self.second\n",
    "        return result\n",
    "    def mul(self):\n",
    "        result = self.first * self.second\n",
    "        return result\n",
    "    def sub(self):\n",
    "        result = self.first - self.second\n",
    "        return result\n",
    "    def div(self):\n",
    "        result = self.first / self.second\n",
    "        return result"
   ]
  },
  {
   "cell_type": "code",
   "execution_count": 22,
   "id": "2c659d68-7341-4ccd-b22f-e1fdefba527c",
   "metadata": {},
   "outputs": [
    {
     "name": "stdout",
     "output_type": "stream",
     "text": [
      "4\n",
      "2\n"
     ]
    }
   ],
   "source": [
    "a = FourCal(4,2)\n",
    "\n",
    "print(a.first)\n",
    "print(a.second)"
   ]
  },
  {
   "cell_type": "code",
   "execution_count": 23,
   "id": "98a0175e-ed0a-4e49-9d27-2d21466a266e",
   "metadata": {},
   "outputs": [
    {
     "data": {
      "text/plain": [
       "6"
      ]
     },
     "execution_count": 23,
     "metadata": {},
     "output_type": "execute_result"
    }
   ],
   "source": [
    "a.add()"
   ]
  },
  {
   "cell_type": "code",
   "execution_count": 24,
   "id": "b8b483b4-0542-47f5-8cd2-c24b768a7fbc",
   "metadata": {},
   "outputs": [
    {
     "data": {
      "text/plain": [
       "8"
      ]
     },
     "execution_count": 24,
     "metadata": {},
     "output_type": "execute_result"
    }
   ],
   "source": [
    "a.mul()"
   ]
  },
  {
   "cell_type": "code",
   "execution_count": null,
   "id": "8684b38f-6fff-4578-a925-2510daeb3b4d",
   "metadata": {},
   "outputs": [],
   "source": []
  },
  {
   "cell_type": "code",
   "execution_count": 31,
   "id": "5f42fa76-c095-49b8-bd33-08d16aec5f0b",
   "metadata": {},
   "outputs": [],
   "source": [
    "# FourCal 을 상속받는 클래스 만들기\n",
    "\n",
    "class MoreFourCal(FourCal):\n",
    "    pass"
   ]
  },
  {
   "cell_type": "code",
   "execution_count": 32,
   "id": "1ef8a2ab-d3fd-4492-bd1a-f5e585475f0b",
   "metadata": {},
   "outputs": [
    {
     "data": {
      "text/plain": [
       "6"
      ]
     },
     "execution_count": 32,
     "metadata": {},
     "output_type": "execute_result"
    }
   ],
   "source": [
    "a = MoreFourCal(4,2)\n",
    "a.add()"
   ]
  },
  {
   "cell_type": "code",
   "execution_count": null,
   "id": "7b3c1de4-ec8b-4144-b131-c7a25bf2e5bc",
   "metadata": {},
   "outputs": [],
   "source": []
  },
  {
   "cell_type": "code",
   "execution_count": 38,
   "id": "41fc3fb9-81fb-410c-80ec-a938d4e43486",
   "metadata": {},
   "outputs": [],
   "source": [
    "class MoreFourCal(FourCal):\n",
    "    def pow(self):\n",
    "        result = self.first ** self.second\n",
    "        return result"
   ]
  },
  {
   "cell_type": "code",
   "execution_count": 43,
   "id": "0f2ba877-b0cb-4fad-8311-e6269a4e96de",
   "metadata": {},
   "outputs": [
    {
     "data": {
      "text/plain": [
       "16"
      ]
     },
     "execution_count": 43,
     "metadata": {},
     "output_type": "execute_result"
    }
   ],
   "source": [
    "double = MoreFourCal(2,4)\n",
    "double.pow()"
   ]
  },
  {
   "cell_type": "code",
   "execution_count": null,
   "id": "de124ffc-a28d-431c-b4a2-a1cb484b2889",
   "metadata": {},
   "outputs": [],
   "source": []
  },
  {
   "cell_type": "code",
   "execution_count": 44,
   "id": "536ee669-3785-4e50-b51c-0fe92ed7a58f",
   "metadata": {},
   "outputs": [],
   "source": [
    "# Class Variable\n",
    "\n",
    "class Family:\n",
    "    lastname = \"김\""
   ]
  },
  {
   "cell_type": "code",
   "execution_count": 45,
   "id": "59ebaf73-e29b-4cfd-a0a4-16a69f0464c2",
   "metadata": {},
   "outputs": [
    {
     "name": "stdout",
     "output_type": "stream",
     "text": [
      "김\n"
     ]
    }
   ],
   "source": [
    "print(Family.lastname)"
   ]
  },
  {
   "cell_type": "code",
   "execution_count": 47,
   "id": "62eb08be-a9ee-47f4-96f3-974e8d64c302",
   "metadata": {},
   "outputs": [
    {
     "name": "stdout",
     "output_type": "stream",
     "text": [
      "김\n",
      "김\n"
     ]
    }
   ],
   "source": [
    "a = Family()\n",
    "b = Family()\n",
    "\n",
    "print(a.lastname)\n",
    "print(b.lastname)"
   ]
  },
  {
   "cell_type": "code",
   "execution_count": 50,
   "id": "a45f9eb6-6945-4618-878c-34f041214d0c",
   "metadata": {},
   "outputs": [
    {
     "name": "stdout",
     "output_type": "stream",
     "text": [
      "2458799154880\n",
      "2458799154880\n",
      "2458799154880\n"
     ]
    }
   ],
   "source": [
    "# 클래스 변수가 공유됨...\n",
    "\n",
    "print(id(Family.lastname))\n",
    "print(id(a.lastname))\n",
    "print(id(b.lastname))\n",
    "\n",
    "\n",
    "# 같은 메모리 주소를 가르키고 있다."
   ]
  },
  {
   "cell_type": "code",
   "execution_count": null,
   "id": "fe369050-cd6e-4546-95c4-d421a204f375",
   "metadata": {},
   "outputs": [],
   "source": []
  }
 ],
 "metadata": {
  "kernelspec": {
   "display_name": "Python 3",
   "language": "python",
   "name": "python3"
  },
  "language_info": {
   "codemirror_mode": {
    "name": "ipython",
    "version": 3
   },
   "file_extension": ".py",
   "mimetype": "text/x-python",
   "name": "python",
   "nbconvert_exporter": "python",
   "pygments_lexer": "ipython3",
   "version": "3.9.5"
  }
 },
 "nbformat": 4,
 "nbformat_minor": 5
}
