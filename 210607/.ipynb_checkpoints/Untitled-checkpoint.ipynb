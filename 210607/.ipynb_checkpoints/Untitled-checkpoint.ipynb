{
 "cells": [
  {
   "cell_type": "code",
   "execution_count": 1,
   "id": "f3d3c58c-67ec-4e0e-a57e-e730c0c56904",
   "metadata": {},
   "outputs": [],
   "source": [
    "# 함수 이용하기!\n",
    "\n",
    "def add(a,b):\n",
    "    result = a+b\n",
    "    return result"
   ]
  },
  {
   "cell_type": "code",
   "execution_count": 6,
   "id": "edae3713-b61e-41c6-acdf-4ed163f7aaf1",
   "metadata": {},
   "outputs": [
    {
     "data": {
      "text/plain": [
       "20"
      ]
     },
     "execution_count": 6,
     "metadata": {},
     "output_type": "execute_result"
    }
   ],
   "source": [
    "add(10,10)"
   ]
  },
  {
   "cell_type": "code",
   "execution_count": null,
   "id": "e8c07f46-9430-48ef-8176-a88a45df4ebd",
   "metadata": {},
   "outputs": [],
   "source": []
  },
  {
   "cell_type": "code",
   "execution_count": 11,
   "id": "1f48f000-0262-47ec-a34e-d4dd88c4239b",
   "metadata": {},
   "outputs": [],
   "source": [
    "def say():\n",
    "    print('hi')"
   ]
  },
  {
   "cell_type": "code",
   "execution_count": 12,
   "id": "a6e1c6f1-f997-4c5f-8005-039ce3a535c0",
   "metadata": {},
   "outputs": [
    {
     "name": "stdout",
     "output_type": "stream",
     "text": [
      "hi\n"
     ]
    }
   ],
   "source": [
    "say()"
   ]
  },
  {
   "cell_type": "code",
   "execution_count": null,
   "id": "ce5f2a0d-41a7-4eae-b9e1-ad172a79eaf3",
   "metadata": {},
   "outputs": [],
   "source": []
  },
  {
   "cell_type": "code",
   "execution_count": 17,
   "id": "15b974b8-7d50-4af9-b87e-db2d59112d07",
   "metadata": {},
   "outputs": [],
   "source": [
    "# 많은 매개변수를 받아 사용할 때\n",
    "\n",
    "def add_many(*args):\n",
    "    result=0\n",
    "    for i in args:\n",
    "        result = result +i\n",
    "    return result\n"
   ]
  },
  {
   "cell_type": "code",
   "execution_count": 18,
   "id": "56dfbe83-a431-48a4-a6b7-f1971e2ae379",
   "metadata": {},
   "outputs": [
    {
     "data": {
      "text/plain": [
       "45"
      ]
     },
     "execution_count": 18,
     "metadata": {},
     "output_type": "execute_result"
    }
   ],
   "source": [
    "add_many(1,2,3,4,5,6,7,8,9,)"
   ]
  },
  {
   "cell_type": "code",
   "execution_count": 34,
   "id": "64936ddd-e082-4e40-a528-42ffcd69ad92",
   "metadata": {},
   "outputs": [],
   "source": [
    "def mult(choice, *args):\n",
    "   \n",
    "    if choice == \"add\":\n",
    "        result=0\n",
    "        for i in args:\n",
    "            result = result+i\n",
    "        return result\n",
    "    \n",
    "    elif choice == \"mul\":\n",
    "        result=1\n",
    "        for i in args:\n",
    "            result = result*i\n",
    "        return result\n",
    "    \n",
    "    else:\n",
    "        print(\"값이 잘못 되었습니다.\")"
   ]
  },
  {
   "cell_type": "code",
   "execution_count": 35,
   "id": "09da5022-ffef-4f8f-914e-520d57cbc7d8",
   "metadata": {},
   "outputs": [
    {
     "data": {
      "text/plain": [
       "1000"
      ]
     },
     "execution_count": 35,
     "metadata": {},
     "output_type": "execute_result"
    }
   ],
   "source": [
    "mult(\"mul\", 10,10,10)"
   ]
  },
  {
   "cell_type": "code",
   "execution_count": null,
   "id": "ab4608b6-5631-4ecc-9bd5-4ffec04188f9",
   "metadata": {},
   "outputs": [],
   "source": []
  },
  {
   "cell_type": "code",
   "execution_count": 142,
   "id": "44c4552e-0849-4094-b2ae-bc1fc8234e58",
   "metadata": {},
   "outputs": [
    {
     "data": {
      "text/plain": [
       "'\\ndef print_kwargs(**kwargs):\\n    print(kwargs)\\n'"
      ]
     },
     "execution_count": 142,
     "metadata": {},
     "output_type": "execute_result"
    }
   ],
   "source": [
    "# ** 키워드변수 .. 딕셔너리로 만듬\n",
    "'''\n",
    "def print_kwargs(**kwargs):\n",
    "    print(kwargs)\n",
    "'''"
   ]
  },
  {
   "cell_type": "code",
   "execution_count": 134,
   "id": "9acbacff-06c3-4195-b93d-f741a5fa4885",
   "metadata": {},
   "outputs": [],
   "source": [
    "def add_and_mul(a,b):\n",
    "    return a+b, a*b"
   ]
  },
  {
   "cell_type": "code",
   "execution_count": 135,
   "id": "16385d6e-8749-428c-9326-246f09918256",
   "metadata": {},
   "outputs": [
    {
     "data": {
      "text/plain": [
       "(20, 100)"
      ]
     },
     "execution_count": 135,
     "metadata": {},
     "output_type": "execute_result"
    }
   ],
   "source": [
    "add_and_mul(10,10)"
   ]
  },
  {
   "cell_type": "code",
   "execution_count": 65,
   "id": "97f6b302-f407-4c3c-a243-666cd25c99a2",
   "metadata": {},
   "outputs": [
    {
     "data": {
      "text/plain": [
       "(20, 100)"
      ]
     },
     "execution_count": 65,
     "metadata": {},
     "output_type": "execute_result"
    }
   ],
   "source": [
    "result = add_and_mul(10,10)\n",
    "result"
   ]
  },
  {
   "cell_type": "code",
   "execution_count": null,
   "id": "54f0d7e2-d791-4ed6-8c05-c0d7c0fd6431",
   "metadata": {},
   "outputs": [],
   "source": []
  },
  {
   "cell_type": "code",
   "execution_count": null,
   "id": "997b7d66-4181-4b63-8549-263650e76787",
   "metadata": {},
   "outputs": [],
   "source": [
    "## 여기 문제있어서 버리고 새로 만듬 ㅡㅡ"
   ]
  }
 ],
 "metadata": {
  "kernelspec": {
   "display_name": "Python 3",
   "language": "python",
   "name": "python3"
  },
  "language_info": {
   "codemirror_mode": {
    "name": "ipython",
    "version": 3
   },
   "file_extension": ".py",
   "mimetype": "text/x-python",
   "name": "python",
   "nbconvert_exporter": "python",
   "pygments_lexer": "ipython3",
   "version": "3.9.5"
  }
 },
 "nbformat": 4,
 "nbformat_minor": 5
}
