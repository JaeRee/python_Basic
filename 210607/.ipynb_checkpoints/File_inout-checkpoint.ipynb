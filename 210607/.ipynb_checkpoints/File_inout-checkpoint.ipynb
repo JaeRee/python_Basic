{
 "cells": [
  {
   "cell_type": "code",
   "execution_count": 2,
   "id": "d1f0d60c-f584-4bd2-a384-545810a291d6",
   "metadata": {},
   "outputs": [],
   "source": [
    "def say(nick):\n",
    "    if nick ==\"바보\":\n",
    "        return\n",
    "    else:\n",
    "        print(\"%s 님 안녕하세요.\" %nick)"
   ]
  },
  {
   "cell_type": "code",
   "execution_count": 3,
   "id": "efeb5436-6107-48d9-b684-6427f24e4204",
   "metadata": {},
   "outputs": [
    {
     "name": "stdout",
     "output_type": "stream",
     "text": [
      "재형 님 안녕하세요.\n"
     ]
    }
   ],
   "source": [
    "say('재형')"
   ]
  },
  {
   "cell_type": "code",
   "execution_count": null,
   "id": "4fc40388-9126-4d80-9753-a15fa46a43e0",
   "metadata": {},
   "outputs": [],
   "source": []
  }
 ],
 "metadata": {
  "kernelspec": {
   "display_name": "Python 3",
   "language": "python",
   "name": "python3"
  },
  "language_info": {
   "codemirror_mode": {
    "name": "ipython",
    "version": 3
   },
   "file_extension": ".py",
   "mimetype": "text/x-python",
   "name": "python",
   "nbconvert_exporter": "python",
   "pygments_lexer": "ipython3",
   "version": "3.9.5"
  }
 },
 "nbformat": 4,
 "nbformat_minor": 5
}
