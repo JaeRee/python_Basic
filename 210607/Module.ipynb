{
 "cells": [
  {
   "cell_type": "code",
   "execution_count": 1,
   "id": "f925959b-b4ab-40e5-a87b-e91e0e30fe80",
   "metadata": {},
   "outputs": [],
   "source": [
    "# 모듈이란, 힘수나 변수 또는 클래스를 모아놓은 파일 이다."
   ]
  },
  {
   "cell_type": "code",
   "execution_count": 2,
   "id": "36061092-8275-4467-97b1-f29909242d54",
   "metadata": {},
   "outputs": [],
   "source": [
    "# mod1.py\n",
    "\n",
    "def add(a,b):\n",
    "    return a+b\n",
    "\n",
    "def sum(a,b):\n",
    "    return a-b"
   ]
  }
 ],
 "metadata": {
  "kernelspec": {
   "display_name": "Python 3",
   "language": "python",
   "name": "python3"
  },
  "language_info": {
   "codemirror_mode": {
    "name": "ipython",
    "version": 3
   },
   "file_extension": ".py",
   "mimetype": "text/x-python",
   "name": "python",
   "nbconvert_exporter": "python",
   "pygments_lexer": "ipython3",
   "version": "3.9.5"
  }
 },
 "nbformat": 4,
 "nbformat_minor": 5
}
