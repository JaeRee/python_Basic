{
 "cells": [
  {
   "cell_type": "code",
   "execution_count": 1,
   "id": "c995d6ec-7882-4c9d-ad9c-87a12c88524e",
   "metadata": {
    "slideshow": {
     "slide_type": "subslide"
    },
    "tags": []
   },
   "outputs": [
    {
     "data": {
      "text/plain": [
       "'pythonjavaRSAS'"
      ]
     },
     "execution_count": 1,
     "metadata": {},
     "output_type": "execute_result"
    }
   ],
   "source": [
    "temp2=['python','java','R','SAS']\n",
    "''.join(temp2)"
   ]
  },
  {
   "cell_type": "code",
   "execution_count": 2,
   "id": "bbf4335a-a936-4b26-badf-58130f873965",
   "metadata": {
    "slideshow": {
     "slide_type": "skip"
    },
    "tags": []
   },
   "outputs": [
    {
     "data": {
      "text/plain": [
       "'python java R SAS'"
      ]
     },
     "execution_count": 2,
     "metadata": {},
     "output_type": "execute_result"
    }
   ],
   "source": [
    "temp2=['python','java','R','SAS']\n",
    "' '.join(temp2)"
   ]
  },
  {
   "cell_type": "code",
   "execution_count": 13,
   "id": "c9142e3f-7a48-498e-a269-6b62ed5e7b59",
   "metadata": {
    "slideshow": {
     "slide_type": "notes"
    },
    "tags": []
   },
   "outputs": [
    {
     "name": "stdout",
     "output_type": "stream",
     "text": [
      "<class 'list'>\n",
      "apple\n",
      "peer\n",
      "cherry\n"
     ]
    }
   ],
   "source": [
    "fruit = ['apple','peer','cherry']\n",
    "print(type(fruit)) \n",
    "for i in fruit:\n",
    "    print(i)"
   ]
  },
  {
   "cell_type": "code",
   "execution_count": 4,
   "id": "d7e51302-fe75-41d6-8e6d-de0a04356824",
   "metadata": {},
   "outputs": [],
   "source": [
    "high_price=[]\n",
    "low_price=[]\n",
    "fruit_price = {'apple':3500, 'peer':2500, 'cherry': 5000}\n",
    "for values in fruit_price.values():\n",
    "    if values>3000:\n",
    "        high_price.append(values)\n",
    "    else:\n",
    "        low_price.append(values)"
   ]
  },
  {
   "cell_type": "code",
   "execution_count": 5,
   "id": "9c45cd40-af9c-4bf7-b99a-a47b3b6cedb4",
   "metadata": {},
   "outputs": [
    {
     "name": "stdout",
     "output_type": "stream",
     "text": [
      "[3500, 5000]\n",
      "[2500]\n"
     ]
    }
   ],
   "source": [
    "print(high_price)\n",
    "print(low_price)"
   ]
  },
  {
   "cell_type": "code",
   "execution_count": null,
   "id": "d0edc2e6-2fd3-4420-8f05-4f0f75d6bb7e",
   "metadata": {},
   "outputs": [],
   "source": [
    "## 파일 저장, 쓰기"
   ]
  },
  {
   "cell_type": "code",
   "execution_count": 6,
   "id": "e481ec7b-1250-455e-b53d-e7d8b1139a3f",
   "metadata": {},
   "outputs": [],
   "source": [
    "f = open(\"새파일.txt\",'w')\n",
    "f.close()"
   ]
  },
  {
   "cell_type": "code",
   "execution_count": 10,
   "id": "a6cdf7be-e1e9-44b2-a7bd-38417a12d99d",
   "metadata": {},
   "outputs": [],
   "source": [
    "f = open(\"새파일.txt\",'w')\n",
    "for i in range(1,11):\n",
    "    data = \"%d번째 줄입니다.\\n\" %i\n",
    "    f.write(data)\n",
    "f.close()"
   ]
  },
  {
   "cell_type": "code",
   "execution_count": null,
   "id": "2a1aafc8-acec-42d1-8651-eecb9887087b",
   "metadata": {},
   "outputs": [],
   "source": []
  },
  {
   "cell_type": "code",
   "execution_count": null,
   "id": "c724f1c6-fa9d-4833-adc3-f79bf929c025",
   "metadata": {},
   "outputs": [],
   "source": []
  }
 ],
 "metadata": {
  "kernelspec": {
   "display_name": "Python 3",
   "language": "python",
   "name": "python3"
  },
  "language_info": {
   "codemirror_mode": {
    "name": "ipython",
    "version": 3
   },
   "file_extension": ".py",
   "mimetype": "text/x-python",
   "name": "python",
   "nbconvert_exporter": "python",
   "pygments_lexer": "ipython3",
   "version": "3.9.5"
  }
 },
 "nbformat": 4,
 "nbformat_minor": 5
}
