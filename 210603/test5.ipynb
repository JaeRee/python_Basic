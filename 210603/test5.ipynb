{
 "cells": [
  {
   "cell_type": "code",
   "execution_count": 2,
   "id": "c874a22a-3b43-46ea-a212-e904d2429baa",
   "metadata": {},
   "outputs": [
    {
     "name": "stdin",
     "output_type": "stream",
     "text": [
      "돈을 넣어주세요:  1000\n"
     ]
    },
    {
     "name": "stdout",
     "output_type": "stream",
     "text": [
      "거스름돈 700를 주고 커피를 줍니다.\n"
     ]
    },
    {
     "name": "stdin",
     "output_type": "stream",
     "text": [
      "돈을 넣어주세요:  1500\n"
     ]
    },
    {
     "name": "stdout",
     "output_type": "stream",
     "text": [
      "거스름돈 1200를 주고 커피를 줍니다.\n"
     ]
    },
    {
     "name": "stdin",
     "output_type": "stream",
     "text": [
      "돈을 넣어주세요:  300\n"
     ]
    },
    {
     "name": "stdout",
     "output_type": "stream",
     "text": [
      "커피를 줍니다\n"
     ]
    },
    {
     "name": "stdin",
     "output_type": "stream",
     "text": [
      "돈을 넣어주세요:  300\n"
     ]
    },
    {
     "name": "stdout",
     "output_type": "stream",
     "text": [
      "커피를 줍니다\n"
     ]
    },
    {
     "name": "stdin",
     "output_type": "stream",
     "text": [
      "돈을 넣어주세요:  200\n"
     ]
    },
    {
     "name": "stdout",
     "output_type": "stream",
     "text": [
      "돈을 돌려주고 커피안줌\n",
      "남은 커피는 6 입니다 언능 사쇼\n"
     ]
    },
    {
     "name": "stdin",
     "output_type": "stream",
     "text": [
      "돈을 넣어주세요:  5500\n"
     ]
    },
    {
     "name": "stdout",
     "output_type": "stream",
     "text": [
      "거스름돈 5200를 주고 커피를 줍니다.\n"
     ]
    },
    {
     "name": "stdin",
     "output_type": "stream",
     "text": [
      "돈을 넣어주세요:  500\n"
     ]
    },
    {
     "name": "stdout",
     "output_type": "stream",
     "text": [
      "거스름돈 200를 주고 커피를 줍니다.\n"
     ]
    },
    {
     "name": "stdin",
     "output_type": "stream",
     "text": [
      "돈을 넣어주세요:  500\n"
     ]
    },
    {
     "name": "stdout",
     "output_type": "stream",
     "text": [
      "거스름돈 200를 주고 커피를 줍니다.\n"
     ]
    },
    {
     "name": "stdin",
     "output_type": "stream",
     "text": [
      "돈을 넣어주세요:  500\n"
     ]
    },
    {
     "name": "stdout",
     "output_type": "stream",
     "text": [
      "거스름돈 200를 주고 커피를 줍니다.\n"
     ]
    },
    {
     "name": "stdin",
     "output_type": "stream",
     "text": [
      "돈을 넣어주세요:  100\n"
     ]
    },
    {
     "name": "stdout",
     "output_type": "stream",
     "text": [
      "돈을 돌려주고 커피안줌\n",
      "남은 커피는 2 입니다 언능 사쇼\n"
     ]
    },
    {
     "name": "stdin",
     "output_type": "stream",
     "text": [
      "돈을 넣어주세요:  100\n"
     ]
    },
    {
     "name": "stdout",
     "output_type": "stream",
     "text": [
      "돈을 돌려주고 커피안줌\n",
      "남은 커피는 2 입니다 언능 사쇼\n"
     ]
    },
    {
     "name": "stdin",
     "output_type": "stream",
     "text": [
      "돈을 넣어주세요:  500\n"
     ]
    },
    {
     "name": "stdout",
     "output_type": "stream",
     "text": [
      "거스름돈 200를 주고 커피를 줍니다.\n"
     ]
    },
    {
     "name": "stdin",
     "output_type": "stream",
     "text": [
      "돈을 넣어주세요:  100\n"
     ]
    },
    {
     "name": "stdout",
     "output_type": "stream",
     "text": [
      "돈을 돌려주고 커피안줌\n",
      "남은 커피는 1 입니다 언능 사쇼\n"
     ]
    },
    {
     "name": "stdin",
     "output_type": "stream",
     "text": [
      "돈을 넣어주세요:  500\n"
     ]
    },
    {
     "name": "stdout",
     "output_type": "stream",
     "text": [
      "거스름돈 200를 주고 커피를 줍니다.\n",
      "커피가 다 떨어져떠\n"
     ]
    }
   ],
   "source": [
    "# coffee.py\n",
    "\n",
    "coffee = 10\n",
    "\n",
    "while True:\n",
    "    money = int(input(\"돈을 넣어주세요: \"))\n",
    "    \n",
    "    if money==300:\n",
    "        print(\"커피를 줍니다\")\n",
    "        coffee=coffee-1\n",
    "    elif money>300:\n",
    "        print(\"거스름돈 %d를 주고 커피를 줍니다.\" %(money-300))\n",
    "        coffee=coffee-1\n",
    "    else:\n",
    "        print(\"돈을 돌려주고 커피안줌\")\n",
    "        print(\"남은 커피는 %d 입니다 언능 사쇼\" %coffee)\n",
    "    if not coffee:\n",
    "        print(\"커피가 다 떨어져떠\")\n",
    "        break"
   ]
  },
  {
   "cell_type": "code",
   "execution_count": 3,
   "id": "4da1d9a0-9a60-46f7-bcf6-64391de9e3ae",
   "metadata": {},
   "outputs": [
    {
     "name": "stdout",
     "output_type": "stream",
     "text": [
      "one\n",
      "two\n",
      "three\n"
     ]
    }
   ],
   "source": [
    "test_list = ['one','two','three']\n",
    "for i in test_list:\n",
    "    print(i)"
   ]
  },
  {
   "cell_type": "code",
   "execution_count": 11,
   "id": "8151de7a-fb1c-4d03-9606-dda8c61802f6",
   "metadata": {},
   "outputs": [
    {
     "name": "stdout",
     "output_type": "stream",
     "text": [
      "합격입니다.\n",
      "합격입니다.\n",
      "불합격입니다.\n",
      "불합격입니다.\n",
      "합격입니다.\n"
     ]
    }
   ],
   "source": [
    "stu = [80, 60,55,44,72]\n",
    "\n",
    "for i in stu:\n",
    "    if i>=60:\n",
    "        print(\"합격입니다.\")\n",
    "    else:\n",
    "        print(\"불합격입니다.\")"
   ]
  },
  {
   "cell_type": "code",
   "execution_count": 13,
   "id": "c6afb8d8-1e7d-4315-9ae7-21178bd966d1",
   "metadata": {},
   "outputs": [],
   "source": [
    "a=range(1,11)"
   ]
  },
  {
   "cell_type": "code",
   "execution_count": 14,
   "id": "4048ae82-f8bf-44fa-983f-dece7e0adf0b",
   "metadata": {},
   "outputs": [
    {
     "name": "stdout",
     "output_type": "stream",
     "text": [
      "range(1, 11)\n"
     ]
    }
   ],
   "source": [
    "print(a)"
   ]
  },
  {
   "cell_type": "code",
   "execution_count": 15,
   "id": "669cdd93-02f7-47e8-9293-a5cc66b532a8",
   "metadata": {},
   "outputs": [
    {
     "name": "stdout",
     "output_type": "stream",
     "text": [
      "1\n",
      "2\n",
      "3\n",
      "4\n",
      "5\n",
      "6\n",
      "7\n",
      "8\n",
      "9\n",
      "10\n"
     ]
    }
   ],
   "source": [
    "for i in a:\n",
    "    print(i)"
   ]
  },
  {
   "cell_type": "code",
   "execution_count": 20,
   "id": "93220429-510a-452c-b68d-991d03b2d1bf",
   "metadata": {},
   "outputs": [
    {
     "name": "stdout",
     "output_type": "stream",
     "text": [
      "55\n"
     ]
    }
   ],
   "source": [
    "b=range(1,11)\n",
    "sum=0\n",
    "\n",
    "for i in b:\n",
    "    sum += i\n",
    "    \n",
    "print(sum)"
   ]
  },
  {
   "cell_type": "code",
   "execution_count": null,
   "id": "5211c9d3-673b-4b0c-8daf-a630d978b156",
   "metadata": {},
   "outputs": [],
   "source": []
  }
 ],
 "metadata": {
  "kernelspec": {
   "display_name": "Python 3",
   "language": "python",
   "name": "python3"
  },
  "language_info": {
   "codemirror_mode": {
    "name": "ipython",
    "version": 3
   },
   "file_extension": ".py",
   "mimetype": "text/x-python",
   "name": "python",
   "nbconvert_exporter": "python",
   "pygments_lexer": "ipython3",
   "version": "3.9.5"
  }
 },
 "nbformat": 4,
 "nbformat_minor": 5
}
