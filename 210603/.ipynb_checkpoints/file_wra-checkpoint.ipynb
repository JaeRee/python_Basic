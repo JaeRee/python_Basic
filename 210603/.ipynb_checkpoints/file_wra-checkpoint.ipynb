{
 "cells": [
  {
   "cell_type": "code",
   "execution_count": 2,
   "id": "72dfff4e-27e3-4bd0-90c5-8ff761583636",
   "metadata": {},
   "outputs": [],
   "source": [
    "## 파일 저장, 쓰기\n",
    "f = open(\"새파일.txt\",'w')  \n",
    "f.close()\n",
    "\n",
    "## 파일을 부를떄 w 로 부르면 초기화가 된다..."
   ]
  },
  {
   "cell_type": "code",
   "execution_count": 3,
   "id": "c3ca0471-22dd-4f67-95f3-1f8a1c0ec427",
   "metadata": {},
   "outputs": [],
   "source": [
    "## 파일 불러와서 쓰기\n",
    "f = open(\"새파일.txt\",'w')\n",
    "for i in range(1,11):\n",
    "    data = \"%d번째 줄입니다.\\n\" %i\n",
    "    f.write(data)\n",
    "f.close()"
   ]
  },
  {
   "cell_type": "code",
   "execution_count": 5,
   "id": "2b1c6456-35fe-4950-9e34-3aa9efb83502",
   "metadata": {},
   "outputs": [
    {
     "name": "stdout",
     "output_type": "stream",
     "text": [
      "1번째 줄입니다.\n",
      "\n",
      "2번째 줄입니다.\n",
      "\n",
      "3번째 줄입니다.\n",
      "\n",
      "4번째 줄입니다.\n",
      "\n",
      "5번째 줄입니다.\n",
      "\n",
      "6번째 줄입니다.\n",
      "\n",
      "7번째 줄입니다.\n",
      "\n",
      "8번째 줄입니다.\n",
      "\n",
      "9번째 줄입니다.\n",
      "\n",
      "10번째 줄입니다.\n",
      "\n"
     ]
    }
   ],
   "source": [
    "## 파일 읽기 readline()\n",
    "f = open(\"새파일.txt\",'r')\n",
    "while True:\n",
    "    line = f.readline()\n",
    "    if not line: break\n",
    "    print(line)\n",
    "f.close()"
   ]
  },
  {
   "cell_type": "code",
   "execution_count": null,
   "id": "0f07e050-d27c-42a7-a573-5a0db7dec204",
   "metadata": {},
   "outputs": [],
   "source": []
  }
 ],
 "metadata": {
  "kernelspec": {
   "display_name": "Python 3",
   "language": "python",
   "name": "python3"
  },
  "language_info": {
   "codemirror_mode": {
    "name": "ipython",
    "version": 3
   },
   "file_extension": ".py",
   "mimetype": "text/x-python",
   "name": "python",
   "nbconvert_exporter": "python",
   "pygments_lexer": "ipython3",
   "version": "3.9.5"
  }
 },
 "nbformat": 4,
 "nbformat_minor": 5
}
