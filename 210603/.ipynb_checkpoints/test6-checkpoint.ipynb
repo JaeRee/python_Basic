{
 "cells": [
  {
   "cell_type": "code",
   "execution_count": 1,
   "id": "c995d6ec-7882-4c9d-ad9c-87a12c88524e",
   "metadata": {
    "slideshow": {
     "slide_type": "subslide"
    },
    "tags": []
   },
   "outputs": [
    {
     "data": {
      "text/plain": [
       "'pythonjavaRSAS'"
      ]
     },
     "execution_count": 1,
     "metadata": {},
     "output_type": "execute_result"
    }
   ],
   "source": [
    "temp2=['python','java','R','SAS']\n",
    "''.join(temp2)"
   ]
  },
  {
   "cell_type": "code",
   "execution_count": 2,
   "id": "bbf4335a-a936-4b26-badf-58130f873965",
   "metadata": {
    "slideshow": {
     "slide_type": "skip"
    },
    "tags": []
   },
   "outputs": [
    {
     "data": {
      "text/plain": [
       "'python java R SAS'"
      ]
     },
     "execution_count": 2,
     "metadata": {},
     "output_type": "execute_result"
    }
   ],
   "source": [
    "temp2=['python','java','R','SAS']\n",
    "' '.join(temp2)"
   ]
  },
  {
   "cell_type": "code",
   "execution_count": 13,
   "id": "c9142e3f-7a48-498e-a269-6b62ed5e7b59",
   "metadata": {
    "slideshow": {
     "slide_type": "notes"
    },
    "tags": []
   },
   "outputs": [
    {
     "name": "stdout",
     "output_type": "stream",
     "text": [
      "<class 'list'>\n",
      "apple\n",
      "peer\n",
      "cherry\n"
     ]
    }
   ],
   "source": [
    "fruit = ['apple','peer','cherry']\n",
    "print(type(fruit)) \n",
    "for i in fruit:\n",
    "    print(i)"
   ]
  },
  {
   "cell_type": "code",
   "execution_count": 21,
   "id": "d7e51302-fe75-41d6-8e6d-de0a04356824",
   "metadata": {},
   "outputs": [],
   "source": [
    "high_price=[]\n",
    "low_price=[]\n",
    "fruit_price = {'apple':3500, 'peer':2500, 'cherry': 5000}\n",
    "for values in fruit_price.values():\n",
    "    if values>3000:\n",
    "        high_price.append(values)\n",
    "    else:\n",
    "        low_price.append(values)"
   ]
  },
  {
   "cell_type": "code",
   "execution_count": 24,
   "id": "9c45cd40-af9c-4bf7-b99a-a47b3b6cedb4",
   "metadata": {},
   "outputs": [
    {
     "name": "stdout",
     "output_type": "stream",
     "text": [
      "[3500, 5000]\n",
      "[2500]\n"
     ]
    }
   ],
   "source": [
    "print(high_price)\n",
    "print(low_price)"
   ]
  },
  {
   "cell_type": "code",
   "execution_count": 25,
   "id": "5ffde7ef-6514-4a23-8cfc-9d7f37cd70e1",
   "metadata": {},
   "outputs": [
    {
     "ename": "TypeError",
     "evalue": "'tuple' object is not callable",
     "output_type": "error",
     "traceback": [
      "\u001b[1;31m---------------------------------------------------------------------------\u001b[0m",
      "\u001b[1;31mTypeError\u001b[0m                                 Traceback (most recent call last)",
      "\u001b[1;32m<ipython-input-25-54ca25393f73>\u001b[0m in \u001b[0;36m<module>\u001b[1;34m\u001b[0m\n\u001b[0;32m      4\u001b[0m \u001b[1;32mfor\u001b[0m \u001b[0mitem\u001b[0m \u001b[1;32min\u001b[0m \u001b[0mfruit_price\u001b[0m\u001b[1;33m.\u001b[0m\u001b[0mitems\u001b[0m\u001b[1;33m(\u001b[0m\u001b[1;33m)\u001b[0m\u001b[1;33m:\u001b[0m\u001b[1;33m\u001b[0m\u001b[1;33m\u001b[0m\u001b[0m\n\u001b[0;32m      5\u001b[0m     \u001b[1;32mif\u001b[0m \u001b[0mitem\u001b[0m\u001b[1;33m[\u001b[0m\u001b[1;36m1\u001b[0m\u001b[1;33m]\u001b[0m\u001b[1;33m>\u001b[0m\u001b[1;36m3000\u001b[0m\u001b[1;33m:\u001b[0m\u001b[1;33m\u001b[0m\u001b[1;33m\u001b[0m\u001b[0m\n\u001b[1;32m----> 6\u001b[1;33m         \u001b[0mhigh_price\u001b[0m\u001b[1;33m.\u001b[0m\u001b[0mappend\u001b[0m\u001b[1;33m(\u001b[0m\u001b[0mitem\u001b[0m\u001b[1;33m(\u001b[0m\u001b[1;36m0\u001b[0m\u001b[1;33m)\u001b[0m\u001b[1;33m)\u001b[0m\u001b[1;33m\u001b[0m\u001b[1;33m\u001b[0m\u001b[0m\n\u001b[0m\u001b[0;32m      7\u001b[0m     \u001b[1;32melse\u001b[0m\u001b[1;33m:\u001b[0m\u001b[1;33m\u001b[0m\u001b[1;33m\u001b[0m\u001b[0m\n\u001b[0;32m      8\u001b[0m         \u001b[0mlow_price\u001b[0m\u001b[1;33m.\u001b[0m\u001b[0mappend\u001b[0m\u001b[1;33m(\u001b[0m\u001b[0mitem\u001b[0m\u001b[1;33m(\u001b[0m\u001b[1;36m0\u001b[0m\u001b[1;33m)\u001b[0m\u001b[1;33m)\u001b[0m\u001b[1;33m\u001b[0m\u001b[1;33m\u001b[0m\u001b[0m\n",
      "\u001b[1;31mTypeError\u001b[0m: 'tuple' object is not callable"
     ]
    }
   ],
   "source": [
    "high_price=[]\n",
    "low_price=[]\n",
    "fruit_price = {'apple':3500, 'peer':2500, 'cherry': 5000}\n",
    "for item in fruit_price.items():\n",
    "    if item[1]>3000:\n",
    "        high_price.append(item(0))\n",
    "    else:\n",
    "        low_price.append(item(0))"
   ]
  },
  {
   "cell_type": "code",
   "execution_count": 27,
   "id": "ad94e1d2-83fc-4703-a24c-2a1ea1329494",
   "metadata": {},
   "outputs": [
    {
     "name": "stdout",
     "output_type": "stream",
     "text": [
      "['apple', 'cherry']\n",
      "['peer']\n"
     ]
    }
   ],
   "source": [
    "high_price=[]\n",
    "low_price=[]\n",
    "fruit_price ={'apple' : 3500, 'peer' : 2500, 'cherry' : 5000}\n",
    "for item in fruit_price.items():\n",
    "    if item[1] >3000 :\n",
    "        high_price.append(item[0])\n",
    "    else :\n",
    "        low_price.append(item[0])\n",
    "print(high_price)\n",
    "print(low_price) "
   ]
  },
  {
   "cell_type": "code",
   "execution_count": null,
   "id": "4610147a-2123-4e89-999f-1da2751a52ea",
   "metadata": {},
   "outputs": [],
   "source": []
  }
 ],
 "metadata": {
  "kernelspec": {
   "display_name": "Python 3",
   "language": "python",
   "name": "python3"
  },
  "language_info": {
   "codemirror_mode": {
    "name": "ipython",
    "version": 3
   },
   "file_extension": ".py",
   "mimetype": "text/x-python",
   "name": "python",
   "nbconvert_exporter": "python",
   "pygments_lexer": "ipython3",
   "version": "3.9.5"
  }
 },
 "nbformat": 4,
 "nbformat_minor": 5
}
