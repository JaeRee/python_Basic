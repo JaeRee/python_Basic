{
 "cells": [
  {
   "cell_type": "code",
   "execution_count": 1,
   "id": "aaacf829-8a8b-4401-9e86-297b4f1795ad",
   "metadata": {},
   "outputs": [],
   "source": [
    "a=[1,2,3]\n",
    "b=a"
   ]
  },
  {
   "cell_type": "code",
   "execution_count": 2,
   "id": "a2eca419-180c-46a5-a4fe-7739ebc34f96",
   "metadata": {},
   "outputs": [
    {
     "data": {
      "text/plain": [
       "[1, 4, 3]"
      ]
     },
     "execution_count": 2,
     "metadata": {},
     "output_type": "execute_result"
    }
   ],
   "source": [
    "a[1]=4\n",
    "a"
   ]
  },
  {
   "cell_type": "code",
   "execution_count": 3,
   "id": "7705c943-4fce-4a71-8447-035a1d62ed33",
   "metadata": {},
   "outputs": [
    {
     "data": {
      "text/plain": [
       "[1, 4, 3]"
      ]
     },
     "execution_count": 3,
     "metadata": {},
     "output_type": "execute_result"
    }
   ],
   "source": [
    "b"
   ]
  },
  {
   "cell_type": "code",
   "execution_count": 4,
   "id": "e9b7fc9b-2e87-4894-91ba-2a278305e4ce",
   "metadata": {},
   "outputs": [],
   "source": [
    "a[1]=2"
   ]
  },
  {
   "cell_type": "code",
   "execution_count": 5,
   "id": "348bd4d5-76b5-4b63-90f7-2e3129bb9298",
   "metadata": {},
   "outputs": [
    {
     "data": {
      "text/plain": [
       "[1, 2, 3]"
      ]
     },
     "execution_count": 5,
     "metadata": {},
     "output_type": "execute_result"
    }
   ],
   "source": [
    "a"
   ]
  },
  {
   "cell_type": "code",
   "execution_count": 6,
   "id": "6e509b6c-cad6-4f70-af03-98a0b20fdc1d",
   "metadata": {},
   "outputs": [
    {
     "data": {
      "text/plain": [
       "[1, 2, 3]"
      ]
     },
     "execution_count": 6,
     "metadata": {},
     "output_type": "execute_result"
    }
   ],
   "source": [
    "b"
   ]
  },
  {
   "cell_type": "code",
   "execution_count": 7,
   "id": "d08acec5-bfb2-469b-88e2-be664632f374",
   "metadata": {},
   "outputs": [],
   "source": [
    "b=a[:]"
   ]
  },
  {
   "cell_type": "code",
   "execution_count": 8,
   "id": "5f4bddc6-c5cd-44f9-90fd-24a977b2825a",
   "metadata": {},
   "outputs": [
    {
     "data": {
      "text/plain": [
       "[1, 2, 3]"
      ]
     },
     "execution_count": 8,
     "metadata": {},
     "output_type": "execute_result"
    }
   ],
   "source": [
    "b"
   ]
  },
  {
   "cell_type": "code",
   "execution_count": 9,
   "id": "6891344c-57db-4839-a0bc-3e855a83004b",
   "metadata": {},
   "outputs": [],
   "source": [
    "a[1]=4"
   ]
  },
  {
   "cell_type": "code",
   "execution_count": 10,
   "id": "8b6ff759-f8bd-42f7-a527-f17c8f473459",
   "metadata": {},
   "outputs": [
    {
     "data": {
      "text/plain": [
       "[1, 4, 3]"
      ]
     },
     "execution_count": 10,
     "metadata": {},
     "output_type": "execute_result"
    }
   ],
   "source": [
    "a"
   ]
  },
  {
   "cell_type": "code",
   "execution_count": 11,
   "id": "da04e976-d8ff-4d33-9e4e-111c2395ac74",
   "metadata": {},
   "outputs": [
    {
     "data": {
      "text/plain": [
       "[1, 2, 3]"
      ]
     },
     "execution_count": 11,
     "metadata": {},
     "output_type": "execute_result"
    }
   ],
   "source": [
    "b"
   ]
  },
  {
   "cell_type": "code",
   "execution_count": 95,
   "id": "dcd22a55-cf0d-47db-aa1c-8e6d0926cd4b",
   "metadata": {},
   "outputs": [],
   "source": [
    "from copy import copy\n",
    "b=copy(a)"
   ]
  },
  {
   "cell_type": "code",
   "execution_count": 19,
   "id": "8c159dbb-232b-4f6a-bdb8-c6b01807498d",
   "metadata": {},
   "outputs": [],
   "source": [
    "b[1]=2"
   ]
  },
  {
   "cell_type": "code",
   "execution_count": 20,
   "id": "3e4f438d-54f5-4080-8ecc-1612b09e7c7c",
   "metadata": {},
   "outputs": [
    {
     "data": {
      "text/plain": [
       "False"
      ]
     },
     "execution_count": 20,
     "metadata": {},
     "output_type": "execute_result"
    }
   ],
   "source": [
    "b is a"
   ]
  },
  {
   "cell_type": "code",
   "execution_count": 21,
   "id": "43f0a869-2128-42d2-bdc7-0136f6f04ed4",
   "metadata": {},
   "outputs": [
    {
     "data": {
      "text/plain": [
       "False"
      ]
     },
     "execution_count": 21,
     "metadata": {},
     "output_type": "execute_result"
    }
   ],
   "source": [
    "a is b"
   ]
  },
  {
   "cell_type": "code",
   "execution_count": 22,
   "id": "c9002cd1-dfdd-4de3-bfc0-d6514f2079c3",
   "metadata": {},
   "outputs": [
    {
     "data": {
      "text/plain": [
       "[1, 4, 3]"
      ]
     },
     "execution_count": 22,
     "metadata": {},
     "output_type": "execute_result"
    }
   ],
   "source": [
    "a"
   ]
  },
  {
   "cell_type": "code",
   "execution_count": 23,
   "id": "148f7e48-461c-4775-a3ed-ee5400ac0743",
   "metadata": {},
   "outputs": [
    {
     "data": {
      "text/plain": [
       "[1, 2, 3]"
      ]
     },
     "execution_count": 23,
     "metadata": {},
     "output_type": "execute_result"
    }
   ],
   "source": [
    "b"
   ]
  },
  {
   "cell_type": "code",
   "execution_count": 35,
   "id": "18ed1689-b469-4f3b-86c0-918e97645f5f",
   "metadata": {},
   "outputs": [
    {
     "name": "stdout",
     "output_type": "stream",
     "text": [
      "920528\n",
      "1163371\n"
     ]
    }
   ],
   "source": [
    "pin = '920528-1163371'\n",
    "yyyymmmdd=pin[0:6]\n",
    "num=pin[7:]\n",
    "print(yyyymmmdd)\n",
    "print(num)"
   ]
  },
  {
   "cell_type": "code",
   "execution_count": 36,
   "id": "bddce85f-a9a7-4c22-8e33-c50928b535b0",
   "metadata": {},
   "outputs": [
    {
     "name": "stdout",
     "output_type": "stream",
     "text": [
      "1\n"
     ]
    }
   ],
   "source": [
    "print(pin[7])"
   ]
  },
  {
   "cell_type": "code",
   "execution_count": 39,
   "id": "036157bf-376a-4101-9b4d-7194897b2e50",
   "metadata": {},
   "outputs": [
    {
     "data": {
      "text/plain": [
       "[1, 2, 3, 4, 5]"
      ]
     },
     "execution_count": 39,
     "metadata": {},
     "output_type": "execute_result"
    }
   ],
   "source": [
    "a=[1,3,5,4,2]\n",
    "a.sort()\n",
    "a"
   ]
  },
  {
   "cell_type": "code",
   "execution_count": 44,
   "id": "644a77c7-bbe1-487b-94a5-7a7361db3535",
   "metadata": {},
   "outputs": [
    {
     "data": {
      "text/plain": [
       "[5, 4, 3, 2, 1]"
      ]
     },
     "execution_count": 44,
     "metadata": {},
     "output_type": "execute_result"
    }
   ],
   "source": [
    "a.reverse()\n",
    "a"
   ]
  },
  {
   "cell_type": "code",
   "execution_count": 64,
   "id": "7449d272-d735-4c26-b8b3-0f44886682d0",
   "metadata": {},
   "outputs": [
    {
     "data": {
      "text/plain": [
       "'life is too short'"
      ]
     },
     "execution_count": 64,
     "metadata": {},
     "output_type": "execute_result"
    }
   ],
   "source": [
    "a=['life','is','too','short']\n",
    "result='life'+\" \"+'is'+\" \"+'too'+\" \"+'short'\n",
    "result"
   ]
  },
  {
   "cell_type": "code",
   "execution_count": 69,
   "id": "c07cf8bf-9ce4-492b-814c-b60a2eb06175",
   "metadata": {},
   "outputs": [
    {
     "name": "stdout",
     "output_type": "stream",
     "text": [
      "1908702663104\n",
      "1908703422400\n"
     ]
    },
    {
     "data": {
      "text/plain": [
       "(1, 2, 3, 4)"
      ]
     },
     "execution_count": 69,
     "metadata": {},
     "output_type": "execute_result"
    }
   ],
   "source": [
    "a=(1,2,3)\n",
    "print(id(a))\n",
    "a= a+(4,)\n",
    "print(id(a))\n",
    "a"
   ]
  },
  {
   "cell_type": "code",
   "execution_count": 78,
   "id": "ef241b91-44bb-424d-b918-a8c7976398c2",
   "metadata": {},
   "outputs": [
    {
     "name": "stdout",
     "output_type": "stream",
     "text": [
      "{'A': 90, 'C': 70}\n",
      "80\n"
     ]
    }
   ],
   "source": [
    "a = {'A':90, 'B':80, 'C':70}\n",
    "result = a.pop('B')\n",
    "print(a)\n",
    "print(result)"
   ]
  },
  {
   "cell_type": "code",
   "execution_count": 100,
   "id": "ca0f7de9-570c-47ef-a8bd-16ad1a8bafd2",
   "metadata": {},
   "outputs": [
    {
     "name": "stdout",
     "output_type": "stream",
     "text": [
      "{1, 2, 3, 4, 5}\n"
     ]
    },
    {
     "data": {
      "text/plain": [
       "[1, 2, 3, 4, 5]"
      ]
     },
     "execution_count": 100,
     "metadata": {},
     "output_type": "execute_result"
    }
   ],
   "source": [
    "a = [1,1,1,3,2,2,2,3,4,5,3,5,5]\n",
    "aSet = set(a)                     # list -> set을 이용하여 집합으로 변한\n",
    "print(aSet)     \n",
    "b = list(aSet)\n",
    "b"
   ]
  },
  {
   "cell_type": "code",
   "execution_count": 102,
   "id": "ab95e271-2952-41d8-accf-68cd474cb1ce",
   "metadata": {},
   "outputs": [
    {
     "name": "stdout",
     "output_type": "stream",
     "text": [
      "[1, 4, 3]\n",
      "[1, 2, 3]\n"
     ]
    }
   ],
   "source": [
    "a = [1,2,3]\n",
    "b = a[:]\n",
    "a[1]=4\n",
    "print(a)\n",
    "print(b)"
   ]
  },
  {
   "cell_type": "code",
   "execution_count": 103,
   "id": "35d5bc5f-b4e4-4fb1-9656-6f0e30f2eaa4",
   "metadata": {},
   "outputs": [
    {
     "name": "stdout",
     "output_type": "stream",
     "text": [
      "[1, 2, 3]\n",
      "[1, 2, 3]\n"
     ]
    }
   ],
   "source": [
    "from copy import copy\n",
    "a = [1,2,3]\n",
    "b = copy(a)\n",
    "print(b)\n",
    "a[1] = 4\n",
    "print(b)"
   ]
  },
  {
   "cell_type": "code",
   "execution_count": 105,
   "id": "bee947e9-4c8f-4e24-afcd-e2b1aab58f6d",
   "metadata": {},
   "outputs": [
    {
     "name": "stdout",
     "output_type": "stream",
     "text": [
      "돈좀 있다\n"
     ]
    }
   ],
   "source": [
    "money=450000000\n",
    "if money>3000:\n",
    "    print(\"돈좀 있다\")\n",
    "else :\n",
    "    print(\"돈이 부족하다\")"
   ]
  },
  {
   "cell_type": "code",
   "execution_count": 106,
   "id": "3ac0ca4d-7705-4672-962e-927d1a40f95a",
   "metadata": {},
   "outputs": [
    {
     "name": "stdout",
     "output_type": "stream",
     "text": [
      "돈좀 있다\n"
     ]
    }
   ],
   "source": [
    "money=450000000\n",
    "card =1000000000000000000000000\n",
    "if (money<3000 or card>1000):\n",
    "    print(\"돈좀 있다\")\n",
    "else :\n",
    "    print(\"돈이 부족하다\")"
   ]
  },
  {
   "cell_type": "code",
   "execution_count": 107,
   "id": "66c541fd-d722-4d2b-b8c4-be9ab70abbc3",
   "metadata": {},
   "outputs": [
    {
     "name": "stdout",
     "output_type": "stream",
     "text": [
      "돈이 있다\n"
     ]
    }
   ],
   "source": [
    "pocket = ['paper', 'cellphone', 'money']\n",
    "\n",
    "if 'money' in pocket:\n",
    "    print(\"돈이 있다\")\n",
    "else :\n",
    "    print(\"돈이없당\")"
   ]
  },
  {
   "cell_type": "code",
   "execution_count": 135,
   "id": "32f5bc08-8191-4608-9b6f-f90e0c139af4",
   "metadata": {},
   "outputs": [],
   "source": [
    "pocket = ['paper', 'cellphone', 'money']\n",
    "\n",
    "if 'money' in pocket:\n",
    "    pass\n",
    "else :\n",
    "    print(\"돈이없당\")"
   ]
  },
  {
   "cell_type": "markdown",
   "id": "c4531f93-fbfa-4bbf-b09d-365bf947adcf",
   "metadata": {},
   "source": [
    "coffee = 10\n",
    "num=0\n",
    "\n",
    "while True:\n",
    "    print(\"커피를 몇잔 드실래여?\")\n",
    "    num=int(input())\n",
    "    if coffee>0:\n",
    "        coffee=coffee-num\n",
    "        print(\"커피가 %d잔 남았습니다\" %coffee)\n",
    "    elif not coffee :\n",
    "        print(\"커피가 다 떨어졌어요\")\n",
    "        print(coffee)\n"
   ]
  },
  {
   "cell_type": "code",
   "execution_count": 140,
   "id": "2a0e4436-49e6-4e0a-a084-7ace6f06ce4f",
   "metadata": {},
   "outputs": [
    {
     "name": "stdout",
     "output_type": "stream",
     "text": [
      "돈을 받았으니 콜라를 줍니다.\n",
      "남은 콜라는 9 입니다\n",
      "돈을 받았으니 콜라를 줍니다.\n",
      "남은 콜라는 8 입니다\n",
      "돈을 받았으니 콜라를 줍니다.\n",
      "남은 콜라는 7 입니다\n",
      "돈을 받았으니 콜라를 줍니다.\n",
      "남은 콜라는 6 입니다\n",
      "돈을 받았으니 콜라를 줍니다.\n",
      "남은 콜라는 5 입니다\n",
      "돈을 받았으니 콜라를 줍니다.\n",
      "남은 콜라는 4 입니다\n",
      "돈을 받았으니 콜라를 줍니다.\n",
      "남은 콜라는 3 입니다\n",
      "돈을 받았으니 콜라를 줍니다.\n",
      "남은 콜라는 2 입니다\n",
      "돈을 받았으니 콜라를 줍니다.\n",
      "남은 콜라는 1 입니다\n",
      "돈을 받았으니 콜라를 줍니다.\n",
      "남은 콜라는 0 입니다\n",
      "콜라다 다떨어졌습니다\n"
     ]
    }
   ],
   "source": [
    "coke=10\n",
    "money=300\n",
    "while money:\n",
    "    print(\"돈을 받았으니 콜라를 줍니다.\")\n",
    "    coke = coke-1\n",
    "    print(\"남은 콜라는 %d 입니다\" % coke)\n",
    "    if not coke:\n",
    "        print(\"콜라다 다떨어졌습니다\")\n",
    "        break"
   ]
  },
  {
   "cell_type": "code",
   "execution_count": null,
   "id": "4cd219ee-fa08-452d-90c6-2e4492e39b23",
   "metadata": {},
   "outputs": [],
   "source": [
    "# 데이터프레임 연산\n",
    "fd1 = {\"Ohio\":[4,8,3,5],\n",
    "      \"Texas\":[0,1,2,3]}\n",
    "df1 = pd.DataFrame(data=fd1,columns=[\"Ohio\",\"Texas\"],index = [\"ap\",\"ba\",\"ch\",\"pe\"])\n",
    "fd2 = {\"Ohio\":[3,0,2,1,7],\"Colorado\":[5,4,3,6,0]}\n",
    "df2 = pd.DataFrame(data=fd2,columns=[\"Ohio\",\"Colorado\"],index = [\"ap\",\"or\",\"ba\",\"ch\",\"ma\"])"
   ]
  },
  {
   "cell_type": "code",
   "execution_count": null,
   "id": "faf9ef38-4e7d-43b8-989b-bdec940cd8aa",
   "metadata": {},
   "outputs": [],
   "source": []
  },
  {
   "cell_type": "code",
   "execution_count": null,
   "id": "2f2a15f2-6220-4ea7-b2ae-628f6a708056",
   "metadata": {},
   "outputs": [],
   "source": []
  },
  {
   "cell_type": "code",
   "execution_count": null,
   "id": "d41e62a2-4733-4aa1-8916-c9970b3b2b51",
   "metadata": {},
   "outputs": [],
   "source": []
  },
  {
   "cell_type": "code",
   "execution_count": null,
   "id": "4a1df8a9-52c4-483e-87ab-6a4a8ca88699",
   "metadata": {},
   "outputs": [],
   "source": []
  },
  {
   "cell_type": "code",
   "execution_count": null,
   "id": "e4623be5-6eea-45df-9808-0c1489e28eb6",
   "metadata": {},
   "outputs": [],
   "source": []
  },
  {
   "cell_type": "code",
   "execution_count": null,
   "id": "1b392cb3-d729-468c-8640-fe0ffacf91fa",
   "metadata": {},
   "outputs": [],
   "source": []
  }
 ],
 "metadata": {
  "kernelspec": {
   "display_name": "Python 3",
   "language": "python",
   "name": "python3"
  },
  "language_info": {
   "codemirror_mode": {
    "name": "ipython",
    "version": 3
   },
   "file_extension": ".py",
   "mimetype": "text/x-python",
   "name": "python",
   "nbconvert_exporter": "python",
   "pygments_lexer": "ipython3",
   "version": "3.9.5"
  }
 },
 "nbformat": 4,
 "nbformat_minor": 5
}
