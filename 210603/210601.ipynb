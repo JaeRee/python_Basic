{
 "cells": [
  {
   "cell_type": "code",
   "execution_count": 21,
   "id": "78de96e4",
   "metadata": {},
   "outputs": [
    {
     "name": "stdout",
     "output_type": "stream",
     "text": [
      "10\n"
     ]
    }
   ],
   "source": [
    "a=7 ; b-3\n",
    "print(a+b)"
   ]
  },
  {
   "cell_type": "code",
   "execution_count": 22,
   "id": "2d206154",
   "metadata": {},
   "outputs": [
    {
     "name": "stdout",
     "output_type": "stream",
     "text": [
      "숫자를 입력:13\n",
      "입력받은 숫자는 0보다 큽니다.\n"
     ]
    }
   ],
   "source": [
    "x = int(input(\"숫자를 입력: \"))\n",
    "if x>0: print(\"입력받은 숫자는 0보다 큽니다.\")\n",
    "else : print(\"입력받은 숫자는 0보다 작다.\")"
   ]
  },
  {
   "cell_type": "code",
   "execution_count": null,
   "id": "a1c5dfde",
   "metadata": {},
   "outputs": [],
   "source": []
  },
  {
   "cell_type": "code",
   "execution_count": null,
   "id": "de21cfc2",
   "metadata": {},
   "outputs": [],
   "source": []
  },
  {
   "cell_type": "code",
   "execution_count": null,
   "id": "e7c18dc5",
   "metadata": {},
   "outputs": [],
   "source": []
  },
  {
   "cell_type": "code",
   "execution_count": 25,
   "id": "e6c870f9",
   "metadata": {},
   "outputs": [
    {
     "name": "stdout",
     "output_type": "stream",
     "text": [
      "파이썬 이지\n"
     ]
    }
   ],
   "source": [
    "temp = str(\"파이썬 이지\")\n",
    "print(temp)"
   ]
  },
  {
   "cell_type": "code",
   "execution_count": 26,
   "id": "583b34a8",
   "metadata": {},
   "outputs": [
    {
     "name": "stdout",
     "output_type": "stream",
     "text": [
      "긴한데 살짝 어렵기도 하다\n"
     ]
    }
   ],
   "source": [
    "temp2 = str(\"하긴한데 살짝 어렵기도 하다\")\n",
    "print(temp2)"
   ]
  },
  {
   "cell_type": "code",
   "execution_count": 27,
   "id": "6c20ab10",
   "metadata": {},
   "outputs": [
    {
     "data": {
      "text/plain": [
       "'파이썬 이지긴한데 살짝 어렵기도 하다'"
      ]
     },
     "execution_count": 27,
     "metadata": {},
     "output_type": "execute_result"
    }
   ],
   "source": [
    "temp+temp2"
   ]
  },
  {
   "cell_type": "code",
   "execution_count": null,
   "id": "a8a46022",
   "metadata": {},
   "outputs": [],
   "source": []
  },
  {
   "cell_type": "code",
   "execution_count": 30,
   "id": "993febd5",
   "metadata": {},
   "outputs": [],
   "source": [
    "a = 8;"
   ]
  },
  {
   "cell_type": "code",
   "execution_count": 31,
   "id": "2edc270e",
   "metadata": {},
   "outputs": [
    {
     "data": {
      "text/plain": [
       "int"
      ]
     },
     "execution_count": 31,
     "metadata": {},
     "output_type": "execute_result"
    }
   ],
   "source": [
    "type(a)"
   ]
  },
  {
   "cell_type": "code",
   "execution_count": 32,
   "id": "ce5fe59d",
   "metadata": {},
   "outputs": [
    {
     "data": {
      "text/plain": [
       "str"
      ]
     },
     "execution_count": 32,
     "metadata": {},
     "output_type": "execute_result"
    }
   ],
   "source": [
    "type(temp)"
   ]
  },
  {
   "cell_type": "code",
   "execution_count": 33,
   "id": "4d147f87",
   "metadata": {},
   "outputs": [
    {
     "name": "stdout",
     "output_type": "stream",
     "text": [
      "Object `가능` not found.\n"
     ]
    }
   ],
   "source": [
    "a = 그럼 변수이렇게 가능?"
   ]
  },
  {
   "cell_type": "code",
   "execution_count": null,
   "id": "14404ec9",
   "metadata": {},
   "outputs": [],
   "source": [
    "a = 그럼 변수이렇게 가능"
   ]
  },
  {
   "cell_type": "code",
   "execution_count": 34,
   "id": "35f33aaf",
   "metadata": {},
   "outputs": [
    {
     "name": "stdout",
     "output_type": "stream",
     "text": [
      "8\n"
     ]
    }
   ],
   "source": [
    "print(a)"
   ]
  },
  {
   "cell_type": "code",
   "execution_count": 35,
   "id": "7957729c",
   "metadata": {},
   "outputs": [],
   "source": [
    "ab = \"이렇게해야겠지?\""
   ]
  },
  {
   "cell_type": "code",
   "execution_count": 36,
   "id": "3baff16c",
   "metadata": {},
   "outputs": [
    {
     "name": "stdout",
     "output_type": "stream",
     "text": [
      "이렇게해야겠지?\n"
     ]
    }
   ],
   "source": [
    "print(ab)"
   ]
  },
  {
   "cell_type": "code",
   "execution_count": 37,
   "id": "d05c3599",
   "metadata": {},
   "outputs": [],
   "source": [
    "abc = \"오랜만에하니까 어렵네 진짜 땀나네 레인지도 해봐야대는데\""
   ]
  },
  {
   "cell_type": "code",
   "execution_count": 38,
   "id": "f30754b7",
   "metadata": {},
   "outputs": [
    {
     "data": {
      "text/plain": [
       "str"
      ]
     },
     "execution_count": 38,
     "metadata": {},
     "output_type": "execute_result"
    }
   ],
   "source": [
    "type(abc)"
   ]
  },
  {
   "cell_type": "code",
   "execution_count": null,
   "id": "98b64148",
   "metadata": {},
   "outputs": [],
   "source": []
  },
  {
   "cell_type": "code",
   "execution_count": null,
   "id": "33f20528",
   "metadata": {},
   "outputs": [],
   "source": []
  },
  {
   "cell_type": "code",
   "execution_count": null,
   "id": "9f98346f",
   "metadata": {},
   "outputs": [],
   "source": []
  },
  {
   "cell_type": "code",
   "execution_count": null,
   "id": "64525f36",
   "metadata": {},
   "outputs": [],
   "source": []
  }
 ],
 "metadata": {
  "kernelspec": {
   "display_name": "Python 3",
   "language": "python",
   "name": "python3"
  },
  "language_info": {
   "codemirror_mode": {
    "name": "ipython",
    "version": 3
   },
   "file_extension": ".py",
   "mimetype": "text/x-python",
   "name": "python",
   "nbconvert_exporter": "python",
   "pygments_lexer": "ipython3",
   "version": "3.8.10"
  }
 },
 "nbformat": 4,
 "nbformat_minor": 5
}
