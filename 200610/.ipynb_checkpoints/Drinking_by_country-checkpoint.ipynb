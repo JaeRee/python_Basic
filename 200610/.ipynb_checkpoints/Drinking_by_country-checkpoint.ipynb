{
 "cells": [
  {
   "cell_type": "code",
   "execution_count": 2,
   "id": "2371100f-17b3-4f93-95a4-90b8eb94622e",
   "metadata": {},
   "outputs": [],
   "source": [
    "%matplotlib inline\n",
    "\n",
    "#matplotlib graph 를 출력하기 위한 코드"
   ]
  },
  {
   "cell_type": "code",
   "execution_count": 4,
   "id": "7e613c52-47bf-4f6e-ab5c-9b5e98a524b4",
   "metadata": {},
   "outputs": [],
   "source": [
    "import pandas as pd\n",
    "import numpy as np\n",
    "import matplotlib.pyplot as plt\n",
    "\n",
    "file_path = '../python-data-analysis-master/data/drinks.csv'\n",
    "drinks = pd.read_csv(file_path)\n",
    "\n",
    "\n",
    "# read_csv 함수로 데이터를 Dataframe 형태로 불러온다"
   ]
  },
  {
   "cell_type": "code",
   "execution_count": 14,
   "id": "7efc680b-a9ff-42b7-bf86-ed8da5a80e02",
   "metadata": {},
   "outputs": [
    {
     "name": "stdout",
     "output_type": "stream",
     "text": [
      "<class 'pandas.core.frame.DataFrame'>\n",
      "RangeIndex: 193 entries, 0 to 192\n",
      "Data columns (total 6 columns):\n",
      " #   Column                        Non-Null Count  Dtype  \n",
      "---  ------                        --------------  -----  \n",
      " 0   country                       193 non-null    object \n",
      " 1   beer_servings                 193 non-null    int64  \n",
      " 2   spirit_servings               193 non-null    int64  \n",
      " 3   wine_servings                 193 non-null    int64  \n",
      " 4   total_litres_of_pure_alcohol  193 non-null    float64\n",
      " 5   continent                     170 non-null    object \n",
      "dtypes: float64(1), int64(3), object(2)\n",
      "memory usage: 9.2+ KB\n",
      "None\n"
     ]
    }
   ],
   "source": [
    "print(drinks.info())"
   ]
  },
  {
   "cell_type": "code",
   "execution_count": 17,
   "id": "37a51cb6-ae0d-44f5-8c19-feece4ec6b04",
   "metadata": {},
   "outputs": [
    {
     "data": {
      "text/html": [
       "<div>\n",
       "<style scoped>\n",
       "    .dataframe tbody tr th:only-of-type {\n",
       "        vertical-align: middle;\n",
       "    }\n",
       "\n",
       "    .dataframe tbody tr th {\n",
       "        vertical-align: top;\n",
       "    }\n",
       "\n",
       "    .dataframe thead th {\n",
       "        text-align: right;\n",
       "    }\n",
       "</style>\n",
       "<table border=\"1\" class=\"dataframe\">\n",
       "  <thead>\n",
       "    <tr style=\"text-align: right;\">\n",
       "      <th></th>\n",
       "      <th>country</th>\n",
       "      <th>beer_servings</th>\n",
       "      <th>spirit_servings</th>\n",
       "      <th>wine_servings</th>\n",
       "      <th>total_litres_of_pure_alcohol</th>\n",
       "      <th>continent</th>\n",
       "    </tr>\n",
       "  </thead>\n",
       "  <tbody>\n",
       "    <tr>\n",
       "      <th>0</th>\n",
       "      <td>Afghanistan</td>\n",
       "      <td>0</td>\n",
       "      <td>0</td>\n",
       "      <td>0</td>\n",
       "      <td>0.0</td>\n",
       "      <td>AS</td>\n",
       "    </tr>\n",
       "    <tr>\n",
       "      <th>1</th>\n",
       "      <td>Albania</td>\n",
       "      <td>89</td>\n",
       "      <td>132</td>\n",
       "      <td>54</td>\n",
       "      <td>4.9</td>\n",
       "      <td>EU</td>\n",
       "    </tr>\n",
       "    <tr>\n",
       "      <th>2</th>\n",
       "      <td>Algeria</td>\n",
       "      <td>25</td>\n",
       "      <td>0</td>\n",
       "      <td>14</td>\n",
       "      <td>0.7</td>\n",
       "      <td>AF</td>\n",
       "    </tr>\n",
       "    <tr>\n",
       "      <th>3</th>\n",
       "      <td>Andorra</td>\n",
       "      <td>245</td>\n",
       "      <td>138</td>\n",
       "      <td>312</td>\n",
       "      <td>12.4</td>\n",
       "      <td>EU</td>\n",
       "    </tr>\n",
       "    <tr>\n",
       "      <th>4</th>\n",
       "      <td>Angola</td>\n",
       "      <td>217</td>\n",
       "      <td>57</td>\n",
       "      <td>45</td>\n",
       "      <td>5.9</td>\n",
       "      <td>AF</td>\n",
       "    </tr>\n",
       "    <tr>\n",
       "      <th>5</th>\n",
       "      <td>Antigua &amp; Barbuda</td>\n",
       "      <td>102</td>\n",
       "      <td>128</td>\n",
       "      <td>45</td>\n",
       "      <td>4.9</td>\n",
       "      <td>NaN</td>\n",
       "    </tr>\n",
       "    <tr>\n",
       "      <th>6</th>\n",
       "      <td>Argentina</td>\n",
       "      <td>193</td>\n",
       "      <td>25</td>\n",
       "      <td>221</td>\n",
       "      <td>8.3</td>\n",
       "      <td>SA</td>\n",
       "    </tr>\n",
       "    <tr>\n",
       "      <th>7</th>\n",
       "      <td>Armenia</td>\n",
       "      <td>21</td>\n",
       "      <td>179</td>\n",
       "      <td>11</td>\n",
       "      <td>3.8</td>\n",
       "      <td>EU</td>\n",
       "    </tr>\n",
       "    <tr>\n",
       "      <th>8</th>\n",
       "      <td>Australia</td>\n",
       "      <td>261</td>\n",
       "      <td>72</td>\n",
       "      <td>212</td>\n",
       "      <td>10.4</td>\n",
       "      <td>OC</td>\n",
       "    </tr>\n",
       "    <tr>\n",
       "      <th>9</th>\n",
       "      <td>Austria</td>\n",
       "      <td>279</td>\n",
       "      <td>75</td>\n",
       "      <td>191</td>\n",
       "      <td>9.7</td>\n",
       "      <td>EU</td>\n",
       "    </tr>\n",
       "  </tbody>\n",
       "</table>\n",
       "</div>"
      ],
      "text/plain": [
       "             country  beer_servings  spirit_servings  wine_servings  \\\n",
       "0        Afghanistan              0                0              0   \n",
       "1            Albania             89              132             54   \n",
       "2            Algeria             25                0             14   \n",
       "3            Andorra            245              138            312   \n",
       "4             Angola            217               57             45   \n",
       "5  Antigua & Barbuda            102              128             45   \n",
       "6          Argentina            193               25            221   \n",
       "7            Armenia             21              179             11   \n",
       "8          Australia            261               72            212   \n",
       "9            Austria            279               75            191   \n",
       "\n",
       "   total_litres_of_pure_alcohol continent  \n",
       "0                           0.0        AS  \n",
       "1                           4.9        EU  \n",
       "2                           0.7        AF  \n",
       "3                          12.4        EU  \n",
       "4                           5.9        AF  \n",
       "5                           4.9       NaN  \n",
       "6                           8.3        SA  \n",
       "7                           3.8        EU  \n",
       "8                          10.4        OC  \n",
       "9                           9.7        EU  "
      ]
     },
     "execution_count": 17,
     "metadata": {},
     "output_type": "execute_result"
    }
   ],
   "source": [
    "drinks.head(10)"
   ]
  },
  {
   "cell_type": "code",
   "execution_count": null,
   "id": "ad396cfb-ab47-4bcf-b1af-bd2161f54f2b",
   "metadata": {},
   "outputs": [],
   "source": [
    "\n",
    "### Correlation 상관 \n",
    "\n"
   ]
  },
  {
   "cell_type": "code",
   "execution_count": 22,
   "id": "6cbd31f6-1e58-473a-983b-0409e1e388ac",
   "metadata": {},
   "outputs": [
    {
     "name": "stdout",
     "output_type": "stream",
     "text": [
      "               beer_servings  wine_servings\n",
      "beer_servings       1.000000       0.527172\n",
      "wine_servings       0.527172       1.000000\n"
     ]
    }
   ],
   "source": [
    "# 'beer_servings', ' wine_servings' 두 피처간의 상관계수를 계산한다.\n",
    "# 두 개를 대상으로만 할때에는 단순 상관분석\n",
    "#  pearson(피어슨) 은 상관계수를 구하는 계산 방법 중 하나를 의미하며, 가장 널리 쓰임\n",
    "\n",
    "corr = drinks[['beer_servings', 'wine_servings']].corr(method = 'pearson')\n",
    "print(corr)"
   ]
  },
  {
   "cell_type": "code",
   "execution_count": 23,
   "id": "91d78f6b-5651-4657-8f7b-466e3ffe01cc",
   "metadata": {},
   "outputs": [],
   "source": [
    "# 1 에 가까울수록 높다...  맥주소비량 vs 맥주소비량은 같은 거니까 당연히 1=1\n",
    "# 맥주와 와인의 상관도는 그렇게 까지는 높지않다 (0.527)\n"
   ]
  },
  {
   "cell_type": "code",
   "execution_count": null,
   "id": "97d12d25-af3e-443c-8c06-d901f64e3d7d",
   "metadata": {},
   "outputs": [],
   "source": [
    "\n"
   ]
  },
  {
   "cell_type": "code",
   "execution_count": 24,
   "id": "a15215b9-fd2e-4f50-8d6d-14e3744860a4",
   "metadata": {},
   "outputs": [],
   "source": [
    "# 다중 상관관계"
   ]
  },
  {
   "cell_type": "code",
   "execution_count": 30,
   "id": "bebd8262-27db-4964-a2b2-114898577454",
   "metadata": {},
   "outputs": [
    {
     "name": "stdout",
     "output_type": "stream",
     "text": [
      "                              beer_servings  spirit_servings  wine_servings  \\\n",
      "beer_servings                      1.000000         0.458819       0.527172   \n",
      "spirit_servings                    0.458819         1.000000       0.194797   \n",
      "wine_servings                      0.527172         0.194797       1.000000   \n",
      "total_litres_of_pure_alcohol       0.835839         0.654968       0.667598   \n",
      "\n",
      "                              total_litres_of_pure_alcohol  \n",
      "beer_servings                                     0.835839  \n",
      "spirit_servings                                   0.654968  \n",
      "wine_servings                                     0.667598  \n",
      "total_litres_of_pure_alcohol                      1.000000  \n"
     ]
    }
   ],
   "source": [
    "cols = ['beer_servings', 'spirit_servings', 'wine_servings', 'total_litres_of_pure_alcohol']\n",
    "corr = drinks[cols].corr(method = 'pearson')\n",
    "print(corr)"
   ]
  },
  {
   "cell_type": "code",
   "execution_count": 31,
   "id": "6efffc3b-47c8-4cb2-8c4c-5e1dcb16c5a1",
   "metadata": {},
   "outputs": [],
   "source": [
    "# total_litres_of_pure_alcohol 모든 종류의 알콜의 합 이므로 모든 컬럼과 상관도가 높음\n"
   ]
  },
  {
   "cell_type": "code",
   "execution_count": 32,
   "id": "10e260e1-4e39-4aa8-a8e2-071e23bf17d1",
   "metadata": {},
   "outputs": [],
   "source": [
    "# 상관관계를 시각화 - seaborn\n",
    "# !pip install seaborn  쓰면 느낌표는 가상cmd 들어가서 안쳐도 주피터에서 보내준다"
   ]
  },
  {
   "cell_type": "code",
   "execution_count": 33,
   "id": "aef9ae86-36f8-4786-89ef-cfcefe990406",
   "metadata": {},
   "outputs": [
    {
     "name": "stdout",
     "output_type": "stream",
     "text": [
      "Collecting seaborn\n",
      "  Downloading seaborn-0.11.1-py3-none-any.whl (285 kB)\n",
      "Requirement already satisfied: numpy>=1.15 in c:\\users\\5-17\\jupylab\\lib\\site-packages (from seaborn) (1.20.3)\n",
      "Requirement already satisfied: pandas>=0.23 in c:\\users\\5-17\\jupylab\\lib\\site-packages (from seaborn) (1.2.4)\n",
      "Requirement already satisfied: matplotlib>=2.2 in c:\\users\\5-17\\jupylab\\lib\\site-packages (from seaborn) (3.4.2)\n",
      "Collecting scipy>=1.0\n",
      "  Downloading scipy-1.6.3-cp39-cp39-win_amd64.whl (32.7 MB)\n",
      "Requirement already satisfied: kiwisolver>=1.0.1 in c:\\users\\5-17\\jupylab\\lib\\site-packages (from matplotlib>=2.2->seaborn) (1.3.1)\n",
      "Requirement already satisfied: pyparsing>=2.2.1 in c:\\users\\5-17\\jupylab\\lib\\site-packages (from matplotlib>=2.2->seaborn) (2.4.7)\n",
      "Requirement already satisfied: cycler>=0.10 in c:\\users\\5-17\\jupylab\\lib\\site-packages (from matplotlib>=2.2->seaborn) (0.10.0)\n",
      "Requirement already satisfied: pillow>=6.2.0 in c:\\users\\5-17\\jupylab\\lib\\site-packages (from matplotlib>=2.2->seaborn) (8.2.0)\n",
      "Requirement already satisfied: python-dateutil>=2.7 in c:\\users\\5-17\\jupylab\\lib\\site-packages (from matplotlib>=2.2->seaborn) (2.8.1)\n",
      "Requirement already satisfied: six in c:\\users\\5-17\\jupylab\\lib\\site-packages (from cycler>=0.10->matplotlib>=2.2->seaborn) (1.16.0)\n",
      "Requirement already satisfied: pytz>=2017.3 in c:\\users\\5-17\\jupylab\\lib\\site-packages (from pandas>=0.23->seaborn) (2021.1)\n",
      "Installing collected packages: scipy, seaborn\n",
      "Successfully installed scipy-1.6.3 seaborn-0.11.1\n"
     ]
    },
    {
     "name": "stderr",
     "output_type": "stream",
     "text": [
      "WARNING: You are using pip version 21.1.1; however, version 21.1.2 is available.\n",
      "You should consider upgrading via the 'c:\\users\\5-17\\jupylab\\scripts\\python.exe -m pip install --upgrade pip' command.\n"
     ]
    }
   ],
   "source": [
    "!pip install seaborn"
   ]
  },
  {
   "cell_type": "code",
   "execution_count": 35,
   "id": "a84146b2-cf76-4eda-8079-6c88cf5a4e04",
   "metadata": {},
   "outputs": [
    {
     "data": {
      "image/png": "[encoded data removed]",
      "text/plain": [
       "<Figure size 432x288 with 2 Axes>"
      ]
     },
     "metadata": {},
     "output_type": "display_data"
    }
   ],
   "source": [
    "import seaborn as sns\n",
    "\n",
    "# corr 행렬 히트맨을 시각화합니다.\n",
    "\n",
    "cols_view = ['beer', 'spirit', 'wine', 'alcohol']  # 그래프 출력을 위한 cols 이름을 축약합니다.\n",
    "sns.set(font_scale=1.5)\n",
    "hm = sns.heatmap(corr.values,\n",
    "                cbar=True,\n",
    "                annot=True,\n",
    "                square=True,\n",
    "                fmt='.2f',\n",
    "                annot_kws={'size': 15},\n",
    "                yticklabels=cols_view,\n",
    "                xticklabels=cols_view)\n",
    "\n",
    "plt.tight_layout()\n",
    "plt.show()\n",
    "\n",
    "# 색이 밝을수록 연관도가 높고, 색이 어두울수록 연관도가 낮다."
   ]
  },
  {
   "cell_type": "code",
   "execution_count": null,
   "id": "9cd60cf0-75d7-4285-9544-44617457822f",
   "metadata": {},
   "outputs": [],
   "source": [
    "\n"
   ]
  },
  {
   "cell_type": "code",
   "execution_count": 38,
   "id": "bb5cb2d9-80af-4409-8ce8-d07db4b20925",
   "metadata": {},
   "outputs": [
    {
     "ename": "SyntaxError",
     "evalue": "cannot assign to function call (<ipython-input-38-0b9869472e51>, line 4)",
     "output_type": "error",
     "traceback": [
      "\u001b[1;36m  File \u001b[1;32m\"<ipython-input-38-0b9869472e51>\"\u001b[1;36m, line \u001b[1;32m4\u001b[0m\n\u001b[1;33m    sns.pairplot(drinks[['beer_servings', 'spirit_servings',\u001b[0m\n\u001b[1;37m    ^\u001b[0m\n\u001b[1;31mSyntaxError\u001b[0m\u001b[1;31m:\u001b[0m cannot assign to function call\n"
     ]
    }
   ],
   "source": [
    "# 시각화 라이브러리를 이용한 피처간의 scatter plot 을 출력합니다.\n",
    "\n",
    "sns.set(style='whitegrid', context = 'notebook')\n",
    "sns.pairplot(drinks[['beer_servings', 'spirit_servings',\n",
    "                    'wine_servings', 'total_litres_of_pure_alcohol']]), height=2.5\n",
    "\n",
    "plt.show()"
   ]
  },
  {
   "cell_type": "code",
   "execution_count": null,
   "id": "54c34fa6-d7fa-4a6f-8a4c-2ef9a9c46cdd",
   "metadata": {},
   "outputs": [],
   "source": []
  }
 ],
 "metadata": {
  "kernelspec": {
   "display_name": "Python 3",
   "language": "python",
   "name": "python3"
  },
  "language_info": {
   "codemirror_mode": {
    "name": "ipython",
    "version": 3
   },
   "file_extension": ".py",
   "mimetype": "text/x-python",
   "name": "python",
   "nbconvert_exporter": "python",
   "pygments_lexer": "ipython3",
   "version": "3.9.5"
  }
 },
 "nbformat": 4,
 "nbformat_minor": 5
}
