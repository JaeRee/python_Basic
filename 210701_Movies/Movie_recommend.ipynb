{
 "cells": [
  {
   "cell_type": "code",
   "execution_count": 1,
   "id": "85b730e5-a80b-45c6-ac98-19536c0f49fa",
   "metadata": {},
   "outputs": [],
   "source": [
    "import pandas as pd\n",
    "\n",
    "path = '../data/Movies/tmdb_5000_movies.csv'\n",
    "\n",
    "\n",
    "\n",
    "df = pd.read_csv(path)\n"
   ]
  },
  {
   "cell_type": "code",
   "execution_count": 2,
   "id": "befe62fc-4082-4fd2-aa6c-af4c8bb8b7b7",
   "metadata": {},
   "outputs": [
    {
     "data": {
      "text/plain": [
       "(4803, 20)"
      ]
     },
     "execution_count": 2,
     "metadata": {},
     "output_type": "execute_result"
    }
   ],
   "source": [
    "df.shape"
   ]
  },
  {
   "cell_type": "code",
   "execution_count": 3,
   "id": "a1bc5edf-8477-40ae-9606-c4e3e224c38e",
   "metadata": {},
   "outputs": [
    {
     "data": {
      "text/html": [
       "<div>\n",
       "<style scoped>\n",
       "    .dataframe tbody tr th:only-of-type {\n",
       "        vertical-align: middle;\n",
       "    }\n",
       "\n",
       "    .dataframe tbody tr th {\n",
       "        vertical-align: top;\n",
       "    }\n",
       "\n",
       "    .dataframe thead th {\n",
       "        text-align: right;\n",
       "    }\n",
       "</style>\n",
       "<table border=\"1\" class=\"dataframe\">\n",
       "  <thead>\n",
       "    <tr style=\"text-align: right;\">\n",
       "      <th></th>\n",
       "      <th>budget</th>\n",
       "      <th>genres</th>\n",
       "      <th>homepage</th>\n",
       "      <th>id</th>\n",
       "      <th>keywords</th>\n",
       "      <th>original_language</th>\n",
       "      <th>original_title</th>\n",
       "      <th>overview</th>\n",
       "      <th>popularity</th>\n",
       "      <th>production_companies</th>\n",
       "      <th>production_countries</th>\n",
       "      <th>release_date</th>\n",
       "      <th>revenue</th>\n",
       "      <th>runtime</th>\n",
       "      <th>spoken_languages</th>\n",
       "      <th>status</th>\n",
       "      <th>tagline</th>\n",
       "      <th>title</th>\n",
       "      <th>vote_average</th>\n",
       "      <th>vote_count</th>\n",
       "    </tr>\n",
       "  </thead>\n",
       "  <tbody>\n",
       "    <tr>\n",
       "      <th>0</th>\n",
       "      <td>237000000</td>\n",
       "      <td>[{\"id\": 28, \"name\": \"Action\"}, {\"id\": 12, \"nam...</td>\n",
       "      <td>http://www.avatarmovie.com/</td>\n",
       "      <td>19995</td>\n",
       "      <td>[{\"id\": 1463, \"name\": \"culture clash\"}, {\"id\":...</td>\n",
       "      <td>en</td>\n",
       "      <td>Avatar</td>\n",
       "      <td>In the 22nd century, a paraplegic Marine is di...</td>\n",
       "      <td>150.437577</td>\n",
       "      <td>[{\"name\": \"Ingenious Film Partners\", \"id\": 289...</td>\n",
       "      <td>[{\"iso_3166_1\": \"US\", \"name\": \"United States o...</td>\n",
       "      <td>2009-12-10</td>\n",
       "      <td>2787965087</td>\n",
       "      <td>162.0</td>\n",
       "      <td>[{\"iso_639_1\": \"en\", \"name\": \"English\"}, {\"iso...</td>\n",
       "      <td>Released</td>\n",
       "      <td>Enter the World of Pandora.</td>\n",
       "      <td>Avatar</td>\n",
       "      <td>7.2</td>\n",
       "      <td>11800</td>\n",
       "    </tr>\n",
       "    <tr>\n",
       "      <th>1</th>\n",
       "      <td>300000000</td>\n",
       "      <td>[{\"id\": 12, \"name\": \"Adventure\"}, {\"id\": 14, \"...</td>\n",
       "      <td>http://disney.go.com/disneypictures/pirates/</td>\n",
       "      <td>285</td>\n",
       "      <td>[{\"id\": 270, \"name\": \"ocean\"}, {\"id\": 726, \"na...</td>\n",
       "      <td>en</td>\n",
       "      <td>Pirates of the Caribbean: At World's End</td>\n",
       "      <td>Captain Barbossa, long believed to be dead, ha...</td>\n",
       "      <td>139.082615</td>\n",
       "      <td>[{\"name\": \"Walt Disney Pictures\", \"id\": 2}, {\"...</td>\n",
       "      <td>[{\"iso_3166_1\": \"US\", \"name\": \"United States o...</td>\n",
       "      <td>2007-05-19</td>\n",
       "      <td>961000000</td>\n",
       "      <td>169.0</td>\n",
       "      <td>[{\"iso_639_1\": \"en\", \"name\": \"English\"}]</td>\n",
       "      <td>Released</td>\n",
       "      <td>At the end of the world, the adventure begins.</td>\n",
       "      <td>Pirates of the Caribbean: At World's End</td>\n",
       "      <td>6.9</td>\n",
       "      <td>4500</td>\n",
       "    </tr>\n",
       "  </tbody>\n",
       "</table>\n",
       "</div>"
      ],
      "text/plain": [
       "      budget                                             genres  \\\n",
       "0  237000000  [{\"id\": 28, \"name\": \"Action\"}, {\"id\": 12, \"nam...   \n",
       "1  300000000  [{\"id\": 12, \"name\": \"Adventure\"}, {\"id\": 14, \"...   \n",
       "\n",
       "                                       homepage     id  \\\n",
       "0                   http://www.avatarmovie.com/  19995   \n",
       "1  http://disney.go.com/disneypictures/pirates/    285   \n",
       "\n",
       "                                            keywords original_language  \\\n",
       "0  [{\"id\": 1463, \"name\": \"culture clash\"}, {\"id\":...                en   \n",
       "1  [{\"id\": 270, \"name\": \"ocean\"}, {\"id\": 726, \"na...                en   \n",
       "\n",
       "                             original_title  \\\n",
       "0                                    Avatar   \n",
       "1  Pirates of the Caribbean: At World's End   \n",
       "\n",
       "                                            overview  popularity  \\\n",
       "0  In the 22nd century, a paraplegic Marine is di...  150.437577   \n",
       "1  Captain Barbossa, long believed to be dead, ha...  139.082615   \n",
       "\n",
       "                                production_companies  \\\n",
       "0  [{\"name\": \"Ingenious Film Partners\", \"id\": 289...   \n",
       "1  [{\"name\": \"Walt Disney Pictures\", \"id\": 2}, {\"...   \n",
       "\n",
       "                                production_countries release_date     revenue  \\\n",
       "0  [{\"iso_3166_1\": \"US\", \"name\": \"United States o...   2009-12-10  2787965087   \n",
       "1  [{\"iso_3166_1\": \"US\", \"name\": \"United States o...   2007-05-19   961000000   \n",
       "\n",
       "   runtime                                   spoken_languages    status  \\\n",
       "0    162.0  [{\"iso_639_1\": \"en\", \"name\": \"English\"}, {\"iso...  Released   \n",
       "1    169.0           [{\"iso_639_1\": \"en\", \"name\": \"English\"}]  Released   \n",
       "\n",
       "                                          tagline  \\\n",
       "0                     Enter the World of Pandora.   \n",
       "1  At the end of the world, the adventure begins.   \n",
       "\n",
       "                                      title  vote_average  vote_count  \n",
       "0                                    Avatar           7.2       11800  \n",
       "1  Pirates of the Caribbean: At World's End           6.9        4500  "
      ]
     },
     "execution_count": 3,
     "metadata": {},
     "output_type": "execute_result"
    }
   ],
   "source": [
    "df.head(2)"
   ]
  },
  {
   "cell_type": "code",
   "execution_count": 4,
   "id": "ac9770b6-8f83-42f8-9fec-f10dc6509bff",
   "metadata": {},
   "outputs": [],
   "source": [
    "df_movies = df[['id', 'title', 'genres', 'vote_average', 'vote_count', 'popularity', 'keywords', 'overview']]"
   ]
  },
  {
   "cell_type": "code",
   "execution_count": 5,
   "id": "429b045b-6723-4bcf-8114-b95a6bece833",
   "metadata": {},
   "outputs": [
    {
     "data": {
      "text/html": [
       "<div>\n",
       "<style scoped>\n",
       "    .dataframe tbody tr th:only-of-type {\n",
       "        vertical-align: middle;\n",
       "    }\n",
       "\n",
       "    .dataframe tbody tr th {\n",
       "        vertical-align: top;\n",
       "    }\n",
       "\n",
       "    .dataframe thead th {\n",
       "        text-align: right;\n",
       "    }\n",
       "</style>\n",
       "<table border=\"1\" class=\"dataframe\">\n",
       "  <thead>\n",
       "    <tr style=\"text-align: right;\">\n",
       "      <th></th>\n",
       "      <th>id</th>\n",
       "      <th>title</th>\n",
       "      <th>genres</th>\n",
       "      <th>vote_average</th>\n",
       "      <th>vote_count</th>\n",
       "      <th>popularity</th>\n",
       "      <th>keywords</th>\n",
       "      <th>overview</th>\n",
       "    </tr>\n",
       "  </thead>\n",
       "  <tbody>\n",
       "    <tr>\n",
       "      <th>0</th>\n",
       "      <td>19995</td>\n",
       "      <td>Avatar</td>\n",
       "      <td>[{\"id\": 28, \"name\": \"Action\"}, {\"id\": 12, \"nam...</td>\n",
       "      <td>7.2</td>\n",
       "      <td>11800</td>\n",
       "      <td>150.437577</td>\n",
       "      <td>[{\"id\": 1463, \"name\": \"culture clash\"}, {\"id\":...</td>\n",
       "      <td>In the 22nd century, a paraplegic Marine is di...</td>\n",
       "    </tr>\n",
       "    <tr>\n",
       "      <th>1</th>\n",
       "      <td>285</td>\n",
       "      <td>Pirates of the Caribbean: At World's End</td>\n",
       "      <td>[{\"id\": 12, \"name\": \"Adventure\"}, {\"id\": 14, \"...</td>\n",
       "      <td>6.9</td>\n",
       "      <td>4500</td>\n",
       "      <td>139.082615</td>\n",
       "      <td>[{\"id\": 270, \"name\": \"ocean\"}, {\"id\": 726, \"na...</td>\n",
       "      <td>Captain Barbossa, long believed to be dead, ha...</td>\n",
       "    </tr>\n",
       "    <tr>\n",
       "      <th>2</th>\n",
       "      <td>206647</td>\n",
       "      <td>Spectre</td>\n",
       "      <td>[{\"id\": 28, \"name\": \"Action\"}, {\"id\": 12, \"nam...</td>\n",
       "      <td>6.3</td>\n",
       "      <td>4466</td>\n",
       "      <td>107.376788</td>\n",
       "      <td>[{\"id\": 470, \"name\": \"spy\"}, {\"id\": 818, \"name...</td>\n",
       "      <td>A cryptic message from Bond’s past sends him o...</td>\n",
       "    </tr>\n",
       "    <tr>\n",
       "      <th>3</th>\n",
       "      <td>49026</td>\n",
       "      <td>The Dark Knight Rises</td>\n",
       "      <td>[{\"id\": 28, \"name\": \"Action\"}, {\"id\": 80, \"nam...</td>\n",
       "      <td>7.6</td>\n",
       "      <td>9106</td>\n",
       "      <td>112.312950</td>\n",
       "      <td>[{\"id\": 849, \"name\": \"dc comics\"}, {\"id\": 853,...</td>\n",
       "      <td>Following the death of District Attorney Harve...</td>\n",
       "    </tr>\n",
       "    <tr>\n",
       "      <th>4</th>\n",
       "      <td>49529</td>\n",
       "      <td>John Carter</td>\n",
       "      <td>[{\"id\": 28, \"name\": \"Action\"}, {\"id\": 12, \"nam...</td>\n",
       "      <td>6.1</td>\n",
       "      <td>2124</td>\n",
       "      <td>43.926995</td>\n",
       "      <td>[{\"id\": 818, \"name\": \"based on novel\"}, {\"id\":...</td>\n",
       "      <td>John Carter is a war-weary, former military ca...</td>\n",
       "    </tr>\n",
       "    <tr>\n",
       "      <th>...</th>\n",
       "      <td>...</td>\n",
       "      <td>...</td>\n",
       "      <td>...</td>\n",
       "      <td>...</td>\n",
       "      <td>...</td>\n",
       "      <td>...</td>\n",
       "      <td>...</td>\n",
       "      <td>...</td>\n",
       "    </tr>\n",
       "    <tr>\n",
       "      <th>4798</th>\n",
       "      <td>9367</td>\n",
       "      <td>El Mariachi</td>\n",
       "      <td>[{\"id\": 28, \"name\": \"Action\"}, {\"id\": 80, \"nam...</td>\n",
       "      <td>6.6</td>\n",
       "      <td>238</td>\n",
       "      <td>14.269792</td>\n",
       "      <td>[{\"id\": 5616, \"name\": \"united states\\u2013mexi...</td>\n",
       "      <td>El Mariachi just wants to play his guitar and ...</td>\n",
       "    </tr>\n",
       "    <tr>\n",
       "      <th>4799</th>\n",
       "      <td>72766</td>\n",
       "      <td>Newlyweds</td>\n",
       "      <td>[{\"id\": 35, \"name\": \"Comedy\"}, {\"id\": 10749, \"...</td>\n",
       "      <td>5.9</td>\n",
       "      <td>5</td>\n",
       "      <td>0.642552</td>\n",
       "      <td>[]</td>\n",
       "      <td>A newlywed couple's honeymoon is upended by th...</td>\n",
       "    </tr>\n",
       "    <tr>\n",
       "      <th>4800</th>\n",
       "      <td>231617</td>\n",
       "      <td>Signed, Sealed, Delivered</td>\n",
       "      <td>[{\"id\": 35, \"name\": \"Comedy\"}, {\"id\": 18, \"nam...</td>\n",
       "      <td>7.0</td>\n",
       "      <td>6</td>\n",
       "      <td>1.444476</td>\n",
       "      <td>[{\"id\": 248, \"name\": \"date\"}, {\"id\": 699, \"nam...</td>\n",
       "      <td>\"Signed, Sealed, Delivered\" introduces a dedic...</td>\n",
       "    </tr>\n",
       "    <tr>\n",
       "      <th>4801</th>\n",
       "      <td>126186</td>\n",
       "      <td>Shanghai Calling</td>\n",
       "      <td>[]</td>\n",
       "      <td>5.7</td>\n",
       "      <td>7</td>\n",
       "      <td>0.857008</td>\n",
       "      <td>[]</td>\n",
       "      <td>When ambitious New York attorney Sam is sent t...</td>\n",
       "    </tr>\n",
       "    <tr>\n",
       "      <th>4802</th>\n",
       "      <td>25975</td>\n",
       "      <td>My Date with Drew</td>\n",
       "      <td>[{\"id\": 99, \"name\": \"Documentary\"}]</td>\n",
       "      <td>6.3</td>\n",
       "      <td>16</td>\n",
       "      <td>1.929883</td>\n",
       "      <td>[{\"id\": 1523, \"name\": \"obsession\"}, {\"id\": 224...</td>\n",
       "      <td>Ever since the second grade when he first saw ...</td>\n",
       "    </tr>\n",
       "  </tbody>\n",
       "</table>\n",
       "<p>4803 rows × 8 columns</p>\n",
       "</div>"
      ],
      "text/plain": [
       "          id                                     title  \\\n",
       "0      19995                                    Avatar   \n",
       "1        285  Pirates of the Caribbean: At World's End   \n",
       "2     206647                                   Spectre   \n",
       "3      49026                     The Dark Knight Rises   \n",
       "4      49529                               John Carter   \n",
       "...      ...                                       ...   \n",
       "4798    9367                               El Mariachi   \n",
       "4799   72766                                 Newlyweds   \n",
       "4800  231617                 Signed, Sealed, Delivered   \n",
       "4801  126186                          Shanghai Calling   \n",
       "4802   25975                         My Date with Drew   \n",
       "\n",
       "                                                 genres  vote_average  \\\n",
       "0     [{\"id\": 28, \"name\": \"Action\"}, {\"id\": 12, \"nam...           7.2   \n",
       "1     [{\"id\": 12, \"name\": \"Adventure\"}, {\"id\": 14, \"...           6.9   \n",
       "2     [{\"id\": 28, \"name\": \"Action\"}, {\"id\": 12, \"nam...           6.3   \n",
       "3     [{\"id\": 28, \"name\": \"Action\"}, {\"id\": 80, \"nam...           7.6   \n",
       "4     [{\"id\": 28, \"name\": \"Action\"}, {\"id\": 12, \"nam...           6.1   \n",
       "...                                                 ...           ...   \n",
       "4798  [{\"id\": 28, \"name\": \"Action\"}, {\"id\": 80, \"nam...           6.6   \n",
       "4799  [{\"id\": 35, \"name\": \"Comedy\"}, {\"id\": 10749, \"...           5.9   \n",
       "4800  [{\"id\": 35, \"name\": \"Comedy\"}, {\"id\": 18, \"nam...           7.0   \n",
       "4801                                                 []           5.7   \n",
       "4802                [{\"id\": 99, \"name\": \"Documentary\"}]           6.3   \n",
       "\n",
       "      vote_count  popularity  \\\n",
       "0          11800  150.437577   \n",
       "1           4500  139.082615   \n",
       "2           4466  107.376788   \n",
       "3           9106  112.312950   \n",
       "4           2124   43.926995   \n",
       "...          ...         ...   \n",
       "4798         238   14.269792   \n",
       "4799           5    0.642552   \n",
       "4800           6    1.444476   \n",
       "4801           7    0.857008   \n",
       "4802          16    1.929883   \n",
       "\n",
       "                                               keywords  \\\n",
       "0     [{\"id\": 1463, \"name\": \"culture clash\"}, {\"id\":...   \n",
       "1     [{\"id\": 270, \"name\": \"ocean\"}, {\"id\": 726, \"na...   \n",
       "2     [{\"id\": 470, \"name\": \"spy\"}, {\"id\": 818, \"name...   \n",
       "3     [{\"id\": 849, \"name\": \"dc comics\"}, {\"id\": 853,...   \n",
       "4     [{\"id\": 818, \"name\": \"based on novel\"}, {\"id\":...   \n",
       "...                                                 ...   \n",
       "4798  [{\"id\": 5616, \"name\": \"united states\\u2013mexi...   \n",
       "4799                                                 []   \n",
       "4800  [{\"id\": 248, \"name\": \"date\"}, {\"id\": 699, \"nam...   \n",
       "4801                                                 []   \n",
       "4802  [{\"id\": 1523, \"name\": \"obsession\"}, {\"id\": 224...   \n",
       "\n",
       "                                               overview  \n",
       "0     In the 22nd century, a paraplegic Marine is di...  \n",
       "1     Captain Barbossa, long believed to be dead, ha...  \n",
       "2     A cryptic message from Bond’s past sends him o...  \n",
       "3     Following the death of District Attorney Harve...  \n",
       "4     John Carter is a war-weary, former military ca...  \n",
       "...                                                 ...  \n",
       "4798  El Mariachi just wants to play his guitar and ...  \n",
       "4799  A newlywed couple's honeymoon is upended by th...  \n",
       "4800  \"Signed, Sealed, Delivered\" introduces a dedic...  \n",
       "4801  When ambitious New York attorney Sam is sent t...  \n",
       "4802  Ever since the second grade when he first saw ...  \n",
       "\n",
       "[4803 rows x 8 columns]"
      ]
     },
     "execution_count": 5,
     "metadata": {},
     "output_type": "execute_result"
    }
   ],
   "source": [
    "df_movies"
   ]
  },
  {
   "cell_type": "code",
   "execution_count": 6,
   "id": "2eb081e8-8484-4f36-8363-8a2dcebe565d",
   "metadata": {},
   "outputs": [
    {
     "data": {
      "text/html": [
       "<div>\n",
       "<style scoped>\n",
       "    .dataframe tbody tr th:only-of-type {\n",
       "        vertical-align: middle;\n",
       "    }\n",
       "\n",
       "    .dataframe tbody tr th {\n",
       "        vertical-align: top;\n",
       "    }\n",
       "\n",
       "    .dataframe thead th {\n",
       "        text-align: right;\n",
       "    }\n",
       "</style>\n",
       "<table border=\"1\" class=\"dataframe\">\n",
       "  <thead>\n",
       "    <tr style=\"text-align: right;\">\n",
       "      <th></th>\n",
       "      <th>id</th>\n",
       "      <th>vote_average</th>\n",
       "      <th>vote_count</th>\n",
       "      <th>popularity</th>\n",
       "    </tr>\n",
       "  </thead>\n",
       "  <tbody>\n",
       "    <tr>\n",
       "      <th>count</th>\n",
       "      <td>4803.000000</td>\n",
       "      <td>4803.000000</td>\n",
       "      <td>4803.000000</td>\n",
       "      <td>4803.000000</td>\n",
       "    </tr>\n",
       "    <tr>\n",
       "      <th>mean</th>\n",
       "      <td>57165.484281</td>\n",
       "      <td>6.092172</td>\n",
       "      <td>690.217989</td>\n",
       "      <td>21.492301</td>\n",
       "    </tr>\n",
       "    <tr>\n",
       "      <th>std</th>\n",
       "      <td>88694.614033</td>\n",
       "      <td>1.194612</td>\n",
       "      <td>1234.585891</td>\n",
       "      <td>31.816650</td>\n",
       "    </tr>\n",
       "    <tr>\n",
       "      <th>min</th>\n",
       "      <td>5.000000</td>\n",
       "      <td>0.000000</td>\n",
       "      <td>0.000000</td>\n",
       "      <td>0.000000</td>\n",
       "    </tr>\n",
       "    <tr>\n",
       "      <th>25%</th>\n",
       "      <td>9014.500000</td>\n",
       "      <td>5.600000</td>\n",
       "      <td>54.000000</td>\n",
       "      <td>4.668070</td>\n",
       "    </tr>\n",
       "    <tr>\n",
       "      <th>50%</th>\n",
       "      <td>14629.000000</td>\n",
       "      <td>6.200000</td>\n",
       "      <td>235.000000</td>\n",
       "      <td>12.921594</td>\n",
       "    </tr>\n",
       "    <tr>\n",
       "      <th>75%</th>\n",
       "      <td>58610.500000</td>\n",
       "      <td>6.800000</td>\n",
       "      <td>737.000000</td>\n",
       "      <td>28.313505</td>\n",
       "    </tr>\n",
       "    <tr>\n",
       "      <th>max</th>\n",
       "      <td>459488.000000</td>\n",
       "      <td>10.000000</td>\n",
       "      <td>13752.000000</td>\n",
       "      <td>875.581305</td>\n",
       "    </tr>\n",
       "  </tbody>\n",
       "</table>\n",
       "</div>"
      ],
      "text/plain": [
       "                  id  vote_average    vote_count   popularity\n",
       "count    4803.000000   4803.000000   4803.000000  4803.000000\n",
       "mean    57165.484281      6.092172    690.217989    21.492301\n",
       "std     88694.614033      1.194612   1234.585891    31.816650\n",
       "min         5.000000      0.000000      0.000000     0.000000\n",
       "25%      9014.500000      5.600000     54.000000     4.668070\n",
       "50%     14629.000000      6.200000    235.000000    12.921594\n",
       "75%     58610.500000      6.800000    737.000000    28.313505\n",
       "max    459488.000000     10.000000  13752.000000   875.581305"
      ]
     },
     "execution_count": 6,
     "metadata": {},
     "output_type": "execute_result"
    }
   ],
   "source": [
    "df_movies.describe()"
   ]
  },
  {
   "cell_type": "code",
   "execution_count": 7,
   "id": "7c997ee5-cd14-40e7-8e93-2ab0501215ad",
   "metadata": {},
   "outputs": [
    {
     "name": "stdout",
     "output_type": "stream",
     "text": [
      "<class 'pandas.core.frame.DataFrame'>\n",
      "RangeIndex: 4803 entries, 0 to 4802\n",
      "Data columns (total 8 columns):\n",
      " #   Column        Non-Null Count  Dtype  \n",
      "---  ------        --------------  -----  \n",
      " 0   id            4803 non-null   int64  \n",
      " 1   title         4803 non-null   object \n",
      " 2   genres        4803 non-null   object \n",
      " 3   vote_average  4803 non-null   float64\n",
      " 4   vote_count    4803 non-null   int64  \n",
      " 5   popularity    4803 non-null   float64\n",
      " 6   keywords      4803 non-null   object \n",
      " 7   overview      4800 non-null   object \n",
      "dtypes: float64(2), int64(2), object(4)\n",
      "memory usage: 300.3+ KB\n"
     ]
    }
   ],
   "source": [
    "df_movies.info()"
   ]
  },
  {
   "cell_type": "code",
   "execution_count": 8,
   "id": "2fb86fb3-8a74-4fd6-bb77-fe1cbd0e7289",
   "metadata": {},
   "outputs": [
    {
     "data": {
      "text/html": [
       "<div>\n",
       "<style scoped>\n",
       "    .dataframe tbody tr th:only-of-type {\n",
       "        vertical-align: middle;\n",
       "    }\n",
       "\n",
       "    .dataframe tbody tr th {\n",
       "        vertical-align: top;\n",
       "    }\n",
       "\n",
       "    .dataframe thead th {\n",
       "        text-align: right;\n",
       "    }\n",
       "</style>\n",
       "<table border=\"1\" class=\"dataframe\">\n",
       "  <thead>\n",
       "    <tr style=\"text-align: right;\">\n",
       "      <th></th>\n",
       "      <th>genres</th>\n",
       "      <th>keywords</th>\n",
       "    </tr>\n",
       "  </thead>\n",
       "  <tbody>\n",
       "    <tr>\n",
       "      <th>0</th>\n",
       "      <td>[{\"id\": 28, \"name\": \"Action\"}, {\"id\": 12, \"nam...</td>\n",
       "      <td>[{\"id\": 1463, \"name\": \"culture clash\"}, {\"id\":...</td>\n",
       "    </tr>\n",
       "    <tr>\n",
       "      <th>1</th>\n",
       "      <td>[{\"id\": 12, \"name\": \"Adventure\"}, {\"id\": 14, \"...</td>\n",
       "      <td>[{\"id\": 270, \"name\": \"ocean\"}, {\"id\": 726, \"na...</td>\n",
       "    </tr>\n",
       "    <tr>\n",
       "      <th>2</th>\n",
       "      <td>[{\"id\": 28, \"name\": \"Action\"}, {\"id\": 12, \"nam...</td>\n",
       "      <td>[{\"id\": 470, \"name\": \"spy\"}, {\"id\": 818, \"name...</td>\n",
       "    </tr>\n",
       "  </tbody>\n",
       "</table>\n",
       "</div>"
      ],
      "text/plain": [
       "                                              genres  \\\n",
       "0  [{\"id\": 28, \"name\": \"Action\"}, {\"id\": 12, \"nam...   \n",
       "1  [{\"id\": 12, \"name\": \"Adventure\"}, {\"id\": 14, \"...   \n",
       "2  [{\"id\": 28, \"name\": \"Action\"}, {\"id\": 12, \"nam...   \n",
       "\n",
       "                                            keywords  \n",
       "0  [{\"id\": 1463, \"name\": \"culture clash\"}, {\"id\":...  \n",
       "1  [{\"id\": 270, \"name\": \"ocean\"}, {\"id\": 726, \"na...  \n",
       "2  [{\"id\": 470, \"name\": \"spy\"}, {\"id\": 818, \"name...  "
      ]
     },
     "execution_count": 8,
     "metadata": {},
     "output_type": "execute_result"
    }
   ],
   "source": [
    "df_movies[['genres', 'keywords']][:3]"
   ]
  },
  {
   "cell_type": "code",
   "execution_count": 17,
   "id": "f4a7b5b7-1fe6-4879-9dc1-760443cf72d7",
   "metadata": {},
   "outputs": [
    {
     "data": {
      "text/html": [
       "<div>\n",
       "<style scoped>\n",
       "    .dataframe tbody tr th:only-of-type {\n",
       "        vertical-align: middle;\n",
       "    }\n",
       "\n",
       "    .dataframe tbody tr th {\n",
       "        vertical-align: top;\n",
       "    }\n",
       "\n",
       "    .dataframe thead th {\n",
       "        text-align: right;\n",
       "    }\n",
       "</style>\n",
       "<table border=\"1\" class=\"dataframe\">\n",
       "  <thead>\n",
       "    <tr style=\"text-align: right;\">\n",
       "      <th></th>\n",
       "      <th>genres</th>\n",
       "      <th>keywords</th>\n",
       "    </tr>\n",
       "  </thead>\n",
       "  <tbody>\n",
       "    <tr>\n",
       "      <th>0</th>\n",
       "      <td>[{\"id\": 28, \"name\": \"Action\"}, {\"id\": 12, \"name\": \"Adventure\"}, {\"id\": 14, \"name\": \"Fantasy\"}, {...</td>\n",
       "      <td>[{\"id\": 1463, \"name\": \"culture clash\"}, {\"id\": 2964, \"name\": \"future\"}, {\"id\": 3386, \"name\": \"sp...</td>\n",
       "    </tr>\n",
       "    <tr>\n",
       "      <th>1</th>\n",
       "      <td>[{\"id\": 12, \"name\": \"Adventure\"}, {\"id\": 14, \"name\": \"Fantasy\"}, {\"id\": 28, \"name\": \"Action\"}]</td>\n",
       "      <td>[{\"id\": 270, \"name\": \"ocean\"}, {\"id\": 726, \"name\": \"drug abuse\"}, {\"id\": 911, \"name\": \"exotic is...</td>\n",
       "    </tr>\n",
       "    <tr>\n",
       "      <th>2</th>\n",
       "      <td>[{\"id\": 28, \"name\": \"Action\"}, {\"id\": 12, \"name\": \"Adventure\"}, {\"id\": 80, \"name\": \"Crime\"}]</td>\n",
       "      <td>[{\"id\": 470, \"name\": \"spy\"}, {\"id\": 818, \"name\": \"based on novel\"}, {\"id\": 4289, \"name\": \"secret...</td>\n",
       "    </tr>\n",
       "  </tbody>\n",
       "</table>\n",
       "</div>"
      ],
      "text/plain": [
       "                                                                                                genres  \\\n",
       "0  [{\"id\": 28, \"name\": \"Action\"}, {\"id\": 12, \"name\": \"Adventure\"}, {\"id\": 14, \"name\": \"Fantasy\"}, {...   \n",
       "1       [{\"id\": 12, \"name\": \"Adventure\"}, {\"id\": 14, \"name\": \"Fantasy\"}, {\"id\": 28, \"name\": \"Action\"}]   \n",
       "2         [{\"id\": 28, \"name\": \"Action\"}, {\"id\": 12, \"name\": \"Adventure\"}, {\"id\": 80, \"name\": \"Crime\"}]   \n",
       "\n",
       "                                                                                              keywords  \n",
       "0  [{\"id\": 1463, \"name\": \"culture clash\"}, {\"id\": 2964, \"name\": \"future\"}, {\"id\": 3386, \"name\": \"sp...  \n",
       "1  [{\"id\": 270, \"name\": \"ocean\"}, {\"id\": 726, \"name\": \"drug abuse\"}, {\"id\": 911, \"name\": \"exotic is...  \n",
       "2  [{\"id\": 470, \"name\": \"spy\"}, {\"id\": 818, \"name\": \"based on novel\"}, {\"id\": 4289, \"name\": \"secret...  "
      ]
     },
     "execution_count": 17,
     "metadata": {},
     "output_type": "execute_result"
    }
   ],
   "source": [
    "pd.set_option('max_colwidth', 100)\n",
    "df_movies[['genres', 'keywords']][:3]"
   ]
  },
  {
   "cell_type": "code",
   "execution_count": 18,
   "id": "4ba2ab1c-cab3-4224-bd3b-8865181b8457",
   "metadata": {},
   "outputs": [
    {
     "data": {
      "text/html": [
       "<div>\n",
       "<style scoped>\n",
       "    .dataframe tbody tr th:only-of-type {\n",
       "        vertical-align: middle;\n",
       "    }\n",
       "\n",
       "    .dataframe tbody tr th {\n",
       "        vertical-align: top;\n",
       "    }\n",
       "\n",
       "    .dataframe thead th {\n",
       "        text-align: right;\n",
       "    }\n",
       "</style>\n",
       "<table border=\"1\" class=\"dataframe\">\n",
       "  <thead>\n",
       "    <tr style=\"text-align: right;\">\n",
       "      <th></th>\n",
       "      <th>genres</th>\n",
       "      <th>keywords</th>\n",
       "    </tr>\n",
       "  </thead>\n",
       "  <tbody>\n",
       "    <tr>\n",
       "      <th>0</th>\n",
       "      <td>[{\"id\": 28, \"name\": \"Action\"}, {\"id\": 12, \"nam...</td>\n",
       "      <td>[{\"id\": 1463, \"name\": \"culture clash\"}, {\"id\":...</td>\n",
       "    </tr>\n",
       "    <tr>\n",
       "      <th>1</th>\n",
       "      <td>[{\"id\": 12, \"name\": \"Adventure\"}, {\"id\": 14, \"...</td>\n",
       "      <td>[{\"id\": 270, \"name\": \"ocean\"}, {\"id\": 726, \"na...</td>\n",
       "    </tr>\n",
       "    <tr>\n",
       "      <th>2</th>\n",
       "      <td>[{\"id\": 28, \"name\": \"Action\"}, {\"id\": 12, \"nam...</td>\n",
       "      <td>[{\"id\": 470, \"name\": \"spy\"}, {\"id\": 818, \"name...</td>\n",
       "    </tr>\n",
       "  </tbody>\n",
       "</table>\n",
       "</div>"
      ],
      "text/plain": [
       "                                              genres  \\\n",
       "0  [{\"id\": 28, \"name\": \"Action\"}, {\"id\": 12, \"nam...   \n",
       "1  [{\"id\": 12, \"name\": \"Adventure\"}, {\"id\": 14, \"...   \n",
       "2  [{\"id\": 28, \"name\": \"Action\"}, {\"id\": 12, \"nam...   \n",
       "\n",
       "                                            keywords  \n",
       "0  [{\"id\": 1463, \"name\": \"culture clash\"}, {\"id\":...  \n",
       "1  [{\"id\": 270, \"name\": \"ocean\"}, {\"id\": 726, \"na...  \n",
       "2  [{\"id\": 470, \"name\": \"spy\"}, {\"id\": 818, \"name...  "
      ]
     },
     "execution_count": 18,
     "metadata": {},
     "output_type": "execute_result"
    }
   ],
   "source": [
    "pd.reset_option('max_colwidth')\n",
    "df_movies[['genres', 'keywords']][:3]"
   ]
  },
  {
   "cell_type": "code",
   "execution_count": 19,
   "id": "6c87fef2-6b4f-456d-baba-ec9ac4b16f08",
   "metadata": {},
   "outputs": [],
   "source": [
    "# 데이터 가공"
   ]
  },
  {
   "cell_type": "code",
   "execution_count": 39,
   "id": "ea1802b3-7b82-4958-acf6-a7c8105483d1",
   "metadata": {},
   "outputs": [
    {
     "name": "stdout",
     "output_type": "stream",
     "text": [
      "<class 'str'>\n",
      " {\"id\":28, \"name\": \"Action\"}\n"
     ]
    }
   ],
   "source": [
    "str_dict = ' {\"id\":28, \"name\": \"Action\"}'\n",
    "print(type(str_dict))\n",
    "print(str_dict)"
   ]
  },
  {
   "cell_type": "code",
   "execution_count": 40,
   "id": "f93c77d2-c782-495d-94ba-ad3f3f8dab27",
   "metadata": {},
   "outputs": [
    {
     "name": "stdout",
     "output_type": "stream",
     "text": [
      "[{'id': 28, 'name': 'Action'}, {'id': 12, 'name': 'Adventure'}, {'id': 14, 'name': 'Fantasy'}, {'id': 878, 'name': 'Science Fiction'}]\n"
     ]
    },
    {
     "data": {
      "text/plain": [
       "{'id': 28, 'name': 'Action'}"
      ]
     },
     "execution_count": 40,
     "metadata": {},
     "output_type": "execute_result"
    }
   ],
   "source": [
    "# 모든 데이터 출력\n",
    "df_movies['genres']\n",
    "# 1행만 출력, series 형식\n",
    "df_movies['genres'][:1]\n",
    "# 1행만 출력, str 형식\n",
    "print(df_movies['genres'][:1][0])\n",
    "# 문자열에 0번에 위치의 값\n",
    "df_movies['genres'][:1][0][0]\n"
   ]
  },
  {
   "cell_type": "code",
   "execution_count": 41,
   "id": "a385acb9-674e-46ad-bf93-12c787735cfd",
   "metadata": {},
   "outputs": [],
   "source": [
    "#  >\"df_movies['genres'][:1][0]\" 이 \n",
    "# 정보는 리스트 모양을 갖지만 실제 자료형은 str 형식이다. \n",
    "# 리스트에서 첫 번째 데이터인 {\"id\": 28, \"name\": \"Action\"} 이 \n",
    "# 정보를 얻으려 df_movies['genres'][:1][0][0] 이렇게 진행했지만 결과는 str 형식이기\n",
    "# 때문에 첫 번째 위치의 '['이 출력된 것이다."
   ]
  },
  {
   "cell_type": "code",
   "execution_count": 46,
   "id": "b3febeeb-3244-4fda-8b6d-ca69cb946282",
   "metadata": {},
   "outputs": [
    {
     "name": "stdout",
     "output_type": "stream",
     "text": [
      "<class 'list'>\n"
     ]
    },
    {
     "data": {
      "text/plain": [
       "{'id': 28, 'name': 'Action'}"
      ]
     },
     "execution_count": 46,
     "metadata": {},
     "output_type": "execute_result"
    }
   ],
   "source": [
    "from ast import literal_eval\n",
    "\n",
    "#df_movies['genres'] = df_movies['genres'].apply(literal_eval)\n",
    "print(type(df_movies['genres'][:1][0]))\n",
    "df_movies['genres'][:1][0][0]\n",
    "\n",
    "\n",
    "# 주석한 이유, 이미 리스트로 변환되었는데, 또 실행시켜서 오류 나는 것같음.\n",
    "# genres 들을 리스트 형식으로 변환\n"
   ]
  },
  {
   "cell_type": "code",
   "execution_count": 47,
   "id": "2ea14d6e-b416-4b7a-8c3f-ab7321b5db27",
   "metadata": {},
   "outputs": [
    {
     "data": {
      "text/plain": [
       "[{'id': 28, 'name': 'Action'},\n",
       " {'id': 12, 'name': 'Adventure'},\n",
       " {'id': 14, 'name': 'Fantasy'},\n",
       " {'id': 878, 'name': 'Science Fiction'}]"
      ]
     },
     "execution_count": 47,
     "metadata": {},
     "output_type": "execute_result"
    }
   ],
   "source": [
    "df_movies['genres'][0]"
   ]
  },
  {
   "cell_type": "code",
   "execution_count": 48,
   "id": "a6bde3cb-f4cf-48b2-9c4a-ea63c9be7f53",
   "metadata": {},
   "outputs": [
    {
     "name": "stdout",
     "output_type": "stream",
     "text": [
      "Action\n",
      "Adventure\n",
      "Fantasy\n",
      "Science Fiction\n"
     ]
    }
   ],
   "source": [
    "for genre in df_movies['genres'][0]:\n",
    "    print(genre['name'])"
   ]
  },
  {
   "cell_type": "code",
   "execution_count": 94,
   "id": "eb1480bd-1e4a-482a-910a-b6c4deee761b",
   "metadata": {},
   "outputs": [
    {
     "data": {
      "text/plain": [
       "['Action', 'Adventure', 'Crime']"
      ]
     },
     "execution_count": 94,
     "metadata": {},
     "output_type": "execute_result"
    }
   ],
   "source": [
    "# df_movies['genres'] = df_movies['genres'].apply(lambda x : [y['name'] for y in x])\n",
    "df_movies['genres'][2]"
   ]
  },
  {
   "cell_type": "code",
   "execution_count": null,
   "id": "ea9cb272-4c7e-428a-a7b6-4e4e7c09058f",
   "metadata": {},
   "outputs": [],
   "source": []
  },
  {
   "cell_type": "code",
   "execution_count": 55,
   "id": "f936f58d-e5dd-409c-8353-55caaac44443",
   "metadata": {},
   "outputs": [],
   "source": [
    "# 6. fearture 생성\n",
    "\n"
   ]
  },
  {
   "cell_type": "code",
   "execution_count": 72,
   "id": "3907d1db-4ab4-430f-9846-5ec14a63173a",
   "metadata": {},
   "outputs": [
    {
     "data": {
      "text/plain": [
       "'Action===Adventure===Fantasy===Science Fiction'"
      ]
     },
     "execution_count": 72,
     "metadata": {},
     "output_type": "execute_result"
    }
   ],
   "source": [
    "'==='.join(df_movies['genres'][0])"
   ]
  },
  {
   "cell_type": "code",
   "execution_count": 73,
   "id": "060e22e8-fb5c-4bd3-ac39-c8089c39615c",
   "metadata": {},
   "outputs": [],
   "source": [
    "# df_movies['genres'][0] = df_movies['genres'][0].replace(\"===\", \" \")\n",
    "# 오류남 ㅠㅠ"
   ]
  },
  {
   "cell_type": "code",
   "execution_count": null,
   "id": "172edb16-4c5c-4a44-9de4-71c3c6621426",
   "metadata": {},
   "outputs": [],
   "source": []
  },
  {
   "cell_type": "code",
   "execution_count": 116,
   "id": "660059ba-6b2e-4fc5-b04d-1bebf553e699",
   "metadata": {},
   "outputs": [],
   "source": [
    "# df_movies['genres'][0]\n",
    "# result_list=[]\n",
    "# for i in df_movies['genres'][0]:\n",
    "#     temp = i.replace(\"===\",\" \")\n",
    "#     result_list.append(temp)\n",
    "\n",
    "# 하면\n",
    "# ['Action', 'Adventure', 'Fantasy', 'Science Fiction'] 다시 일케댐"
   ]
  },
  {
   "cell_type": "code",
   "execution_count": 117,
   "id": "08086fc4-229c-4901-bfcb-38176eba787b",
   "metadata": {},
   "outputs": [
    {
     "data": {
      "text/plain": [
       "['Action', 'Adventure', 'Fantasy', 'Science Fiction']"
      ]
     },
     "execution_count": 117,
     "metadata": {},
     "output_type": "execute_result"
    }
   ],
   "source": [
    "df_movies['genres'][0]"
   ]
  },
  {
   "cell_type": "code",
   "execution_count": 76,
   "id": "3c31c5d8-fa7c-4623-92ac-30363dfa7e7c",
   "metadata": {},
   "outputs": [
    {
     "data": {
      "text/plain": [
       "'Action===Adventure===Fantasy===Science Fiction'"
      ]
     },
     "execution_count": 76,
     "metadata": {},
     "output_type": "execute_result"
    }
   ],
   "source": [
    "'==='.join(df_movies['genres'][0])"
   ]
  },
  {
   "cell_type": "code",
   "execution_count": 83,
   "id": "1217b1ef-a94c-4975-b58b-bef489566171",
   "metadata": {},
   "outputs": [
    {
     "name": "stderr",
     "output_type": "stream",
     "text": [
      "<ipython-input-83-79915ab1a189>:1: SettingWithCopyWarning: \n",
      "A value is trying to be set on a copy of a slice from a DataFrame.\n",
      "Try using .loc[row_indexer,col_indexer] = value instead\n",
      "\n",
      "See the caveats in the documentation: https://pandas.pydata.org/pandas-docs/stable/user_guide/indexing.html#returning-a-view-versus-a-copy\n",
      "  df_movies['genres_literal'] = df_movies['genres'].apply(lambda x : (' ').join(x))\n"
     ]
    }
   ],
   "source": [
    "df_movies['genres_literal'] = df_movies['genres'].apply(lambda x : (' ').join(x))"
   ]
  },
  {
   "cell_type": "code",
   "execution_count": 84,
   "id": "00fbdc9c-a9e6-4fd7-a483-cfe8c4aaf5f8",
   "metadata": {},
   "outputs": [
    {
     "data": {
      "text/plain": [
       "'Action Adventure Fantasy Science Fiction'"
      ]
     },
     "execution_count": 84,
     "metadata": {},
     "output_type": "execute_result"
    }
   ],
   "source": [
    "df_movies['genres_literal'][0]"
   ]
  },
  {
   "cell_type": "code",
   "execution_count": 86,
   "id": "a686ebef-e7eb-4136-a861-6d593a4001d5",
   "metadata": {},
   "outputs": [
    {
     "ename": "ModuleNotFoundError",
     "evalue": "No module named 'sklearn'",
     "output_type": "error",
     "traceback": [
      "\u001b[1;31m---------------------------------------------------------------------------\u001b[0m",
      "\u001b[1;31mModuleNotFoundError\u001b[0m                       Traceback (most recent call last)",
      "\u001b[1;32m<ipython-input-86-cc94dbbd9b90>\u001b[0m in \u001b[0;36m<module>\u001b[1;34m\u001b[0m\n\u001b[1;32m----> 1\u001b[1;33m \u001b[1;32mfrom\u001b[0m \u001b[0msklearn\u001b[0m \u001b[1;32mimport\u001b[0m \u001b[0mCountVectorizer\u001b[0m\u001b[1;33m\u001b[0m\u001b[1;33m\u001b[0m\u001b[0m\n\u001b[0m\u001b[0;32m      2\u001b[0m \u001b[1;33m\u001b[0m\u001b[0m\n\u001b[0;32m      3\u001b[0m \u001b[0mcount_vect\u001b[0m \u001b[1;33m=\u001b[0m \u001b[0mCountVectorizer\u001b[0m\u001b[1;33m(\u001b[0m\u001b[0mngram_range\u001b[0m\u001b[1;33m=\u001b[0m\u001b[1;33m(\u001b[0m\u001b[1;36m1\u001b[0m\u001b[1;33m,\u001b[0m\u001b[1;36m2\u001b[0m\u001b[1;33m)\u001b[0m\u001b[1;33m)\u001b[0m\u001b[1;33m.\u001b[0m\u001b[0mfit\u001b[0m\u001b[1;33m(\u001b[0m\u001b[0mdf_movies\u001b[0m\u001b[1;33m[\u001b[0m\u001b[1;34m'genres_literal'\u001b[0m\u001b[1;33m]\u001b[0m\u001b[1;33m)\u001b[0m\u001b[1;33m\u001b[0m\u001b[1;33m\u001b[0m\u001b[0m\n\u001b[0;32m      4\u001b[0m \u001b[0mcount_vect\u001b[0m\u001b[1;33m.\u001b[0m\u001b[0mvocabulary_\u001b[0m\u001b[1;33m\u001b[0m\u001b[1;33m\u001b[0m\u001b[0m\n",
      "\u001b[1;31mModuleNotFoundError\u001b[0m: No module named 'sklearn'"
     ]
    }
   ],
   "source": [
    "from sklearn.feature_extraction.text import CountVectorizer\n",
    "\n",
    "count_vect = CountVectorizer(ngram_range=(1,2)).fit(df_movies['genres_literal'])\n",
    "count_vect.vocabulary_"
   ]
  },
  {
   "cell_type": "code",
   "execution_count": 89,
   "id": "a0eef244-2528-41ee-997e-2f7438ac3d7e",
   "metadata": {},
   "outputs": [
    {
     "name": "stdout",
     "output_type": "stream",
     "text": [
      "Collecting scikit-learn\n",
      "  Downloading scikit_learn-0.24.2-cp39-cp39-win_amd64.whl (6.9 MB)\n",
      "Requirement already satisfied: numpy>=1.13.3 in c:\\users\\5-17\\jupylab\\lib\\site-packages (from scikit-learn) (1.20.3)\n",
      "Collecting joblib>=0.11\n",
      "  Downloading joblib-1.0.1-py3-none-any.whl (303 kB)\n",
      "Requirement already satisfied: scipy>=0.19.1 in c:\\users\\5-17\\jupylab\\lib\\site-packages (from scikit-learn) (1.6.3)\n",
      "Collecting threadpoolctl>=2.0.0\n",
      "  Downloading threadpoolctl-2.1.0-py3-none-any.whl (12 kB)\n"
     ]
    },
    {
     "name": "stderr",
     "output_type": "stream",
     "text": [
      "WARNING: You are using pip version 21.1.2; however, version 21.1.3 is available.\n",
      "You should consider upgrading via the 'c:\\users\\5-17\\jupylab\\scripts\\python.exe -m pip install --upgrade pip' command.\n"
     ]
    },
    {
     "name": "stdout",
     "output_type": "stream",
     "text": [
      "Installing collected packages: threadpoolctl, joblib, scikit-learn\n",
      "Successfully installed joblib-1.0.1 scikit-learn-0.24.2 threadpoolctl-2.1.0\n"
     ]
    }
   ],
   "source": [
    "!pip install -U scikit-learn"
   ]
  },
  {
   "cell_type": "code",
   "execution_count": 108,
   "id": "89f5340a-3503-46af-b42a-88a2e0c2fd66",
   "metadata": {},
   "outputs": [],
   "source": [
    "from sklearn.feature_extraction.text import CountVectorizer\n",
    "\n",
    "count_vect = CountVectorizer(ngram_range=(1,2)).fit(df_movies['genres_literal'])\n",
    "#count_vect.vocabulary_"
   ]
  },
  {
   "cell_type": "code",
   "execution_count": 109,
   "id": "64987826-2027-483b-b4a8-d627b1ef3020",
   "metadata": {},
   "outputs": [],
   "source": [
    "# CountVectorizer에서 ngram_range는 단어의 조합을 어떻게 처리할 것이냐를 정하는 것으로 다음과 같이 사용할 수 있다.\n",
    "# ngram_range(min_n, max_n)\n",
    "# min_n : 최소 단어 수\n",
    "# max_n : 최대 단어수\n",
    "# 최소 단어수에서 최대 단어 수까지 조합으로 count할 단어를 생성\n",
    "\n",
    "#  단어가 너무 많으면 처리하는데 많은 시간이 소요되어 2개의 단어조합 까지만 사용한다."
   ]
  },
  {
   "cell_type": "code",
   "execution_count": 111,
   "id": "2edb8934-2731-4f28-8235-2fd6d15dc0ca",
   "metadata": {},
   "outputs": [],
   "source": [
    "count_vect = CountVectorizer(min_df=0, ngram_range=(1, 2)).fit(df_movies['genres_literal'])\n",
    "#count_vect.vocabulary_"
   ]
  },
  {
   "cell_type": "code",
   "execution_count": 112,
   "id": "26554f96-7990-4ed4-805e-9e97152f6e64",
   "metadata": {},
   "outputs": [],
   "source": [
    "# min_df는 최소 빈도 수를 의미하며 0을 사용하면 모든 단어들의 조합을 사용하겠다는 의미이다. \n",
    "# 만약 100이 입력되면 100번 이하로 나타나는 조합은 배제하겠다는 의미이다."
   ]
  },
  {
   "cell_type": "code",
   "execution_count": 113,
   "id": "59dc52da-b7a7-4e28-a047-a9fab8129f7f",
   "metadata": {},
   "outputs": [
    {
     "data": {
      "text/plain": [
       "(4803, 276)"
      ]
     },
     "execution_count": 113,
     "metadata": {},
     "output_type": "execute_result"
    }
   ],
   "source": [
    "genre_matrix = count_vect.fit_transform(df_movies['genres_literal'])\n",
    "genre_matrix.shape"
   ]
  },
  {
   "cell_type": "code",
   "execution_count": 114,
   "id": "b9ded231-0357-44fe-bea6-22eb0060e1e2",
   "metadata": {},
   "outputs": [],
   "source": [
    "# 유사도 분석\n"
   ]
  },
  {
   "cell_type": "code",
   "execution_count": 115,
   "id": "0efbe0a7-1186-4b58-a5ab-f08d6e4dc0f3",
   "metadata": {},
   "outputs": [
    {
     "data": {
      "text/plain": [
       "array([[1.        , 0.59628479, 0.4472136 , ..., 0.        , 0.        ,\n",
       "        0.        ],\n",
       "       [0.59628479, 1.        , 0.4       , ..., 0.        , 0.        ,\n",
       "        0.        ],\n",
       "       [0.4472136 , 0.4       , 1.        , ..., 0.        , 0.        ,\n",
       "        0.        ]])"
      ]
     },
     "execution_count": 115,
     "metadata": {},
     "output_type": "execute_result"
    }
   ],
   "source": [
    "from sklearn.metrics.pairwise import cosine_similarity\n",
    "\n",
    "genre_similarity = cosine_similarity(genre_matrix, genre_matrix)\n",
    "genre_similarity[:3]"
   ]
  },
  {
   "cell_type": "code",
   "execution_count": 118,
   "id": "89e49c2f-b64b-40af-8d0d-e6fd9cda4d6d",
   "metadata": {},
   "outputs": [],
   "source": [
    "# 간단하게 유사도 측정을 했다. 총 4803개의 데이터가 존재하며 각 \n",
    "# 데이터들의 유사도로 나타나기 때문에 영화를 찾기에는 어렵다. \n",
    "# 따라서 결과를 정렬된 index 정보로 출력해 볼 것이다."
   ]
  },
  {
   "cell_type": "code",
   "execution_count": 120,
   "id": "c8e25c71-3d0c-4695-b117-566fad5b7511",
   "metadata": {},
   "outputs": [
    {
     "data": {
      "text/plain": [
       "array([[   0, 3494,  813, ..., 3038, 3037, 2401],\n",
       "       [ 262,    1,  129, ..., 3069, 3067, 2401],\n",
       "       [   2, 1740, 1542, ..., 3000, 2999, 2401]], dtype=int64)"
      ]
     },
     "execution_count": 120,
     "metadata": {},
     "output_type": "execute_result"
    }
   ],
   "source": [
    "genre_similarity_sorted_idx = genre_similarity.argsort()[:,::-1]\n",
    "genre_similarity_sorted_idx[:3]"
   ]
  },
  {
   "cell_type": "code",
   "execution_count": 121,
   "id": "168fea09-7929-4ea4-95ba-23afb816df40",
   "metadata": {},
   "outputs": [],
   "source": [
    "# argsort()는 배열 정렬시 사용하는 함수로 기본은 오름차순으로 정렬된다.\n",
    "# 하지만 우리가 필요한 정보는 유사도가 높은 정보순으로 정렬해야 함으로\n",
    "# 내림차순으로 정렬하기 위해 [:,::-1]을 이용했다. 또한 출력 결과는 유사도가 \n",
    "# 아닌 index인 것에 유의하자.\n",
    "# 위의 정보에서 0번 영화와 가장 유사한 영화는 3493->813 순 인것을 알 수있다."
   ]
  },
  {
   "cell_type": "code",
   "execution_count": 123,
   "id": "d35373d5-697b-4818-ac62-fc0e1224812e",
   "metadata": {},
   "outputs": [
    {
     "name": "stdout",
     "output_type": "stream",
     "text": [
      "Avatar\n",
      "Morvern Callar\n",
      "Superman\n",
      "ㅡㅡㅡㅡㅡㅡㅡㅡㅡㅡㅡㅡㅡㅡ\n"
     ]
    },
    {
     "data": {
      "text/plain": [
       "id                                                            19995\n",
       "title                                                        Avatar\n",
       "genres                [Action, Adventure, Fantasy, Science Fiction]\n",
       "vote_average                                                    7.2\n",
       "vote_count                                                    11800\n",
       "popularity                                               150.437577\n",
       "keywords          [{\"id\": 1463, \"name\": \"culture clash\"}, {\"id\":...\n",
       "overview          In the 22nd century, a paraplegic Marine is di...\n",
       "genres_literal             Action Adventure Fantasy Science Fiction\n",
       "Name: 0, dtype: object"
      ]
     },
     "execution_count": 123,
     "metadata": {},
     "output_type": "execute_result"
    }
   ],
   "source": [
    "print(df_movies.iloc[0]['title'])\n",
    "print(df_movies.iloc[3493]['title'])\n",
    "print(df_movies.iloc[813]['title'])\n",
    "print(\"ㅡㅡㅡㅡㅡㅡㅡㅡㅡㅡㅡㅡㅡㅡ\")\n",
    "df_movies.iloc[0]"
   ]
  },
  {
   "cell_type": "code",
   "execution_count": 124,
   "id": "23427852-8c28-49ea-9a3e-3416e2a39c1e",
   "metadata": {},
   "outputs": [],
   "source": [
    "# iloc를 이용하면 index의 정보를 얻을 수 있다. \n",
    "# 즉, 영화의 정보를 얻기 위해 iloc에 index 정보를 넣고 \n",
    "# 그 중 title feature를 출력하여 추천 영화들을 얻을 수 있게 된다."
   ]
  },
  {
   "cell_type": "code",
   "execution_count": 126,
   "id": "2258a49a-87c9-49d4-9b5b-50d5bb9ad809",
   "metadata": {},
   "outputs": [],
   "source": [
    "# 8. 영화 추천하기\n",
    "\n",
    "# 제목을 입력하면 특정 영화 정보가 출력되도록 코딩하시오."
   ]
  },
  {
   "cell_type": "code",
   "execution_count": 137,
   "id": "b7c1a5f9-0acf-4dc9-9358-bb02f57a14d7",
   "metadata": {},
   "outputs": [
    {
     "data": {
      "text/html": [
       "<div>\n",
       "<style scoped>\n",
       "    .dataframe tbody tr th:only-of-type {\n",
       "        vertical-align: middle;\n",
       "    }\n",
       "\n",
       "    .dataframe tbody tr th {\n",
       "        vertical-align: top;\n",
       "    }\n",
       "\n",
       "    .dataframe thead th {\n",
       "        text-align: right;\n",
       "    }\n",
       "</style>\n",
       "<table border=\"1\" class=\"dataframe\">\n",
       "  <thead>\n",
       "    <tr style=\"text-align: right;\">\n",
       "      <th></th>\n",
       "      <th>id</th>\n",
       "      <th>title</th>\n",
       "      <th>genres</th>\n",
       "      <th>vote_average</th>\n",
       "      <th>vote_count</th>\n",
       "      <th>popularity</th>\n",
       "      <th>keywords</th>\n",
       "      <th>overview</th>\n",
       "      <th>genres_literal</th>\n",
       "    </tr>\n",
       "  </thead>\n",
       "  <tbody>\n",
       "    <tr>\n",
       "      <th>0</th>\n",
       "      <td>19995</td>\n",
       "      <td>Avatar</td>\n",
       "      <td>[Action, Adventure, Fantasy, Science Fiction]</td>\n",
       "      <td>7.2</td>\n",
       "      <td>11800</td>\n",
       "      <td>150.437577</td>\n",
       "      <td>[{\"id\": 1463, \"name\": \"culture clash\"}, {\"id\":...</td>\n",
       "      <td>In the 22nd century, a paraplegic Marine is di...</td>\n",
       "      <td>Action Adventure Fantasy Science Fiction</td>\n",
       "    </tr>\n",
       "  </tbody>\n",
       "</table>\n",
       "</div>"
      ],
      "text/plain": [
       "      id   title                                         genres  vote_average  \\\n",
       "0  19995  Avatar  [Action, Adventure, Fantasy, Science Fiction]           7.2   \n",
       "\n",
       "   vote_count  popularity                                           keywords  \\\n",
       "0       11800  150.437577  [{\"id\": 1463, \"name\": \"culture clash\"}, {\"id\":...   \n",
       "\n",
       "                                            overview  \\\n",
       "0  In the 22nd century, a paraplegic Marine is di...   \n",
       "\n",
       "                             genres_literal  \n",
       "0  Action Adventure Fantasy Science Fiction  "
      ]
     },
     "execution_count": 137,
     "metadata": {},
     "output_type": "execute_result"
    }
   ],
   "source": [
    "# df_movies['title']\n",
    "# df_movies['title']=='Avatar'\n",
    "df_movies[df_movies['title']=='Avatar']\n",
    "\n",
    "# df_movies['title'].isin(['Avatar'])\n",
    "# df_movies['title'].isin(['Avatar']) 랑 df_movies['title']=='Avatar' 같다\n",
    "\n",
    "df_movies[df_movies['title'].isin(['Avatar'])]\n"
   ]
  },
  {
   "cell_type": "code",
   "execution_count": 141,
   "id": "50919bee-8038-4d98-a957-cbcd70756fca",
   "metadata": {},
   "outputs": [
    {
     "data": {
      "text/html": [
       "<div>\n",
       "<style scoped>\n",
       "    .dataframe tbody tr th:only-of-type {\n",
       "        vertical-align: middle;\n",
       "    }\n",
       "\n",
       "    .dataframe tbody tr th {\n",
       "        vertical-align: top;\n",
       "    }\n",
       "\n",
       "    .dataframe thead th {\n",
       "        text-align: right;\n",
       "    }\n",
       "</style>\n",
       "<table border=\"1\" class=\"dataframe\">\n",
       "  <thead>\n",
       "    <tr style=\"text-align: right;\">\n",
       "      <th></th>\n",
       "      <th>id</th>\n",
       "      <th>title</th>\n",
       "      <th>genres</th>\n",
       "      <th>vote_average</th>\n",
       "      <th>vote_count</th>\n",
       "      <th>popularity</th>\n",
       "      <th>keywords</th>\n",
       "      <th>overview</th>\n",
       "      <th>genres_literal</th>\n",
       "    </tr>\n",
       "  </thead>\n",
       "  <tbody>\n",
       "    <tr>\n",
       "      <th>0</th>\n",
       "      <td>19995</td>\n",
       "      <td>Avatar</td>\n",
       "      <td>[Action, Adventure, Fantasy, Science Fiction]</td>\n",
       "      <td>7.2</td>\n",
       "      <td>11800</td>\n",
       "      <td>150.437577</td>\n",
       "      <td>[{\"id\": 1463, \"name\": \"culture clash\"}, {\"id\":...</td>\n",
       "      <td>In the 22nd century, a paraplegic Marine is di...</td>\n",
       "      <td>Action Adventure Fantasy Science Fiction</td>\n",
       "    </tr>\n",
       "  </tbody>\n",
       "</table>\n",
       "</div>"
      ],
      "text/plain": [
       "      id   title                                         genres  vote_average  \\\n",
       "0  19995  Avatar  [Action, Adventure, Fantasy, Science Fiction]           7.2   \n",
       "\n",
       "   vote_count  popularity                                           keywords  \\\n",
       "0       11800  150.437577  [{\"id\": 1463, \"name\": \"culture clash\"}, {\"id\":...   \n",
       "\n",
       "                                            overview  \\\n",
       "0  In the 22nd century, a paraplegic Marine is di...   \n",
       "\n",
       "                             genres_literal  \n",
       "0  Action Adventure Fantasy Science Fiction  "
      ]
     },
     "execution_count": 141,
     "metadata": {},
     "output_type": "execute_result"
    }
   ],
   "source": [
    "movie_name = 'avatar'\n",
    "movie_name.upper()\n",
    "movie_name.lower()\n",
    "df_movies[df_movies['title'].str.lower().isin([movie_name.lower()])]"
   ]
  },
  {
   "cell_type": "code",
   "execution_count": 142,
   "id": "1384d846-2ef3-47e4-bbe9-e190df6c414b",
   "metadata": {},
   "outputs": [],
   "source": [
    "# 사용자가 입력하는 정보는 대문자, 소문자를 구분하지 않고 사용하기 때문에 하나로 통일해야 검색이 가능하다. \n",
    "# upper 함수는 모든 문자를 대문자로 변환하며 lower 함수는 모든 문자를 소문자로 변환한다.\n",
    "\n",
    "# 여기서는 사용자가 입력하는 문자를 소문자로 변환하기 위해 movie_name.lower()를 사용했다. \n",
    "# 또한 기존에 영화 제목 정보들은 series 형으로 되어 있어 문자열로 변환하기 위해\n",
    "# str을 사용했으며 마찬가지로 lower함수를 통해 소문자로 통일하였다."
   ]
  },
  {
   "cell_type": "code",
   "execution_count": 153,
   "id": "0f5b31c6-ce80-4332-95b7-76636cd2fb2c",
   "metadata": {},
   "outputs": [
    {
     "data": {
      "text/plain": [
       "array([813], dtype=int64)"
      ]
     },
     "execution_count": 153,
     "metadata": {},
     "output_type": "execute_result"
    }
   ],
   "source": [
    "movie_name = 'superman'\n",
    "title_movie = df_movies[df_movies['title'].str.lower().isin([movie_name.lower()])]\n",
    "title_movie.index.values"
   ]
  },
  {
   "cell_type": "code",
   "execution_count": 154,
   "id": "f6685f97-a32a-4a73-867f-db358f488a3f",
   "metadata": {},
   "outputs": [
    {
     "data": {
      "text/plain": [
       "array([[   0, 3494,  813,  870,   46,   14, 1296, 1652,  419,  420],\n",
       "       [ 262,    1,  129,  199,  206,  208,   98, 2343, 2390,  379],\n",
       "       [   2, 1740, 1542, 1082,  873, 1615,  969, 1058, 1073, 1076],\n",
       "       [2195, 1850, 3316, 2218, 2435, 3073, 1503, 1470, 4230,  629]],\n",
       "      dtype=int64)"
      ]
     },
     "execution_count": 154,
     "metadata": {},
     "output_type": "execute_result"
    }
   ],
   "source": [
    "genre_similarity_sorted_idx[:4, :10]"
   ]
  },
  {
   "cell_type": "code",
   "execution_count": 155,
   "id": "c01d36ad-5ac0-4240-aebb-083bd9c04f04",
   "metadata": {},
   "outputs": [],
   "source": [
    "# [:4, :10]은 행을 4개까지 열을 10개까지 출력하는 기능을 한다.\n",
    "\n",
    "# 위의 결과를 보면 4개의 영화 정보에 대한 10개의 추천 영화 index를 반환한 결과이다."
   ]
  },
  {
   "cell_type": "code",
   "execution_count": 156,
   "id": "61746dbc-a6af-41d3-8ec0-f81a906e0ea9",
   "metadata": {},
   "outputs": [
    {
     "data": {
      "text/plain": [
       "(4803, 4803)"
      ]
     },
     "execution_count": 156,
     "metadata": {},
     "output_type": "execute_result"
    }
   ],
   "source": [
    "genre_similarity_sorted_idx.shape"
   ]
  },
  {
   "cell_type": "code",
   "execution_count": 157,
   "id": "cf60dac8-0689-433f-bab8-d8d6f0b8f116",
   "metadata": {},
   "outputs": [
    {
     "data": {
      "text/plain": [
       "array([   0, 3494,  813,  870,   46,   14, 1296, 1652,  419,  420],\n",
       "      dtype=int64)"
      ]
     },
     "execution_count": 157,
     "metadata": {},
     "output_type": "execute_result"
    }
   ],
   "source": [
    "genre_similarity_sorted_idx[0, :10]"
   ]
  },
  {
   "cell_type": "code",
   "execution_count": 158,
   "id": "d24704cc-ba97-4ec6-a537-abdddd08724d",
   "metadata": {},
   "outputs": [],
   "source": [
    "# 위의 결과는 0번 영화에 대한 top10의 추천 영화정보이다."
   ]
  },
  {
   "cell_type": "code",
   "execution_count": 163,
   "id": "7ef75934-24c2-428c-ada4-fbf09dc56d07",
   "metadata": {},
   "outputs": [
    {
     "data": {
      "text/plain": [
       "array([[   0, 3494,  813,  870,   46,   14, 1296, 1652,  419,  420]],\n",
       "      dtype=int64)"
      ]
     },
     "execution_count": 163,
     "metadata": {},
     "output_type": "execute_result"
    }
   ],
   "source": [
    "movie_index = title_movie.index.values\n",
    "movie_index\n",
    "genre_similarity_sorted_idx[movie_index, :10]"
   ]
  },
  {
   "cell_type": "code",
   "execution_count": 164,
   "id": "70a70348-30e9-4013-a5be-a12b4ec23e35",
   "metadata": {},
   "outputs": [
    {
     "data": {
      "text/html": [
       "<div>\n",
       "<style scoped>\n",
       "    .dataframe tbody tr th:only-of-type {\n",
       "        vertical-align: middle;\n",
       "    }\n",
       "\n",
       "    .dataframe tbody tr th {\n",
       "        vertical-align: top;\n",
       "    }\n",
       "\n",
       "    .dataframe thead th {\n",
       "        text-align: right;\n",
       "    }\n",
       "</style>\n",
       "<table border=\"1\" class=\"dataframe\">\n",
       "  <thead>\n",
       "    <tr style=\"text-align: right;\">\n",
       "      <th></th>\n",
       "      <th>id</th>\n",
       "      <th>title</th>\n",
       "      <th>genres</th>\n",
       "      <th>vote_average</th>\n",
       "      <th>vote_count</th>\n",
       "      <th>popularity</th>\n",
       "      <th>keywords</th>\n",
       "      <th>overview</th>\n",
       "      <th>genres_literal</th>\n",
       "    </tr>\n",
       "  </thead>\n",
       "  <tbody>\n",
       "    <tr>\n",
       "      <th>0</th>\n",
       "      <td>19995</td>\n",
       "      <td>Avatar</td>\n",
       "      <td>[Action, Adventure, Fantasy, Science Fiction]</td>\n",
       "      <td>7.2</td>\n",
       "      <td>11800</td>\n",
       "      <td>150.437577</td>\n",
       "      <td>[{\"id\": 1463, \"name\": \"culture clash\"}, {\"id\":...</td>\n",
       "      <td>In the 22nd century, a paraplegic Marine is di...</td>\n",
       "      <td>Action Adventure Fantasy Science Fiction</td>\n",
       "    </tr>\n",
       "    <tr>\n",
       "      <th>3494</th>\n",
       "      <td>27549</td>\n",
       "      <td>Beastmaster 2: Through the Portal of Time</td>\n",
       "      <td>[Action, Adventure, Fantasy, Science Fiction]</td>\n",
       "      <td>4.6</td>\n",
       "      <td>17</td>\n",
       "      <td>1.478505</td>\n",
       "      <td>[{\"id\": 818, \"name\": \"based on novel\"}, {\"id\":...</td>\n",
       "      <td>Mark Singer returns as Dar, the warrior who ca...</td>\n",
       "      <td>Action Adventure Fantasy Science Fiction</td>\n",
       "    </tr>\n",
       "    <tr>\n",
       "      <th>813</th>\n",
       "      <td>1924</td>\n",
       "      <td>Superman</td>\n",
       "      <td>[Action, Adventure, Fantasy, Science Fiction]</td>\n",
       "      <td>6.9</td>\n",
       "      <td>1022</td>\n",
       "      <td>48.507081</td>\n",
       "      <td>[{\"id\": 83, \"name\": \"saving the world\"}, {\"id\"...</td>\n",
       "      <td>Mild-mannered Clark Kent works as a reporter a...</td>\n",
       "      <td>Action Adventure Fantasy Science Fiction</td>\n",
       "    </tr>\n",
       "    <tr>\n",
       "      <th>870</th>\n",
       "      <td>8536</td>\n",
       "      <td>Superman II</td>\n",
       "      <td>[Action, Adventure, Fantasy, Science Fiction]</td>\n",
       "      <td>6.5</td>\n",
       "      <td>629</td>\n",
       "      <td>30.515175</td>\n",
       "      <td>[{\"id\": 83, \"name\": \"saving the world\"}, {\"id\"...</td>\n",
       "      <td>Three escaped criminals from the planet Krypto...</td>\n",
       "      <td>Action Adventure Fantasy Science Fiction</td>\n",
       "    </tr>\n",
       "    <tr>\n",
       "      <th>46</th>\n",
       "      <td>127585</td>\n",
       "      <td>X-Men: Days of Future Past</td>\n",
       "      <td>[Action, Adventure, Fantasy, Science Fiction]</td>\n",
       "      <td>7.5</td>\n",
       "      <td>6032</td>\n",
       "      <td>118.078691</td>\n",
       "      <td>[{\"id\": 1228, \"name\": \"1970s\"}, {\"id\": 1852, \"...</td>\n",
       "      <td>The ultimate X-Men ensemble fights a war for t...</td>\n",
       "      <td>Action Adventure Fantasy Science Fiction</td>\n",
       "    </tr>\n",
       "    <tr>\n",
       "      <th>14</th>\n",
       "      <td>49521</td>\n",
       "      <td>Man of Steel</td>\n",
       "      <td>[Action, Adventure, Fantasy, Science Fiction]</td>\n",
       "      <td>6.5</td>\n",
       "      <td>6359</td>\n",
       "      <td>99.398009</td>\n",
       "      <td>[{\"id\": 83, \"name\": \"saving the world\"}, {\"id\"...</td>\n",
       "      <td>A young boy learns that he has extraordinary p...</td>\n",
       "      <td>Action Adventure Fantasy Science Fiction</td>\n",
       "    </tr>\n",
       "    <tr>\n",
       "      <th>1296</th>\n",
       "      <td>9531</td>\n",
       "      <td>Superman III</td>\n",
       "      <td>[Comedy, Action, Adventure, Fantasy, Science F...</td>\n",
       "      <td>5.3</td>\n",
       "      <td>490</td>\n",
       "      <td>22.164202</td>\n",
       "      <td>[{\"id\": 83, \"name\": \"saving the world\"}, {\"id\"...</td>\n",
       "      <td>Aiming to defeat the Man of Steel, wealthy exe...</td>\n",
       "      <td>Comedy Action Adventure Fantasy Science Fiction</td>\n",
       "    </tr>\n",
       "    <tr>\n",
       "      <th>1652</th>\n",
       "      <td>14164</td>\n",
       "      <td>Dragonball Evolution</td>\n",
       "      <td>[Action, Adventure, Fantasy, Science Fiction, ...</td>\n",
       "      <td>2.9</td>\n",
       "      <td>462</td>\n",
       "      <td>21.677732</td>\n",
       "      <td>[{\"id\": 3436, \"name\": \"karate\"}, {\"id\": 9715, ...</td>\n",
       "      <td>The young warrior Son Goku sets out on a quest...</td>\n",
       "      <td>Action Adventure Fantasy Science Fiction Thriller</td>\n",
       "    </tr>\n",
       "    <tr>\n",
       "      <th>419</th>\n",
       "      <td>8247</td>\n",
       "      <td>Jumper</td>\n",
       "      <td>[Adventure, Fantasy, Science Fiction]</td>\n",
       "      <td>5.9</td>\n",
       "      <td>1799</td>\n",
       "      <td>21.218000</td>\n",
       "      <td>[{\"id\": 704, \"name\": \"adolescence\"}, {\"id\": 81...</td>\n",
       "      <td>David Rice is a man who knows no boundaries, a...</td>\n",
       "      <td>Adventure Fantasy Science Fiction</td>\n",
       "    </tr>\n",
       "    <tr>\n",
       "      <th>420</th>\n",
       "      <td>11253</td>\n",
       "      <td>Hellboy II: The Golden Army</td>\n",
       "      <td>[Adventure, Fantasy, Science Fiction]</td>\n",
       "      <td>6.5</td>\n",
       "      <td>1527</td>\n",
       "      <td>58.579760</td>\n",
       "      <td>[{\"id\": 2096, \"name\": \"auction\"}, {\"id\": 7005,...</td>\n",
       "      <td>In this continuation to the adventure of the d...</td>\n",
       "      <td>Adventure Fantasy Science Fiction</td>\n",
       "    </tr>\n",
       "  </tbody>\n",
       "</table>\n",
       "</div>"
      ],
      "text/plain": [
       "          id                                      title  \\\n",
       "0      19995                                     Avatar   \n",
       "3494   27549  Beastmaster 2: Through the Portal of Time   \n",
       "813     1924                                   Superman   \n",
       "870     8536                                Superman II   \n",
       "46    127585                 X-Men: Days of Future Past   \n",
       "14     49521                               Man of Steel   \n",
       "1296    9531                               Superman III   \n",
       "1652   14164                       Dragonball Evolution   \n",
       "419     8247                                     Jumper   \n",
       "420    11253                Hellboy II: The Golden Army   \n",
       "\n",
       "                                                 genres  vote_average  \\\n",
       "0         [Action, Adventure, Fantasy, Science Fiction]           7.2   \n",
       "3494      [Action, Adventure, Fantasy, Science Fiction]           4.6   \n",
       "813       [Action, Adventure, Fantasy, Science Fiction]           6.9   \n",
       "870       [Action, Adventure, Fantasy, Science Fiction]           6.5   \n",
       "46        [Action, Adventure, Fantasy, Science Fiction]           7.5   \n",
       "14        [Action, Adventure, Fantasy, Science Fiction]           6.5   \n",
       "1296  [Comedy, Action, Adventure, Fantasy, Science F...           5.3   \n",
       "1652  [Action, Adventure, Fantasy, Science Fiction, ...           2.9   \n",
       "419               [Adventure, Fantasy, Science Fiction]           5.9   \n",
       "420               [Adventure, Fantasy, Science Fiction]           6.5   \n",
       "\n",
       "      vote_count  popularity  \\\n",
       "0          11800  150.437577   \n",
       "3494          17    1.478505   \n",
       "813         1022   48.507081   \n",
       "870          629   30.515175   \n",
       "46          6032  118.078691   \n",
       "14          6359   99.398009   \n",
       "1296         490   22.164202   \n",
       "1652         462   21.677732   \n",
       "419         1799   21.218000   \n",
       "420         1527   58.579760   \n",
       "\n",
       "                                               keywords  \\\n",
       "0     [{\"id\": 1463, \"name\": \"culture clash\"}, {\"id\":...   \n",
       "3494  [{\"id\": 818, \"name\": \"based on novel\"}, {\"id\":...   \n",
       "813   [{\"id\": 83, \"name\": \"saving the world\"}, {\"id\"...   \n",
       "870   [{\"id\": 83, \"name\": \"saving the world\"}, {\"id\"...   \n",
       "46    [{\"id\": 1228, \"name\": \"1970s\"}, {\"id\": 1852, \"...   \n",
       "14    [{\"id\": 83, \"name\": \"saving the world\"}, {\"id\"...   \n",
       "1296  [{\"id\": 83, \"name\": \"saving the world\"}, {\"id\"...   \n",
       "1652  [{\"id\": 3436, \"name\": \"karate\"}, {\"id\": 9715, ...   \n",
       "419   [{\"id\": 704, \"name\": \"adolescence\"}, {\"id\": 81...   \n",
       "420   [{\"id\": 2096, \"name\": \"auction\"}, {\"id\": 7005,...   \n",
       "\n",
       "                                               overview  \\\n",
       "0     In the 22nd century, a paraplegic Marine is di...   \n",
       "3494  Mark Singer returns as Dar, the warrior who ca...   \n",
       "813   Mild-mannered Clark Kent works as a reporter a...   \n",
       "870   Three escaped criminals from the planet Krypto...   \n",
       "46    The ultimate X-Men ensemble fights a war for t...   \n",
       "14    A young boy learns that he has extraordinary p...   \n",
       "1296  Aiming to defeat the Man of Steel, wealthy exe...   \n",
       "1652  The young warrior Son Goku sets out on a quest...   \n",
       "419   David Rice is a man who knows no boundaries, a...   \n",
       "420   In this continuation to the adventure of the d...   \n",
       "\n",
       "                                         genres_literal  \n",
       "0              Action Adventure Fantasy Science Fiction  \n",
       "3494           Action Adventure Fantasy Science Fiction  \n",
       "813            Action Adventure Fantasy Science Fiction  \n",
       "870            Action Adventure Fantasy Science Fiction  \n",
       "46             Action Adventure Fantasy Science Fiction  \n",
       "14             Action Adventure Fantasy Science Fiction  \n",
       "1296    Comedy Action Adventure Fantasy Science Fiction  \n",
       "1652  Action Adventure Fantasy Science Fiction Thriller  \n",
       "419                   Adventure Fantasy Science Fiction  \n",
       "420                   Adventure Fantasy Science Fiction  "
      ]
     },
     "execution_count": 164,
     "metadata": {},
     "output_type": "execute_result"
    }
   ],
   "source": [
    "df_movies.iloc[[   0, 3494,  813,  870,   46,   14, 1296, 1652,  419,  420]]\n",
    "\n",
    "# iloc 로 integer 로 인덱스 번호를 받아서 영화 정보를 보여줌"
   ]
  },
  {
   "cell_type": "code",
   "execution_count": null,
   "id": "4b0b04cf-722d-40fe-98dd-8d510fde555c",
   "metadata": {},
   "outputs": [],
   "source": [
    "\n"
   ]
  },
  {
   "cell_type": "code",
   "execution_count": 165,
   "id": "a846e048-efbe-4bcc-a72d-b6bdc5c7cee6",
   "metadata": {},
   "outputs": [],
   "source": [
    "# 8.1 Quiz\n",
    "\n",
    "# 영화 이름을 검색하면 10개의 추천 영화 제목과 평점을 출력하도록 코딩하시오\n",
    "# 힌트 : reshape 함수를 활용하세요\n"
   ]
  },
  {
   "cell_type": "code",
   "execution_count": 177,
   "id": "fd4ad9bf-bee4-4751-9117-5a0ac1729175",
   "metadata": {},
   "outputs": [
    {
     "name": "stdout",
     "output_type": "stream",
     "text": [
      "<class 'numpy.ndarray'>\n",
      "[[   0 3494  813  870   46   14 1296 1652  419  420]]\n"
     ]
    }
   ],
   "source": [
    "# 영화 이름을 입력 받으면 index 정보 찾기\n",
    "\n",
    "movie_name = 'avatar'\n",
    "title_movie = df_movies[df_movies['title'].str.lower().isin([movie_name.lower()])]\n",
    "title_movie\n",
    "\n",
    "movie_index = title_movie.index.values\n",
    "movie_index\n",
    "# index 정보를 이용하여 top10\n",
    "\n",
    "movie_top10 = genre_similarity_sorted_idx[movie_index, :10]\n",
    "print(type(movie_top10))\n",
    "\n",
    "print(movie_top10)"
   ]
  },
  {
   "cell_type": "code",
   "execution_count": 180,
   "id": "0b32ee5c-1d50-4e0c-bad5-e845cb8a5996",
   "metadata": {},
   "outputs": [
    {
     "name": "stdout",
     "output_type": "stream",
     "text": [
      "2 차원 :  [[   0 3494  813  870   46   14 1296 1652  419  420]]\n"
     ]
    }
   ],
   "source": [
    "\n",
    "print(movie_top10.ndim, '차원 : ', movie_top10)\n",
    "movie_top10 = movie_top10.reshape(-1)\n",
    "# reshape(-1)  -1 가변적으로 만들겠다\n"
   ]
  },
  {
   "cell_type": "code",
   "execution_count": 182,
   "id": "66f663c2-3b07-4262-bf10-83d283c6309a",
   "metadata": {},
   "outputs": [
    {
     "name": "stdout",
     "output_type": "stream",
     "text": [
      "1 차원 :  [   0 3494  813  870   46   14 1296 1652  419  420]\n"
     ]
    },
    {
     "data": {
      "text/html": [
       "<div>\n",
       "<style scoped>\n",
       "    .dataframe tbody tr th:only-of-type {\n",
       "        vertical-align: middle;\n",
       "    }\n",
       "\n",
       "    .dataframe tbody tr th {\n",
       "        vertical-align: top;\n",
       "    }\n",
       "\n",
       "    .dataframe thead th {\n",
       "        text-align: right;\n",
       "    }\n",
       "</style>\n",
       "<table border=\"1\" class=\"dataframe\">\n",
       "  <thead>\n",
       "    <tr style=\"text-align: right;\">\n",
       "      <th></th>\n",
       "      <th>id</th>\n",
       "      <th>title</th>\n",
       "      <th>genres</th>\n",
       "      <th>vote_average</th>\n",
       "      <th>vote_count</th>\n",
       "      <th>popularity</th>\n",
       "      <th>keywords</th>\n",
       "      <th>overview</th>\n",
       "      <th>genres_literal</th>\n",
       "    </tr>\n",
       "  </thead>\n",
       "  <tbody>\n",
       "    <tr>\n",
       "      <th>0</th>\n",
       "      <td>19995</td>\n",
       "      <td>Avatar</td>\n",
       "      <td>[Action, Adventure, Fantasy, Science Fiction]</td>\n",
       "      <td>7.2</td>\n",
       "      <td>11800</td>\n",
       "      <td>150.437577</td>\n",
       "      <td>[{\"id\": 1463, \"name\": \"culture clash\"}, {\"id\":...</td>\n",
       "      <td>In the 22nd century, a paraplegic Marine is di...</td>\n",
       "      <td>Action Adventure Fantasy Science Fiction</td>\n",
       "    </tr>\n",
       "    <tr>\n",
       "      <th>3494</th>\n",
       "      <td>27549</td>\n",
       "      <td>Beastmaster 2: Through the Portal of Time</td>\n",
       "      <td>[Action, Adventure, Fantasy, Science Fiction]</td>\n",
       "      <td>4.6</td>\n",
       "      <td>17</td>\n",
       "      <td>1.478505</td>\n",
       "      <td>[{\"id\": 818, \"name\": \"based on novel\"}, {\"id\":...</td>\n",
       "      <td>Mark Singer returns as Dar, the warrior who ca...</td>\n",
       "      <td>Action Adventure Fantasy Science Fiction</td>\n",
       "    </tr>\n",
       "    <tr>\n",
       "      <th>813</th>\n",
       "      <td>1924</td>\n",
       "      <td>Superman</td>\n",
       "      <td>[Action, Adventure, Fantasy, Science Fiction]</td>\n",
       "      <td>6.9</td>\n",
       "      <td>1022</td>\n",
       "      <td>48.507081</td>\n",
       "      <td>[{\"id\": 83, \"name\": \"saving the world\"}, {\"id\"...</td>\n",
       "      <td>Mild-mannered Clark Kent works as a reporter a...</td>\n",
       "      <td>Action Adventure Fantasy Science Fiction</td>\n",
       "    </tr>\n",
       "    <tr>\n",
       "      <th>870</th>\n",
       "      <td>8536</td>\n",
       "      <td>Superman II</td>\n",
       "      <td>[Action, Adventure, Fantasy, Science Fiction]</td>\n",
       "      <td>6.5</td>\n",
       "      <td>629</td>\n",
       "      <td>30.515175</td>\n",
       "      <td>[{\"id\": 83, \"name\": \"saving the world\"}, {\"id\"...</td>\n",
       "      <td>Three escaped criminals from the planet Krypto...</td>\n",
       "      <td>Action Adventure Fantasy Science Fiction</td>\n",
       "    </tr>\n",
       "    <tr>\n",
       "      <th>46</th>\n",
       "      <td>127585</td>\n",
       "      <td>X-Men: Days of Future Past</td>\n",
       "      <td>[Action, Adventure, Fantasy, Science Fiction]</td>\n",
       "      <td>7.5</td>\n",
       "      <td>6032</td>\n",
       "      <td>118.078691</td>\n",
       "      <td>[{\"id\": 1228, \"name\": \"1970s\"}, {\"id\": 1852, \"...</td>\n",
       "      <td>The ultimate X-Men ensemble fights a war for t...</td>\n",
       "      <td>Action Adventure Fantasy Science Fiction</td>\n",
       "    </tr>\n",
       "    <tr>\n",
       "      <th>14</th>\n",
       "      <td>49521</td>\n",
       "      <td>Man of Steel</td>\n",
       "      <td>[Action, Adventure, Fantasy, Science Fiction]</td>\n",
       "      <td>6.5</td>\n",
       "      <td>6359</td>\n",
       "      <td>99.398009</td>\n",
       "      <td>[{\"id\": 83, \"name\": \"saving the world\"}, {\"id\"...</td>\n",
       "      <td>A young boy learns that he has extraordinary p...</td>\n",
       "      <td>Action Adventure Fantasy Science Fiction</td>\n",
       "    </tr>\n",
       "    <tr>\n",
       "      <th>1296</th>\n",
       "      <td>9531</td>\n",
       "      <td>Superman III</td>\n",
       "      <td>[Comedy, Action, Adventure, Fantasy, Science F...</td>\n",
       "      <td>5.3</td>\n",
       "      <td>490</td>\n",
       "      <td>22.164202</td>\n",
       "      <td>[{\"id\": 83, \"name\": \"saving the world\"}, {\"id\"...</td>\n",
       "      <td>Aiming to defeat the Man of Steel, wealthy exe...</td>\n",
       "      <td>Comedy Action Adventure Fantasy Science Fiction</td>\n",
       "    </tr>\n",
       "    <tr>\n",
       "      <th>1652</th>\n",
       "      <td>14164</td>\n",
       "      <td>Dragonball Evolution</td>\n",
       "      <td>[Action, Adventure, Fantasy, Science Fiction, ...</td>\n",
       "      <td>2.9</td>\n",
       "      <td>462</td>\n",
       "      <td>21.677732</td>\n",
       "      <td>[{\"id\": 3436, \"name\": \"karate\"}, {\"id\": 9715, ...</td>\n",
       "      <td>The young warrior Son Goku sets out on a quest...</td>\n",
       "      <td>Action Adventure Fantasy Science Fiction Thriller</td>\n",
       "    </tr>\n",
       "    <tr>\n",
       "      <th>419</th>\n",
       "      <td>8247</td>\n",
       "      <td>Jumper</td>\n",
       "      <td>[Adventure, Fantasy, Science Fiction]</td>\n",
       "      <td>5.9</td>\n",
       "      <td>1799</td>\n",
       "      <td>21.218000</td>\n",
       "      <td>[{\"id\": 704, \"name\": \"adolescence\"}, {\"id\": 81...</td>\n",
       "      <td>David Rice is a man who knows no boundaries, a...</td>\n",
       "      <td>Adventure Fantasy Science Fiction</td>\n",
       "    </tr>\n",
       "    <tr>\n",
       "      <th>420</th>\n",
       "      <td>11253</td>\n",
       "      <td>Hellboy II: The Golden Army</td>\n",
       "      <td>[Adventure, Fantasy, Science Fiction]</td>\n",
       "      <td>6.5</td>\n",
       "      <td>1527</td>\n",
       "      <td>58.579760</td>\n",
       "      <td>[{\"id\": 2096, \"name\": \"auction\"}, {\"id\": 7005,...</td>\n",
       "      <td>In this continuation to the adventure of the d...</td>\n",
       "      <td>Adventure Fantasy Science Fiction</td>\n",
       "    </tr>\n",
       "  </tbody>\n",
       "</table>\n",
       "</div>"
      ],
      "text/plain": [
       "          id                                      title  \\\n",
       "0      19995                                     Avatar   \n",
       "3494   27549  Beastmaster 2: Through the Portal of Time   \n",
       "813     1924                                   Superman   \n",
       "870     8536                                Superman II   \n",
       "46    127585                 X-Men: Days of Future Past   \n",
       "14     49521                               Man of Steel   \n",
       "1296    9531                               Superman III   \n",
       "1652   14164                       Dragonball Evolution   \n",
       "419     8247                                     Jumper   \n",
       "420    11253                Hellboy II: The Golden Army   \n",
       "\n",
       "                                                 genres  vote_average  \\\n",
       "0         [Action, Adventure, Fantasy, Science Fiction]           7.2   \n",
       "3494      [Action, Adventure, Fantasy, Science Fiction]           4.6   \n",
       "813       [Action, Adventure, Fantasy, Science Fiction]           6.9   \n",
       "870       [Action, Adventure, Fantasy, Science Fiction]           6.5   \n",
       "46        [Action, Adventure, Fantasy, Science Fiction]           7.5   \n",
       "14        [Action, Adventure, Fantasy, Science Fiction]           6.5   \n",
       "1296  [Comedy, Action, Adventure, Fantasy, Science F...           5.3   \n",
       "1652  [Action, Adventure, Fantasy, Science Fiction, ...           2.9   \n",
       "419               [Adventure, Fantasy, Science Fiction]           5.9   \n",
       "420               [Adventure, Fantasy, Science Fiction]           6.5   \n",
       "\n",
       "      vote_count  popularity  \\\n",
       "0          11800  150.437577   \n",
       "3494          17    1.478505   \n",
       "813         1022   48.507081   \n",
       "870          629   30.515175   \n",
       "46          6032  118.078691   \n",
       "14          6359   99.398009   \n",
       "1296         490   22.164202   \n",
       "1652         462   21.677732   \n",
       "419         1799   21.218000   \n",
       "420         1527   58.579760   \n",
       "\n",
       "                                               keywords  \\\n",
       "0     [{\"id\": 1463, \"name\": \"culture clash\"}, {\"id\":...   \n",
       "3494  [{\"id\": 818, \"name\": \"based on novel\"}, {\"id\":...   \n",
       "813   [{\"id\": 83, \"name\": \"saving the world\"}, {\"id\"...   \n",
       "870   [{\"id\": 83, \"name\": \"saving the world\"}, {\"id\"...   \n",
       "46    [{\"id\": 1228, \"name\": \"1970s\"}, {\"id\": 1852, \"...   \n",
       "14    [{\"id\": 83, \"name\": \"saving the world\"}, {\"id\"...   \n",
       "1296  [{\"id\": 83, \"name\": \"saving the world\"}, {\"id\"...   \n",
       "1652  [{\"id\": 3436, \"name\": \"karate\"}, {\"id\": 9715, ...   \n",
       "419   [{\"id\": 704, \"name\": \"adolescence\"}, {\"id\": 81...   \n",
       "420   [{\"id\": 2096, \"name\": \"auction\"}, {\"id\": 7005,...   \n",
       "\n",
       "                                               overview  \\\n",
       "0     In the 22nd century, a paraplegic Marine is di...   \n",
       "3494  Mark Singer returns as Dar, the warrior who ca...   \n",
       "813   Mild-mannered Clark Kent works as a reporter a...   \n",
       "870   Three escaped criminals from the planet Krypto...   \n",
       "46    The ultimate X-Men ensemble fights a war for t...   \n",
       "14    A young boy learns that he has extraordinary p...   \n",
       "1296  Aiming to defeat the Man of Steel, wealthy exe...   \n",
       "1652  The young warrior Son Goku sets out on a quest...   \n",
       "419   David Rice is a man who knows no boundaries, a...   \n",
       "420   In this continuation to the adventure of the d...   \n",
       "\n",
       "                                         genres_literal  \n",
       "0              Action Adventure Fantasy Science Fiction  \n",
       "3494           Action Adventure Fantasy Science Fiction  \n",
       "813            Action Adventure Fantasy Science Fiction  \n",
       "870            Action Adventure Fantasy Science Fiction  \n",
       "46             Action Adventure Fantasy Science Fiction  \n",
       "14             Action Adventure Fantasy Science Fiction  \n",
       "1296    Comedy Action Adventure Fantasy Science Fiction  \n",
       "1652  Action Adventure Fantasy Science Fiction Thriller  \n",
       "419                   Adventure Fantasy Science Fiction  \n",
       "420                   Adventure Fantasy Science Fiction  "
      ]
     },
     "execution_count": 182,
     "metadata": {},
     "output_type": "execute_result"
    }
   ],
   "source": [
    "print(movie_top10.ndim, '차원 : ', movie_top10)\n",
    "# top10 정보를 이용하여 영화 제목, 평점 추출\n",
    "df_movies.iloc[movie_top10]\n",
    "# df_movies.iloc[[   0, 3494,  813,  870,   46,   14, 1296, 1652,  419,  420]]"
   ]
  },
  {
   "cell_type": "code",
   "execution_count": 183,
   "id": "8759cdbb-fbfc-42f2-8fc6-57834a64c73b",
   "metadata": {},
   "outputs": [],
   "source": [
    "# ndim은 배열의 차원을 나타내는 객체이다. \n",
    "# 현재 movie_top10의 차원을 알아 보기 위해 ndim을 사용하였다.\n",
    "\n",
    "# reshape 함수는 차원을 변경하기 위한 함수로 -1을 입력하게 되면 \n",
    "# 그 차원은 자동으로 설정하게 되며 현재는 -1만 입력되어 1차원으로 설정되게 된다.\n",
    "\n",
    "# top 10의 정보가 이차원 리스트 정보로 나타남으로 iloc에서 에러가 발생된다. \n",
    "# 이를 해결하기 위해 reshape함수를 이용하여 일차원 리스트로 변경하고 top10의 값을 추출할 수 있다."
   ]
  },
  {
   "cell_type": "code",
   "execution_count": 188,
   "id": "bf3ea19a-eb51-474e-8907-ba5d995cbc12",
   "metadata": {},
   "outputs": [
    {
     "data": {
      "text/html": [
       "<div>\n",
       "<style scoped>\n",
       "    .dataframe tbody tr th:only-of-type {\n",
       "        vertical-align: middle;\n",
       "    }\n",
       "\n",
       "    .dataframe tbody tr th {\n",
       "        vertical-align: top;\n",
       "    }\n",
       "\n",
       "    .dataframe thead th {\n",
       "        text-align: right;\n",
       "    }\n",
       "</style>\n",
       "<table border=\"1\" class=\"dataframe\">\n",
       "  <thead>\n",
       "    <tr style=\"text-align: right;\">\n",
       "      <th></th>\n",
       "      <th>title</th>\n",
       "      <th>vote_average</th>\n",
       "    </tr>\n",
       "  </thead>\n",
       "  <tbody>\n",
       "    <tr>\n",
       "      <th>0</th>\n",
       "      <td>Avatar</td>\n",
       "      <td>7.2</td>\n",
       "    </tr>\n",
       "    <tr>\n",
       "      <th>3494</th>\n",
       "      <td>Beastmaster 2: Through the Portal of Time</td>\n",
       "      <td>4.6</td>\n",
       "    </tr>\n",
       "    <tr>\n",
       "      <th>813</th>\n",
       "      <td>Superman</td>\n",
       "      <td>6.9</td>\n",
       "    </tr>\n",
       "    <tr>\n",
       "      <th>870</th>\n",
       "      <td>Superman II</td>\n",
       "      <td>6.5</td>\n",
       "    </tr>\n",
       "    <tr>\n",
       "      <th>46</th>\n",
       "      <td>X-Men: Days of Future Past</td>\n",
       "      <td>7.5</td>\n",
       "    </tr>\n",
       "    <tr>\n",
       "      <th>14</th>\n",
       "      <td>Man of Steel</td>\n",
       "      <td>6.5</td>\n",
       "    </tr>\n",
       "    <tr>\n",
       "      <th>1296</th>\n",
       "      <td>Superman III</td>\n",
       "      <td>5.3</td>\n",
       "    </tr>\n",
       "    <tr>\n",
       "      <th>1652</th>\n",
       "      <td>Dragonball Evolution</td>\n",
       "      <td>2.9</td>\n",
       "    </tr>\n",
       "    <tr>\n",
       "      <th>419</th>\n",
       "      <td>Jumper</td>\n",
       "      <td>5.9</td>\n",
       "    </tr>\n",
       "    <tr>\n",
       "      <th>420</th>\n",
       "      <td>Hellboy II: The Golden Army</td>\n",
       "      <td>6.5</td>\n",
       "    </tr>\n",
       "  </tbody>\n",
       "</table>\n",
       "</div>"
      ],
      "text/plain": [
       "                                          title  vote_average\n",
       "0                                        Avatar           7.2\n",
       "3494  Beastmaster 2: Through the Portal of Time           4.6\n",
       "813                                    Superman           6.9\n",
       "870                                 Superman II           6.5\n",
       "46                   X-Men: Days of Future Past           7.5\n",
       "14                                 Man of Steel           6.5\n",
       "1296                               Superman III           5.3\n",
       "1652                       Dragonball Evolution           2.9\n",
       "419                                      Jumper           5.9\n",
       "420                 Hellboy II: The Golden Army           6.5"
      ]
     },
     "execution_count": 188,
     "metadata": {},
     "output_type": "execute_result"
    }
   ],
   "source": [
    "df_movie_top10 = df_movies.iloc[movie_top10]\n",
    "df_movie_top10[['title', 'vote_average']]"
   ]
  },
  {
   "cell_type": "code",
   "execution_count": 185,
   "id": "2cc6c9ae-1e7f-4d6e-9b15-ada30e478285",
   "metadata": {},
   "outputs": [],
   "source": [
    "# 위와 같이 입력된 영화에 따른 top10의 영화를 추천해 줄 수 있다."
   ]
  },
  {
   "cell_type": "code",
   "execution_count": null,
   "id": "9aa46d35-7f1f-4b7e-8684-dd2c6375e0dd",
   "metadata": {},
   "outputs": [],
   "source": [
    "\n"
   ]
  },
  {
   "cell_type": "code",
   "execution_count": 189,
   "id": "2c07b8d3-fc4d-4a18-ac73-daddf569f57e",
   "metadata": {},
   "outputs": [
    {
     "data": {
      "text/html": [
       "<div>\n",
       "<style scoped>\n",
       "    .dataframe tbody tr th:only-of-type {\n",
       "        vertical-align: middle;\n",
       "    }\n",
       "\n",
       "    .dataframe tbody tr th {\n",
       "        vertical-align: top;\n",
       "    }\n",
       "\n",
       "    .dataframe thead th {\n",
       "        text-align: right;\n",
       "    }\n",
       "</style>\n",
       "<table border=\"1\" class=\"dataframe\">\n",
       "  <thead>\n",
       "    <tr style=\"text-align: right;\">\n",
       "      <th></th>\n",
       "      <th>title</th>\n",
       "      <th>vote_average</th>\n",
       "      <th>vote_count</th>\n",
       "    </tr>\n",
       "  </thead>\n",
       "  <tbody>\n",
       "    <tr>\n",
       "      <th>3519</th>\n",
       "      <td>Stiff Upper Lips</td>\n",
       "      <td>10.0</td>\n",
       "      <td>1</td>\n",
       "    </tr>\n",
       "    <tr>\n",
       "      <th>4247</th>\n",
       "      <td>Me You and Five Bucks</td>\n",
       "      <td>10.0</td>\n",
       "      <td>2</td>\n",
       "    </tr>\n",
       "    <tr>\n",
       "      <th>4045</th>\n",
       "      <td>Dancer, Texas Pop. 81</td>\n",
       "      <td>10.0</td>\n",
       "      <td>1</td>\n",
       "    </tr>\n",
       "    <tr>\n",
       "      <th>4662</th>\n",
       "      <td>Little Big Top</td>\n",
       "      <td>10.0</td>\n",
       "      <td>1</td>\n",
       "    </tr>\n",
       "    <tr>\n",
       "      <th>3992</th>\n",
       "      <td>Sardaarji</td>\n",
       "      <td>9.5</td>\n",
       "      <td>2</td>\n",
       "    </tr>\n",
       "    <tr>\n",
       "      <th>2386</th>\n",
       "      <td>One Man's Hero</td>\n",
       "      <td>9.3</td>\n",
       "      <td>2</td>\n",
       "    </tr>\n",
       "    <tr>\n",
       "      <th>2970</th>\n",
       "      <td>There Goes My Baby</td>\n",
       "      <td>8.5</td>\n",
       "      <td>2</td>\n",
       "    </tr>\n",
       "    <tr>\n",
       "      <th>1881</th>\n",
       "      <td>The Shawshank Redemption</td>\n",
       "      <td>8.5</td>\n",
       "      <td>8205</td>\n",
       "    </tr>\n",
       "    <tr>\n",
       "      <th>2796</th>\n",
       "      <td>The Prisoner of Zenda</td>\n",
       "      <td>8.4</td>\n",
       "      <td>11</td>\n",
       "    </tr>\n",
       "    <tr>\n",
       "      <th>3337</th>\n",
       "      <td>The Godfather</td>\n",
       "      <td>8.4</td>\n",
       "      <td>5893</td>\n",
       "    </tr>\n",
       "  </tbody>\n",
       "</table>\n",
       "</div>"
      ],
      "text/plain": [
       "                         title  vote_average  vote_count\n",
       "3519          Stiff Upper Lips          10.0           1\n",
       "4247     Me You and Five Bucks          10.0           2\n",
       "4045     Dancer, Texas Pop. 81          10.0           1\n",
       "4662            Little Big Top          10.0           1\n",
       "3992                 Sardaarji           9.5           2\n",
       "2386            One Man's Hero           9.3           2\n",
       "2970        There Goes My Baby           8.5           2\n",
       "1881  The Shawshank Redemption           8.5        8205\n",
       "2796     The Prisoner of Zenda           8.4          11\n",
       "3337             The Godfather           8.4        5893"
      ]
     },
     "execution_count": 189,
     "metadata": {},
     "output_type": "execute_result"
    }
   ],
   "source": [
    "df_movies[['title', 'vote_average', 'vote_count']].sort_values('vote_average', ascending=False)[:10]"
   ]
  },
  {
   "cell_type": "code",
   "execution_count": 190,
   "id": "53ab9dac-586f-4272-a823-4c641372ff2f",
   "metadata": {},
   "outputs": [],
   "source": [
    "# 위에서 보듯이 평점이 좋지만 투표수가 적은 경우의 영화를 추천하기에는 문제가 있다. \n",
    "# 따라서 가중치를 이용한 추천 시스템을 구축할 것이다. \n",
    "# 다음은 유명한 영화 평점 사이트인 IMDB에서 사용한 공식이다.\n",
    "\n",
    "# 가중 평점 = (v/(v+m)) * R + (m/(v+m)) * C\n",
    "# v : 개별 영화에 평점을 투표한 횟수\n",
    "# m : 평점을 부여하기 위한 최소 투표 횟수\n",
    "# R : 개별 영화에 대한 평균 평점\n",
    "# C : 전체 영화에 대한 평균 평점"
   ]
  },
  {
   "cell_type": "code",
   "execution_count": 196,
   "id": "7a4acd8f-dfc9-4792-b3a0-3fb91214b0f9",
   "metadata": {},
   "outputs": [
    {
     "name": "stdout",
     "output_type": "stream",
     "text": [
      "C :  6.092\n",
      "m :  370.2\n"
     ]
    }
   ],
   "source": [
    "#전체 영화에 대한 평균 평점\n",
    "C = df_movies['vote_average'].mean()\n",
    "\n",
    "#평점을 부여하기 위한 최소 투표 횟수\n",
    "m = df_movies['vote_count'].quantile(0.6)\n",
    "print('C : ', round(C, 3))\n",
    "print('m : ', round(m, 3))\n"
   ]
  },
  {
   "cell_type": "code",
   "execution_count": 199,
   "id": "a535a2b7-bcef-4d47-bd2c-f4d56a215afe",
   "metadata": {},
   "outputs": [
    {
     "data": {
      "text/plain": [
       "0       7.166301\n",
       "1       6.838594\n",
       "2       6.284091\n",
       "3       7.541095\n",
       "4       6.098838\n",
       "          ...   \n",
       "4798    6.290894\n",
       "4799    6.089611\n",
       "4800    6.106650\n",
       "4801    6.084894\n",
       "4802    6.100782\n",
       "Length: 4803, dtype: float64"
      ]
     },
     "execution_count": 199,
     "metadata": {},
     "output_type": "execute_result"
    }
   ],
   "source": [
    "# 개별 영화에 평점을 투표한 횟수\n",
    "v = df_movies['vote_count']\n",
    "\n",
    "# 개별 영화에 대한 평균 평점\n",
    "R = df_movies['vote_average']\n",
    "\n",
    "(v/(v+m)) * R + (m/(v+m)) * C"
   ]
  },
  {
   "cell_type": "code",
   "execution_count": 200,
   "id": "c5f41f74-8b72-4bbf-b360-12b0dcd00ed8",
   "metadata": {},
   "outputs": [],
   "source": [
    "# > 공식을 이용하여 각 영화들의 가중치 평점을 구했다."
   ]
  },
  {
   "cell_type": "code",
   "execution_count": 201,
   "id": "ad028010-8893-4f4c-837d-3c6ee2f9c183",
   "metadata": {},
   "outputs": [
    {
     "name": "stderr",
     "output_type": "stream",
     "text": [
      "<ipython-input-201-43d5bd9a17cc>:1: SettingWithCopyWarning: \n",
      "A value is trying to be set on a copy of a slice from a DataFrame.\n",
      "Try using .loc[row_indexer,col_indexer] = value instead\n",
      "\n",
      "See the caveats in the documentation: https://pandas.pydata.org/pandas-docs/stable/user_guide/indexing.html#returning-a-view-versus-a-copy\n",
      "  df_movies['weighted_vote'] = (v/(v+m)) * R + (m/(v+m)) * C\n"
     ]
    },
    {
     "data": {
      "text/html": [
       "<div>\n",
       "<style scoped>\n",
       "    .dataframe tbody tr th:only-of-type {\n",
       "        vertical-align: middle;\n",
       "    }\n",
       "\n",
       "    .dataframe tbody tr th {\n",
       "        vertical-align: top;\n",
       "    }\n",
       "\n",
       "    .dataframe thead th {\n",
       "        text-align: right;\n",
       "    }\n",
       "</style>\n",
       "<table border=\"1\" class=\"dataframe\">\n",
       "  <thead>\n",
       "    <tr style=\"text-align: right;\">\n",
       "      <th></th>\n",
       "      <th>title</th>\n",
       "      <th>vote_average</th>\n",
       "      <th>weighted_vote</th>\n",
       "      <th>vote_count</th>\n",
       "    </tr>\n",
       "  </thead>\n",
       "  <tbody>\n",
       "    <tr>\n",
       "      <th>3519</th>\n",
       "      <td>Stiff Upper Lips</td>\n",
       "      <td>10.0</td>\n",
       "      <td>6.102699</td>\n",
       "      <td>1</td>\n",
       "    </tr>\n",
       "    <tr>\n",
       "      <th>4247</th>\n",
       "      <td>Me You and Five Bucks</td>\n",
       "      <td>10.0</td>\n",
       "      <td>6.113170</td>\n",
       "      <td>2</td>\n",
       "    </tr>\n",
       "    <tr>\n",
       "      <th>4045</th>\n",
       "      <td>Dancer, Texas Pop. 81</td>\n",
       "      <td>10.0</td>\n",
       "      <td>6.102699</td>\n",
       "      <td>1</td>\n",
       "    </tr>\n",
       "    <tr>\n",
       "      <th>4662</th>\n",
       "      <td>Little Big Top</td>\n",
       "      <td>10.0</td>\n",
       "      <td>6.102699</td>\n",
       "      <td>1</td>\n",
       "    </tr>\n",
       "    <tr>\n",
       "      <th>3992</th>\n",
       "      <td>Sardaarji</td>\n",
       "      <td>9.5</td>\n",
       "      <td>6.110483</td>\n",
       "      <td>2</td>\n",
       "    </tr>\n",
       "    <tr>\n",
       "      <th>2386</th>\n",
       "      <td>One Man's Hero</td>\n",
       "      <td>9.3</td>\n",
       "      <td>6.109409</td>\n",
       "      <td>2</td>\n",
       "    </tr>\n",
       "    <tr>\n",
       "      <th>2970</th>\n",
       "      <td>There Goes My Baby</td>\n",
       "      <td>8.5</td>\n",
       "      <td>6.105110</td>\n",
       "      <td>2</td>\n",
       "    </tr>\n",
       "    <tr>\n",
       "      <th>1881</th>\n",
       "      <td>The Shawshank Redemption</td>\n",
       "      <td>8.5</td>\n",
       "      <td>8.396052</td>\n",
       "      <td>8205</td>\n",
       "    </tr>\n",
       "    <tr>\n",
       "      <th>2796</th>\n",
       "      <td>The Prisoner of Zenda</td>\n",
       "      <td>8.4</td>\n",
       "      <td>6.158767</td>\n",
       "      <td>11</td>\n",
       "    </tr>\n",
       "    <tr>\n",
       "      <th>3337</th>\n",
       "      <td>The Godfather</td>\n",
       "      <td>8.4</td>\n",
       "      <td>8.263591</td>\n",
       "      <td>5893</td>\n",
       "    </tr>\n",
       "  </tbody>\n",
       "</table>\n",
       "</div>"
      ],
      "text/plain": [
       "                         title  vote_average  weighted_vote  vote_count\n",
       "3519          Stiff Upper Lips          10.0       6.102699           1\n",
       "4247     Me You and Five Bucks          10.0       6.113170           2\n",
       "4045     Dancer, Texas Pop. 81          10.0       6.102699           1\n",
       "4662            Little Big Top          10.0       6.102699           1\n",
       "3992                 Sardaarji           9.5       6.110483           2\n",
       "2386            One Man's Hero           9.3       6.109409           2\n",
       "2970        There Goes My Baby           8.5       6.105110           2\n",
       "1881  The Shawshank Redemption           8.5       8.396052        8205\n",
       "2796     The Prisoner of Zenda           8.4       6.158767          11\n",
       "3337             The Godfather           8.4       8.263591        5893"
      ]
     },
     "execution_count": 201,
     "metadata": {},
     "output_type": "execute_result"
    }
   ],
   "source": [
    "df_movies['weighted_vote'] = (v/(v+m)) * R + (m/(v+m)) * C\n",
    "df_movies[['title', 'vote_average','weighted_vote', 'vote_count']].sort_values('vote_average', ascending=False)[:10]"
   ]
  },
  {
   "cell_type": "code",
   "execution_count": 202,
   "id": "d1c495ec-77f7-47de-a128-c88a132f9f38",
   "metadata": {},
   "outputs": [],
   "source": [
    "# 실행 결과 투표수가 적은 영화는 가중치 평점이 낮았으며 투표수가 많은 영화일 수록 실 평점과 비슷한 수준으로 가중치 평점이 나타났다. 이를 이용하여 영화를 추천해 보자"
   ]
  },
  {
   "cell_type": "code",
   "execution_count": 203,
   "id": "a06d9768-e238-45cb-af8b-fe37c3359a9c",
   "metadata": {},
   "outputs": [],
   "source": [
    "#  Quiz\n",
    "\n",
    "# 가중치 평균을 이용하여 상위 10개의 영화를 추천하는 프로그램을 만드시오."
   ]
  },
  {
   "cell_type": "code",
   "execution_count": null,
   "id": "bd23b476-edfd-453e-b5d8-3ea1f13f6b50",
   "metadata": {},
   "outputs": [],
   "source": []
  }
 ],
 "metadata": {
  "kernelspec": {
   "display_name": "Python 3",
   "language": "python",
   "name": "python3"
  },
  "language_info": {
   "codemirror_mode": {
    "name": "ipython",
    "version": 3
   },
   "file_extension": ".py",
   "mimetype": "text/x-python",
   "name": "python",
   "nbconvert_exporter": "python",
   "pygments_lexer": "ipython3",
   "version": "3.9.5"
  }
 },
 "nbformat": 4,
 "nbformat_minor": 5
}
