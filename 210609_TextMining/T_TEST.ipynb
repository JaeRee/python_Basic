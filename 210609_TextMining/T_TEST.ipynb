{
 "cells": [
  {
   "cell_type": "code",
   "execution_count": 9,
   "id": "e03f1140-c393-4df5-9d2f-a809a12d67ab",
   "metadata": {},
   "outputs": [],
   "source": [
    "%matplotlib inline\n",
    "import pandas as pd\n",
    "import numpy as np\n",
    "import matplotlib.pyplot as plt\n",
    "\n",
    "file_path = '../python-data-analysis-master/data/drinks.csv'\n",
    "drinks = pd.read_csv(file_path)\n"
   ]
  },
  {
   "cell_type": "code",
   "execution_count": 10,
   "id": "e58d6e12-808a-44bb-ad4b-dc29edeebc2e",
   "metadata": {},
   "outputs": [
    {
     "name": "stdout",
     "output_type": "stream",
     "text": [
      "Requirement already satisfied: scipy in c:\\users\\5-17\\jupylab\\lib\\site-packages (1.6.3)\n",
      "Requirement already satisfied: numpy<1.23.0,>=1.16.5 in c:\\users\\5-17\\jupylab\\lib\\site-packages (from scipy) (1.20.3)\n"
     ]
    }
   ],
   "source": [
    "!pip install scipy"
   ]
  },
  {
   "cell_type": "code",
   "execution_count": 11,
   "id": "1fc509b8-6538-4d3d-9ba0-da2d6913d636",
   "metadata": {},
   "outputs": [
    {
     "name": "stdout",
     "output_type": "stream",
     "text": [
      "Requirement already satisfied: pip in c:\\users\\5-17\\jupylab\\lib\\site-packages (21.1.2)\n"
     ]
    }
   ],
   "source": [
    "!pip install --upgrade pip"
   ]
  },
  {
   "cell_type": "code",
   "execution_count": null,
   "id": "f49fe449-6a0b-4a0f-91cb-93ca0643ecbc",
   "metadata": {},
   "outputs": [],
   "source": [
    "\n",
    "\n"
   ]
  },
  {
   "cell_type": "code",
   "execution_count": null,
   "id": "c9bc1f11-761e-487e-b667-57769a7ed065",
   "metadata": {},
   "outputs": [],
   "source": []
  },
  {
   "cell_type": "code",
   "execution_count": 16,
   "id": "4181e503-88f8-4648-8faa-bc8d03268e78",
   "metadata": {},
   "outputs": [
    {
     "name": "stdout",
     "output_type": "stream",
     "text": [
      "country                         0\n",
      "beer_servings                   0\n",
      "spirit_servings                 0\n",
      "wine_servings                   0\n",
      "total_litres_of_pure_alcohol    0\n",
      "continent                       0\n",
      "dtype: int64\n",
      "country                         0\n",
      "beer_servings                   0\n",
      "spirit_servings                 0\n",
      "wine_servings                   0\n",
      "total_litres_of_pure_alcohol    0\n",
      "continent                       0\n",
      "dtype: int64\n"
     ]
    }
   ],
   "source": [
    "print(drinks.isnull().sum())  \n",
    "drinks['continent'] = drinks['continent'].fillna('OT')\n",
    "print(drinks.isnull().sum())  "
   ]
  },
  {
   "cell_type": "code",
   "execution_count": 20,
   "id": "353afa4b-3d10-4394-aa52-129b8d6c9b07",
   "metadata": {},
   "outputs": [
    {
     "name": "stdout",
     "output_type": "stream",
     "text": [
      "The t-statistic and p-value assuming equal variances id -7.268 and 0.000.\n",
      "The t-statistic and p-value not assuming equal variances id -7.144 and 0.000.\n"
     ]
    }
   ],
   "source": [
    "# 아프리카와 유럽간의 맥주 소비량 차이를 검정합니다.\n",
    "\n",
    "africa = drinks.loc[drinks['continent']=='AF']       # 데이터프레임이 아프리카 이것만 따로 모아옴\n",
    "europe = drinks.loc[drinks['continent']=='EU']\n",
    "\n",
    "from scipy import stats\n",
    "tTestResult = stats.ttest_ind(africa['beer_servings'], europe['beer_servings'])\n",
    "tTestResultDiffVar = stats.ttest_ind(africa['beer_servings'], europe['beer_servings'], equal_var=False)\n",
    "\n",
    "print(\"The t-statistic and p-value assuming equal variances id %.3f and %.3f.\"% tTestResult)\n",
    "print(\"The t-statistic and p-value not assuming equal variances id %.3f and %.3f.\"% tTestResultDiffVar)\n"
   ]
  },
  {
   "cell_type": "code",
   "execution_count": null,
   "id": "02f388f4-4550-4d94-87b1-9b9ad256a56a",
   "metadata": {},
   "outputs": [],
   "source": [
    "\n",
    "\n",
    "\n",
    "\n",
    "# 6 line : scipy(사이파이) 라이브러리에서 stats 를 임포트\n",
    "# 7 line : ttest_ind 모듈 함수 사용\n",
    "# 8 line : 분산이 같냐 다르냐 에 대한 파라미터 추가\n",
    "\n",
    "\n",
    "\n",
    "'''\n",
    "\n",
    "t-test\n",
    "- 두 집단간의 평균의 차이에 대한 검정 방법 \n",
    "  티테스트는 검정 대상인 두 집단의 데이터 갯수가 비슷하면서 \n",
    "  정규분포를 보이는 경우에 신뢰도가 높다고 본다\n",
    "- 일반적으로 그런 경우는 드물다.\n",
    "\n",
    "\n",
    "t-statistic :   t 검정 통계량 \n",
    "p-value   :   만약 데이터를 새로 샘플링했을때 귀무가설이 맞다는 전제하에 지금 나온 통계량 이상이 또 나올 확률.... \n",
    "귀무가설 :   처음부터 버릴 것을 예상한 가설\n",
    "\n",
    "p-value 가 낮으면 가설이 일어날 확률이 낮다\n",
    "보통 기준이 0.05 나 0.01 보다 낮으면 귀무가설을 기각한다.\n",
    "\n",
    "\n",
    "'''\n",
    "\n",
    "\n",
    "\n",
    "\n",
    "'''\n",
    "\n",
    "\n",
    "탐색적 분석\n",
    "- 데이터가 어떻게 구성됐냐...\n",
    "- 어떤 특징을 가지는지..\n",
    "- 어떤 인사이트가 나오는지\n",
    "- 엣지있는 정보들을 얻음\n",
    "\n",
    "\n",
    "통계적 분석\n",
    "- 과연 어떤 정보가 신뢰가 있는가\n",
    "- 검증을 해보는 것\n",
    "\n",
    "\n",
    "'''"
   ]
  },
  {
   "cell_type": "code",
   "execution_count": null,
   "id": "a9db6bea-213b-4f28-b93e-8f726dafc26f",
   "metadata": {},
   "outputs": [],
   "source": []
  }
 ],
 "metadata": {
  "kernelspec": {
   "display_name": "Python 3",
   "language": "python",
   "name": "python3"
  },
  "language_info": {
   "codemirror_mode": {
    "name": "ipython",
    "version": 3
   },
   "file_extension": ".py",
   "mimetype": "text/x-python",
   "name": "python",
   "nbconvert_exporter": "python",
   "pygments_lexer": "ipython3",
   "version": "3.9.5"
  }
 },
 "nbformat": 4,
 "nbformat_minor": 5
}
