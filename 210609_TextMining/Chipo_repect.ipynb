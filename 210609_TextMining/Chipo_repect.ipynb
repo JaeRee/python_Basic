{
 "cells": [
  {
   "cell_type": "code",
   "execution_count": 1,
   "id": "01648700-779f-48f3-9ac6-9bc2d1fb3622",
   "metadata": {},
   "outputs": [],
   "source": [
    "#EDA 탐색적 데이터 분석\n"
   ]
  },
  {
   "cell_type": "code",
   "execution_count": 5,
   "id": "e322119f-85bc-4a23-9cb2-02ab5e3de0f3",
   "metadata": {},
   "outputs": [],
   "source": [
    "import pandas as pd\n",
    "\n",
    "file_path ='../python-data-analysis-master/data/chipotle.tsv'\n",
    "chipo = pd.read_csv(file_path, sep = '\\t')\n",
    "\n",
    "# read_csv 함수로 데이터 프레임형태로 불러옴"
   ]
  },
  {
   "cell_type": "code",
   "execution_count": 7,
   "id": "92e518e3-bbd7-405a-838a-05cdb72dd5cb",
   "metadata": {},
   "outputs": [
    {
     "name": "stdout",
     "output_type": "stream",
     "text": [
      "(4622, 5)\n",
      "ㅡㅡㅡㅡㅡㅡㅡㅡㅡㅡㅡㅡㅡㅡㅡㅡㅡㅡㅡㅡㅡㅡ\n",
      "<class 'pandas.core.frame.DataFrame'>\n",
      "RangeIndex: 4622 entries, 0 to 4621\n",
      "Data columns (total 5 columns):\n",
      " #   Column              Non-Null Count  Dtype \n",
      "---  ------              --------------  ----- \n",
      " 0   order_id            4622 non-null   int64 \n",
      " 1   quantity            4622 non-null   int64 \n",
      " 2   item_name           4622 non-null   object\n",
      " 3   choice_description  3376 non-null   object\n",
      " 4   item_price          4622 non-null   object\n",
      "dtypes: int64(2), object(3)\n",
      "memory usage: 180.7+ KB\n",
      "None\n"
     ]
    }
   ],
   "source": [
    "print(chipo.shape)     # shape 는 몇행, 몇열인지 알려줌\n",
    "print(\"ㅡㅡㅡㅡㅡㅡㅡㅡㅡㅡㅡㅡㅡㅡㅡㅡㅡㅡㅡㅡㅡㅡ\")\n",
    "print(chipo.info())"
   ]
  },
  {
   "cell_type": "code",
   "execution_count": 12,
   "id": "3987e197-ed5c-4f6e-917e-799a7d662f6d",
   "metadata": {},
   "outputs": [
    {
     "data": {
      "text/html": [
       "<div>\n",
       "<style scoped>\n",
       "    .dataframe tbody tr th:only-of-type {\n",
       "        vertical-align: middle;\n",
       "    }\n",
       "\n",
       "    .dataframe tbody tr th {\n",
       "        vertical-align: top;\n",
       "    }\n",
       "\n",
       "    .dataframe thead th {\n",
       "        text-align: right;\n",
       "    }\n",
       "</style>\n",
       "<table border=\"1\" class=\"dataframe\">\n",
       "  <thead>\n",
       "    <tr style=\"text-align: right;\">\n",
       "      <th></th>\n",
       "      <th>order_id</th>\n",
       "      <th>quantity</th>\n",
       "      <th>item_name</th>\n",
       "      <th>choice_description</th>\n",
       "      <th>item_price</th>\n",
       "    </tr>\n",
       "  </thead>\n",
       "  <tbody>\n",
       "    <tr>\n",
       "      <th>0</th>\n",
       "      <td>1</td>\n",
       "      <td>1</td>\n",
       "      <td>Chips and Fresh Tomato Salsa</td>\n",
       "      <td>NaN</td>\n",
       "      <td>$2.39</td>\n",
       "    </tr>\n",
       "    <tr>\n",
       "      <th>1</th>\n",
       "      <td>1</td>\n",
       "      <td>1</td>\n",
       "      <td>Izze</td>\n",
       "      <td>[Clementine]</td>\n",
       "      <td>$3.39</td>\n",
       "    </tr>\n",
       "    <tr>\n",
       "      <th>2</th>\n",
       "      <td>1</td>\n",
       "      <td>1</td>\n",
       "      <td>Nantucket Nectar</td>\n",
       "      <td>[Apple]</td>\n",
       "      <td>$3.39</td>\n",
       "    </tr>\n",
       "    <tr>\n",
       "      <th>3</th>\n",
       "      <td>1</td>\n",
       "      <td>1</td>\n",
       "      <td>Chips and Tomatillo-Green Chili Salsa</td>\n",
       "      <td>NaN</td>\n",
       "      <td>$2.39</td>\n",
       "    </tr>\n",
       "    <tr>\n",
       "      <th>4</th>\n",
       "      <td>2</td>\n",
       "      <td>2</td>\n",
       "      <td>Chicken Bowl</td>\n",
       "      <td>[Tomatillo-Red Chili Salsa (Hot), [Black Beans...</td>\n",
       "      <td>$16.98</td>\n",
       "    </tr>\n",
       "  </tbody>\n",
       "</table>\n",
       "</div>"
      ],
      "text/plain": [
       "   order_id  quantity                              item_name  \\\n",
       "0         1         1           Chips and Fresh Tomato Salsa   \n",
       "1         1         1                                   Izze   \n",
       "2         1         1                       Nantucket Nectar   \n",
       "3         1         1  Chips and Tomatillo-Green Chili Salsa   \n",
       "4         2         2                           Chicken Bowl   \n",
       "\n",
       "                                  choice_description item_price  \n",
       "0                                                NaN     $2.39   \n",
       "1                                       [Clementine]     $3.39   \n",
       "2                                            [Apple]     $3.39   \n",
       "3                                                NaN     $2.39   \n",
       "4  [Tomatillo-Red Chili Salsa (Hot), [Black Beans...    $16.98   "
      ]
     },
     "execution_count": 12,
     "metadata": {},
     "output_type": "execute_result"
    }
   ],
   "source": [
    "chipo.head()"
   ]
  },
  {
   "cell_type": "code",
   "execution_count": 9,
   "id": "19c702f5-175c-4f88-bc1c-3c432df32c1f",
   "metadata": {},
   "outputs": [],
   "source": [
    "# chipo 는 맥도널드 다음으로 유명한 가게\n",
    "# 앞에 0~4 는 index\n",
    "# order_id 는 주문번호\n",
    "# quantity 는 주문량\n",
    "# item_name 는 음식이름\n",
    "# choice_description 는 토핑\n",
    "# item_price 는 음식가격"
   ]
  },
  {
   "cell_type": "code",
   "execution_count": null,
   "id": "5797f41e-593f-4c70-8d85-9bb670f92072",
   "metadata": {},
   "outputs": [],
   "source": []
  },
  {
   "cell_type": "code",
   "execution_count": 10,
   "id": "aa667401-c307-466f-b643-8543218d91a6",
   "metadata": {},
   "outputs": [
    {
     "data": {
      "text/html": [
       "<div>\n",
       "<style scoped>\n",
       "    .dataframe tbody tr th:only-of-type {\n",
       "        vertical-align: middle;\n",
       "    }\n",
       "\n",
       "    .dataframe tbody tr th {\n",
       "        vertical-align: top;\n",
       "    }\n",
       "\n",
       "    .dataframe thead th {\n",
       "        text-align: right;\n",
       "    }\n",
       "</style>\n",
       "<table border=\"1\" class=\"dataframe\">\n",
       "  <thead>\n",
       "    <tr style=\"text-align: right;\">\n",
       "      <th></th>\n",
       "      <th>order_id</th>\n",
       "      <th>quantity</th>\n",
       "    </tr>\n",
       "  </thead>\n",
       "  <tbody>\n",
       "    <tr>\n",
       "      <th>count</th>\n",
       "      <td>4622.000000</td>\n",
       "      <td>4622.000000</td>\n",
       "    </tr>\n",
       "    <tr>\n",
       "      <th>mean</th>\n",
       "      <td>927.254868</td>\n",
       "      <td>1.075725</td>\n",
       "    </tr>\n",
       "    <tr>\n",
       "      <th>std</th>\n",
       "      <td>528.890796</td>\n",
       "      <td>0.410186</td>\n",
       "    </tr>\n",
       "    <tr>\n",
       "      <th>min</th>\n",
       "      <td>1.000000</td>\n",
       "      <td>1.000000</td>\n",
       "    </tr>\n",
       "    <tr>\n",
       "      <th>25%</th>\n",
       "      <td>477.250000</td>\n",
       "      <td>1.000000</td>\n",
       "    </tr>\n",
       "    <tr>\n",
       "      <th>50%</th>\n",
       "      <td>926.000000</td>\n",
       "      <td>1.000000</td>\n",
       "    </tr>\n",
       "    <tr>\n",
       "      <th>75%</th>\n",
       "      <td>1393.000000</td>\n",
       "      <td>1.000000</td>\n",
       "    </tr>\n",
       "    <tr>\n",
       "      <th>max</th>\n",
       "      <td>1834.000000</td>\n",
       "      <td>15.000000</td>\n",
       "    </tr>\n",
       "  </tbody>\n",
       "</table>\n",
       "</div>"
      ],
      "text/plain": [
       "          order_id     quantity\n",
       "count  4622.000000  4622.000000\n",
       "mean    927.254868     1.075725\n",
       "std     528.890796     0.410186\n",
       "min       1.000000     1.000000\n",
       "25%     477.250000     1.000000\n",
       "50%     926.000000     1.000000\n",
       "75%    1393.000000     1.000000\n",
       "max    1834.000000    15.000000"
      ]
     },
     "execution_count": 10,
     "metadata": {},
     "output_type": "execute_result"
    }
   ],
   "source": [
    "chipo.describe()    # 요약통계 보여줌"
   ]
  },
  {
   "cell_type": "code",
   "execution_count": null,
   "id": "d4dceace-fcf6-4195-a4c8-bd04eb386f46",
   "metadata": {},
   "outputs": [],
   "source": []
  },
  {
   "cell_type": "code",
   "execution_count": 14,
   "id": "ed653520-f222-4e31-8d0d-2488fe12711e",
   "metadata": {},
   "outputs": [
    {
     "name": "stdout",
     "output_type": "stream",
     "text": [
      "Index(['order_id', 'quantity', 'item_name', 'choice_description',\n",
      "       'item_price'],\n",
      "      dtype='object')\n",
      "ㅡㅡㅡㅡㅡㅡㅡㅡㅡㅡㅡㅡㅡㅡㅡㅡㅡㅡㅡㅡㅡㅡㅡ\n",
      "RangeIndex(start=0, stop=4622, step=1)\n"
     ]
    }
   ],
   "source": [
    "print(chipo.columns)\n",
    "print(\"ㅡㅡㅡㅡㅡㅡㅡㅡㅡㅡㅡㅡㅡㅡㅡㅡㅡㅡㅡㅡㅡㅡㅡ\")\n",
    "print(chipo.index)"
   ]
  },
  {
   "cell_type": "code",
   "execution_count": null,
   "id": "922b0591-d86e-468b-ae37-43762d2c0878",
   "metadata": {},
   "outputs": [],
   "source": []
  },
  {
   "cell_type": "code",
   "execution_count": 15,
   "id": "6f72bc9d-518c-43aa-92f8-b9502591bba1",
   "metadata": {},
   "outputs": [
    {
     "name": "stdout",
     "output_type": "stream",
     "text": [
      "          quantity\n",
      "count  4622.000000\n",
      "mean      1.075725\n",
      "std       0.410186\n",
      "min       1.000000\n",
      "25%       1.000000\n",
      "50%       1.000000\n",
      "75%       1.000000\n",
      "max      15.000000\n"
     ]
    }
   ],
   "source": [
    "chipo['order_id'] = chipo['order_id'].astype(str)\n",
    "print(chipo.describe())\n",
    "\n",
    "#칩포에서 오더아이디를 int형 타입에서 str(object) 타입으로 변경\n",
    "#택배에서 송장번호는 더하거나 빼도 의미가 없으니까 문자형으로..."
   ]
  },
  {
   "cell_type": "code",
   "execution_count": null,
   "id": "b8e62ce5-2004-497a-8993-1e46aa20ff50",
   "metadata": {},
   "outputs": [],
   "source": [
    "# 수치형 데이터를 검색할 떄는 describe 를 사용한다\n",
    "# 범주형 데이터를 검색할 때는 unique 를 사용한다. "
   ]
  },
  {
   "cell_type": "code",
   "execution_count": 19,
   "id": "478dcb1c-857b-4570-94fa-3dc136375f29",
   "metadata": {},
   "outputs": [
    {
     "name": "stdout",
     "output_type": "stream",
     "text": [
      "1834\n",
      "50\n"
     ]
    }
   ],
   "source": [
    "print(len(chipo['order_id'].unique()))  # id 의 갯수를 출력\n",
    "print(len(chipo['item_name'].unique()))   # name의 갯수를 출력\n",
    "\n",
    "\n",
    "# unique 는 고유한 값... 중복값을 제거한다.\n",
    "# 주문번호 총 1834개 있고, 메뉴의 종류는 50개 "
   ]
  },
  {
   "cell_type": "code",
   "execution_count": null,
   "id": "6bc43a67-7124-45de-b7ac-c64524fc0cb9",
   "metadata": {},
   "outputs": [],
   "source": []
  },
  {
   "cell_type": "code",
   "execution_count": 22,
   "id": "8faa864c-8641-46e7-8a1c-1e20124b60b6",
   "metadata": {},
   "outputs": [
    {
     "data": {
      "text/plain": [
       "Chicken Bowl                             726\n",
       "Chicken Burrito                          553\n",
       "Chips and Guacamole                      479\n",
       "Steak Burrito                            368\n",
       "Canned Soft Drink                        301\n",
       "Chips                                    211\n",
       "Steak Bowl                               211\n",
       "Bottled Water                            162\n",
       "Chicken Soft Tacos                       115\n",
       "Chips and Fresh Tomato Salsa             110\n",
       "Chicken Salad Bowl                       110\n",
       "Canned Soda                              104\n",
       "Side of Chips                            101\n",
       "Veggie Burrito                            95\n",
       "Barbacoa Burrito                          91\n",
       "Veggie Bowl                               85\n",
       "Carnitas Bowl                             68\n",
       "Barbacoa Bowl                             66\n",
       "Carnitas Burrito                          59\n",
       "Steak Soft Tacos                          55\n",
       "6 Pack Soft Drink                         54\n",
       "Chips and Tomatillo Red Chili Salsa       48\n",
       "Chicken Crispy Tacos                      47\n",
       "Chips and Tomatillo Green Chili Salsa     43\n",
       "Carnitas Soft Tacos                       40\n",
       "Steak Crispy Tacos                        35\n",
       "Chips and Tomatillo-Green Chili Salsa     31\n",
       "Steak Salad Bowl                          29\n",
       "Nantucket Nectar                          27\n",
       "Barbacoa Soft Tacos                       25\n",
       "Chips and Roasted Chili Corn Salsa        22\n",
       "Chips and Tomatillo-Red Chili Salsa       20\n",
       "Izze                                      20\n",
       "Chips and Roasted Chili-Corn Salsa        18\n",
       "Veggie Salad Bowl                         18\n",
       "Barbacoa Crispy Tacos                     11\n",
       "Barbacoa Salad Bowl                       10\n",
       "Chicken Salad                              9\n",
       "Veggie Soft Tacos                          7\n",
       "Carnitas Crispy Tacos                      7\n",
       "Burrito                                    6\n",
       "Carnitas Salad Bowl                        6\n",
       "Veggie Salad                               6\n",
       "Steak Salad                                4\n",
       "Bowl                                       2\n",
       "Salad                                      2\n",
       "Crispy Tacos                               2\n",
       "Carnitas Salad                             1\n",
       "Chips and Mild Fresh Tomato Salsa          1\n",
       "Veggie Crispy Tacos                        1\n",
       "Name: item_name, dtype: int64"
      ]
     },
     "execution_count": 22,
     "metadata": {},
     "output_type": "execute_result"
    }
   ],
   "source": [
    "chipo['item_name'].value_counts()"
   ]
  },
  {
   "cell_type": "code",
   "execution_count": null,
   "id": "db93e6bf-a21c-4b29-b52e-828ea8d04fd5",
   "metadata": {},
   "outputs": [],
   "source": []
  },
  {
   "cell_type": "code",
   "execution_count": 32,
   "id": "bb7c7ff0-9930-41c1-9d68-a6287bc76805",
   "metadata": {},
   "outputs": [
    {
     "name": "stdout",
     "output_type": "stream",
     "text": [
      "Top 1 : Chicken Bowl 726\n",
      "Top 2 : Chicken Burrito 553\n",
      "Top 3 : Chips and Guacamole 479\n",
      "Top 4 : Steak Burrito 368\n",
      "Top 5 : Canned Soft Drink 301\n",
      "Top 6 : Chips 211\n",
      "Top 7 : Steak Bowl 211\n",
      "Top 8 : Bottled Water 162\n",
      "Top 9 : Chicken Soft Tacos 115\n",
      "Top 10 : Chips and Fresh Tomato Salsa 110\n"
     ]
    }
   ],
   "source": [
    "# 상위 10개의 메뉴를 봄\n",
    "item_count = chipo['item_name'].value_counts()[:10]\n",
    "for idx, (val, cnt) in enumerate(item_count.iteritems(),1):\n",
    "    print('Top', idx, \":\", val, cnt)"
   ]
  },
  {
   "cell_type": "code",
   "execution_count": null,
   "id": "71001c97-1c40-4b5a-979d-a297c2b2d52b",
   "metadata": {},
   "outputs": [],
   "source": []
  },
  {
   "cell_type": "code",
   "execution_count": 41,
   "id": "562ccac0-6976-4ef2-b73a-f342b454e40e",
   "metadata": {},
   "outputs": [
    {
     "data": {
      "text/plain": [
       "item_name\n",
       "6 Pack Soft Drink         54\n",
       "Barbacoa Bowl             66\n",
       "Barbacoa Burrito          91\n",
       "Barbacoa Crispy Tacos     11\n",
       "Barbacoa Salad Bowl       10\n",
       "Barbacoa Soft Tacos       25\n",
       "Bottled Water            162\n",
       "Bowl                       2\n",
       "Burrito                    6\n",
       "Canned Soda              104\n",
       "Name: order_id, dtype: int64"
      ]
     },
     "execution_count": 41,
     "metadata": {},
     "output_type": "execute_result"
    }
   ],
   "source": [
    "# item당 주문 개수를 출력합니다.\n",
    "\n",
    "order_count = chipo.groupby('item_name')['order_id'].count()\n",
    "order_count[:10]"
   ]
  },
  {
   "cell_type": "code",
   "execution_count": null,
   "id": "79da075b-6df3-4587-8fac-28ed67fbc616",
   "metadata": {},
   "outputs": [],
   "source": []
  },
  {
   "cell_type": "code",
   "execution_count": null,
   "id": "132c0e55-1d19-4ce9-a4bc-cc8d75f7141e",
   "metadata": {},
   "outputs": [],
   "source": []
  },
  {
   "cell_type": "code",
   "execution_count": 49,
   "id": "44479ebe-0ad6-4d16-a848-4ae8e0397d4e",
   "metadata": {},
   "outputs": [
    {
     "data": {
      "text/plain": [
       "item_name\n",
       "6 Pack Soft Drink         55\n",
       "Barbacoa Bowl             66\n",
       "Barbacoa Burrito          91\n",
       "Barbacoa Crispy Tacos     12\n",
       "Barbacoa Salad Bowl       10\n",
       "Barbacoa Soft Tacos       25\n",
       "Bottled Water            211\n",
       "Bowl                       4\n",
       "Burrito                    6\n",
       "Canned Soda              126\n",
       "Name: quantity, dtype: int64"
      ]
     },
     "execution_count": 49,
     "metadata": {},
     "output_type": "execute_result"
    }
   ],
   "source": [
    "# item당 주문 총량을 출력합니다.\n",
    "item_quantity = chipo.groupby('item_name')['quantity'].sum()\n",
    "item_quantity[:10]"
   ]
  },
  {
   "cell_type": "code",
   "execution_count": 63,
   "id": "8d9aad32-bcdc-461e-ae26-517056dc4262",
   "metadata": {},
   "outputs": [
    {
     "data": {
      "text/plain": [
       "Index(['6 Pack Soft Drink', 'Barbacoa Bowl', 'Barbacoa Burrito',\n",
       "       'Barbacoa Crispy Tacos', 'Barbacoa Salad Bowl', 'Barbacoa Soft Tacos',\n",
       "       'Bottled Water', 'Bowl', 'Burrito', 'Canned Soda', 'Canned Soft Drink',\n",
       "       'Carnitas Bowl', 'Carnitas Burrito', 'Carnitas Crispy Tacos',\n",
       "       'Carnitas Salad', 'Carnitas Salad Bowl', 'Carnitas Soft Tacos',\n",
       "       'Chicken Bowl', 'Chicken Burrito', 'Chicken Crispy Tacos',\n",
       "       'Chicken Salad', 'Chicken Salad Bowl', 'Chicken Soft Tacos', 'Chips',\n",
       "       'Chips and Fresh Tomato Salsa', 'Chips and Guacamole',\n",
       "       'Chips and Mild Fresh Tomato Salsa',\n",
       "       'Chips and Roasted Chili Corn Salsa',\n",
       "       'Chips and Roasted Chili-Corn Salsa',\n",
       "       'Chips and Tomatillo Green Chili Salsa',\n",
       "       'Chips and Tomatillo Red Chili Salsa',\n",
       "       'Chips and Tomatillo-Green Chili Salsa',\n",
       "       'Chips and Tomatillo-Red Chili Salsa', 'Crispy Tacos', 'Izze',\n",
       "       'Nantucket Nectar', 'Salad', 'Side of Chips', 'Steak Bowl',\n",
       "       'Steak Burrito', 'Steak Crispy Tacos', 'Steak Salad',\n",
       "       'Steak Salad Bowl', 'Steak Soft Tacos', 'Veggie Bowl', 'Veggie Burrito',\n",
       "       'Veggie Crispy Tacos', 'Veggie Salad', 'Veggie Salad Bowl',\n",
       "       'Veggie Soft Tacos'],\n",
       "      dtype='object', name='item_name')"
      ]
     },
     "execution_count": 63,
     "metadata": {},
     "output_type": "execute_result"
    }
   ],
   "source": [
    "item_quantity.index"
   ]
  },
  {
   "cell_type": "code",
   "execution_count": 65,
   "id": "17ec73e3-e8d3-4996-9331-45fd353e3393",
   "metadata": {},
   "outputs": [
    {
     "data": {
      "text/plain": [
       "['6 Pack Soft Drink',\n",
       " 'Barbacoa Bowl',\n",
       " 'Barbacoa Burrito',\n",
       " 'Barbacoa Crispy Tacos',\n",
       " 'Barbacoa Salad Bowl',\n",
       " 'Barbacoa Soft Tacos',\n",
       " 'Bottled Water',\n",
       " 'Bowl',\n",
       " 'Burrito',\n",
       " 'Canned Soda',\n",
       " 'Canned Soft Drink',\n",
       " 'Carnitas Bowl',\n",
       " 'Carnitas Burrito',\n",
       " 'Carnitas Crispy Tacos',\n",
       " 'Carnitas Salad',\n",
       " 'Carnitas Salad Bowl',\n",
       " 'Carnitas Soft Tacos',\n",
       " 'Chicken Bowl',\n",
       " 'Chicken Burrito',\n",
       " 'Chicken Crispy Tacos',\n",
       " 'Chicken Salad',\n",
       " 'Chicken Salad Bowl',\n",
       " 'Chicken Soft Tacos',\n",
       " 'Chips',\n",
       " 'Chips and Fresh Tomato Salsa',\n",
       " 'Chips and Guacamole',\n",
       " 'Chips and Mild Fresh Tomato Salsa',\n",
       " 'Chips and Roasted Chili Corn Salsa',\n",
       " 'Chips and Roasted Chili-Corn Salsa',\n",
       " 'Chips and Tomatillo Green Chili Salsa',\n",
       " 'Chips and Tomatillo Red Chili Salsa',\n",
       " 'Chips and Tomatillo-Green Chili Salsa',\n",
       " 'Chips and Tomatillo-Red Chili Salsa',\n",
       " 'Crispy Tacos',\n",
       " 'Izze',\n",
       " 'Nantucket Nectar',\n",
       " 'Salad',\n",
       " 'Side of Chips',\n",
       " 'Steak Bowl',\n",
       " 'Steak Burrito',\n",
       " 'Steak Crispy Tacos',\n",
       " 'Steak Salad',\n",
       " 'Steak Salad Bowl',\n",
       " 'Steak Soft Tacos',\n",
       " 'Veggie Bowl',\n",
       " 'Veggie Burrito',\n",
       " 'Veggie Crispy Tacos',\n",
       " 'Veggie Salad',\n",
       " 'Veggie Salad Bowl',\n",
       " 'Veggie Soft Tacos']"
      ]
     },
     "execution_count": 65,
     "metadata": {},
     "output_type": "execute_result"
    }
   ],
   "source": [
    "item_quantity.index.tolist()\n"
   ]
  },
  {
   "cell_type": "code",
   "execution_count": 68,
   "id": "63aa60ab-83e5-44fa-a368-4d321a8d7849",
   "metadata": {},
   "outputs": [
    {
     "data": {
      "text/plain": [
       "50"
      ]
     },
     "execution_count": 68,
     "metadata": {},
     "output_type": "execute_result"
    }
   ],
   "source": [
    "len(item_quantity.index.tolist())"
   ]
  },
  {
   "cell_type": "code",
   "execution_count": 75,
   "id": "c24a9b06-e8a2-42c2-aa9d-7cce743c5539",
   "metadata": {},
   "outputs": [
    {
     "name": "stdout",
     "output_type": "stream",
     "text": [
      "[ 0  1  2  3  4  5  6  7  8  9 10 11 12 13 14 15 16 17 18 19 20 21 22 23\n",
      " 24 25 26 27 28 29 30 31 32 33 34 35 36 37 38 39 40 41 42 43 44 45 46 47\n",
      " 48 49]\n"
     ]
    }
   ],
   "source": [
    "import numpy as np\n",
    "x_pos = np.arange(len(item_quantity.index.tolist()))\n",
    "print(x_pos)"
   ]
  },
  {
   "cell_type": "code",
   "execution_count": 59,
   "id": "24129130-686c-415d-949c-87a171abab55",
   "metadata": {},
   "outputs": [
    {
     "data": {
      "text/plain": [
       "numpy.ndarray"
      ]
     },
     "execution_count": 59,
     "metadata": {},
     "output_type": "execute_result"
    }
   ],
   "source": [
    "type(item_quantity.values)"
   ]
  },
  {
   "cell_type": "code",
   "execution_count": 61,
   "id": "2c44202e-6bd3-4372-8be8-445f360b90e2",
   "metadata": {},
   "outputs": [],
   "source": [
    "# item_quantity.values 는 타입이 Numpy 로 되어있음\n",
    "# 리스트로 바꿔줄려면 tolist"
   ]
  },
  {
   "cell_type": "code",
   "execution_count": 77,
   "id": "d95a00ed-b104-43d1-9b81-de6b86938deb",
   "metadata": {},
   "outputs": [
    {
     "data": {
      "text/plain": [
       "Text(0.5, 1.0, 'Distribution of all orderd item')"
      ]
     },
     "execution_count": 77,
     "metadata": {},
     "output_type": "execute_result"
    },
    {
     "data": {
      "image/png": "[encoded data removed]",
      "text/plain": [
       "<Figure size 432x288 with 1 Axes>"
      ]
     },
     "metadata": {
      "needs_background": "light"
     },
     "output_type": "display_data"
    }
   ],
   "source": [
    "%matplotlib inline\n",
    "import numpy as np\n",
    "import matplotlib.pyplot as plt\n",
    "\n",
    "item_name_list = item_quantity.index.tolist()\n",
    "x_pos = np.arange(len(item_name_list))\n",
    "order_cnt = item_quantity.values.tolist()\n",
    "\n",
    "plt.bar(x_pos, order_cnt, align='center')\n",
    "plt.xlabel('Menu name to Index')\n",
    "plt.ylabel('ordered_item_count')\n",
    "plt.title('Distribution of all orderd item')\n",
    "\n",
    "\n",
    "# bar (x축값, y축값, sort)\n",
    "# xlabel (x축 이름), ylabel(y축 이름) , title (제목)"
   ]
  },
  {
   "cell_type": "code",
   "execution_count": null,
   "id": "46a359a4-e7df-4be3-90fe-86ab6090e695",
   "metadata": {},
   "outputs": [],
   "source": []
  },
  {
   "cell_type": "code",
   "execution_count": 86,
   "id": "ca6dc82a-3e75-4554-bcf1-9c83fc5b2cd6",
   "metadata": {},
   "outputs": [
    {
     "data": {
      "text/plain": [
       "Chicken Bowl                             726\n",
       "Chicken Burrito                          553\n",
       "Chips and Guacamole                      479\n",
       "Steak Burrito                            368\n",
       "Canned Soft Drink                        301\n",
       "Chips                                    211\n",
       "Steak Bowl                               211\n",
       "Bottled Water                            162\n",
       "Chicken Soft Tacos                       115\n",
       "Chips and Fresh Tomato Salsa             110\n",
       "Chicken Salad Bowl                       110\n",
       "Canned Soda                              104\n",
       "Side of Chips                            101\n",
       "Veggie Burrito                            95\n",
       "Barbacoa Burrito                          91\n",
       "Veggie Bowl                               85\n",
       "Carnitas Bowl                             68\n",
       "Barbacoa Bowl                             66\n",
       "Carnitas Burrito                          59\n",
       "Steak Soft Tacos                          55\n",
       "6 Pack Soft Drink                         54\n",
       "Chips and Tomatillo Red Chili Salsa       48\n",
       "Chicken Crispy Tacos                      47\n",
       "Chips and Tomatillo Green Chili Salsa     43\n",
       "Carnitas Soft Tacos                       40\n",
       "Steak Crispy Tacos                        35\n",
       "Chips and Tomatillo-Green Chili Salsa     31\n",
       "Steak Salad Bowl                          29\n",
       "Nantucket Nectar                          27\n",
       "Barbacoa Soft Tacos                       25\n",
       "Chips and Roasted Chili Corn Salsa        22\n",
       "Chips and Tomatillo-Red Chili Salsa       20\n",
       "Izze                                      20\n",
       "Chips and Roasted Chili-Corn Salsa        18\n",
       "Veggie Salad Bowl                         18\n",
       "Barbacoa Crispy Tacos                     11\n",
       "Barbacoa Salad Bowl                       10\n",
       "Chicken Salad                              9\n",
       "Veggie Soft Tacos                          7\n",
       "Carnitas Crispy Tacos                      7\n",
       "Burrito                                    6\n",
       "Carnitas Salad Bowl                        6\n",
       "Veggie Salad                               6\n",
       "Steak Salad                                4\n",
       "Bowl                                       2\n",
       "Salad                                      2\n",
       "Crispy Tacos                               2\n",
       "Carnitas Salad                             1\n",
       "Chips and Mild Fresh Tomato Salsa          1\n",
       "Veggie Crispy Tacos                        1\n",
       "Name: item_name, dtype: int64"
      ]
     },
     "execution_count": 86,
     "metadata": {},
     "output_type": "execute_result"
    }
   ],
   "source": [
    "chipo['item_name'].value_counts()"
   ]
  },
  {
   "cell_type": "code",
   "execution_count": null,
   "id": "5e5f4c09-9653-4d9b-bb28-19c353e8b720",
   "metadata": {},
   "outputs": [],
   "source": []
  },
  {
   "cell_type": "code",
   "execution_count": null,
   "id": "0b2fd068-f939-472e-a322-8d4884a319f3",
   "metadata": {},
   "outputs": [],
   "source": []
  }
 ],
 "metadata": {
  "kernelspec": {
   "display_name": "Python 3",
   "language": "python",
   "name": "python3"
  },
  "language_info": {
   "codemirror_mode": {
    "name": "ipython",
    "version": 3
   },
   "file_extension": ".py",
   "mimetype": "text/x-python",
   "name": "python",
   "nbconvert_exporter": "python",
   "pygments_lexer": "ipython3",
   "version": "3.9.5"
  }
 },
 "nbformat": 4,
 "nbformat_minor": 5
}
