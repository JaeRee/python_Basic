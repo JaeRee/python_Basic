{
 "cells": [
  {
   "cell_type": "code",
   "execution_count": 34,
   "id": "72fea9eb-60b6-4345-bd56-d588a3b8baaa",
   "metadata": {},
   "outputs": [],
   "source": [
    "#  Text mining 텍스트마이닝\n",
    "\n",
    "# 1. 키워드 빈도수 분석\n",
    "# 2. 키워드 연관 분석\n",
    "# 3. 인터넷 웹페이지에 있는 이미지, 텍스트, 정보들을 스크랩해올꺼야 => 웹 크롤링\n",
    "\n"
   ]
  },
  {
   "cell_type": "code",
   "execution_count": 14,
   "id": "e9fef124-dc54-4976-b6ae-23e33b2a377e",
   "metadata": {},
   "outputs": [
    {
     "data": {
      "text/plain": [
       "' \\n\\n웹 크롤링\\n\\n1. 개발자 모드로 변경 : F12 - 도구더보기 - 개발자도구\\n\\n2. 3개의 라이브러리 설치\\n\\n!pip install requests beautifulsoup4 lxml\\n\\n!pip install cloudscraper                              -- 오류발생해서 이걸로 우회해야됨 기존에는 requests 로 불러왔었음\\n\\n3. \\n\\n\\n'"
      ]
     },
     "execution_count": 14,
     "metadata": {},
     "output_type": "execute_result"
    }
   ],
   "source": [
    "''' \n",
    "\n",
    "웹 크롤링\n",
    "\n",
    "1. 개발자 모드로 변경 : F12 - 도구더보기 - 개발자도구\n",
    "\n",
    "2. 3개의 라이브러리 설치\n",
    "\n",
    "!pip install requests beautifulsoup4 lxml\n",
    "\n",
    "!pip install cloudscraper                              -- 오류발생해서 이걸로 우회해야됨 기존에는 requests 로 불러왔었음\n",
    "\n",
    "3. \n",
    "\n",
    "\n",
    "'''"
   ]
  },
  {
   "cell_type": "code",
   "execution_count": null,
   "id": "c30ee5ef-83d7-4415-bd7c-e2ea32b6e56b",
   "metadata": {},
   "outputs": [],
   "source": []
  },
  {
   "cell_type": "code",
   "execution_count": 15,
   "id": "47e0bb0e-396c-4d0f-a03b-182274eaa422",
   "metadata": {},
   "outputs": [
    {
     "name": "stdout",
     "output_type": "stream",
     "text": [
      "Requirement already satisfied: requests in c:\\users\\5-17\\jupylab\\lib\\site-packages (2.25.1)\n",
      "Requirement already satisfied: beautifulsoup4 in c:\\users\\5-17\\jupylab\\lib\\site-packages (4.9.3)\n",
      "Requirement already satisfied: lxml in c:\\users\\5-17\\jupylab\\lib\\site-packages (4.6.3)\n",
      "Requirement already satisfied: urllib3<1.27,>=1.21.1 in c:\\users\\5-17\\jupylab\\lib\\site-packages (from requests) (1.26.5)\n",
      "Requirement already satisfied: certifi>=2017.4.17 in c:\\users\\5-17\\jupylab\\lib\\site-packages (from requests) (2021.5.30)\n",
      "Requirement already satisfied: idna<3,>=2.5 in c:\\users\\5-17\\jupylab\\lib\\site-packages (from requests) (2.10)\n",
      "Requirement already satisfied: chardet<5,>=3.0.2 in c:\\users\\5-17\\jupylab\\lib\\site-packages (from requests) (4.0.0)\n",
      "Requirement already satisfied: soupsieve>1.2 in c:\\users\\5-17\\jupylab\\lib\\site-packages (from beautifulsoup4) (2.2.1)\n"
     ]
    }
   ],
   "source": [
    "!pip install requests beautifulsoup4 lxml"
   ]
  },
  {
   "cell_type": "code",
   "execution_count": 16,
   "id": "5eb94106-d63b-449f-a069-b3ed06487dc1",
   "metadata": {},
   "outputs": [
    {
     "name": "stdout",
     "output_type": "stream",
     "text": [
      "Requirement already satisfied: cloudscraper in c:\\users\\5-17\\jupylab\\lib\\site-packages (1.2.58)\n",
      "Requirement already satisfied: requests>=2.9.2 in c:\\users\\5-17\\jupylab\\lib\\site-packages (from cloudscraper) (2.25.1)\n",
      "Requirement already satisfied: pyparsing>=2.4.7 in c:\\users\\5-17\\jupylab\\lib\\site-packages (from cloudscraper) (2.4.7)\n",
      "Requirement already satisfied: requests-toolbelt>=0.9.1 in c:\\users\\5-17\\jupylab\\lib\\site-packages (from cloudscraper) (0.9.1)\n",
      "Requirement already satisfied: idna<3,>=2.5 in c:\\users\\5-17\\jupylab\\lib\\site-packages (from requests>=2.9.2->cloudscraper) (2.10)\n",
      "Requirement already satisfied: urllib3<1.27,>=1.21.1 in c:\\users\\5-17\\jupylab\\lib\\site-packages (from requests>=2.9.2->cloudscraper) (1.26.5)\n",
      "Requirement already satisfied: certifi>=2017.4.17 in c:\\users\\5-17\\jupylab\\lib\\site-packages (from requests>=2.9.2->cloudscraper) (2021.5.30)\n",
      "Requirement already satisfied: chardet<5,>=3.0.2 in c:\\users\\5-17\\jupylab\\lib\\site-packages (from requests>=2.9.2->cloudscraper) (4.0.0)\n"
     ]
    }
   ],
   "source": [
    "!pip install cloudscraper"
   ]
  },
  {
   "cell_type": "code",
   "execution_count": null,
   "id": "8b610c9e-01d4-49f1-a3a6-c24783dd0aa5",
   "metadata": {},
   "outputs": [],
   "source": []
  },
  {
   "cell_type": "code",
   "execution_count": 17,
   "id": "ef6d76e1-eee4-418c-8b47-bbb3edb98f01",
   "metadata": {},
   "outputs": [],
   "source": [
    "# -*- coding: utf-8 -*-\n",
    "\n",
    "%matplotlib inline\n",
    "\n",
    "import pandas as pd\n",
    "import numpy as np\n",
    "import matplotlib.pyplot as plt\n",
    "\n",
    "import warnings\n",
    "warnings.filterwarnings(\"ignore\")"
   ]
  },
  {
   "cell_type": "code",
   "execution_count": 18,
   "id": "2ba6644f-3c69-4659-9ef4-707aa9806d14",
   "metadata": {},
   "outputs": [],
   "source": [
    "### 신규 코드 ###\n",
    "import cloudscraper\n",
    "scraper = cloudscraper.create_scraper()\n",
    "req = scraper.get(source_url)"
   ]
  },
  {
   "cell_type": "code",
   "execution_count": 19,
   "id": "20720c88-336b-480c-b379-02ca423ca443",
   "metadata": {},
   "outputs": [],
   "source": [
    "import cloudscraper\n",
    "from bs4 import BeautifulSoup                    # bs4 를 이용해서 HTML 의 정보들을 파싱(문법적 분석)\n",
    "import re\n",
    "\n",
    "\n",
    "\n",
    "# 크롤링할 사이트 주소를 정의합니다.\n",
    "source_url = \"https://namu.wiki/RecentChanges\"\n",
    "\n",
    "\n",
    "\n",
    "# 사이트의 html 구조에 기반하여 크롤링을 수행합니다.\n",
    "scraper = cloudscraper.create_scraper()\n",
    "req = scraper.get(source_url)\n",
    "html = req.content                                                #  html 에 전부 가져옴 구조 상관없이\n",
    "soup = BeautifulSoup(html, 'lxml')                            #   막가져온 걸  뷰티풀 솝 방법으로 파싱(문법적 분석)\n",
    "contents_table = soup.find(name=\"table\")\n",
    "table_body = contents_table.find(name=\"tbody\")\n",
    "table_rows = table_body.find_all(name=\"tr\")\n",
    "\n"
   ]
  },
  {
   "cell_type": "code",
   "execution_count": 20,
   "id": "48ac5bf7-f3bd-4851-b5af-4a949d9d1766",
   "metadata": {},
   "outputs": [
    {
     "name": "stdout",
     "output_type": "stream",
     "text": [
      "https://namu.wiki/w/Re:%EC%8A%A4%ED%85%8C%EC%9D%B4%EC%A7%80!/%EB%93%B1%EC%9E%A5%EC%9D%B8%EB%AC%BC\n",
      "https://namu.wiki/w/%EC%99%95%EC%A6%88%EC%A6%88\n",
      "https://namu.wiki/w/%EC%A0%84%ED%95%99%EC%83%9D%EC%9D%80%20%EC%99%B8%EA%B3%84%EC%9D%B8/%EB%93%B1%EC%9E%A5%EC%9D%B8%EB%AC%BC\n",
      "https://namu.wiki/w/Gen.G%20Esports/%EB%B0%B0%ED%8B%80%EA%B7%B8%EB%9D%BC%EC%9A%B4%EB%93%9C\n",
      "https://namu.wiki/w/%EC%97%90%EC%9D%B4%EC%A7%80%20%EC%98%A4%EB%B8%8C%20%EC%97%A0%ED%8C%8C%EC%9D%B4%EC%96%B4%202:%20%EA%B2%B0%EC%A0%95%ED%8C%90\n"
     ]
    }
   ],
   "source": [
    "\n",
    "# a태그의 href 속성을 리스트로 추출하여, 크롤링 할 페이지 리스트를 생성합니다.\n",
    "page_url_base = \"https://namu.wiki\"\n",
    "page_urls = []\n",
    "for index in range(0, len(table_rows)):\n",
    "    first_td = table_rows[index].find_all('td')[0]\n",
    "    td_url = first_td.find_all('a')\n",
    "    if len(td_url) > 0:\n",
    "        page_url = page_url_base + td_url[0].get('href')\n",
    "        if 'png' not in page_url:\n",
    "            page_urls.append(page_url)\n",
    "\n",
    "# 중복 url을 제거합니다.\n",
    "page_urls = list(set(page_urls))\n",
    "for page in page_urls[:5]:\n",
    "    print(page)\n"
   ]
  },
  {
   "cell_type": "code",
   "execution_count": null,
   "id": "ad861d5f-849f-4f60-80c1-d368dbd57668",
   "metadata": {},
   "outputs": [],
   "source": []
  },
  {
   "cell_type": "code",
   "execution_count": 21,
   "id": "69269b67-3e09-4ce0-9cd7-943ce7733968",
   "metadata": {},
   "outputs": [
    {
     "name": "stdout",
     "output_type": "stream",
     "text": [
      "Re:스테이지!/등장인물 \n",
      "\n",
      "\n",
      "작품별 캐릭터\n",
      "\n",
      "\n",
      "   상위 문서: Re:스테이지!최초로 모든 그룹이 등장한 라이브인 Re:스테이지! PRISM☆LIVE!! 2nd STAGE～Ready for Dream～의 자켓이 문서는 Re:스테이지!의 등장인물을 설명하는 문서이다.1. 주연1.1. KiRaRe1.2. 오르텐시아1.3. 스텔라마리스1.4. 트루와 앙주1.5. 테트라르키아2. 그 외3. 콜라보 한정사립 마레호시 학원 타카오교 중등부 보통과 요무용부의 부원들로 결성된 그룹.그룹 이름은 팬으로부터 공모를 받아 콤프틱 잡지에서 설문조사를 진행해 결정한 것이다.원작애니메이션시키미야 마나 (式宮(しきみや)舞菜(まな))CV마키노 아마네생일4월 23일별자리황소자리혈액형O형좋아하는 것독서 (판타지 계열)꺼리는 것남과 다투는 것, 뜨거운 음식(고양이혀)\"저어, 처음 뵙겠습니다. 시키미야 마나입니다. 포기한 줄 알았던 아이돌의 꿈, 저, 모두와 함께 쫓아가겠어요.\" #이 작품의 주인공. 1학년 2반. 본래 엘리트 예능학교인 마레호시 학원 본교에 입학해 다니고 있었으나 어째서인지 몇 개월만에 이 학교로 전학을 오게 되었고 여기에서 스토리가 시작된다. 사실 유명 음악가 집안의 차녀이며 일류 아이돌인 언니를 따라 아이돌이 되기를 희망해 가무를 좋아하고 재능도 굉장히 높았던 모양이나[1], 바로 그 타고난 유복함 때문에 주변으로부터 시샘과 원망을 계속 받은 끝에 자신의 가무로는 다른 사람을 즐겁게 할 수 없다고 생각해 절망하고 남들 앞에서 노래나 춤도 추지 못하게 되어 아이돌의 꿈을 포기한 채 전학온 것이었다. 그러나 사유와 만나 다시 가무의 즐거움을 떠올리고 그녀와 같이 활동하고 싶다고 생각하게 되어 요무용부에 입부, 아이돌이 되고자 하는 꿈을 되살리게 된다.원작애니메이션츠키사카 사유 (月坂(つきさか)紗由(さゆ))CV키토 아카리생일9월 7일별자리처녀자리혈액형A형좋아하는 것아이돌, 소바꺼리는 것다리가 많은 것\"처음 뵙겠습니다. 츠키사카 사유입니다. 저, 반드시 어릴 때부터 꿈꿔온 아이돌이 되어 보이겠어요!\" #이 부의 중심역. 포니테일 속성. 마나와는 같은 반이다. 어릴 때부터 아이돌을 목표로 여러 아이돌 대회에 나가면서 마레호시 학원 본교에 입학하기를 희망했으나 부모님[2]의 반대로 아이돌의 꿈을 접고 타카오교에 입학했다고 한다. 그러나 결국 아이돌의 꿈을 포기하지 못해 부모님 몰래 타카오교에서 아이돌이 되고자 하는 동료를 모으려고 하는 와중에 미즈하와 만나 요무용부에 들어온 것이었다. 이후 전학온 마나와 만나 그녀의 춤을 보고 같이 활동하고 싶다는 생각을 품게 되어 접근한 끝에 부활동에 끌어들이는데 성공한다. 이후 활동을 계속한 끝에 부모님에게서 프리즘 스테이지에서 우승하면 아이돌 활동을 허락하겠다는 약속을 받아낸다.원작애니메이션히이라기 카에 (柊(ひいらぎ)かえ)CV타치바나 메에무생일1월 5일별자리염소자리혈액형O형좋아하는 것전자계 공작, 보건실꺼리는 것물벼룩\"…카에는, 히이라기 카에. …카에는 아이돌이 좋아. …하지만, 내가 아이돌을 목표로 하게 될 줄은……\" #닉네임 : 다크 섀도우 프린세스1학년 2반. 조용한 성격이지만 독설가이기도 하다. 머리는 좋지만 몸이 약해서 양호실에서 시간을 보내는 일이 잦다 보니 출석률이 낮다. 특히 초등학교 시절 학예회 도중 몸이 안좋아져 목소리를 내지 못하게 된 것이 트라우마가 되어 히키코모리 기질까지 생겨 아이돌들을 보면서 겨우 마음을 치유하고 있는 상태였다. 본래는 아이돌들의 팬으로만 남아있으려고 했지만 아이돌이 되고자 하는 마나와 사유의 활동을 보면서 마음이 끌려 결국 자신도 요무용부 활동에 참가하게 된다. 천재 수준의 머리로 이상한 도구를 만들어 사용하거나 네트워크를 해킹하거나 하며 이것이 여러 형태로 스토리에 영향을 주기도 한다. 남을 놀릴 때 물벼룩(ミジンコ)이라고 많이 놀린다. IPP 글래스(대충 전투력 측정기라고 보면 된다)로 마나를 측정하면서 좀 애매한 점수가 나오자 물벼룩이라고 놀리고[3], 프리즘 스테이지에 서기 전에 벌벌떨고 있는 미이를 보면서 물벼룩 멘탈(ミジンコのハート)이라고 놀린다.카스미를 부를 때는 엔젤이라고 부른다.원작애니메이션혼조 카스미 (本城(ほんじょう)香澄(かすみ))CV이와하시 유카생일12월 20일별자리사수자리혈액형A형좋아하는 것몸을 움직이는 것꺼리는 것흐물흐물한 것\"난 혼조 카스미. 아이돌? 흥미 없는걸. 그것보다 나랑 부활동 같이 안 할래? 우리 부는 말야-\" #닉네임 : 사우전드 킬 엔젤등장시점은 2화 후반부. 보쿠소녀. 아이돌 경험자로, 초등학생 시절 예능 활동을 했으며 아이돌 오디션으로 인기 보이스노이드 담당까지 맡았을 만큼 잘나갔었다. 중학교도 마나처럼 본래는 엘리트 예능학교인 마레호시 학원 본교에 입학할 예정이었다. 그러나 그녀의 목소리를 베이스로 한 보이스노이드의 노래가 멋대로 유행하면서 이제 자신은 필요가 없어졌다고 생각하게 되어 아이돌 활동을 관두고 타카오교에 입학, 아이돌 활동과는 거리가 먼 서바이벌부에 들어가 부활동에 심취해 있었다. 그러다가 마나, 사유, 카에의 요무용부 활동을 보면서 노래의 즐거움을 다시금 떠올리게 되어 요무용부에도 들어가 2개 부에서 같이 활동하게 된다.10화에서 멤버들과 함께 사립 마레호시 고교에 잠입했을 때 다른 멤버들이 고키겡요라는 단어를 굉장히 부담스럽게 말하는데 카스미 혼자 아무렇지 않게 웃으면서 고키겡요를 하는 의외의 모습도 보여주기도 한다.카에를 부를 때는 프린세스라고 부른다.원작애니메이션이치키시마 미즈하 (市杵島(いちきしま)瑞葉(みずは))CV타자와 마스미생일6월 13일별자리쌍둥이자리혈액형AB형좋아하는 것말차, 소금 찹쌀떡[4]꺼리는 것사람이 많은 장소[5]\"처음 인사드려요. 지는 이치키시마 미즈하. 이번에 우리 아이돌을 목표로 하게 됐어요. 놀랍네요.\" #3학년. 요무용부 리더. 사투리 사용자. 연예 관계자에게 유명한 신사 집안의 딸로 제례용 춤과 전통무용이 특기지만, 리듬감이 좋지 않아 일반적인 춤에는 서투르다. 유명무실화된 요무용부를 제대로 된 부로 되살리기 위해 시간 죽이는 용도로 들어와 있던 부원들을 모두 내쫓았더니 부원이 자기 혼자만 남아버려 폐부의 위기에 몰린 상태에서 신입생 부원 모집 중 사유를 만났다고 한다. 당시부터 아이돌을 목표로 하는 사유를 보고 부의 실적 쌓기를 겸해 아이돌 유닛을 만들어 프리즘 스테이지에 참가한다는 계획을 세워 활동하게 된 것이며, 그녀 자신은 본래 프로듀서로만 있으려고 했었다. 원작애니메이션하세가와 미이 (長谷川(はせがわ)みい)CV소라미 유키생일3월 1일별자리물고기자리혈액형B형좋아하는 것귀여운 것꺼리는 것안 귀여운 것\"여러부운, 미이다미♪ 오늘 만나러 와 줘서 고마워미♪ 미이는 나 홀로지만 아이돌이야미♪\" #본명은 하세가와 미노리(長谷川実)로, 미이는 예명이다.작품 초반 마나에게 학생회의 전달사항을 알려주었는데, 이 학교의 부회장이라고 한다. 초반에는 요무용부를 적대하는 포지션으로, 평상시에는 안경을 쓰고 있다. 안경을 벗으면 캐릭터가 아주 딴판으로 달라진다. 물론 안경을 벗은 쪽이 의도적으로 만든 캐릭터.[6] 예명에서 알 수 있듯, 그녀 역시 아이돌 활동을 노리는 인물로 본교에 입학하려 했으나 실력이 되지 않아 타카오교에 입학했다고 한다. 그래도 포기하지 않고 스스로 아이돌부를 만들어 활동하려고 했으나 같이 활동하고자 하는 학생들을 찾지 못해 결국 혼자서 아키하바라를 전전하며 솔로 활동을 이어오고 있었다. 그렇게 힘들게 활동하며 3학년이 되었는데 갑자기 아이돌을 목표로 하는 요무용부가 생기면서 자신의 노력이 부정당한 기분이 되어 적대하게 된 것이다. 그러나 자신의 방해를 뚫고 활동하는 마나와 사유의 가무를 보면서 적대감을 잃게 되어 결국은 미즈하의 설득을 받고 요무용부에 들어오게 된다.자주쓰는 말버릇도 있는데 미-이. 저번 분기의 나에게 천사가 내려왔다!의 먀네처럼 미-이를 세는 사람도 있다. 유튜브 니코동 [7] 안의 사람의 감상 트윗카스미와 카에의 디제잉 네타가 워낙 강렬해서 묻힌 감이 있는데, 5화에서 각 세 팀이 작사/작곡을 맡을 때 미즈하 앞에서 할 줄 아는 악기가 있다고 가지고 온 것이 멜로디언이었다... 게다가 연주한다는 것도 피아노 초짜들의 손풀기 곡인 고양이 춤...스즈무라 여자중학교 아이돌부 대표 아이돌 그룹. 원 표기는 'オルタンシア'. 프랑스어로 수국을 뜻하는 'hortensia'에서 따왔다고 한다. 로마자로는 'ortensia'라는 표기를 쓰고 있다.KiRaRe와의 첫 라이브 대결을 하게 될 라이벌 그룹이지만 그와는 별개로 KiRaRe 멤버들과의 사이는 매우 좋다. 6화에서는 마나, 사유, 미이와 함께 오르텐시아의 야외 라이브를 도와주기도 했다.원작애니메이션이츠무라 유카리 (伊津村(いつむら)紫(ゆかり))CV오자와 아리생일6월 5일별자리쌍둥이자리혈액형O형좋아하는 것고기, 센베, 관람차꺼리는 것자기 머리 묶기(하루카가 해 준다)중학교 1학년생. 연하이지만 하루카의 이모이다.원작애니메이션이츠무라 하루카 (伊津村(いつむら)陽花(はるか))CV하나모리 유미리[8] ↓  미네우치 토모미[9]생일6월 7일별자리쌍둥이자리혈액형A형좋아하는 것쿠키, 봉재꺼리는 것높은 곳중학교 2학년생. 연상이지만 유카리의 조카이다.사립 마레호시 학원 본교 중등부 예능과 아이돌 부의 부원으로 결성된 유명 그룹. 소설이나 게임에서는 'ステラマリス', CD에는 'Stellamaris'라 표기한다.여담으로 세 멤버의 담당 성우 모두 아이마스 시리즈 참여 경력이 있다. (각각 밀리마스의 코노미, 마츠리, 스타마스의 코하쿠.) 그리고 KiRaRe(키라리) 맴버인 츠카사카 사유역의 키토 아카리가 러브라이브 니지동 시리즈에서 코노에 카나타를, 이치키시마 미즈하역의 타자와 마스미가 신데마스에서 하마구치 아야메를, 마찬가지로 오르텐시아의 맴버인 이츠무라 유카리역의 오자와 아리가 BanG Dream!에서 히카와 히나를 맡기도 했다. 이외에도 많지만 생략.원작애니메이션시키미야 아오네 (式宮(しきみや)碧音(あおね))CV타카하시 미나미생일7월 30일별자리사자자리혈액형AB형좋아하는 것가족, 작은 새, 밀푀유꺼리는 것특별히 없음마나의 언니이자 세계관 최강자. 나이 차이는 이쪽이 2년 위다. 예기치 않은 이유로 본교를 떠나게 된 마나를 걱정하면서도 언젠가 자신의 곁에 돌아올지도 모른다는 기대를 가지고 있다.원작애니메이션이치조 루카 (一条(いちじょう)瑠夏(るか))CV스와 아야카생일10월 9일별자리천칭자리혈액형A형좋아하는 것아시안 티꺼리는 것점, 제비뽑기스텔라마리스의 리더. 3학년. 보이쉬한 성격. 아오네의 가장 친한 친구이면서, 후배인 미사키 산고의 컨트롤도 맡고 있다. 아오네 덕분에 마나네 그룹인 KiRaRe의 이야기도 많이 들었으며, 산고처럼 대놓고 적대하지도 않는다. KiRaRe 멤버가 몰래 마레호시 학원에 잠입했을 때도, 이를 눈치채고 마나를 아오네와 만나게 해주기도 했다.원작애니메이션미사키 산고 (岬(みさき)珊瑚(さんご))CV타나카 아이미생일11월 15일별자리전갈자리혈액형B형좋아하는 것아오네, 초콜릿 케이크꺼리는 것매운 것트윈테일 속성. 기대의 신인. 말이 험한편이나 재능이 뛰어난 아이.첫 등장은 시키미야 아오네의 사랑을 듬뿍받는 마나가 어떤 애인지 알아보려다가 KiRaRe 멤버인 마나, 사유, 카에랑 처음 마주하게 된다. 그러면서 처음엔 마나한테 어그로를 잔뜩 끌려고 했으나, 갖고있는 정보라는게 죄다 이상한 정보[10]인지라 사유한테 조인트를 까이면서 시작한게 첫 만남이었다.이 때 이후로 KiRaRe 멤버들한테 비호감 이미지만 잔뜩 쌓고 있다가, 12화의 결승전에서는 스텔라마리스 공연만 보고 나가려는 비매너 관객들에게 일침을 날리는 등의 나름 좋은 모습도 보여준다.프리즘 스텝에서 처음 등장. 사립 마레호시 학원 본교 중등부 예능과 아이돌 부의 부원으로 결성된 그룹[11]. 게임에서는 'トロワアンジュ', CD에는 'TROISANGES'라 표기한다. 애니메이션에서는 8화에서부터 등장.원작애니메이션시라토리 아마하 (白鳥(しらとり)天葉(あまは))CV히오카 나츠미생일8월 30일별자리처녀자리혈액형AB형좋아하는 것곰, 곤란에 처한 사람 도와주기꺼리는 것없음센터. 다과회를 이끌고 있기도 한다.원작애니메이션호카제 카나데 (帆風(ほかぜ)奏(かなで))CV아베 리카생일5월 5일별자리황소자리혈액형O형좋아하는 것미술관, 밀크 티꺼리는 것쓴 것참모.원작애니메이션히무라 나기사 (緋村(ひむら)那岐咲(なぎさ))CV나가츠마 쥬리생일7월 10일별자리게자리혈액형B형좋아하는 것언니를 지키는 것, 도넛꺼리는 것공포 영화보좌.프리즘 스텝에서 처음 등장. 게임에서는 'テトラルキア', CD에는 'Tetrarkhia'라 표기한다. 사두정치(Tetrarchia)에서 따왔다. 애니메이션에서는 8화부터 등장하며 지역구는 아이치현. 구성원 네 명이 모두 리더를 자칭하고 있다.원작애니메이션반도 미쿠루 (坂東(ばんどう)美久龍(みくる))CV야마다 나츠미생일9월 11일별자리처녀자리혈액형O형좋아하는 것멋있는 것, 록꺼리는 것우물쭈물하는 녀석3학년. 전면에 부각되는 성격.원작애니메이션니시다테 하쿠 (西館(にしだて)ハク)CV사토 미키생일2월 28일별자리물고기자리혈액형A형좋아하는 것민트초코, 고양이꺼리는 것구기 운동1학년. 조용한 이미지.원작애니메이션하에노 아카리 (南風野(はえの)朱莉(あかり))CV타카야나기 토모요생일10월 12일별자리천칭자리혈액형A형좋아하는 것쇼핑, 리본 모으기꺼리는 것벌레3학년. 무드메이커.원작애니메이션시로키타 쿠로하 (城北(しろきた)玄刃(くろは))CV니시다 노조미생일2월 3일별자리물병자리혈액형AB형좋아하는 것잠자기, 역사꺼리는 것지성을 느낄 수 없는 것2학년. 분석계.칸자키 미츠코 (神崎美津子): CV. 아키야마 카오루요무용부의 고문. 프리즘 스텝에서는 후임 선생(플레이어)에게 고문역을 맡긴다. 애니메이션에서는 일단 1학년 2반의 담임으로 등장.시키미야비마나, 아오네의 엄마로 과거 유명한 스타였다고 한다. 해당 이름은 아마도 예명.애니메이션 2화에선 인터넷으로 짤막하게 등장했다.사이노 시즈카: CV 나카하라 마이마나의 친척. 코코판나네임드급 솔로 아이돌로 생각되었으나 사실은 보이스노이드. 게다가 이것은 과거 혼조 카스미가 어렸을 때 활동하여 프로젝트로 만들어진 것이라고 한다.선생님프리즘 스텝의 플레이어 캐릭터로, 칸자키 선생에게서 부탁을 받아 요무용부의 고문을 맡게 된다.학생회 임원들: CV 스즈모토 아키호(회계), 하세가와 이쿠미(총무), 사사키 히토미(서기)미노리가 속해있는 학생회 멤버 3인. 어느새 미노리를 뒤에서 응원하는 포지션이 되어 있다. 안경 속성. 참고로 아직 회장은 애니메이션에서 등장하지 않았다.이츠무라 시즈에: CV. 이와부치 유키[12]유카리의 나이차 많이 나는 언니이자 하루카의 엄마. 매니져.시즈에, 유카리의 엄마공식적으로 등장하지는 않지만 나이차이가 많이 나는 딸을 두고 있다.타마키:  CV. 타카하시 리에본교의 학생이자 선배. 아오네, 루카보다 연하이다.프로듀서 P: CV. 이마이 후미야7화에서 등장. 제작진을 모티브로 만들었다.길모퉁이 마족요시다 유코 / 샤미코: CV. 코하라 코노미치요다 모모: CV. 키토 아카리[13]히나츠키 미캉: CV. 타카야나기 토모요[14]리리스: CV. 타카하시 미나미[15]온게키[1] 신체적 스펙은 확실히 뛰어난 묘사가 있다.[2] 9화에서 등장. 부모의 성우는 코가 아키라(父), 세키 카스미(母). 집에서의 발언권은 어머니쪽이 더 큰 것으로 보인다.[3] 애니메이션 2화에서는 요무용부에 가입하기 전에 마나가 처음부터 아오네의 동생이었다는 걸 알고 있었다. 마나가 아직 마음이 약하고 트라우마도 있었던지라 점수가 살짝 낮게 나온 걸 보고 물벼룩이라고 한 듯.[4] 원문인 다이후쿠(大福)는 일본의 전통과자로 팥소를 넣은 둥근 찹쌀떡이다.[5] 애니에선 부각되지 않았다.[6] 보통 이렇게 컨셉을 가진 캐릭터들이 주로 하라구로같은 성향이 많지만, 미이는 그런 것과는 다르게 굉장한 노력파인데다 아이돌에 대해선 진심으로 하고 있다. 학생회 시절 용무용부를 적대했던 이유도 '난 힘들게 혼자서 아이돌하는데 쟤네들은 맨날 놀기만 하네미?'하는 서러움과 열등감때문에 적대하기 시작한 것. 이후 마나와 사유의 교내 첫 공연에서 요무용부가 진심인걸 알았던건지 살짝 눈물을 흘리는 모습도 보였다.[7] 6화부터 11화까지 '~초 만에 이해하기 시리즈'라는 제목으로 정기적으로 올라왔는데, 웃긴 건 공식에서 총정리한 영상을 이 타이틀 그대로 따라해서 업로드했다. 거기에 영상 설명도 미-이 도배하는 등 5화 네타를 부상시킨 공식 어디 안 간다는걸 보여줬다. 하지만 지역제한 크리가 너무 결정타[8] 2019년 11월 1일 슬개골 탈구로 인한 반월판 손상의 부상을 입어 졸업을 발표했다.[9] 2019년 12월 10일 공식발표. 상대역 성우 오자와 아리와 같은 아임 엔터프라이즈 소속사이며 함께 방송한 이력도 있다.[10] 마나가 여럿 오디션을 보면서 '난 헐리웃 이외에는 관심 없어'나 '노 개런티로는 안 할거야~'같은 마나의 평소 성격과는 전혀 맞지 않는 내용들이었다.[11] 본교 자체가 내부경쟁을 하고 있다는 것이니 그 실력에 대해서는 이견이 없을 것.[12] 애니메이션은 5년만에 출연.[13] 사유와 중복이다.[14] 아카리와 중복.[15] 아오네와 중복. 이 문서의 내용 중 전체 또는 일부는 Re:스테이지! 문서의 r132 판, 3번 문단에서 가져왔습니다. 이전 역사 보러 가기 이 문서의 내용 중 전체 또는 일부는 다른 문서에서 가져왔습니다. [ 펼치기 · 접기 ]Re:스테이지! 문서의 r132 판, 3번 문단 (이전 역사) 문서의 r 판, 번 문단 (이전 역사) 문서의 r 판, 번 문단 (이전 역사) 문서의 r 판, 번 문단 (이전 역사) 문서의 r 판, 번 문단 (이전 역사) 문서의 r 판, 번 문단 (이전 역사) 문서의 r 판, 번 문단 (이전 역사) 문서의 r 판, 번 문단 (이전 역사) 문서의 r 판, 번 문단 (이전 역사) 문서의 r 판, 번 문단 (이전 역사) 문서의 r 판, 번 문단 (이전 역사) 문서의 r 판, 번 문단 (이전 역사) 문서의 r 판, 번 문단 (이전 역사) 문서의 r 판, 번 문단 (이전 역사) 문서의 r 판, 번 문단 (이전 역사) 문서의 r 판, 번 문단 (이전 역사) 문서의 r 판, 번 문단 (이전 역사) 문서의 r 판, 번 문단 (이전 역사) 문서의 r 판, 번 문단 (이전 역사) 문서의 r 판, 번 문단 (이전 역사) 문서의 r 판, 번 문단 (이전 역사) 문서의 r 판, 번 문단 (이전 역사) 문서의 r 판, 번 문단 (이전 역사) 문서의 r 판, 번 문단 (이전 역사) 문서의 r 판, 번 문단 (이전 역사) 문서의 r 판, 번 문단 (이전 역사) 문서의 r 판, 번 문단 (이전 역사) 문서의 r 판, 번 문단 (이전 역사) 문서의 r 판, 번 문단 (이전 역사) 문서의 r 판, 번 문단 (이전 역사) 문서의 r 판, 번 문단 (이전 역사) 문서의 r 판, 번 문단 (이전 역사) 문서의 r 판, 번 문단 (이전 역사) 문서의 r 판, 번 문단 (이전 역사) 문서의 r 판, 번 문단 (이전 역사) 문서의 r 판, 번 문단 (이전 역사) 문서의 r 판, 번 문단 (이전 역사) 문서의 r 판, 번 문단 (이전 역사) 문서의 r 판, 번 문단 (이전 역사) 문서의 r 판, 번 문단 (이전 역사) 문서의 r 판, 번 문단 (이전 역사) 문서의 r 판, 번 문단 (이전 역사) 문서의 r 판, 번 문단 (이전 역사) 문서의 r 판, 번 문단 (이전 역사) 문서의 r 판, 번 문단 (이전 역사) 문서의 r 판, 번 문단 (이전 역사) 문서의 r 판, 번 문단 (이전 역사) 문서의 r 판, 번 문단 (이전 역사) 문서의 r 판, 번 문단 (이전 역사) 문서의 r 판, 번 문단 (이전 역사)\n"
     ]
    }
   ],
   "source": [
    "# 페이지 내 텍스트 구조확인\n",
    "\n",
    "req = scraper.get(page_urls[0])\n",
    "html = req.content\n",
    "soup = BeautifulSoup(html, 'lxml')\n",
    "contents_table = soup.find(name=\"article\")\n",
    "title = contents_table.find_all('h1')[0]\n",
    "category = contents_table.find_all('ul')[0]\n",
    "content_paragraphs = contents_table.find_all(name='div', attrs={'class':'wiki-paragraph'})\n",
    "content_corpus_list = []\n",
    "\n",
    "for paragraphs in content_paragraphs:\n",
    "    content_corpus_list.append(paragraphs.text)\n",
    "content_corpus = \"\".join(content_corpus_list)\n",
    "\n",
    "print(title.text)\n",
    "print('\\n')\n",
    "print(category.text)\n",
    "print('\\n')\n",
    "print(content_corpus)"
   ]
  },
  {
   "cell_type": "code",
   "execution_count": 22,
   "id": "6ff99634-9e5c-4d85-bace-a2429eeaafc4",
   "metadata": {},
   "outputs": [],
   "source": [
    "\n",
    "# 웹 크롤링을 불러왔으면...\n",
    "# 데이터 프레임을 만들 후 넣어주는 작업을 해야한다.\n"
   ]
  },
  {
   "cell_type": "code",
   "execution_count": 23,
   "id": "dbd3c8dd-20ee-4591-ab81-e8252aa35657",
   "metadata": {},
   "outputs": [
    {
     "ename": "AttributeError",
     "evalue": "'NoneType' object has no attribute 'find_all'",
     "output_type": "error",
     "traceback": [
      "\u001b[1;31m-------------------------------------------------------------------------\u001b[0m",
      "\u001b[1;31mAttributeError\u001b[0m                          Traceback (most recent call last)",
      "\u001b[1;32m<ipython-input-23-911d4b5d8e69>\u001b[0m in \u001b[0;36m<module>\u001b[1;34m\u001b[0m\n\u001b[0;32m     11\u001b[0m     \u001b[0msoup\u001b[0m \u001b[1;33m=\u001b[0m \u001b[0mBeautifulSoup\u001b[0m\u001b[1;33m(\u001b[0m\u001b[0mhtml\u001b[0m\u001b[1;33m,\u001b[0m \u001b[1;34m'lxml'\u001b[0m\u001b[1;33m)\u001b[0m\u001b[1;33m\u001b[0m\u001b[1;33m\u001b[0m\u001b[0m\n\u001b[0;32m     12\u001b[0m     \u001b[0mcontents_table\u001b[0m \u001b[1;33m=\u001b[0m \u001b[0msoup\u001b[0m\u001b[1;33m.\u001b[0m\u001b[0mfind\u001b[0m\u001b[1;33m(\u001b[0m\u001b[0mname\u001b[0m\u001b[1;33m=\u001b[0m\u001b[1;34m\"article\"\u001b[0m\u001b[1;33m)\u001b[0m\u001b[1;33m\u001b[0m\u001b[1;33m\u001b[0m\u001b[0m\n\u001b[1;32m---> 13\u001b[1;33m     \u001b[0mtitle\u001b[0m \u001b[1;33m=\u001b[0m \u001b[0mcontents_table\u001b[0m\u001b[1;33m.\u001b[0m\u001b[0mfind_all\u001b[0m\u001b[1;33m(\u001b[0m\u001b[1;34m'h1'\u001b[0m\u001b[1;33m)\u001b[0m\u001b[1;33m[\u001b[0m\u001b[1;36m0\u001b[0m\u001b[1;33m]\u001b[0m\u001b[1;33m\u001b[0m\u001b[1;33m\u001b[0m\u001b[0m\n\u001b[0m\u001b[0;32m     14\u001b[0m \u001b[1;33m\u001b[0m\u001b[0m\n\u001b[0;32m     15\u001b[0m     \u001b[1;31m# 카테고리 정보가 없는 경우를 확인합니다.\u001b[0m\u001b[1;33m\u001b[0m\u001b[1;33m\u001b[0m\u001b[1;33m\u001b[0m\u001b[0m\n",
      "\u001b[1;31mAttributeError\u001b[0m: 'NoneType' object has no attribute 'find_all'"
     ]
    }
   ],
   "source": [
    "# 크롤링한 데이터를 데이터 프레임으로 만들기 위해 준비합니다.\n",
    "columns = ['title', 'category', 'content_text']\n",
    "df = pd.DataFrame(columns=columns)\n",
    "\n",
    "# 각 페이지별 '제목', '카테고리', '본문' 정보를 데이터 프레임으로 만듭니다.\n",
    "for page_url in page_urls:\n",
    "\n",
    "    # 사이트의 html 구조에 기반하여 크롤링을 수행합니다.\n",
    "    req = scraper.get(page_url)\n",
    "    html = req.content\n",
    "    soup = BeautifulSoup(html, 'lxml')\n",
    "    contents_table = soup.find(name=\"article\")\n",
    "    title = contents_table.find_all('h1')[0]\n",
    "    \n",
    "    # 카테고리 정보가 없는 경우를 확인합니다.\n",
    "    if len(contents_table.find_all('ul')) > 0:\n",
    "        category = contents_table.find_all('ul')[0]\n",
    "    else:\n",
    "        category = None\n",
    "        \n",
    "    content_paragraphs = contents_table.find_all(name=\"div\", attrs={\"class\":\"wiki-paragraph\"})\n",
    "    content_corpus_list = []\n",
    "    \n",
    "    # 페이지 내 제목 정보에서 개행 문자를 제거한 뒤 추출합니다. 만약 없는 경우, 빈 문자열로 대체합니다.\n",
    "    if title is not None:\n",
    "        row_title = title.text.replace(\"\\n\", \" \")\n",
    "    else:\n",
    "        row_title = \"\"\n",
    "    \n",
    "    # 페이지 내 본문 정보에서 개행 문자를 제거한 뒤 추출합니다. 만약 없는 경우, 빈 문자열로 대체합니다.\n",
    "    if content_paragraphs is not None:\n",
    "        for paragraphs in content_paragraphs:\n",
    "            if paragraphs is not None:\n",
    "                content_corpus_list.append(paragraphs.text.replace(\"\\n\", \" \"))\n",
    "            else:\n",
    "                content_corpus_list.append(\"\")\n",
    "    else:\n",
    "        content_corpus_list.append(\"\")\n",
    "        \n",
    "    # 페이지 내 카테고리정보에서 “분류”라는 단어와 개행 문자를 제거한 뒤 추출합니다. 만약 없는 경우, 빈 문자열로 대체합니다.\n",
    "    if category is not None:\n",
    "        row_category = category.text.replace(\"\\n\", \" \")\n",
    "    else:\n",
    "        row_category = \"\"\n",
    "    \n",
    "    # 모든 정보를 하나의 데이터 프레임에 저장합니다.\n",
    "    row = [row_title, row_category, \"\".join(content_corpus_list)]\n",
    "    series = pd.Series(row, index=df.columns)\n",
    "    df = df.append(series, ignore_index=True)"
   ]
  },
  {
   "cell_type": "code",
   "execution_count": null,
   "id": "32bf58cd-b4ba-4ec8-aa0c-ea9813d7dc8a",
   "metadata": {},
   "outputs": [],
   "source": [
    "df.head(5)"
   ]
  },
  {
   "cell_type": "code",
   "execution_count": null,
   "id": "35c74f94-9947-4d60-8ed5-b5db84488671",
   "metadata": {},
   "outputs": [],
   "source": [
    "\n",
    "# 키워드 추출\n",
    "# 텍스트 데이터 전처리\n",
    "\n"
   ]
  },
  {
   "cell_type": "code",
   "execution_count": 24,
   "id": "a6b0c77c-aa03-46d1-b618-aa573c34b268",
   "metadata": {},
   "outputs": [],
   "source": [
    "# 텍스트 정체 함수 : 한글 이외의 문자는 전부 제거합니다.\n",
    "def text_cleaning(text):\n",
    "    hangul = re.compile('[^ㄱ-ㅣ가-힣]+') # 한글의 정규표현식을 나타낸다\n",
    "    result = hangul.sub('',text)\n",
    "    return result"
   ]
  },
  {
   "cell_type": "code",
   "execution_count": 25,
   "id": "c553b710-d3e4-4891-a962-c45983842e6f",
   "metadata": {},
   "outputs": [
    {
     "name": "stdout",
     "output_type": "stream",
     "text": [
      "상위문서스테이지최초로모든그룹이등장한라이브인스테이지의자켓이문서는스테이지의등장인물을설명하는문서이다주연오르텐시아스텔라마리스트루와앙주테트라르키아그외콜라보한정사립마레호시학원타카오교중등부보통과요무용부의부원들로결성된그룹그룹이름은팬으로부터공모를받아콤프틱잡지에서설문조사를진행해결정한것이다원작애니메이션시키미야마나마키노아마네생일월일별자리황소자리혈액형형좋아하는것독서판타지계열꺼리는것남과다투는것뜨거운음식고양이혀저어처음뵙겠습니다시키미야마나입니다포기한줄알았던아이돌의꿈저모두와함께쫓아가겠어요이작품의주인공학년반본래엘리트예능학교인마레호시학원본교에입학해다니고있었으나어째서인지몇개월만에이학교로전학을오게되었고여기에서스토리가시작된다사실유명음악가집안의차녀이며일류아이돌인언니를따라아이돌이되기를희망해가무를좋아하고재능도굉장히높았던모양이나바로그타고난유복함때문에주변으로부터시샘과원망을계속받은끝에자신의가무로는다른사람을즐겁게할수없다고생각해절망하고남들앞에서노래나춤도추지못하게되어아이돌의꿈을포기한채전학온것이었다그러나사유와만나다시가무의즐거움을떠올리고그녀와같이활동하고싶다고생각하게되어요무용부에입부아이돌이되고자하는꿈을되살리게된다원작애니메이션츠키사카사유키토아카리생일월일별자리처녀자리혈액형형좋아하는것아이돌소바꺼리는것다리가많은것처음뵙겠습니다츠키사카사유입니다저반드시어릴때부터꿈꿔온아이돌이되어보이겠어요이부의중심역포니테일속성마나와는같은반이다어릴때부터아이돌을목표로여러아이돌대회에나가면서마레호시학원본교에입학하기를희망했으나부모님의반대로아이돌의꿈을접고타카오교에입학했다고한다그러나결국아이돌의꿈을포기하지못해부모님몰래타카오교에서아이돌이되고자하는동료를모으려고하는와중에미즈하와만나요무용부에들어온것이었다이후전학온마나와만나그녀의춤을보고같이활동하고싶다는생각을품게되어접근한끝에부활동에끌어들이는데성공한다이후활동을계속한끝에부모님에게서프리즘스테이지에서우승하면아이돌활동을허락하겠다는약속을받아낸다원작애니메이션히이라기카에타치바나메에무생일월일별자리염소자리혈액형형좋아하는것전자계공작보건실꺼리는것물벼룩카에는히이라기카에카에는아이돌이좋아하지만내가아이돌을목표로하게될줄은닉네임다크섀도우프린세스학년반조용한성격이지만독설가이기도하다머리는좋지만몸이약해서양호실에서시간을보내는일이잦다보니출석률이낮다특히초등학교시절학예회도중몸이안좋아져목소리를내지못하게된것이트라우마가되어히키코모리기질까지생겨아이돌들을보면서겨우마음을치유하고있는상태였다본래는아이돌들의팬으로만남아있으려고했지만아이돌이되고자하는마나와사유의활동을보면서마음이끌려결국자신도요무용부활동에참가하게된다천재수준의머리로이상한도구를만들어사용하거나네트워크를해킹하거나하며이것이여러형태로스토리에영향을주기도한다남을놀릴때물벼룩이라고많이놀린다글래스대충전투력측정기라고보면된다로마나를측정하면서좀애매한점수가나오자물벼룩이라고놀리고프리즘스테이지에서기전에벌벌떨고있는미이를보면서물벼룩멘탈이라고놀린다카스미를부를때는엔젤이라고부른다원작애니메이션혼조카스미이와하시유카생일월일별자리사수자리혈액형형좋아하는것몸을움직이는것꺼리는것흐물흐물한것난혼조카스미아이돌흥미없는걸그것보다나랑부활동같이안할래우리부는말야닉네임사우전드킬엔젤등장시점은화후반부보쿠소녀아이돌경험자로초등학생시절예능활동을했으며아이돌오디션으로인기보이스노이드담당까지맡았을만큼잘나갔었다중학교도마나처럼본래는엘리트예능학교인마레호시학원본교에입학할예정이었다그러나그녀의목소리를베이스로한보이스노이드의노래가멋대로유행하면서이제자신은필요가없어졌다고생각하게되어아이돌활동을관두고타카오교에입학아이돌활동과는거리가먼서바이벌부에들어가부활동에심취해있었다그러다가마나사유카에의요무용부활동을보면서노래의즐거움을다시금떠올리게되어요무용부에도들어가개부에서같이활동하게된다화에서멤버들과함께사립마레호시고교에잠입했을때다른멤버들이고키겡요라는단어를굉장히부담스럽게말하는데카스미혼자아무렇지않게웃으면서고키겡요를하는의외의모습도보여주기도한다카에를부를때는프린세스라고부른다원작애니메이션이치키시마미즈하타자와마스미생일월일별자리쌍둥이자리혈액형형좋아하는것말차소금찹쌀떡꺼리는것사람이많은장소처음인사드려요지는이치키시마미즈하이번에우리아이돌을목표로하게됐어요놀랍네요학년요무용부리더사투리사용자연예관계자에게유명한신사집안의딸로제례용춤과전통무용이특기지만리듬감이좋지않아일반적인춤에는서투르다유명무실화된요무용부를제대로된부로되살리기위해시간죽이는용도로들어와있던부원들을모두내쫓았더니부원이자기혼자만남아버려폐부의위기에몰린상태에서신입생부원모집중사유를만났다고한다당시부터아이돌을목표로하는사유를보고부의실적쌓기를겸해아이돌유닛을만들어프리즘스테이지에참가한다는계획을세워활동하게된것이며그녀자신은본래프로듀서로만있으려고했었다원작애니메이션하세가와미이소라미유키생일월일별자리물고기자리혈액형형좋아하는것귀여운것꺼리는것안귀여운것여러부운미이다미오늘만나러와줘서고마워미미이는나홀로지만아이돌이야미본명은하세가와미노리로미이는예명이다작품초반마나에게학생회의전달사항을알려주었는데이학교의부회장이라고한다초반에는요무용부를적대하는포지션으로평상시에는안경을쓰고있다안경을벗으면캐릭터가아주딴판으로달라진다물론안경을벗은쪽이의도적으로만든캐릭터예명에서알수있듯그녀역시아이돌활동을노리는인물로본교에입학하려했으나실력이되지않아타카오교에입학했다고한다그래도포기하지않고스스로아이돌부를만들어활동하려고했으나같이활동하고자하는학생들을찾지못해결국혼자서아키하바라를전전하며솔로활동을이어오고있었다그렇게힘들게활동하며학년이되었는데갑자기아이돌을목표로하는요무용부가생기면서자신의노력이부정당한기분이되어적대하게된것이다그러나자신의방해를뚫고활동하는마나와사유의가무를보면서적대감을잃게되어결국은미즈하의설득을받고요무용부에들어오게된다자주쓰는말버릇도있는데미이저번분기의나에게천사가내려왔다의먀네처럼미이를세는사람도있다유튜브니코동안의사람의감상트윗카스미와카에의디제잉네타가워낙강렬해서묻힌감이있는데화에서각세팀이작사작곡을맡을때미즈하앞에서할줄아는악기가있다고가지고온것이멜로디언이었다게다가연주한다는것도피아노초짜들의손풀기곡인고양이춤스즈무라여자중학교아이돌부대표아이돌그룹원표기는프랑스어로수국을뜻하는에서따왔다고한다로마자로는라는표기를쓰고있다와의첫라이브대결을하게될라이벌그룹이지만그와는별개로멤버들과의사이는매우좋다화에서는마나사유미이와함께오르텐시아의야외라이브를도와주기도했다원작애니메이션이츠무라유카리오자와아리생일월일별자리쌍둥이자리혈액형형좋아하는것고기센베관람차꺼리는것자기머리묶기하루카가해준다중학교학년생연하이지만하루카의이모이다원작애니메이션이츠무라하루카하나모리유미리미네우치토모미생일월일별자리쌍둥이자리혈액형형좋아하는것쿠키봉재꺼리는것높은곳중학교학년생연상이지만유카리의조카이다사립마레호시학원본교중등부예능과아이돌부의부원으로결성된유명그룹소설이나게임에서는에는라표기한다여담으로세멤버의담당성우모두아이마스시리즈참여경력이있다각각밀리마스의코노미마츠리스타마스의코하쿠그리고키라리맴버인츠카사카사유역의키토아카리가러브라이브니지동시리즈에서코노에카나타를이치키시마미즈하역의타자와마스미가신데마스에서하마구치아야메를마찬가지로오르텐시아의맴버인이츠무라유카리역의오자와아리가에서히카와히나를맡기도했다이외에도많지만생략원작애니메이션시키미야아오네타카하시미나미생일월일별자리사자자리혈액형형좋아하는것가족작은새밀푀유꺼리는것특별히없음마나의언니이자세계관최강자나이차이는이쪽이년위다예기치않은이유로본교를떠나게된마나를걱정하면서도언젠가자신의곁에돌아올지도모른다는기대를가지고있다원작애니메이션이치조루카스와아야카생일월일별자리천칭자리혈액형형좋아하는것아시안티꺼리는것점제비뽑기스텔라마리스의리더학년보이쉬한성격아오네의가장친한친구이면서후배인미사키산고의컨트롤도맡고있다아오네덕분에마나네그룹인의이야기도많이들었으며산고처럼대놓고적대하지도않는다멤버가몰래마레호시학원에잠입했을때도이를눈치채고마나를아오네와만나게해주기도했다원작애니메이션미사키산고타나카아이미생일월일별자리전갈자리혈액형형좋아하는것아오네초콜릿케이크꺼리는것매운것트윈테일속성기대의신인말이험한편이나재능이뛰어난아이첫등장은시키미야아오네의사랑을듬뿍받는마나가어떤애인지알아보려다가멤버인마나사유카에랑처음마주하게된다그러면서처음엔마나한테어그로를잔뜩끌려고했으나갖고있는정보라는게죄다이상한정보인지라사유한테조인트를까이면서시작한게첫만남이었다이때이후로멤버들한테비호감이미지만잔뜩쌓고있다가화의결승전에서는스텔라마리스공연만보고나가려는비매너관객들에게일침을날리는등의나름좋은모습도보여준다프리즘스텝에서처음등장사립마레호시학원본교중등부예능과아이돌부의부원으로결성된그룹게임에서는에는라표기한다애니메이션에서는화에서부터등장원작애니메이션시라토리아마하히오카나츠미생일월일별자리처녀자리혈액형형좋아하는것곰곤란에처한사람도와주기꺼리는것없음센터다과회를이끌고있기도한다원작애니메이션호카제카나데아베리카생일월일별자리황소자리혈액형형좋아하는것미술관밀크티꺼리는것쓴것참모원작애니메이션히무라나기사나가츠마쥬리생일월일별자리게자리혈액형형좋아하는것언니를지키는것도넛꺼리는것공포영화보좌프리즘스텝에서처음등장게임에서는에는라표기한다사두정치에서따왔다애니메이션에서는화부터등장하며지역구는아이치현구성원네명이모두리더를자칭하고있다원작애니메이션반도미쿠루야마다나츠미생일월일별자리처녀자리혈액형형좋아하는것멋있는것록꺼리는것우물쭈물하는녀석학년전면에부각되는성격원작애니메이션니시다테하쿠사토미키생일월일별자리물고기자리혈액형형좋아하는것민트초코고양이꺼리는것구기운동학년조용한이미지원작애니메이션하에노아카리타카야나기토모요생일월일별자리천칭자리혈액형형좋아하는것쇼핑리본모으기꺼리는것벌레학년무드메이커원작애니메이션시로키타쿠로하니시다노조미생일월일별자리물병자리혈액형형좋아하는것잠자기역사꺼리는것지성을느낄수없는것학년분석계칸자키미츠코아키야마카오루요무용부의고문프리즘스텝에서는후임선생플레이어에게고문역을맡긴다애니메이션에서는일단학년반의담임으로등장시키미야비마나아오네의엄마로과거유명한스타였다고한다해당이름은아마도예명애니메이션화에선인터넷으로짤막하게등장했다사이노시즈카나카하라마이마나의친척코코판나네임드급솔로아이돌로생각되었으나사실은보이스노이드게다가이것은과거혼조카스미가어렸을때활동하여프로젝트로만들어진것이라고한다선생님프리즘스텝의플레이어캐릭터로칸자키선생에게서부탁을받아요무용부의고문을맡게된다학생회임원들스즈모토아키호회계하세가와이쿠미총무사사키히토미서기미노리가속해있는학생회멤버인어느새미노리를뒤에서응원하는포지션이되어있다안경속성참고로아직회장은애니메이션에서등장하지않았다이츠무라시즈에이와부치유키유카리의나이차많이나는언니이자하루카의엄마매니져시즈에유카리의엄마공식적으로등장하지는않지만나이차이가많이나는딸을두고있다타마키타카하시리에본교의학생이자선배아오네루카보다연하이다프로듀서이마이후미야화에서등장제작진을모티브로만들었다길모퉁이마족요시다유코샤미코코하라코노미치요다모모키토아카리히나츠키미캉타카야나기토모요리리스타카하시미나미온게키신체적스펙은확실히뛰어난묘사가있다화에서등장부모의성우는코가아키라세키카스미집에서의발언권은어머니쪽이더큰것으로보인다애니메이션화에서는요무용부에가입하기전에마나가처음부터아오네의동생이었다는걸알고있었다마나가아직마음이약하고트라우마도있었던지라점수가살짝낮게나온걸보고물벼룩이라고한듯원문인다이후쿠는일본의전통과자로팥소를넣은둥근찹쌀떡이다애니에선부각되지않았다보통이렇게컨셉을가진캐릭터들이주로하라구로같은성향이많지만미이는그런것과는다르게굉장한노력파인데다아이돌에대해선진심으로하고있다학생회시절용무용부를적대했던이유도난힘들게혼자서아이돌하는데쟤네들은맨날놀기만하네미하는서러움과열등감때문에적대하기시작한것이후마나와사유의교내첫공연에서요무용부가진심인걸알았던건지살짝눈물을흘리는모습도보였다화부터화까지초만에이해하기시리즈라는제목으로정기적으로올라왔는데웃긴건공식에서총정리한영상을이타이틀그대로따라해서업로드했다거기에영상설명도미이도배하는등화네타를부상시킨공식어디안간다는걸보여줬다하지만지역제한크리가너무결정타년월일슬개골탈구로인한반월판손상의부상을입어졸업을발표했다년월일공식발표상대역성우오자와아리와같은아임엔터프라이즈소속사이며함께방송한이력도있다마나가여럿오디션을보면서난헐리웃이외에는관심없어나노개런티로는안할거야같은마나의평소성격과는전혀맞지않는내용들이었다본교자체가내부경쟁을하고있다는것이니그실력에대해서는이견이없을것애니메이션은년만에출연사유와중복이다아카리와중복아오네와중복이문서의내용중전체또는일부는스테이지문서의판번문단에서가져왔습니다이전역사보러가기이문서의내용중전체또는일부는다른문서에서가져왔습니다펼치기접기스테이지문서의판번문단이전역사문서의판번문단이전역사문서의판번문단이전역사문서의판번문단이전역사문서의판번문단이전역사문서의판번문단이전역사문서의판번문단이전역사문서의판번문단이전역사문서의판번문단이전역사문서의판번문단이전역사문서의판번문단이전역사문서의판번문단이전역사문서의판번문단이전역사문서의판번문단이전역사문서의판번문단이전역사문서의판번문단이전역사문서의판번문단이전역사문서의판번문단이전역사문서의판번문단이전역사문서의판번문단이전역사문서의판번문단이전역사문서의판번문단이전역사문서의판번문단이전역사문서의판번문단이전역사문서의판번문단이전역사문서의판번문단이전역사문서의판번문단이전역사문서의판번문단이전역사문서의판번문단이전역사문서의판번문단이전역사문서의판번문단이전역사문서의판번문단이전역사문서의판번문단이전역사문서의판번문단이전역사문서의판번문단이전역사문서의판번문단이전역사문서의판번문단이전역사문서의판번문단이전역사문서의판번문단이전역사문서의판번문단이전역사문서의판번문단이전역사문서의판번문단이전역사문서의판번문단이전역사문서의판번문단이전역사문서의판번문단이전역사문서의판번문단이전역사문서의판번문단이전역사문서의판번문단이전역사문서의판번문단이전역사문서의판번문단이전역사\n"
     ]
    }
   ],
   "source": [
    "print(text_cleaning(df['content_text'][0]))"
   ]
  },
  {
   "cell_type": "code",
   "execution_count": 26,
   "id": "bacf1334-bdda-4a5d-abd3-04478adc4bfd",
   "metadata": {},
   "outputs": [
    {
     "data": {
      "text/html": [
       "<div>\n",
       "<style scoped>\n",
       "    .dataframe tbody tr th:only-of-type {\n",
       "        vertical-align: middle;\n",
       "    }\n",
       "\n",
       "    .dataframe tbody tr th {\n",
       "        vertical-align: top;\n",
       "    }\n",
       "\n",
       "    .dataframe thead th {\n",
       "        text-align: right;\n",
       "    }\n",
       "</style>\n",
       "<table border=\"1\" class=\"dataframe\">\n",
       "  <thead>\n",
       "    <tr style=\"text-align: right;\">\n",
       "      <th></th>\n",
       "      <th>title</th>\n",
       "      <th>category</th>\n",
       "      <th>content_text</th>\n",
       "    </tr>\n",
       "  </thead>\n",
       "  <tbody>\n",
       "    <tr>\n",
       "      <th>0</th>\n",
       "      <td>스테이지등장인물</td>\n",
       "      <td>작품별캐릭터</td>\n",
       "      <td>상위문서스테이지최초로모든그룹이등장한라이브인스테이지의자켓이문서는스테이지의등장인물을설명...</td>\n",
       "    </tr>\n",
       "    <tr>\n",
       "      <th>1</th>\n",
       "      <td>왕즈즈</td>\n",
       "      <td>중국의농구선수년출생센터농구베이징시출신인물</td>\n",
       "      <td>이름왕즈즈생년월일년월일세국적중국출신지베이징시키체중포지션센터파워포워드드래프트드래프트년...</td>\n",
       "    </tr>\n",
       "  </tbody>\n",
       "</table>\n",
       "</div>"
      ],
      "text/plain": [
       "      title                category  \\\n",
       "0  스테이지등장인물                  작품별캐릭터   \n",
       "1       왕즈즈  중국의농구선수년출생센터농구베이징시출신인물   \n",
       "\n",
       "                                        content_text  \n",
       "0  상위문서스테이지최초로모든그룹이등장한라이브인스테이지의자켓이문서는스테이지의등장인물을설명...  \n",
       "1  이름왕즈즈생년월일년월일세국적중국출신지베이징시키체중포지션센터파워포워드드래프트드래프트년...  "
      ]
     },
     "execution_count": 26,
     "metadata": {},
     "output_type": "execute_result"
    }
   ],
   "source": [
    "# 각 피처마다 데이터 전처리를 적용한다.\n",
    "df['title'] = df['title'].apply(lambda x: text_cleaning(x))\n",
    "df['category'] = df['category'].apply(lambda x: text_cleaning(x))\n",
    "df['content_text'] = df['content_text'].apply(lambda x: text_cleaning(x))\n",
    "df.head(5)"
   ]
  },
  {
   "cell_type": "code",
   "execution_count": 29,
   "id": "238a939e-3c8e-40e5-ad84-7c240c08de52",
   "metadata": {},
   "outputs": [
    {
     "name": "stdout",
     "output_type": "stream",
     "text": [
      "스테이지등장인물왕즈즈\n"
     ]
    }
   ],
   "source": [
    "# 말뭉치 만들기\n",
    "# 각 피처마다 말뭉치를 생성합니다.\n",
    "\n",
    "title_corpus = \"\".join(df['title'].tolist())\n",
    "category_corpus = \"\".join(df['category'].tolist())\n",
    "conten_corpus = \"\".join(df['content_text'].tolist())\n",
    "print(title_corpus)"
   ]
  },
  {
   "cell_type": "code",
   "execution_count": null,
   "id": "05dde6de-d3dd-4ff4-81d9-143c56ddb4c5",
   "metadata": {},
   "outputs": [],
   "source": []
  },
  {
   "cell_type": "code",
   "execution_count": 43,
   "id": "8d734e02-6300-4791-9325-c97d5577e04b",
   "metadata": {},
   "outputs": [
    {
     "name": "stdout",
     "output_type": "stream",
     "text": [
      "Requirement already satisfied: konlpy==0.5.1 in c:\\users\\5-17\\jupylab\\lib\\site-packages (0.5.1)\n",
      "Requirement already satisfied: JPype1>=0.5.7 in c:\\users\\5-17\\jupylab\\lib\\site-packages (from konlpy==0.5.1) (1.3.0)\n"
     ]
    }
   ],
   "source": [
    "!pip install konlpy==0.5.1"
   ]
  },
  {
   "cell_type": "code",
   "execution_count": 45,
   "id": "e9f10049-069f-4dc0-91c1-94a36cdef60c",
   "metadata": {},
   "outputs": [
    {
     "name": "stdout",
     "output_type": "stream",
     "text": [
      "Requirement already satisfied: jpype1 in c:\\users\\5-17\\jupylab\\lib\\site-packages (1.3.0)\n"
     ]
    }
   ],
   "source": [
    "!pip install jpype1 "
   ]
  },
  {
   "cell_type": "code",
   "execution_count": 46,
   "id": "18bf4dc8-f94e-4731-b209-aa28ab0b278c",
   "metadata": {},
   "outputs": [
    {
     "name": "stdout",
     "output_type": "stream",
     "text": [
      "Collecting Jpype1-py3\n",
      "  Using cached JPype1-py3-0.5.5.4.tar.gz (88 kB)\n",
      "Using legacy 'setup.py install' for Jpype1-py3, since package 'wheel' is not installed.\n",
      "Installing collected packages: Jpype1-py3\n",
      "    Running setup.py install for Jpype1-py3: started\n",
      "    Running setup.py install for Jpype1-py3: finished with status 'error'\n"
     ]
    },
    {
     "name": "stderr",
     "output_type": "stream",
     "text": [
      "    ERROR: Command errored out with exit status 1:\n",
      "     command: 'c:\\users\\5-17\\jupylab\\scripts\\python.exe' -u -c 'import io, os, sys, setuptools, tokenize; sys.argv[0] = '\"'\"'C:\\\\Users\\\\5-17\\\\AppData\\\\Local\\\\Temp\\\\pip-install-dxm2v7wn\\\\jpype1-py3_003e9827cce646d8aa56bfea82860810\\\\setup.py'\"'\"'; __file__='\"'\"'C:\\\\Users\\\\5-17\\\\AppData\\\\Local\\\\Temp\\\\pip-install-dxm2v7wn\\\\jpype1-py3_003e9827cce646d8aa56bfea82860810\\\\setup.py'\"'\"';f = getattr(tokenize, '\"'\"'open'\"'\"', open)(__file__) if os.path.exists(__file__) else io.StringIO('\"'\"'from setuptools import setup; setup()'\"'\"');code = f.read().replace('\"'\"'\\r\\n'\"'\"', '\"'\"'\\n'\"'\"');f.close();exec(compile(code, __file__, '\"'\"'exec'\"'\"'))' install --record 'C:\\Users\\5-17\\AppData\\Local\\Temp\\pip-record-i51b2q_r\\install-record.txt' --single-version-externally-managed --compile --install-headers 'c:\\users\\5-17\\jupylab\\include\\site\\python3.9\\Jpype1-py3'\n",
      "         cwd: C:\\Users\\5-17\\AppData\\Local\\Temp\\pip-install-dxm2v7wn\\jpype1-py3_003e9827cce646d8aa56bfea82860810\\\n",
      "    Complete output (54 lines):\n",
      "    \n",
      "    ********* DEPRECATION WARNING *********\n",
      "    Warning: This version of JPype is now deprecated, see issue #29 for more details\n",
      "    Warning:     https://github.com/tcalmant/jpype-py3/issues/29\n",
      "    Warning:\n",
      "    Warning: Please use this version instead:\n",
      "    Warning:     https://github.com/jpype-project/jpype\n",
      "    Warning:\n",
      "    Warning: It can be installed using:\n",
      "    Warning:     pip install JPype1\n",
      "    ********* DEPRECATION WARNING *********\n",
      "    \n",
      "    running install\n",
      "    running build\n",
      "    running build_py\n",
      "    creating build\n",
      "    creating build\\lib.win-amd64-3.9\n",
      "    creating build\\lib.win-amd64-3.9\\jpype\n",
      "    copying jpype\\JClassUtil.py -> build\\lib.win-amd64-3.9\\jpype\n",
      "    copying jpype\\nio.py -> build\\lib.win-amd64-3.9\\jpype\n",
      "    copying jpype\\reflect.py -> build\\lib.win-amd64-3.9\\jpype\n",
      "    copying jpype\\_core.py -> build\\lib.win-amd64-3.9\\jpype\n",
      "    copying jpype\\_cygwin.py -> build\\lib.win-amd64-3.9\\jpype\n",
      "    copying jpype\\_darwin.py -> build\\lib.win-amd64-3.9\\jpype\n",
      "    copying jpype\\_gui.py -> build\\lib.win-amd64-3.9\\jpype\n",
      "    copying jpype\\_jarray.py -> build\\lib.win-amd64-3.9\\jpype\n",
      "    copying jpype\\_jclass.py -> build\\lib.win-amd64-3.9\\jpype\n",
      "    copying jpype\\_jcollection.py -> build\\lib.win-amd64-3.9\\jpype\n",
      "    copying jpype\\_jexception.py -> build\\lib.win-amd64-3.9\\jpype\n",
      "    copying jpype\\_jobject.py -> build\\lib.win-amd64-3.9\\jpype\n",
      "    copying jpype\\_jpackage.py -> build\\lib.win-amd64-3.9\\jpype\n",
      "    copying jpype\\_jproxy.py -> build\\lib.win-amd64-3.9\\jpype\n",
      "    copying jpype\\_jvmfinder.py -> build\\lib.win-amd64-3.9\\jpype\n",
      "    copying jpype\\_jwrapper.py -> build\\lib.win-amd64-3.9\\jpype\n",
      "    copying jpype\\_linux.py -> build\\lib.win-amd64-3.9\\jpype\n",
      "    copying jpype\\_properties.py -> build\\lib.win-amd64-3.9\\jpype\n",
      "    copying jpype\\_pykeywords.py -> build\\lib.win-amd64-3.9\\jpype\n",
      "    copying jpype\\_refdaemon.py -> build\\lib.win-amd64-3.9\\jpype\n",
      "    copying jpype\\_windows.py -> build\\lib.win-amd64-3.9\\jpype\n",
      "    copying jpype\\__init__.py -> build\\lib.win-amd64-3.9\\jpype\n",
      "    creating build\\lib.win-amd64-3.9\\jpype\\awt\n",
      "    copying jpype\\awt\\__init__.py -> build\\lib.win-amd64-3.9\\jpype\\awt\n",
      "    creating build\\lib.win-amd64-3.9\\jpype\\awt\\event\n",
      "    copying jpype\\awt\\event\\WindowAdapter.py -> build\\lib.win-amd64-3.9\\jpype\\awt\\event\n",
      "    copying jpype\\awt\\event\\__init__.py -> build\\lib.win-amd64-3.9\\jpype\\awt\\event\n",
      "    creating build\\lib.win-amd64-3.9\\jpypex\n",
      "    copying jpypex\\__init__.py -> build\\lib.win-amd64-3.9\\jpypex\n",
      "    creating build\\lib.win-amd64-3.9\\jpypex\\swing\n",
      "    copying jpypex\\swing\\AbstractAction.py -> build\\lib.win-amd64-3.9\\jpypex\\swing\n",
      "    copying jpypex\\swing\\pyutils.py -> build\\lib.win-amd64-3.9\\jpypex\\swing\n",
      "    copying jpypex\\swing\\__init__.py -> build\\lib.win-amd64-3.9\\jpypex\\swing\n",
      "    running build_ext\n",
      "    building '_jpype' extension\n",
      "    error: Microsoft Visual C++ 14.0 or greater is required. Get it with \"Microsoft C++ Build Tools\": https://visualstudio.microsoft.com/visual-cpp-build-tools/\n",
      "    ----------------------------------------\n",
      "ERROR: Command errored out with exit status 1: 'c:\\users\\5-17\\jupylab\\scripts\\python.exe' -u -c 'import io, os, sys, setuptools, tokenize; sys.argv[0] = '\"'\"'C:\\\\Users\\\\5-17\\\\AppData\\\\Local\\\\Temp\\\\pip-install-dxm2v7wn\\\\jpype1-py3_003e9827cce646d8aa56bfea82860810\\\\setup.py'\"'\"'; __file__='\"'\"'C:\\\\Users\\\\5-17\\\\AppData\\\\Local\\\\Temp\\\\pip-install-dxm2v7wn\\\\jpype1-py3_003e9827cce646d8aa56bfea82860810\\\\setup.py'\"'\"';f = getattr(tokenize, '\"'\"'open'\"'\"', open)(__file__) if os.path.exists(__file__) else io.StringIO('\"'\"'from setuptools import setup; setup()'\"'\"');code = f.read().replace('\"'\"'\\r\\n'\"'\"', '\"'\"'\\n'\"'\"');f.close();exec(compile(code, __file__, '\"'\"'exec'\"'\"'))' install --record 'C:\\Users\\5-17\\AppData\\Local\\Temp\\pip-record-i51b2q_r\\install-record.txt' --single-version-externally-managed --compile --install-headers 'c:\\users\\5-17\\jupylab\\include\\site\\python3.9\\Jpype1-py3' Check the logs for full command output.\n"
     ]
    }
   ],
   "source": [
    "!pip install Jpype1-py3"
   ]
  },
  {
   "cell_type": "code",
   "execution_count": 47,
   "id": "893174d0-2540-49c7-ba7b-b5b1a039de4c",
   "metadata": {},
   "outputs": [
    {
     "ename": "SystemError",
     "evalue": "java.lang.UnsatisfiedLinkError: Native Library C:\\Users\\5-17\\jupylab\\Lib\\site-packages\\_jpype.cp39-win_amd64.pyd already loaded in another classloader",
     "output_type": "error",
     "traceback": [
      "\u001b[1;31m-------------------------------------------------------------------------\u001b[0m",
      "\u001b[1;31mSystemError\u001b[0m                             Traceback (most recent call last)",
      "\u001b[1;32m<ipython-input-47-8e41c8cd65fd>\u001b[0m in \u001b[0;36m<module>\u001b[1;34m\u001b[0m\n\u001b[0;32m      4\u001b[0m \u001b[1;31m# Konlpy의 형태소 분석기로 명사 단위의 키워드를 추출\u001b[0m\u001b[1;33m\u001b[0m\u001b[1;33m\u001b[0m\u001b[1;33m\u001b[0m\u001b[0m\n\u001b[0;32m      5\u001b[0m \u001b[1;33m\u001b[0m\u001b[0m\n\u001b[1;32m----> 6\u001b[1;33m \u001b[0mnouns_tagger\u001b[0m \u001b[1;33m=\u001b[0m \u001b[0mOkt\u001b[0m\u001b[1;33m(\u001b[0m\u001b[1;33m)\u001b[0m\u001b[1;33m\u001b[0m\u001b[1;33m\u001b[0m\u001b[0m\n\u001b[0m\u001b[0;32m      7\u001b[0m \u001b[0mnouns\u001b[0m \u001b[1;33m=\u001b[0m \u001b[0mnouns_tagger\u001b[0m\u001b[1;33m.\u001b[0m\u001b[0mnouns\u001b[0m\u001b[1;33m(\u001b[0m\u001b[0mcontent_corpus\u001b[0m\u001b[1;33m)\u001b[0m\u001b[1;33m\u001b[0m\u001b[1;33m\u001b[0m\u001b[0m\n\u001b[0;32m      8\u001b[0m \u001b[0mcount\u001b[0m \u001b[1;33m=\u001b[0m \u001b[0mCounter\u001b[0m\u001b[1;33m(\u001b[0m\u001b[0mnouns\u001b[0m\u001b[1;33m)\u001b[0m\u001b[1;33m\u001b[0m\u001b[1;33m\u001b[0m\u001b[0m\n",
      "\u001b[1;32mc:\\users\\5-17\\jupylab\\lib\\site-packages\\konlpy\\tag\\_okt.py\u001b[0m in \u001b[0;36m__init__\u001b[1;34m(self, jvmpath, max_heap_size)\u001b[0m\n\u001b[0;32m     85\u001b[0m     \u001b[1;32mdef\u001b[0m \u001b[0m__init__\u001b[0m\u001b[1;33m(\u001b[0m\u001b[0mself\u001b[0m\u001b[1;33m,\u001b[0m \u001b[0mjvmpath\u001b[0m\u001b[1;33m=\u001b[0m\u001b[1;32mNone\u001b[0m\u001b[1;33m,\u001b[0m \u001b[0mmax_heap_size\u001b[0m\u001b[1;33m=\u001b[0m\u001b[1;36m1024\u001b[0m\u001b[1;33m)\u001b[0m\u001b[1;33m:\u001b[0m\u001b[1;33m\u001b[0m\u001b[1;33m\u001b[0m\u001b[0m\n\u001b[0;32m     86\u001b[0m         \u001b[1;32mif\u001b[0m \u001b[1;32mnot\u001b[0m \u001b[0mjpype\u001b[0m\u001b[1;33m.\u001b[0m\u001b[0misJVMStarted\u001b[0m\u001b[1;33m(\u001b[0m\u001b[1;33m)\u001b[0m\u001b[1;33m:\u001b[0m\u001b[1;33m\u001b[0m\u001b[1;33m\u001b[0m\u001b[0m\n\u001b[1;32m---> 87\u001b[1;33m             \u001b[0mjvm\u001b[0m\u001b[1;33m.\u001b[0m\u001b[0minit_jvm\u001b[0m\u001b[1;33m(\u001b[0m\u001b[0mjvmpath\u001b[0m\u001b[1;33m,\u001b[0m \u001b[0mmax_heap_size\u001b[0m\u001b[1;33m)\u001b[0m\u001b[1;33m\u001b[0m\u001b[1;33m\u001b[0m\u001b[0m\n\u001b[0m\u001b[0;32m     88\u001b[0m \u001b[1;33m\u001b[0m\u001b[0m\n\u001b[0;32m     89\u001b[0m         \u001b[0moktJavaPackage\u001b[0m \u001b[1;33m=\u001b[0m \u001b[0mjpype\u001b[0m\u001b[1;33m.\u001b[0m\u001b[0mJPackage\u001b[0m\u001b[1;33m(\u001b[0m\u001b[1;34m'kr.lucypark.okt'\u001b[0m\u001b[1;33m)\u001b[0m\u001b[1;33m\u001b[0m\u001b[1;33m\u001b[0m\u001b[0m\n",
      "\u001b[1;32mc:\\users\\5-17\\jupylab\\lib\\site-packages\\konlpy\\jvm.py\u001b[0m in \u001b[0;36minit_jvm\u001b[1;34m(jvmpath, max_heap_size)\u001b[0m\n\u001b[0;32m     62\u001b[0m \u001b[1;33m\u001b[0m\u001b[0m\n\u001b[0;32m     63\u001b[0m     \u001b[1;32mif\u001b[0m \u001b[0mjvmpath\u001b[0m\u001b[1;33m:\u001b[0m\u001b[1;33m\u001b[0m\u001b[1;33m\u001b[0m\u001b[0m\n\u001b[1;32m---> 64\u001b[1;33m         jpype.startJVM(jvmpath, '-Djava.class.path=%s' % classpath,\n\u001b[0m\u001b[0;32m     65\u001b[0m                                 \u001b[1;34m'-Dfile.encoding=UTF8'\u001b[0m\u001b[1;33m,\u001b[0m\u001b[1;33m\u001b[0m\u001b[1;33m\u001b[0m\u001b[0m\n\u001b[0;32m     66\u001b[0m                                 '-ea', '-Xmx{}m'.format(max_heap_size))\n",
      "\u001b[1;32mc:\\users\\5-17\\jupylab\\lib\\site-packages\\jpype\\_core.py\u001b[0m in \u001b[0;36mstartJVM\u001b[1;34m(*args, **kwargs)\u001b[0m\n\u001b[0;32m    224\u001b[0m \u001b[1;33m\u001b[0m\u001b[0m\n\u001b[0;32m    225\u001b[0m     \u001b[1;32mtry\u001b[0m\u001b[1;33m:\u001b[0m\u001b[1;33m\u001b[0m\u001b[1;33m\u001b[0m\u001b[0m\n\u001b[1;32m--> 226\u001b[1;33m         _jpype.startup(jvmpath, tuple(args),\n\u001b[0m\u001b[0;32m    227\u001b[0m                        ignoreUnrecognized, convertStrings, interrupt)\n\u001b[0;32m    228\u001b[0m         \u001b[0minitializeResources\u001b[0m\u001b[1;33m(\u001b[0m\u001b[1;33m)\u001b[0m\u001b[1;33m\u001b[0m\u001b[1;33m\u001b[0m\u001b[0m\n",
      "\u001b[1;31mSystemError\u001b[0m: java.lang.UnsatisfiedLinkError: Native Library C:\\Users\\5-17\\jupylab\\Lib\\site-packages\\_jpype.cp39-win_amd64.pyd already loaded in another classloader"
     ]
    }
   ],
   "source": [
    "from konlpy.tag import Okt\n",
    "from collections import Counter\n",
    "\n",
    "# Konlpy의 형태소 분석기로 명사 단위의 키워드를 추출\n",
    "\n",
    "nouns_tagger = Okt()\n",
    "nouns = nouns_tagger.nouns(content_corpus)\n",
    "count = Counter(nouns)"
   ]
  },
  {
   "cell_type": "code",
   "execution_count": null,
   "id": "e107d664-612d-42c7-bfd0-b9668fd37958",
   "metadata": {},
   "outputs": [],
   "source": []
  }
 ],
 "metadata": {
  "kernelspec": {
   "display_name": "Python 3",
   "language": "python",
   "name": "python3"
  },
  "language_info": {
   "codemirror_mode": {
    "name": "ipython",
    "version": 3
   },
   "file_extension": ".py",
   "mimetype": "text/x-python",
   "name": "python",
   "nbconvert_exporter": "python",
   "pygments_lexer": "ipython3",
   "version": "3.9.5"
  }
 },
 "nbformat": 4,
 "nbformat_minor": 5
}
