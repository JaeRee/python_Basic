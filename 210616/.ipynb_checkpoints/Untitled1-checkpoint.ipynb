{
 "cells": [
  {
   "cell_type": "code",
   "execution_count": 4,
   "id": "d77fe5b0-509d-4d0b-b324-8a9b69a3f3a3",
   "metadata": {},
   "outputs": [
    {
     "name": "stdout",
     "output_type": "stream",
     "text": [
      "에소프레소, 아메리카노, 카페라테, 카푸치노\n"
     ]
    },
    {
     "data": {
      "text/plain": [
       "list"
      ]
     },
     "execution_count": 4,
     "metadata": {},
     "output_type": "execute_result"
    }
   ],
   "source": [
    "menu = '에소프레소, 아메리카노, 카페라테, 카푸치노'\n",
    "menu.split(',')\n",
    "\n",
    "print(menu)\n",
    "type(menu)\n",
    "\n"
   ]
  },
  {
   "cell_type": "code",
   "execution_count": 5,
   "id": "b7c257bf-fa03-4e6f-ab79-020dceead6b9",
   "metadata": {},
   "outputs": [
    {
     "data": {
      "text/plain": [
       "list"
      ]
     },
     "execution_count": 5,
     "metadata": {},
     "output_type": "execute_result"
    }
   ],
   "source": [
    "menu_list = menu.split()\n",
    "type(menu_list)"
   ]
  },
  {
   "cell_type": "code",
   "execution_count": 9,
   "id": "d1023939-83b5-4454-9c08-6a046809055a",
   "metadata": {},
   "outputs": [
    {
     "name": "stdout",
     "output_type": "stream",
     "text": [
      "날짜 에스프레소 아메리카노 카페라테 카푸치노\n",
      "10.15 10 50 45 20\n",
      "10.16 10 50 45 20\n",
      "10.17 10 50 45 20\n"
     ]
    }
   ],
   "source": [
    "\n",
    "f=open('menu.txt')\n",
    "for line in f:\n",
    "    print(line, end='')\n",
    "f.close()\n"
   ]
  },
  {
   "cell_type": "code",
   "execution_count": null,
   "id": "011f14f1-06e6-4458-b9c7-e9b4d743d6e1",
   "metadata": {},
   "outputs": [],
   "source": []
  },
  {
   "cell_type": "code",
   "execution_count": 10,
   "id": "8873cdb2-46f4-4a15-90cf-3b56d347aa60",
   "metadata": {},
   "outputs": [],
   "source": [
    "f = open(\"menu.txt\")\n",
    "header = f.readline()\n",
    "f.close()"
   ]
  },
  {
   "cell_type": "code",
   "execution_count": 11,
   "id": "b6239f5c-5400-4beb-b543-f9975776fed8",
   "metadata": {},
   "outputs": [
    {
     "data": {
      "text/plain": [
       "'날짜 에스프레소 아메리카노 카페라테 카푸치노\\n'"
      ]
     },
     "execution_count": 11,
     "metadata": {},
     "output_type": "execute_result"
    }
   ],
   "source": [
    "header"
   ]
  },
  {
   "cell_type": "code",
   "execution_count": null,
   "id": "9bdc864d-5773-4485-bec5-763ee1ee7965",
   "metadata": {},
   "outputs": [],
   "source": []
  }
 ],
 "metadata": {
  "kernelspec": {
   "display_name": "Python 3",
   "language": "python",
   "name": "python3"
  },
  "language_info": {
   "codemirror_mode": {
    "name": "ipython",
    "version": 3
   },
   "file_extension": ".py",
   "mimetype": "text/x-python",
   "name": "python",
   "nbconvert_exporter": "python",
   "pygments_lexer": "ipython3",
   "version": "3.9.5"
  }
 },
 "nbformat": 4,
 "nbformat_minor": 5
}
