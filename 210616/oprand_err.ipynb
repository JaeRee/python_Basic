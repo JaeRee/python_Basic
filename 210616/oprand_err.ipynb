{
 "cells": [
  {
   "cell_type": "code",
   "execution_count": 14,
   "id": "ab28a8eb-8a72-4ae5-84b1-6c258391ab99",
   "metadata": {},
   "outputs": [],
   "source": [
    "n=0\n",
    "def gugu(n):\n",
    "    for i in range(1,10):\n",
    "        print(\"%d * %d = %d \" % (n,i,n*i))"
   ]
  },
  {
   "cell_type": "code",
   "execution_count": 15,
   "id": "d3e7ba48-4cb7-4189-abfe-09a14867e86f",
   "metadata": {},
   "outputs": [
    {
     "name": "stdout",
     "output_type": "stream",
     "text": [
      "5 * 1 = 5 \n",
      "5 * 2 = 10 \n",
      "5 * 3 = 15 \n",
      "5 * 4 = 20 \n",
      "5 * 5 = 25 \n",
      "5 * 6 = 30 \n",
      "5 * 7 = 35 \n",
      "5 * 8 = 40 \n",
      "5 * 9 = 45 \n"
     ]
    }
   ],
   "source": [
    "gugu(5)"
   ]
  },
  {
   "cell_type": "code",
   "execution_count": 30,
   "id": "37c112cc-cfd1-4075-a487-f7a1b7d30290",
   "metadata": {},
   "outputs": [],
   "source": [
    "n=0\n",
    "def gugu(n):\n",
    "    for i in range(1,10):\n",
    "        print(str(n)+\"*\"+str(i)+'='+str(n*i))\n",
    "        \n",
    "        \n",
    "#        print(n+'*'+i+'='+int(n*i)) \n",
    "#       unsupported operand type(s) for +: 'int' and 'str'    // 오류뜸 \n",
    "#       int + str 이 형(타입)이 달라서 연산 할 수 없다는 오류"
   ]
  },
  {
   "cell_type": "code",
   "execution_count": 31,
   "id": "88abea7e-eead-41c9-b700-f5b1fd781fde",
   "metadata": {},
   "outputs": [
    {
     "name": "stdout",
     "output_type": "stream",
     "text": [
      "5*1=5\n",
      "5*2=10\n",
      "5*3=15\n",
      "5*4=20\n",
      "5*5=25\n",
      "5*6=30\n",
      "5*7=35\n",
      "5*8=40\n",
      "5*9=45\n"
     ]
    }
   ],
   "source": [
    "gugu(5)"
   ]
  },
  {
   "cell_type": "code",
   "execution_count": null,
   "id": "0247eb05-2f68-4221-9704-4e8a0fa3e7e3",
   "metadata": {},
   "outputs": [],
   "source": []
  }
 ],
 "metadata": {
  "kernelspec": {
   "display_name": "Python 3",
   "language": "python",
   "name": "python3"
  },
  "language_info": {
   "codemirror_mode": {
    "name": "ipython",
    "version": 3
   },
   "file_extension": ".py",
   "mimetype": "text/x-python",
   "name": "python",
   "nbconvert_exporter": "python",
   "pygments_lexer": "ipython3",
   "version": "3.9.5"
  }
 },
 "nbformat": 4,
 "nbformat_minor": 5
}
