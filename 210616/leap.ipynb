{
 "cells": [
  {
   "cell_type": "code",
   "execution_count": null,
   "id": "3433880a-f54f-4b76-96f5-01ac889680a0",
   "metadata": {},
   "outputs": [],
   "source": [
    "while True:\n",
    "    \n",
    "    num = int(input(\"년도를 입력하세요: \"))\n",
    "\n",
    "\n",
    "    if num % 4 == 0:\n",
    "        if (num%100==0)and(num%400==0):\n",
    "            print(\"윤년입니다.\")\n",
    "        elif num%100==0:\n",
    "            print(\"평년입니다.\")\n",
    "        else:\n",
    "            print(\"윤년입니다.\")\n",
    "\n",
    "    else :\n",
    "        print(\"아무것도아닌 평년입니다. 2\")"
   ]
  },
  {
   "cell_type": "code",
   "execution_count": null,
   "id": "2174fb4f-25b7-49db-a11e-9bf51b7d4489",
   "metadata": {},
   "outputs": [],
   "source": []
  }
 ],
 "metadata": {
  "kernelspec": {
   "display_name": "Python 3",
   "language": "python",
   "name": "python3"
  },
  "language_info": {
   "codemirror_mode": {
    "name": "ipython",
    "version": 3
   },
   "file_extension": ".py",
   "mimetype": "text/x-python",
   "name": "python",
   "nbconvert_exporter": "python",
   "pygments_lexer": "ipython3",
   "version": "3.9.5"
  }
 },
 "nbformat": 4,
 "nbformat_minor": 5
}
