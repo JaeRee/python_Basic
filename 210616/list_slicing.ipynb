{
 "cells": [
  {
   "cell_type": "code",
   "execution_count": 3,
   "id": "251bfe3b-a55b-454f-891a-e72c8a2996fb",
   "metadata": {},
   "outputs": [],
   "source": [
    "kospi= ['삼성전자', 'SK하이닉스', '현대차', '한국전력', '아모레퍼시픽', '제일모직', '삼성전자우', '삼성생명', 'NAVER', '현대모비스']"
   ]
  },
  {
   "cell_type": "code",
   "execution_count": 8,
   "id": "40a2c8b0-58d5-412d-b1cf-7df0ecad944e",
   "metadata": {},
   "outputs": [],
   "source": [
    "a=[]\n",
    "a.append(kospi[0:3])"
   ]
  },
  {
   "cell_type": "code",
   "execution_count": 9,
   "id": "dcd982af-b982-40b5-a626-2cc7d2ef6979",
   "metadata": {},
   "outputs": [
    {
     "name": "stdout",
     "output_type": "stream",
     "text": [
      "[['삼성전자', 'SK하이닉스', '현대차']]\n"
     ]
    }
   ],
   "source": [
    "print(a)"
   ]
  },
  {
   "cell_type": "code",
   "execution_count": 11,
   "id": "cc86b905-547c-46fc-9021-d555c0b39c24",
   "metadata": {},
   "outputs": [
    {
     "name": "stdout",
     "output_type": "stream",
     "text": [
      "2\n"
     ]
    }
   ],
   "source": [
    "kospi2=[[1,2],[3,4,5]]\n",
    "\n",
    "kospi2[1][1]\n",
    "print(kospi2[0][1])"
   ]
  },
  {
   "cell_type": "code",
   "execution_count": null,
   "id": "3a4f7381-55ea-411d-bc68-51a472f6afb0",
   "metadata": {},
   "outputs": [],
   "source": []
  }
 ],
 "metadata": {
  "kernelspec": {
   "display_name": "Python 3",
   "language": "python",
   "name": "python3"
  },
  "language_info": {
   "codemirror_mode": {
    "name": "ipython",
    "version": 3
   },
   "file_extension": ".py",
   "mimetype": "text/x-python",
   "name": "python",
   "nbconvert_exporter": "python",
   "pygments_lexer": "ipython3",
   "version": "3.9.5"
  }
 },
 "nbformat": 4,
 "nbformat_minor": 5
}
