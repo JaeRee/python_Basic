{
 "cells": [
  {
   "cell_type": "code",
   "execution_count": 3,
   "id": "0abde1a0-3a8d-4eab-b984-59984b17bc46",
   "metadata": {},
   "outputs": [
    {
     "data": {
      "text/html": [
       "<div>\n",
       "<style scoped>\n",
       "    .dataframe tbody tr th:only-of-type {\n",
       "        vertical-align: middle;\n",
       "    }\n",
       "\n",
       "    .dataframe tbody tr th {\n",
       "        vertical-align: top;\n",
       "    }\n",
       "\n",
       "    .dataframe thead th {\n",
       "        text-align: right;\n",
       "    }\n",
       "</style>\n",
       "<table border=\"1\" class=\"dataframe\">\n",
       "  <thead>\n",
       "    <tr style=\"text-align: right;\">\n",
       "      <th></th>\n",
       "      <th>student_no</th>\n",
       "      <th>class</th>\n",
       "      <th>science</th>\n",
       "      <th>english</th>\n",
       "      <th>math</th>\n",
       "      <th>sex</th>\n",
       "    </tr>\n",
       "  </thead>\n",
       "  <tbody>\n",
       "    <tr>\n",
       "      <th>0</th>\n",
       "      <td>1</td>\n",
       "      <td>A</td>\n",
       "      <td>50</td>\n",
       "      <td>98</td>\n",
       "      <td>50</td>\n",
       "      <td>m</td>\n",
       "    </tr>\n",
       "    <tr>\n",
       "      <th>1</th>\n",
       "      <td>2</td>\n",
       "      <td>A</td>\n",
       "      <td>60</td>\n",
       "      <td>97</td>\n",
       "      <td>60</td>\n",
       "      <td>w</td>\n",
       "    </tr>\n",
       "    <tr>\n",
       "      <th>2</th>\n",
       "      <td>3</td>\n",
       "      <td>A</td>\n",
       "      <td>78</td>\n",
       "      <td>86</td>\n",
       "      <td>45</td>\n",
       "      <td>w</td>\n",
       "    </tr>\n",
       "    <tr>\n",
       "      <th>3</th>\n",
       "      <td>4</td>\n",
       "      <td>A</td>\n",
       "      <td>58</td>\n",
       "      <td>98</td>\n",
       "      <td>30</td>\n",
       "      <td>m</td>\n",
       "    </tr>\n",
       "    <tr>\n",
       "      <th>4</th>\n",
       "      <td>5</td>\n",
       "      <td>B</td>\n",
       "      <td>65</td>\n",
       "      <td>80</td>\n",
       "      <td>90</td>\n",
       "      <td>w</td>\n",
       "    </tr>\n",
       "    <tr>\n",
       "      <th>5</th>\n",
       "      <td>6</td>\n",
       "      <td>B</td>\n",
       "      <td>98</td>\n",
       "      <td>89</td>\n",
       "      <td>50</td>\n",
       "      <td>m</td>\n",
       "    </tr>\n",
       "    <tr>\n",
       "      <th>6</th>\n",
       "      <td>7</td>\n",
       "      <td>B</td>\n",
       "      <td>45</td>\n",
       "      <td>90</td>\n",
       "      <td>80</td>\n",
       "      <td>m</td>\n",
       "    </tr>\n",
       "    <tr>\n",
       "      <th>7</th>\n",
       "      <td>8</td>\n",
       "      <td>B</td>\n",
       "      <td>25</td>\n",
       "      <td>78</td>\n",
       "      <td>90</td>\n",
       "      <td>w</td>\n",
       "    </tr>\n",
       "    <tr>\n",
       "      <th>8</th>\n",
       "      <td>9</td>\n",
       "      <td>C</td>\n",
       "      <td>15</td>\n",
       "      <td>98</td>\n",
       "      <td>20</td>\n",
       "      <td>w</td>\n",
       "    </tr>\n",
       "    <tr>\n",
       "      <th>9</th>\n",
       "      <td>10</td>\n",
       "      <td>C</td>\n",
       "      <td>45</td>\n",
       "      <td>93</td>\n",
       "      <td>50</td>\n",
       "      <td>w</td>\n",
       "    </tr>\n",
       "  </tbody>\n",
       "</table>\n",
       "</div>"
      ],
      "text/plain": [
       "   student_no class  science  english  math sex\n",
       "0           1     A       50       98    50   m\n",
       "1           2     A       60       97    60   w\n",
       "2           3     A       78       86    45   w\n",
       "3           4     A       58       98    30   m\n",
       "4           5     B       65       80    90   w\n",
       "5           6     B       98       89    50   m\n",
       "6           7     B       45       90    80   m\n",
       "7           8     B       25       78    90   w\n",
       "8           9     C       15       98    20   w\n",
       "9          10     C       45       93    50   w"
      ]
     },
     "execution_count": 3,
     "metadata": {},
     "output_type": "execute_result"
    }
   ],
   "source": [
    "# 데이터 재구조화 (Reshaping)\n",
    "\n",
    "import pandas as pd\n",
    "\n",
    "path = '../data/GroupAnalyze/exam_sample.csv'\n",
    "\n",
    "\n",
    "df = pd.read_csv(path)\n",
    "\n",
    "\n",
    "df"
   ]
  },
  {
   "cell_type": "code",
   "execution_count": 5,
   "id": "737482be-5ba4-4768-8a8f-f994d563b158",
   "metadata": {},
   "outputs": [
    {
     "data": {
      "text/plain": [
       "count    10.000000\n",
       "mean     56.500000\n",
       "std      23.810595\n",
       "min      20.000000\n",
       "25%      46.250000\n",
       "50%      50.000000\n",
       "75%      75.000000\n",
       "max      90.000000\n",
       "Name: math, dtype: float64"
      ]
     },
     "execution_count": 5,
     "metadata": {},
     "output_type": "execute_result"
    }
   ],
   "source": [
    "df['math'].describe()"
   ]
  },
  {
   "cell_type": "code",
   "execution_count": 10,
   "id": "7b1c0a00-ee20-45f8-88f1-f59268c2e492",
   "metadata": {},
   "outputs": [
    {
     "data": {
      "text/plain": [
       "0    (43.333, 66.667]\n",
       "1    (43.333, 66.667]\n",
       "2    (43.333, 66.667]\n",
       "3     (19.93, 43.333]\n",
       "4      (66.667, 90.0]\n",
       "5    (43.333, 66.667]\n",
       "6      (66.667, 90.0]\n",
       "7      (66.667, 90.0]\n",
       "8     (19.93, 43.333]\n",
       "9    (43.333, 66.667]\n",
       "Name: math, dtype: category\n",
       "Categories (3, interval[float64]): [(19.93, 43.333] < (43.333, 66.667] < (66.667, 90.0]]"
      ]
     },
     "execution_count": 10,
     "metadata": {},
     "output_type": "execute_result"
    }
   ],
   "source": [
    "df_cut_math = pd.cut(df['math'], 3)\n",
    "df_cut_math\n",
    "\n",
    "# cut 은 구간을 나눔"
   ]
  },
  {
   "cell_type": "code",
   "execution_count": 14,
   "id": "c4d3377d-e028-46c5-b0f4-322b9496dc2e",
   "metadata": {},
   "outputs": [
    {
     "data": {
      "text/plain": [
       "math\n",
       "C학점    25.000000\n",
       "B학점    51.000000\n",
       "A학점    86.666667\n",
       "Name: math, dtype: float64"
      ]
     },
     "execution_count": 14,
     "metadata": {},
     "output_type": "execute_result"
    }
   ],
   "source": [
    "df_cut_math_group = df['math'].groupby(df_cut_math)\n",
    "df_cut_math_group.mean()"
   ]
  },
  {
   "cell_type": "code",
   "execution_count": 9,
   "id": "9b22c55c-a802-4d4c-9d19-a6955307078c",
   "metadata": {},
   "outputs": [
    {
     "data": {
      "text/html": [
       "<div>\n",
       "<style scoped>\n",
       "    .dataframe tbody tr th:only-of-type {\n",
       "        vertical-align: middle;\n",
       "    }\n",
       "\n",
       "    .dataframe tbody tr th {\n",
       "        vertical-align: top;\n",
       "    }\n",
       "\n",
       "    .dataframe thead th {\n",
       "        text-align: right;\n",
       "    }\n",
       "</style>\n",
       "<table border=\"1\" class=\"dataframe\">\n",
       "  <thead>\n",
       "    <tr style=\"text-align: right;\">\n",
       "      <th></th>\n",
       "      <th>count</th>\n",
       "      <th>mean</th>\n",
       "      <th>std</th>\n",
       "      <th>min</th>\n",
       "      <th>max</th>\n",
       "    </tr>\n",
       "    <tr>\n",
       "      <th>math</th>\n",
       "      <th></th>\n",
       "      <th></th>\n",
       "      <th></th>\n",
       "      <th></th>\n",
       "      <th></th>\n",
       "    </tr>\n",
       "  </thead>\n",
       "  <tbody>\n",
       "    <tr>\n",
       "      <th>(19.93, 43.333]</th>\n",
       "      <td>2</td>\n",
       "      <td>25.000000</td>\n",
       "      <td>7.071068</td>\n",
       "      <td>20</td>\n",
       "      <td>30</td>\n",
       "    </tr>\n",
       "    <tr>\n",
       "      <th>(43.333, 66.667]</th>\n",
       "      <td>5</td>\n",
       "      <td>51.000000</td>\n",
       "      <td>5.477226</td>\n",
       "      <td>45</td>\n",
       "      <td>60</td>\n",
       "    </tr>\n",
       "    <tr>\n",
       "      <th>(66.667, 90.0]</th>\n",
       "      <td>3</td>\n",
       "      <td>86.666667</td>\n",
       "      <td>5.773503</td>\n",
       "      <td>80</td>\n",
       "      <td>90</td>\n",
       "    </tr>\n",
       "  </tbody>\n",
       "</table>\n",
       "</div>"
      ],
      "text/plain": [
       "                  count       mean       std  min  max\n",
       "math                                                  \n",
       "(19.93, 43.333]       2  25.000000  7.071068   20   30\n",
       "(43.333, 66.667]      5  51.000000  5.477226   45   60\n",
       "(66.667, 90.0]        3  86.666667  5.773503   80   90"
      ]
     },
     "execution_count": 9,
     "metadata": {},
     "output_type": "execute_result"
    }
   ],
   "source": [
    "df_cut_math_group.agg(['count', 'mean', 'std', 'min', 'max'])"
   ]
  },
  {
   "cell_type": "code",
   "execution_count": 11,
   "id": "c50ec911-0862-4c87-b731-60cccac8bbc4",
   "metadata": {},
   "outputs": [
    {
     "data": {
      "text/plain": [
       "0    B학점\n",
       "1    B학점\n",
       "2    B학점\n",
       "3    C학점\n",
       "4    A학점\n",
       "5    B학점\n",
       "6    A학점\n",
       "7    A학점\n",
       "8    C학점\n",
       "9    B학점\n",
       "Name: math, dtype: category\n",
       "Categories (3, object): ['C학점' < 'B학점' < 'A학점']"
      ]
     },
     "execution_count": 11,
     "metadata": {},
     "output_type": "execute_result"
    }
   ],
   "source": [
    "df_cut_math = pd.cut(df['math'], 3, labels = ['C학점', 'B학점', 'A학점'])\n",
    "df_cut_math"
   ]
  },
  {
   "cell_type": "code",
   "execution_count": 12,
   "id": "7dc2b42e-bd19-4c00-abd9-8fb997e201d1",
   "metadata": {},
   "outputs": [
    {
     "data": {
      "text/html": [
       "<div>\n",
       "<style scoped>\n",
       "    .dataframe tbody tr th:only-of-type {\n",
       "        vertical-align: middle;\n",
       "    }\n",
       "\n",
       "    .dataframe tbody tr th {\n",
       "        vertical-align: top;\n",
       "    }\n",
       "\n",
       "    .dataframe thead th {\n",
       "        text-align: right;\n",
       "    }\n",
       "</style>\n",
       "<table border=\"1\" class=\"dataframe\">\n",
       "  <thead>\n",
       "    <tr style=\"text-align: right;\">\n",
       "      <th></th>\n",
       "      <th>count</th>\n",
       "      <th>mean</th>\n",
       "      <th>std</th>\n",
       "      <th>min</th>\n",
       "      <th>max</th>\n",
       "    </tr>\n",
       "    <tr>\n",
       "      <th>math</th>\n",
       "      <th></th>\n",
       "      <th></th>\n",
       "      <th></th>\n",
       "      <th></th>\n",
       "      <th></th>\n",
       "    </tr>\n",
       "  </thead>\n",
       "  <tbody>\n",
       "    <tr>\n",
       "      <th>C학점</th>\n",
       "      <td>2</td>\n",
       "      <td>25.000000</td>\n",
       "      <td>7.071068</td>\n",
       "      <td>20</td>\n",
       "      <td>30</td>\n",
       "    </tr>\n",
       "    <tr>\n",
       "      <th>B학점</th>\n",
       "      <td>5</td>\n",
       "      <td>51.000000</td>\n",
       "      <td>5.477226</td>\n",
       "      <td>45</td>\n",
       "      <td>60</td>\n",
       "    </tr>\n",
       "    <tr>\n",
       "      <th>A학점</th>\n",
       "      <td>3</td>\n",
       "      <td>86.666667</td>\n",
       "      <td>5.773503</td>\n",
       "      <td>80</td>\n",
       "      <td>90</td>\n",
       "    </tr>\n",
       "  </tbody>\n",
       "</table>\n",
       "</div>"
      ],
      "text/plain": [
       "      count       mean       std  min  max\n",
       "math                                      \n",
       "C학점       2  25.000000  7.071068   20   30\n",
       "B학점       5  51.000000  5.477226   45   60\n",
       "A학점       3  86.666667  5.773503   80   90"
      ]
     },
     "execution_count": 12,
     "metadata": {},
     "output_type": "execute_result"
    }
   ],
   "source": [
    "df_cut_math_group = df['math'].groupby(df_cut_math)\n",
    "df_cut_math_group.agg(['count', 'mean', 'std', 'min', 'max'])"
   ]
  },
  {
   "cell_type": "code",
   "execution_count": 15,
   "id": "944b649c-860f-4bbc-b32c-999a9a4c1129",
   "metadata": {},
   "outputs": [
    {
     "data": {
      "text/plain": [
       "count    10.000000\n",
       "mean     90.700000\n",
       "std       7.498889\n",
       "min      78.000000\n",
       "25%      86.750000\n",
       "50%      91.500000\n",
       "75%      97.750000\n",
       "max      98.000000\n",
       "Name: english, dtype: float64"
      ]
     },
     "execution_count": 15,
     "metadata": {},
     "output_type": "execute_result"
    }
   ],
   "source": [
    "df['english'].describe()"
   ]
  },
  {
   "cell_type": "code",
   "execution_count": 16,
   "id": "c02ddb07-5a7b-48d4-8a54-2c08974af8b0",
   "metadata": {},
   "outputs": [
    {
     "data": {
      "text/plain": [
       "0      (97.0, 98.0]\n",
       "1      (89.0, 97.0]\n",
       "2    (77.999, 89.0]\n",
       "3      (97.0, 98.0]\n",
       "4    (77.999, 89.0]\n",
       "5    (77.999, 89.0]\n",
       "6      (89.0, 97.0]\n",
       "7    (77.999, 89.0]\n",
       "8      (97.0, 98.0]\n",
       "9      (89.0, 97.0]\n",
       "Name: english, dtype: category\n",
       "Categories (3, interval[float64]): [(77.999, 89.0] < (89.0, 97.0] < (97.0, 98.0]]"
      ]
     },
     "execution_count": 16,
     "metadata": {},
     "output_type": "execute_result"
    }
   ],
   "source": [
    "df_qcut_english = pd.qcut(df['english'], 3)\n",
    "df_qcut_english"
   ]
  },
  {
   "cell_type": "code",
   "execution_count": 17,
   "id": "4fb00739-68eb-4d41-a5fb-dedaf5d76359",
   "metadata": {},
   "outputs": [
    {
     "data": {
      "text/html": [
       "<div>\n",
       "<style scoped>\n",
       "    .dataframe tbody tr th:only-of-type {\n",
       "        vertical-align: middle;\n",
       "    }\n",
       "\n",
       "    .dataframe tbody tr th {\n",
       "        vertical-align: top;\n",
       "    }\n",
       "\n",
       "    .dataframe thead th {\n",
       "        text-align: right;\n",
       "    }\n",
       "</style>\n",
       "<table border=\"1\" class=\"dataframe\">\n",
       "  <thead>\n",
       "    <tr style=\"text-align: right;\">\n",
       "      <th></th>\n",
       "      <th>count</th>\n",
       "      <th>mean</th>\n",
       "      <th>std</th>\n",
       "      <th>min</th>\n",
       "      <th>max</th>\n",
       "    </tr>\n",
       "    <tr>\n",
       "      <th>english</th>\n",
       "      <th></th>\n",
       "      <th></th>\n",
       "      <th></th>\n",
       "      <th></th>\n",
       "      <th></th>\n",
       "    </tr>\n",
       "  </thead>\n",
       "  <tbody>\n",
       "    <tr>\n",
       "      <th>(77.999, 89.0]</th>\n",
       "      <td>4</td>\n",
       "      <td>83.250000</td>\n",
       "      <td>5.123475</td>\n",
       "      <td>78</td>\n",
       "      <td>89</td>\n",
       "    </tr>\n",
       "    <tr>\n",
       "      <th>(89.0, 97.0]</th>\n",
       "      <td>3</td>\n",
       "      <td>93.333333</td>\n",
       "      <td>3.511885</td>\n",
       "      <td>90</td>\n",
       "      <td>97</td>\n",
       "    </tr>\n",
       "    <tr>\n",
       "      <th>(97.0, 98.0]</th>\n",
       "      <td>3</td>\n",
       "      <td>98.000000</td>\n",
       "      <td>0.000000</td>\n",
       "      <td>98</td>\n",
       "      <td>98</td>\n",
       "    </tr>\n",
       "  </tbody>\n",
       "</table>\n",
       "</div>"
      ],
      "text/plain": [
       "                count       mean       std  min  max\n",
       "english                                             \n",
       "(77.999, 89.0]      4  83.250000  5.123475   78   89\n",
       "(89.0, 97.0]        3  93.333333  3.511885   90   97\n",
       "(97.0, 98.0]        3  98.000000  0.000000   98   98"
      ]
     },
     "execution_count": 17,
     "metadata": {},
     "output_type": "execute_result"
    }
   ],
   "source": [
    "df_cut_english_group = df['english'].groupby(df_qcut_english)\n",
    "df_cut_english_group.agg(['count', 'mean', 'std', 'min', 'max'])"
   ]
  },
  {
   "cell_type": "code",
   "execution_count": 18,
   "id": "812ac83e-18ae-45a0-8e4b-3a01054740f2",
   "metadata": {},
   "outputs": [
    {
     "data": {
      "text/plain": [
       "0    2\n",
       "1    1\n",
       "2    0\n",
       "3    2\n",
       "4    0\n",
       "5    0\n",
       "6    1\n",
       "7    0\n",
       "8    2\n",
       "9    1\n",
       "Name: english, dtype: int64"
      ]
     },
     "execution_count": 18,
     "metadata": {},
     "output_type": "execute_result"
    }
   ],
   "source": [
    "df_qcut_english = pd.qcut(df['english'], 3, labels=False)\n",
    "df_qcut_english"
   ]
  },
  {
   "cell_type": "code",
   "execution_count": 19,
   "id": "beb45b5d-bd5e-46d2-9a0c-0fdf4bee7d52",
   "metadata": {},
   "outputs": [
    {
     "data": {
      "text/html": [
       "<div>\n",
       "<style scoped>\n",
       "    .dataframe tbody tr th:only-of-type {\n",
       "        vertical-align: middle;\n",
       "    }\n",
       "\n",
       "    .dataframe tbody tr th {\n",
       "        vertical-align: top;\n",
       "    }\n",
       "\n",
       "    .dataframe thead th {\n",
       "        text-align: right;\n",
       "    }\n",
       "</style>\n",
       "<table border=\"1\" class=\"dataframe\">\n",
       "  <thead>\n",
       "    <tr style=\"text-align: right;\">\n",
       "      <th></th>\n",
       "      <th>count</th>\n",
       "      <th>mean</th>\n",
       "      <th>std</th>\n",
       "      <th>min</th>\n",
       "      <th>max</th>\n",
       "    </tr>\n",
       "    <tr>\n",
       "      <th>english</th>\n",
       "      <th></th>\n",
       "      <th></th>\n",
       "      <th></th>\n",
       "      <th></th>\n",
       "      <th></th>\n",
       "    </tr>\n",
       "  </thead>\n",
       "  <tbody>\n",
       "    <tr>\n",
       "      <th>0</th>\n",
       "      <td>4</td>\n",
       "      <td>83.250000</td>\n",
       "      <td>5.123475</td>\n",
       "      <td>78</td>\n",
       "      <td>89</td>\n",
       "    </tr>\n",
       "    <tr>\n",
       "      <th>1</th>\n",
       "      <td>3</td>\n",
       "      <td>93.333333</td>\n",
       "      <td>3.511885</td>\n",
       "      <td>90</td>\n",
       "      <td>97</td>\n",
       "    </tr>\n",
       "    <tr>\n",
       "      <th>2</th>\n",
       "      <td>3</td>\n",
       "      <td>98.000000</td>\n",
       "      <td>0.000000</td>\n",
       "      <td>98</td>\n",
       "      <td>98</td>\n",
       "    </tr>\n",
       "  </tbody>\n",
       "</table>\n",
       "</div>"
      ],
      "text/plain": [
       "         count       mean       std  min  max\n",
       "english                                      \n",
       "0            4  83.250000  5.123475   78   89\n",
       "1            3  93.333333  3.511885   90   97\n",
       "2            3  98.000000  0.000000   98   98"
      ]
     },
     "execution_count": 19,
     "metadata": {},
     "output_type": "execute_result"
    }
   ],
   "source": [
    "df_cut_english_group = df['english'].groupby(df_qcut_english)\n",
    "df_cut_english_group.agg(['count', 'mean', 'std', 'min', 'max'])"
   ]
  },
  {
   "cell_type": "code",
   "execution_count": null,
   "id": "2f86e272-873a-403a-8f70-e9eec2874d20",
   "metadata": {},
   "outputs": [],
   "source": []
  }
 ],
 "metadata": {
  "kernelspec": {
   "display_name": "Python 3",
   "language": "python",
   "name": "python3"
  },
  "language_info": {
   "codemirror_mode": {
    "name": "ipython",
    "version": 3
   },
   "file_extension": ".py",
   "mimetype": "text/x-python",
   "name": "python",
   "nbconvert_exporter": "python",
   "pygments_lexer": "ipython3",
   "version": "3.8.8"
  }
 },
 "nbformat": 4,
 "nbformat_minor": 5
}
