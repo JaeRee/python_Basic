{
 "cells": [
  {
   "cell_type": "markdown",
   "metadata": {
    "id": "qR42rA4bhhKP"
   },
   "source": [
    "#Quiz\n",
    "> tmdb_5000_movies에서 overview를 이용한 추천 시스템을 구축하시오.\n",
    "* 코드 완성 후 [Quiz_이름.ipynb]로 제출"
   ]
  },
  {
   "cell_type": "markdown",
   "metadata": {
    "id": "VogMKwfigOyn"
   },
   "source": [
    "#1. 파일 읽기\n",
    "> tmdb_5000_movies.csv 파일을 읽어 크기를 확인하세요"
   ]
  },
  {
   "cell_type": "code",
   "execution_count": 1,
   "metadata": {
    "colab": {
     "base_uri": "https://localhost:8080/"
    },
    "executionInfo": {
     "elapsed": 19889,
     "status": "ok",
     "timestamp": 1625116754123,
     "user": {
      "displayName": "박신준",
      "photoUrl": "",
      "userId": "01364533803447077780"
     },
     "user_tz": -540
    },
    "id": "b7YY-79wf0sq",
    "outputId": "f4b2192e-6f3d-41a8-d4d0-bfbc4cbc21e6"
   },
   "outputs": [
    {
     "name": "stdout",
     "output_type": "stream",
     "text": [
      "Mounted at /content/drive\n"
     ]
    }
   ],
   "source": [
    "from google.colab import drive\n",
    "drive.mount('/content/drive')"
   ]
  },
  {
   "cell_type": "code",
   "execution_count": 2,
   "metadata": {
    "colab": {
     "base_uri": "https://localhost:8080/"
    },
    "executionInfo": {
     "elapsed": 1517,
     "status": "ok",
     "timestamp": 1625116823426,
     "user": {
      "displayName": "박신준",
      "photoUrl": "",
      "userId": "01364533803447077780"
     },
     "user_tz": -540
    },
    "id": "3dXjfmxXgVjZ",
    "outputId": "995602c9-4c99-459d-aa89-5f63c0ff865b"
   },
   "outputs": [
    {
     "data": {
      "text/plain": [
       "(4803, 20)"
      ]
     },
     "execution_count": 2,
     "metadata": {
      "tags": []
     },
     "output_type": "execute_result"
    }
   ],
   "source": [
    "import pandas as pd\n",
    "\n",
    "path = '/content/drive/MyDrive/1. 데이터 분석을 위한 기초 통계 수학/5. 컨텐츠 기반/data/tmdb_5000_movies.csv'\n",
    "df = pd.read_csv(path)\n",
    "df.shape"
   ]
  },
  {
   "cell_type": "markdown",
   "metadata": {
    "id": "pMQJIGmIgwnv"
   },
   "source": [
    "> 4803개의 영화와 20개의 feature가 존재"
   ]
  },
  {
   "cell_type": "markdown",
   "metadata": {
    "id": "mdUVsgSbg_PP"
   },
   "source": [
    "#2. feature 줄이기"
   ]
  },
  {
   "cell_type": "code",
   "execution_count": 3,
   "metadata": {
    "colab": {
     "base_uri": "https://localhost:8080/",
     "height": 318
    },
    "collapsed": true,
    "executionInfo": {
     "elapsed": 318,
     "status": "ok",
     "timestamp": 1625116913893,
     "user": {
      "displayName": "박신준",
      "photoUrl": "",
      "userId": "01364533803447077780"
     },
     "user_tz": -540
    },
    "id": "6GEXb30Sgse4",
    "jupyter": {
     "outputs_hidden": true
    },
    "outputId": "c5e6d052-9dd9-44cd-ea34-2d63fd530a58",
    "tags": []
   },
   "outputs": [
    {
     "data": {
      "text/html": [
       "<div>\n",
       "<style scoped>\n",
       "    .dataframe tbody tr th:only-of-type {\n",
       "        vertical-align: middle;\n",
       "    }\n",
       "\n",
       "    .dataframe tbody tr th {\n",
       "        vertical-align: top;\n",
       "    }\n",
       "\n",
       "    .dataframe thead th {\n",
       "        text-align: right;\n",
       "    }\n",
       "</style>\n",
       "<table border=\"1\" class=\"dataframe\">\n",
       "  <thead>\n",
       "    <tr style=\"text-align: right;\">\n",
       "      <th></th>\n",
       "      <th>budget</th>\n",
       "      <th>genres</th>\n",
       "      <th>homepage</th>\n",
       "      <th>id</th>\n",
       "      <th>keywords</th>\n",
       "      <th>original_language</th>\n",
       "      <th>original_title</th>\n",
       "      <th>overview</th>\n",
       "      <th>popularity</th>\n",
       "      <th>production_companies</th>\n",
       "      <th>production_countries</th>\n",
       "      <th>release_date</th>\n",
       "      <th>revenue</th>\n",
       "      <th>runtime</th>\n",
       "      <th>spoken_languages</th>\n",
       "      <th>status</th>\n",
       "      <th>tagline</th>\n",
       "      <th>title</th>\n",
       "      <th>vote_average</th>\n",
       "      <th>vote_count</th>\n",
       "    </tr>\n",
       "  </thead>\n",
       "  <tbody>\n",
       "    <tr>\n",
       "      <th>0</th>\n",
       "      <td>237000000</td>\n",
       "      <td>[{\"id\": 28, \"name\": \"Action\"}, {\"id\": 12, \"nam...</td>\n",
       "      <td>http://www.avatarmovie.com/</td>\n",
       "      <td>19995</td>\n",
       "      <td>[{\"id\": 1463, \"name\": \"culture clash\"}, {\"id\":...</td>\n",
       "      <td>en</td>\n",
       "      <td>Avatar</td>\n",
       "      <td>In the 22nd century, a paraplegic Marine is di...</td>\n",
       "      <td>150.437577</td>\n",
       "      <td>[{\"name\": \"Ingenious Film Partners\", \"id\": 289...</td>\n",
       "      <td>[{\"iso_3166_1\": \"US\", \"name\": \"United States o...</td>\n",
       "      <td>2009-12-10</td>\n",
       "      <td>2787965087</td>\n",
       "      <td>162.0</td>\n",
       "      <td>[{\"iso_639_1\": \"en\", \"name\": \"English\"}, {\"iso...</td>\n",
       "      <td>Released</td>\n",
       "      <td>Enter the World of Pandora.</td>\n",
       "      <td>Avatar</td>\n",
       "      <td>7.2</td>\n",
       "      <td>11800</td>\n",
       "    </tr>\n",
       "    <tr>\n",
       "      <th>1</th>\n",
       "      <td>300000000</td>\n",
       "      <td>[{\"id\": 12, \"name\": \"Adventure\"}, {\"id\": 14, \"...</td>\n",
       "      <td>http://disney.go.com/disneypictures/pirates/</td>\n",
       "      <td>285</td>\n",
       "      <td>[{\"id\": 270, \"name\": \"ocean\"}, {\"id\": 726, \"na...</td>\n",
       "      <td>en</td>\n",
       "      <td>Pirates of the Caribbean: At World's End</td>\n",
       "      <td>Captain Barbossa, long believed to be dead, ha...</td>\n",
       "      <td>139.082615</td>\n",
       "      <td>[{\"name\": \"Walt Disney Pictures\", \"id\": 2}, {\"...</td>\n",
       "      <td>[{\"iso_3166_1\": \"US\", \"name\": \"United States o...</td>\n",
       "      <td>2007-05-19</td>\n",
       "      <td>961000000</td>\n",
       "      <td>169.0</td>\n",
       "      <td>[{\"iso_639_1\": \"en\", \"name\": \"English\"}]</td>\n",
       "      <td>Released</td>\n",
       "      <td>At the end of the world, the adventure begins.</td>\n",
       "      <td>Pirates of the Caribbean: At World's End</td>\n",
       "      <td>6.9</td>\n",
       "      <td>4500</td>\n",
       "    </tr>\n",
       "  </tbody>\n",
       "</table>\n",
       "</div>"
      ],
      "text/plain": [
       "      budget  ... vote_count\n",
       "0  237000000  ...      11800\n",
       "1  300000000  ...       4500\n",
       "\n",
       "[2 rows x 20 columns]"
      ]
     },
     "execution_count": 3,
     "metadata": {
      "tags": []
     },
     "output_type": "execute_result"
    }
   ],
   "source": [
    "df.head(2)"
   ]
  },
  {
   "cell_type": "markdown",
   "metadata": {
    "id": "Ljjmx59FhGx_"
   },
   "source": [
    "> 위의 feature 중 다음과 같은 내용만 추출해 보자\n",
    "* id : 영화 아이디\n",
    "* title : 영화 제목\n",
    "* genres : 장르\n",
    "* vote_average : 평점\n",
    "* vote_count : 투표수\n",
    "* popularity : 인기도\n",
    "* keywords : 주요 키워드\n",
    "* overview : 영화 개요"
   ]
  },
  {
   "cell_type": "code",
   "execution_count": 4,
   "metadata": {
    "colab": {
     "base_uri": "https://localhost:8080/",
     "height": 419
    },
    "executionInfo": {
     "elapsed": 311,
     "status": "ok",
     "timestamp": 1625116949143,
     "user": {
      "displayName": "박신준",
      "photoUrl": "",
      "userId": "01364533803447077780"
     },
     "user_tz": -540
    },
    "id": "u-U24FtrhCqn",
    "outputId": "b558c4fe-15ac-4230-8a0f-e2fdb662515d"
   },
   "outputs": [
    {
     "data": {
      "text/html": [
       "<div>\n",
       "<style scoped>\n",
       "    .dataframe tbody tr th:only-of-type {\n",
       "        vertical-align: middle;\n",
       "    }\n",
       "\n",
       "    .dataframe tbody tr th {\n",
       "        vertical-align: top;\n",
       "    }\n",
       "\n",
       "    .dataframe thead th {\n",
       "        text-align: right;\n",
       "    }\n",
       "</style>\n",
       "<table border=\"1\" class=\"dataframe\">\n",
       "  <thead>\n",
       "    <tr style=\"text-align: right;\">\n",
       "      <th></th>\n",
       "      <th>id</th>\n",
       "      <th>title</th>\n",
       "      <th>genres</th>\n",
       "      <th>vote_average</th>\n",
       "      <th>vote_count</th>\n",
       "      <th>popularity</th>\n",
       "      <th>keywords</th>\n",
       "      <th>overview</th>\n",
       "    </tr>\n",
       "  </thead>\n",
       "  <tbody>\n",
       "    <tr>\n",
       "      <th>0</th>\n",
       "      <td>19995</td>\n",
       "      <td>Avatar</td>\n",
       "      <td>[{\"id\": 28, \"name\": \"Action\"}, {\"id\": 12, \"nam...</td>\n",
       "      <td>7.2</td>\n",
       "      <td>11800</td>\n",
       "      <td>150.437577</td>\n",
       "      <td>[{\"id\": 1463, \"name\": \"culture clash\"}, {\"id\":...</td>\n",
       "      <td>In the 22nd century, a paraplegic Marine is di...</td>\n",
       "    </tr>\n",
       "    <tr>\n",
       "      <th>1</th>\n",
       "      <td>285</td>\n",
       "      <td>Pirates of the Caribbean: At World's End</td>\n",
       "      <td>[{\"id\": 12, \"name\": \"Adventure\"}, {\"id\": 14, \"...</td>\n",
       "      <td>6.9</td>\n",
       "      <td>4500</td>\n",
       "      <td>139.082615</td>\n",
       "      <td>[{\"id\": 270, \"name\": \"ocean\"}, {\"id\": 726, \"na...</td>\n",
       "      <td>Captain Barbossa, long believed to be dead, ha...</td>\n",
       "    </tr>\n",
       "    <tr>\n",
       "      <th>2</th>\n",
       "      <td>206647</td>\n",
       "      <td>Spectre</td>\n",
       "      <td>[{\"id\": 28, \"name\": \"Action\"}, {\"id\": 12, \"nam...</td>\n",
       "      <td>6.3</td>\n",
       "      <td>4466</td>\n",
       "      <td>107.376788</td>\n",
       "      <td>[{\"id\": 470, \"name\": \"spy\"}, {\"id\": 818, \"name...</td>\n",
       "      <td>A cryptic message from Bond’s past sends him o...</td>\n",
       "    </tr>\n",
       "    <tr>\n",
       "      <th>3</th>\n",
       "      <td>49026</td>\n",
       "      <td>The Dark Knight Rises</td>\n",
       "      <td>[{\"id\": 28, \"name\": \"Action\"}, {\"id\": 80, \"nam...</td>\n",
       "      <td>7.6</td>\n",
       "      <td>9106</td>\n",
       "      <td>112.312950</td>\n",
       "      <td>[{\"id\": 849, \"name\": \"dc comics\"}, {\"id\": 853,...</td>\n",
       "      <td>Following the death of District Attorney Harve...</td>\n",
       "    </tr>\n",
       "    <tr>\n",
       "      <th>4</th>\n",
       "      <td>49529</td>\n",
       "      <td>John Carter</td>\n",
       "      <td>[{\"id\": 28, \"name\": \"Action\"}, {\"id\": 12, \"nam...</td>\n",
       "      <td>6.1</td>\n",
       "      <td>2124</td>\n",
       "      <td>43.926995</td>\n",
       "      <td>[{\"id\": 818, \"name\": \"based on novel\"}, {\"id\":...</td>\n",
       "      <td>John Carter is a war-weary, former military ca...</td>\n",
       "    </tr>\n",
       "    <tr>\n",
       "      <th>...</th>\n",
       "      <td>...</td>\n",
       "      <td>...</td>\n",
       "      <td>...</td>\n",
       "      <td>...</td>\n",
       "      <td>...</td>\n",
       "      <td>...</td>\n",
       "      <td>...</td>\n",
       "      <td>...</td>\n",
       "    </tr>\n",
       "    <tr>\n",
       "      <th>4798</th>\n",
       "      <td>9367</td>\n",
       "      <td>El Mariachi</td>\n",
       "      <td>[{\"id\": 28, \"name\": \"Action\"}, {\"id\": 80, \"nam...</td>\n",
       "      <td>6.6</td>\n",
       "      <td>238</td>\n",
       "      <td>14.269792</td>\n",
       "      <td>[{\"id\": 5616, \"name\": \"united states\\u2013mexi...</td>\n",
       "      <td>El Mariachi just wants to play his guitar and ...</td>\n",
       "    </tr>\n",
       "    <tr>\n",
       "      <th>4799</th>\n",
       "      <td>72766</td>\n",
       "      <td>Newlyweds</td>\n",
       "      <td>[{\"id\": 35, \"name\": \"Comedy\"}, {\"id\": 10749, \"...</td>\n",
       "      <td>5.9</td>\n",
       "      <td>5</td>\n",
       "      <td>0.642552</td>\n",
       "      <td>[]</td>\n",
       "      <td>A newlywed couple's honeymoon is upended by th...</td>\n",
       "    </tr>\n",
       "    <tr>\n",
       "      <th>4800</th>\n",
       "      <td>231617</td>\n",
       "      <td>Signed, Sealed, Delivered</td>\n",
       "      <td>[{\"id\": 35, \"name\": \"Comedy\"}, {\"id\": 18, \"nam...</td>\n",
       "      <td>7.0</td>\n",
       "      <td>6</td>\n",
       "      <td>1.444476</td>\n",
       "      <td>[{\"id\": 248, \"name\": \"date\"}, {\"id\": 699, \"nam...</td>\n",
       "      <td>\"Signed, Sealed, Delivered\" introduces a dedic...</td>\n",
       "    </tr>\n",
       "    <tr>\n",
       "      <th>4801</th>\n",
       "      <td>126186</td>\n",
       "      <td>Shanghai Calling</td>\n",
       "      <td>[]</td>\n",
       "      <td>5.7</td>\n",
       "      <td>7</td>\n",
       "      <td>0.857008</td>\n",
       "      <td>[]</td>\n",
       "      <td>When ambitious New York attorney Sam is sent t...</td>\n",
       "    </tr>\n",
       "    <tr>\n",
       "      <th>4802</th>\n",
       "      <td>25975</td>\n",
       "      <td>My Date with Drew</td>\n",
       "      <td>[{\"id\": 99, \"name\": \"Documentary\"}]</td>\n",
       "      <td>6.3</td>\n",
       "      <td>16</td>\n",
       "      <td>1.929883</td>\n",
       "      <td>[{\"id\": 1523, \"name\": \"obsession\"}, {\"id\": 224...</td>\n",
       "      <td>Ever since the second grade when he first saw ...</td>\n",
       "    </tr>\n",
       "  </tbody>\n",
       "</table>\n",
       "<p>4803 rows × 8 columns</p>\n",
       "</div>"
      ],
      "text/plain": [
       "          id  ...                                           overview\n",
       "0      19995  ...  In the 22nd century, a paraplegic Marine is di...\n",
       "1        285  ...  Captain Barbossa, long believed to be dead, ha...\n",
       "2     206647  ...  A cryptic message from Bond’s past sends him o...\n",
       "3      49026  ...  Following the death of District Attorney Harve...\n",
       "4      49529  ...  John Carter is a war-weary, former military ca...\n",
       "...      ...  ...                                                ...\n",
       "4798    9367  ...  El Mariachi just wants to play his guitar and ...\n",
       "4799   72766  ...  A newlywed couple's honeymoon is upended by th...\n",
       "4800  231617  ...  \"Signed, Sealed, Delivered\" introduces a dedic...\n",
       "4801  126186  ...  When ambitious New York attorney Sam is sent t...\n",
       "4802   25975  ...  Ever since the second grade when he first saw ...\n",
       "\n",
       "[4803 rows x 8 columns]"
      ]
     },
     "execution_count": 4,
     "metadata": {
      "tags": []
     },
     "output_type": "execute_result"
    }
   ],
   "source": [
    "df_movies = df[['id','title','genres','vote_average','vote_count','popularity','keywords','overview']]\n",
    "df_movies"
   ]
  },
  {
   "cell_type": "markdown",
   "metadata": {
    "id": "6J31iW2ihQ93"
   },
   "source": [
    "##3. 데이터 클린징\n",
    "> 위의 데이터를 이용하여 이상치 및 결측치를 확인하세요"
   ]
  },
  {
   "cell_type": "markdown",
   "metadata": {
    "id": "AO_7B9-jhUtH"
   },
   "source": [
    "###3.1 결측치 확인"
   ]
  },
  {
   "cell_type": "code",
   "execution_count": 5,
   "metadata": {
    "colab": {
     "base_uri": "https://localhost:8080/"
    },
    "executionInfo": {
     "elapsed": 304,
     "status": "ok",
     "timestamp": 1625117001115,
     "user": {
      "displayName": "박신준",
      "photoUrl": "",
      "userId": "01364533803447077780"
     },
     "user_tz": -540
    },
    "id": "4wEZiucChLd_",
    "outputId": "d3f7e91e-0688-482d-8375-180c2873a9af"
   },
   "outputs": [
    {
     "name": "stdout",
     "output_type": "stream",
     "text": [
      "<class 'pandas.core.frame.DataFrame'>\n",
      "RangeIndex: 4803 entries, 0 to 4802\n",
      "Data columns (total 8 columns):\n",
      " #   Column        Non-Null Count  Dtype  \n",
      "---  ------        --------------  -----  \n",
      " 0   id            4803 non-null   int64  \n",
      " 1   title         4803 non-null   object \n",
      " 2   genres        4803 non-null   object \n",
      " 3   vote_average  4803 non-null   float64\n",
      " 4   vote_count    4803 non-null   int64  \n",
      " 5   popularity    4803 non-null   float64\n",
      " 6   keywords      4803 non-null   object \n",
      " 7   overview      4800 non-null   object \n",
      "dtypes: float64(2), int64(2), object(4)\n",
      "memory usage: 300.3+ KB\n"
     ]
    }
   ],
   "source": [
    "df_movies.info()"
   ]
  },
  {
   "cell_type": "markdown",
   "metadata": {
    "id": "vOMhL1NmhcyG"
   },
   "source": [
    "> 전체 4803개의 데이터 중 overview 결측치가 3개"
   ]
  },
  {
   "cell_type": "markdown",
   "metadata": {
    "id": "YCHJeMFShusm"
   },
   "source": [
    "####3.1.1 결측치 처리"
   ]
  },
  {
   "cell_type": "code",
   "execution_count": null,
   "metadata": {
    "id": "T94cyoyejsYP"
   },
   "outputs": [],
   "source": [
    "df_movies = df_movies.dropna(subset=['overview'])\n",
    "df_movies.info()"
   ]
  },
  {
   "cell_type": "markdown",
   "metadata": {
    "id": "wxfDk1frptmv"
   },
   "source": []
  },
  {
   "cell_type": "markdown",
   "metadata": {
    "id": "k-EoyuNvnsqf"
   },
   "source": [
    "> overview의 키워드를 연관으로 만들것이라\n",
    "overview에 결측치가 포함되어 있는 데이터는 필요 없으므로 열 결측치 제거 "
   ]
  },
  {
   "cell_type": "markdown",
   "metadata": {
    "id": "MKRc5hjVqNEo"
   },
   "source": [
    "###3.2 이상치 확인"
   ]
  },
  {
   "cell_type": "code",
   "execution_count": 24,
   "metadata": {
    "colab": {
     "base_uri": "https://localhost:8080/",
     "height": 297
    },
    "executionInfo": {
     "elapsed": 370,
     "status": "ok",
     "timestamp": 1625119329805,
     "user": {
      "displayName": "박신준",
      "photoUrl": "",
      "userId": "01364533803447077780"
     },
     "user_tz": -540
    },
    "id": "YY6mqi8Upctw",
    "outputId": "bf271acf-95d0-401e-8a1c-d9cb00cae1a8"
   },
   "outputs": [
    {
     "data": {
      "text/html": [
       "<div>\n",
       "<style scoped>\n",
       "    .dataframe tbody tr th:only-of-type {\n",
       "        vertical-align: middle;\n",
       "    }\n",
       "\n",
       "    .dataframe tbody tr th {\n",
       "        vertical-align: top;\n",
       "    }\n",
       "\n",
       "    .dataframe thead th {\n",
       "        text-align: right;\n",
       "    }\n",
       "</style>\n",
       "<table border=\"1\" class=\"dataframe\">\n",
       "  <thead>\n",
       "    <tr style=\"text-align: right;\">\n",
       "      <th></th>\n",
       "      <th>budget</th>\n",
       "      <th>id</th>\n",
       "      <th>popularity</th>\n",
       "      <th>revenue</th>\n",
       "      <th>runtime</th>\n",
       "      <th>vote_average</th>\n",
       "      <th>vote_count</th>\n",
       "    </tr>\n",
       "  </thead>\n",
       "  <tbody>\n",
       "    <tr>\n",
       "      <th>count</th>\n",
       "      <td>4.800000e+03</td>\n",
       "      <td>4800.000000</td>\n",
       "      <td>4800.000000</td>\n",
       "      <td>4.800000e+03</td>\n",
       "      <td>4800.000000</td>\n",
       "      <td>4800.000000</td>\n",
       "      <td>4800.000000</td>\n",
       "    </tr>\n",
       "    <tr>\n",
       "      <th>mean</th>\n",
       "      <td>2.905988e+07</td>\n",
       "      <td>56967.252917</td>\n",
       "      <td>21.505403</td>\n",
       "      <td>8.231205e+07</td>\n",
       "      <td>106.880833</td>\n",
       "      <td>6.092917</td>\n",
       "      <td>690.645208</td>\n",
       "    </tr>\n",
       "    <tr>\n",
       "      <th>std</th>\n",
       "      <td>4.073043e+07</td>\n",
       "      <td>88350.548128</td>\n",
       "      <td>31.822273</td>\n",
       "      <td>1.628950e+08</td>\n",
       "      <td>22.611663</td>\n",
       "      <td>1.191468</td>\n",
       "      <td>1234.853376</td>\n",
       "    </tr>\n",
       "    <tr>\n",
       "      <th>min</th>\n",
       "      <td>0.000000e+00</td>\n",
       "      <td>5.000000</td>\n",
       "      <td>0.000000</td>\n",
       "      <td>0.000000e+00</td>\n",
       "      <td>0.000000</td>\n",
       "      <td>0.000000</td>\n",
       "      <td>0.000000</td>\n",
       "    </tr>\n",
       "    <tr>\n",
       "      <th>25%</th>\n",
       "      <td>7.950000e+05</td>\n",
       "      <td>9012.750000</td>\n",
       "      <td>4.682212</td>\n",
       "      <td>0.000000e+00</td>\n",
       "      <td>94.000000</td>\n",
       "      <td>5.600000</td>\n",
       "      <td>54.000000</td>\n",
       "    </tr>\n",
       "    <tr>\n",
       "      <th>50%</th>\n",
       "      <td>1.500000e+07</td>\n",
       "      <td>14623.500000</td>\n",
       "      <td>12.928897</td>\n",
       "      <td>1.918199e+07</td>\n",
       "      <td>103.000000</td>\n",
       "      <td>6.200000</td>\n",
       "      <td>236.000000</td>\n",
       "    </tr>\n",
       "    <tr>\n",
       "      <th>75%</th>\n",
       "      <td>4.000000e+07</td>\n",
       "      <td>58512.500000</td>\n",
       "      <td>28.350628</td>\n",
       "      <td>9.293886e+07</td>\n",
       "      <td>118.000000</td>\n",
       "      <td>6.800000</td>\n",
       "      <td>737.250000</td>\n",
       "    </tr>\n",
       "    <tr>\n",
       "      <th>max</th>\n",
       "      <td>3.800000e+08</td>\n",
       "      <td>447027.000000</td>\n",
       "      <td>875.581305</td>\n",
       "      <td>2.787965e+09</td>\n",
       "      <td>338.000000</td>\n",
       "      <td>10.000000</td>\n",
       "      <td>13752.000000</td>\n",
       "    </tr>\n",
       "  </tbody>\n",
       "</table>\n",
       "</div>"
      ],
      "text/plain": [
       "             budget             id  ...  vote_average    vote_count\n",
       "count  4.800000e+03    4800.000000  ...   4800.000000   4800.000000\n",
       "mean   2.905988e+07   56967.252917  ...      6.092917    690.645208\n",
       "std    4.073043e+07   88350.548128  ...      1.191468   1234.853376\n",
       "min    0.000000e+00       5.000000  ...      0.000000      0.000000\n",
       "25%    7.950000e+05    9012.750000  ...      5.600000     54.000000\n",
       "50%    1.500000e+07   14623.500000  ...      6.200000    236.000000\n",
       "75%    4.000000e+07   58512.500000  ...      6.800000    737.250000\n",
       "max    3.800000e+08  447027.000000  ...     10.000000  13752.000000\n",
       "\n",
       "[8 rows x 7 columns]"
      ]
     },
     "execution_count": 24,
     "metadata": {
      "tags": []
     },
     "output_type": "execute_result"
    }
   ],
   "source": [
    "df_movies.describe()"
   ]
  },
  {
   "cell_type": "markdown",
   "metadata": {
    "id": "w8x3FSLHuFCP"
   },
   "source": [
    "#4. 데이터 가공"
   ]
  },
  {
   "cell_type": "code",
   "execution_count": 29,
   "metadata": {
    "colab": {
     "base_uri": "https://localhost:8080/"
    },
    "executionInfo": {
     "elapsed": 330,
     "status": "ok",
     "timestamp": 1625120484980,
     "user": {
      "displayName": "박신준",
      "photoUrl": "",
      "userId": "01364533803447077780"
     },
     "user_tz": -540
    },
    "id": "Po535m2oqQnR",
    "outputId": "1b3a286d-446a-4189-f56c-10183ea0b2dc"
   },
   "outputs": [
    {
     "data": {
      "text/plain": [
       "0                                                                     In the 22nd century, a paraplegic Marine is dispatched to the moon Pandora on a unique mission, but becomes torn between following orders and protecting an alien civilization.\n",
       "1                                                                    Captain Barbossa, long believed to be dead, has come back to life and is headed to the edge of the Earth with Will Turner and Elizabeth Swann. But nothing is quite as it seems.\n",
       "2    A cryptic message from Bond’s past sends him on a trail to uncover a sinister organization. While M battles political forces to keep the secret service alive, Bond peels back the layers of deceit to reveal the terrible truth behind SPECTRE.\n",
       "Name: overview, dtype: object"
      ]
     },
     "execution_count": 29,
     "metadata": {
      "tags": []
     },
     "output_type": "execute_result"
    }
   ],
   "source": [
    "import pandas as pd\n",
    "pd.set_option('max_colwidth', 300)\n",
    "df_movies['overview'][:3]"
   ]
  },
  {
   "cell_type": "code",
   "execution_count": 30,
   "metadata": {
    "colab": {
     "base_uri": "https://localhost:8080/"
    },
    "executionInfo": {
     "elapsed": 311,
     "status": "ok",
     "timestamp": 1625120585962,
     "user": {
      "displayName": "박신준",
      "photoUrl": "",
      "userId": "01364533803447077780"
     },
     "user_tz": -540
    },
    "id": "1NOWKFUcuePp",
    "outputId": "4613c3a4-c183-4d73-9654-f32d1b98755b"
   },
   "outputs": [
    {
     "name": "stdout",
     "output_type": "stream",
     "text": [
      "<class 'str'>\n"
     ]
    }
   ],
   "source": [
    "overview_data = 'In the 22nd century, a paraplegic Marine is dispatched to the moon Pandora on a unique mission, but becomes torn between following orders and protecting an alien civilization.'\n",
    "print(type(overview_data))"
   ]
  },
  {
   "cell_type": "markdown",
   "metadata": {
    "id": "LiKL7hvo-ECf"
   },
   "source": [
    "#5. feature 생성"
   ]
  },
  {
   "cell_type": "code",
   "execution_count": 59,
   "metadata": {
    "colab": {
     "base_uri": "https://localhost:8080/",
     "height": 35
    },
    "executionInfo": {
     "elapsed": 340,
     "status": "ok",
     "timestamp": 1625124061401,
     "user": {
      "displayName": "박신준",
      "photoUrl": "",
      "userId": "01364533803447077780"
     },
     "user_tz": -540
    },
    "id": "5qIJ2QpT7il_",
    "outputId": "12fbb10f-0dae-4381-f4aa-781eed326fa0"
   },
   "outputs": [
    {
     "data": {
      "application/vnd.google.colaboratory.intrinsic+json": {
       "type": "string"
      },
      "text/plain": [
       "'In the 22nd century, a paraplegic Marine is dispatched to the moon Pandora on a unique mission, but becomes torn between following orders and protecting an alien civilization.'"
      ]
     },
     "execution_count": 59,
     "metadata": {
      "tags": []
     },
     "output_type": "execute_result"
    }
   ],
   "source": [
    "df_movies['overview_literal'] = df_movies['overview'].apply(lambda x : ('').join(x))\n",
    "df_movies['overview_literal'][0]"
   ]
  },
  {
   "cell_type": "code",
   "execution_count": null,
   "metadata": {
    "id": "Jt6_oz6p8Lyd"
   },
   "outputs": [],
   "source": [
    "from sklearn.feature_extraction.text import CountVectorizer\n",
    "\n",
    "count_vect = CountVectorizer(ngram_range=(1, 2)).fit(df_movies['overview_literal'])\n",
    "count_vect.vocabulary_"
   ]
  },
  {
   "cell_type": "code",
   "execution_count": null,
   "metadata": {
    "id": "k-Bzi-8b89OO"
   },
   "outputs": [],
   "source": [
    "count_vect = CountVectorizer(min_df=0, ngram_range=(0, 1)).fit(df_movies['overview_literal'])\n",
    "count_vect.vocabulary_"
   ]
  },
  {
   "cell_type": "code",
   "execution_count": 81,
   "metadata": {
    "colab": {
     "base_uri": "https://localhost:8080/"
    },
    "executionInfo": {
     "elapsed": 332,
     "status": "ok",
     "timestamp": 1625124624907,
     "user": {
      "displayName": "박신준",
      "photoUrl": "",
      "userId": "01364533803447077780"
     },
     "user_tz": -540
    },
    "id": "9wveJ1li9U-t",
    "outputId": "e15fb871-bc8c-4279-b6c7-8d749b48fdba"
   },
   "outputs": [
    {
     "data": {
      "text/plain": [
       "(4800, 21262)"
      ]
     },
     "execution_count": 81,
     "metadata": {
      "tags": []
     },
     "output_type": "execute_result"
    }
   ],
   "source": [
    "overview_matrix = count_vect.fit_transform(df_movies['overview_literal'])\n",
    "overview_matrix.shape"
   ]
  },
  {
   "cell_type": "markdown",
   "metadata": {
    "id": "RkY24lQ4-G8-"
   },
   "source": [
    "> overview를 총 21262개의 feature로 구분하였으나 feature의 개수가 너무 많아\n",
    "  in, the 등의 키워드와 관련없는 feature들을 필터링"
   ]
  },
  {
   "cell_type": "markdown",
   "metadata": {
    "id": "PBfUUKdN-00G"
   },
   "source": [
    "#6. 유사도 분석"
   ]
  },
  {
   "cell_type": "code",
   "execution_count": 82,
   "metadata": {
    "colab": {
     "base_uri": "https://localhost:8080/"
    },
    "executionInfo": {
     "elapsed": 1272,
     "status": "ok",
     "timestamp": 1625124751822,
     "user": {
      "displayName": "박신준",
      "photoUrl": "",
      "userId": "01364533803447077780"
     },
     "user_tz": -540
    },
    "id": "L365teLd9_BX",
    "outputId": "dc20ef9b-f6c3-4028-e5ca-f662193a8f8f"
   },
   "outputs": [
    {
     "data": {
      "text/plain": [
       "array([[1.        , 0.33436693, 0.26462806, ..., 0.32142857, 0.22681618,\n",
       "        0.19015971],\n",
       "       [0.33436693, 1.        , 0.35098206, ..., 0.32043497, 0.33783196,\n",
       "        0.21429865],\n",
       "       [0.26462806, 0.35098206, 1.        , ..., 0.33078508, 0.22917462,\n",
       "        0.2191785 ]])"
      ]
     },
     "execution_count": 82,
     "metadata": {
      "tags": []
     },
     "output_type": "execute_result"
    }
   ],
   "source": [
    "from sklearn.metrics.pairwise import cosine_similarity\n",
    "\n",
    "overview_similarity = cosine_similarity(overview_matrix, overview_matrix)\n",
    "overview_similarity[:3]"
   ]
  },
  {
   "cell_type": "code",
   "execution_count": 83,
   "metadata": {
    "colab": {
     "base_uri": "https://localhost:8080/"
    },
    "executionInfo": {
     "elapsed": 2172,
     "status": "ok",
     "timestamp": 1625124800607,
     "user": {
      "displayName": "박신준",
      "photoUrl": "",
      "userId": "01364533803447077780"
     },
     "user_tz": -540
    },
    "id": "64P2xnPZ-8L3",
    "outputId": "e4031b39-f1da-4859-c68c-a848f49bbfbd"
   },
   "outputs": [
    {
     "data": {
      "text/plain": [
       "array([[   0, 3603, 3191, ..., 4510, 3487, 4631],\n",
       "       [   1,  137,  274, ..., 3608, 4510,  161],\n",
       "       [   2, 3932,  432, ..., 1111, 1770, 3492]])"
      ]
     },
     "execution_count": 83,
     "metadata": {
      "tags": []
     },
     "output_type": "execute_result"
    }
   ],
   "source": [
    "overview_similarity_sorted_idx = overview_similarity.argsort()[:,::-1]\n",
    "overview_similarity_sorted_idx[:3]"
   ]
  },
  {
   "cell_type": "markdown",
   "metadata": {
    "id": "-j0WRWHJ_MNf"
   },
   "source": [
    "> 0번 영화와 가장 유사한 영화는 3603 -> 3191 순인 것을 알 수 있다. "
   ]
  },
  {
   "cell_type": "code",
   "execution_count": 84,
   "metadata": {
    "colab": {
     "base_uri": "https://localhost:8080/"
    },
    "executionInfo": {
     "elapsed": 342,
     "status": "ok",
     "timestamp": 1625124859185,
     "user": {
      "displayName": "박신준",
      "photoUrl": "",
      "userId": "01364533803447077780"
     },
     "user_tz": -540
    },
    "id": "KHAg2lH6_H4O",
    "outputId": "548db1c0-45a9-4c39-cb6e-def098934adf"
   },
   "outputs": [
    {
     "name": "stdout",
     "output_type": "stream",
     "text": [
      "Avatar\n",
      "Apollo 18\n",
      "Two Evil Eyes\n",
      "==============================\n"
     ]
    },
    {
     "data": {
      "text/plain": [
       "budget                                                                                                                                                                                                                                                                                                                    237000000\n",
       "genres                                                                                                                                                                                       [{'id': 28, 'name': 'Action'}, {'id': 12, 'name': 'Adventure'}, {'id': 14, 'name': 'Fantasy'}, {'id': 878, 'name': 'Science Fiction'}]\n",
       "homepage                                                                                                                                                                                                                                                                                                http://www.avatarmovie.com/\n",
       "id                                                                                                                                                                                                                                                                                                                            19995\n",
       "keywords                [{\"id\": 1463, \"name\": \"culture clash\"}, {\"id\": 2964, \"name\": \"future\"}, {\"id\": 3386, \"name\": \"space war\"}, {\"id\": 3388, \"name\": \"space colony\"}, {\"id\": 3679, \"name\": \"society\"}, {\"id\": 3801, \"name\": \"space travel\"}, {\"id\": 9685, \"name\": \"futuristic\"}, {\"id\": 9840, \"name\": \"romance\"}, {\"id\": 9882...\n",
       "original_language                                                                                                                                                                                                                                                                                                                en\n",
       "original_title                                                                                                                                                                                                                                                                                                               Avatar\n",
       "overview                                                                                                                                            In the 22nd century, a paraplegic Marine is dispatched to the moon Pandora on a unique mission, but becomes torn between following orders and protecting an alien civilization.\n",
       "popularity                                                                                                                                                                                                                                                                                                                  150.438\n",
       "production_companies                                                                                                    [{\"name\": \"Ingenious Film Partners\", \"id\": 289}, {\"name\": \"Twentieth Century Fox Film Corporation\", \"id\": 306}, {\"name\": \"Dune Entertainment\", \"id\": 444}, {\"name\": \"Lightstorm Entertainment\", \"id\": 574}]\n",
       "production_countries                                                                                                                                                                                                     [{\"iso_3166_1\": \"US\", \"name\": \"United States of America\"}, {\"iso_3166_1\": \"GB\", \"name\": \"United Kingdom\"}]\n",
       "release_date                                                                                                                                                                                                                                                                                                             2009-12-10\n",
       "revenue                                                                                                                                                                                                                                                                                                                  2787965087\n",
       "runtime                                                                                                                                                                                                                                                                                                                         162\n",
       "spoken_languages                                                                                                                                                                                                                              [{\"iso_639_1\": \"en\", \"name\": \"English\"}, {\"iso_639_1\": \"es\", \"name\": \"Espa\\u00f1ol\"}]\n",
       "status                                                                                                                                                                                                                                                                                                                     Released\n",
       "tagline                                                                                                                                                                                                                                                                                                 Enter the World of Pandora.\n",
       "title                                                                                                                                                                                                                                                                                                                        Avatar\n",
       "vote_average                                                                                                                                                                                                                                                                                                                    7.2\n",
       "vote_count                                                                                                                                                                                                                                                                                                                    11800\n",
       "overview_literal                                                                                                                                    In the 22nd century, a paraplegic Marine is dispatched to the moon Pandora on a unique mission, but becomes torn between following orders and protecting an alien civilization.\n",
       "Name: 0, dtype: object"
      ]
     },
     "execution_count": 84,
     "metadata": {
      "tags": []
     },
     "output_type": "execute_result"
    }
   ],
   "source": [
    "print(df_movies.iloc[0]['title'])\n",
    "print(df_movies.iloc[3603]['title'])\n",
    "print(df_movies.iloc[3191]['title'])\n",
    "print('==============================')\n",
    "df_movies.iloc[0]"
   ]
  },
  {
   "cell_type": "markdown",
   "metadata": {
    "id": "96QqwaUN_e_e"
   },
   "source": [
    ">iloc를 이용하면 index의 정보를 얻을 수 있다. 즉, 영화의 정보를 얻기 위해 iloc에 index 정보를 넣고 그 중 title feature를 출력하여 추천 영화들을 얻을 수 있게 된다."
   ]
  },
  {
   "cell_type": "markdown",
   "metadata": {
    "id": "Hka1ysD6CeXH"
   },
   "source": [
    "#7. 영화 추천하기"
   ]
  },
  {
   "cell_type": "code",
   "execution_count": 89,
   "metadata": {
    "colab": {
     "base_uri": "https://localhost:8080/"
    },
    "executionInfo": {
     "elapsed": 368,
     "status": "ok",
     "timestamp": 1625125440147,
     "user": {
      "displayName": "박신준",
      "photoUrl": "",
      "userId": "01364533803447077780"
     },
     "user_tz": -540
    },
    "id": "h2Cvt3ex_Wne",
    "outputId": "ee7c9565-2546-431f-e662-d62f455a9097"
   },
   "outputs": [
    {
     "name": "stdout",
     "output_type": "stream",
     "text": [
      "<class 'numpy.ndarray'>\n",
      "1 차원 :  [   0 3603 3191  847  153 4110  420 1517 3949 1471]\n"
     ]
    },
    {
     "data": {
      "text/plain": [
       "0                                     Avatar\n",
       "3604                               Apollo 18\n",
       "3192                           Two Evil Eyes\n",
       "847                                 Semi-Pro\n",
       "153     Mission: Impossible - Ghost Protocol\n",
       "4111                             Dinner Rush\n",
       "420              Hellboy II: The Golden Army\n",
       "1517                                Repo Men\n",
       "3950                          Brave New Girl\n",
       "1471                                   Ponyo\n",
       "Name: title, dtype: object"
      ]
     },
     "execution_count": 89,
     "metadata": {
      "tags": []
     },
     "output_type": "execute_result"
    }
   ],
   "source": [
    "#영화 이름을 입력 받으면 index 정보 찾기\n",
    "movie_name = 'avatar'\n",
    "title_movie = df_movies[df_movies['title'].str.lower().isin([movie_name.lower()])]\n",
    "title_movie\n",
    "\n",
    "movie_index = title_movie.index.values\n",
    "movie_index\n",
    "\n",
    "#index정보를 이용하여 top10\n",
    "movie_top10 = overview_similarity_sorted_idx[movie_index, :10]\n",
    "print(type(movie_top10))\n",
    "\n",
    "movie_top10 = movie_top10.reshape(-1)\n",
    "print(movie_top10.ndim, '차원 : ', movie_top10)\n",
    "\n",
    "#top10정보를 이용하여 영화 제목 추출\n",
    "df_movies.iloc[movie_top10]['title']"
   ]
  },
  {
   "cell_type": "code",
   "execution_count": null,
   "metadata": {
    "id": "GJIJmGaFCDbH"
   },
   "outputs": [],
   "source": []
  }
 ],
 "metadata": {
  "colab": {
   "authorship_tag": "ABX9TyMaEXc+IbrP/GNEaFCVxT/k",
   "collapsed_sections": [],
   "name": "Quiz_박신준.ipynb",
   "provenance": []
  },
  "kernelspec": {
   "display_name": "Python 3",
   "language": "python",
   "name": "python3"
  },
  "language_info": {
   "codemirror_mode": {
    "name": "ipython",
    "version": 3
   },
   "file_extension": ".py",
   "mimetype": "text/x-python",
   "name": "python",
   "nbconvert_exporter": "python",
   "pygments_lexer": "ipython3",
   "version": "3.8.8"
  }
 },
 "nbformat": 4,
 "nbformat_minor": 4
}
