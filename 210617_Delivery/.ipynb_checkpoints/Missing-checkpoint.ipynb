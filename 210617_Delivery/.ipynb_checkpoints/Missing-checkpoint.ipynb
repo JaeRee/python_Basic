{
 "cells": [
  {
   "cell_type": "code",
   "execution_count": null,
   "id": "5b2dc93d-1019-4092-b79d-17a2bada7ea0",
   "metadata": {},
   "outputs": [],
   "source": [
    "# 결측치란 누락되거나 문제가 있는 데이터를 의미한다.\n",
    "# 데이터 입력 시 선택사항 부분이나 네트워크 문제 등으로 누락 되는 데이터\n",
    "# 또는 저장 시 인코딩 문제로 잘못 저장되어 무엇\n",
    "\n",
    "\n",
    "# 판다스에서 결측값을 NaN(Not a Number) 또는 None 으로 표현된다.\n",
    "# 결측치 처리 방법\n",
    "# * 결측치 화키키킼기ㅣㅋ니"
   ]
  }
 ],
 "metadata": {
  "kernelspec": {
   "display_name": "Python 3",
   "language": "python",
   "name": "python3"
  },
  "language_info": {
   "codemirror_mode": {
    "name": "ipython",
    "version": 3
   },
   "file_extension": ".py",
   "mimetype": "text/x-python",
   "name": "python",
   "nbconvert_exporter": "python",
   "pygments_lexer": "ipython3",
   "version": "3.9.5"
  }
 },
 "nbformat": 4,
 "nbformat_minor": 5
}
