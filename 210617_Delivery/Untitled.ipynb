{
 "cells": [
  {
   "cell_type": "code",
   "execution_count": 5,
   "id": "c3b0ce06-a0fd-4835-a6fc-8ef7e79ccdbe",
   "metadata": {},
   "outputs": [],
   "source": [
    "## 1. 배달 시간 데이터 만들기\n",
    "#아래의 데이터는 A,B,C 식당의 배달 시간을 나열한 것이다. 이를 이용하여 평균 배달 시간을 구해보자."
   ]
  },
  {
   "cell_type": "code",
   "execution_count": 6,
   "id": "6ec363c2-a878-4089-a79c-3dee6378aad4",
   "metadata": {},
   "outputs": [],
   "source": [
    "food_a = [20,21,23,22,26,28,35,35,41,42,43,45,44,45,46,47,47,46,47,58,58,59,60,56,57,57,80]\n",
    "food_b = [5,6,11,13,15,16,20,20,21,23,22,27,27,30,30,32,36,37,40,40,43,44,45,51,54,70,600]\n",
    "food_c = [5,5,5,12,10,11,20,20,20,20,20,21,20,30,32,31,31,31,36,40,40,51,61,51,61,61,70]"
   ]
  },
  {
   "cell_type": "code",
   "execution_count": 7,
   "id": "87e28e0b-dbdf-4c51-919b-f0fd32054b76",
   "metadata": {},
   "outputs": [
    {
     "name": "stdout",
     "output_type": "stream",
     "text": [
      "44.0 51.04 30.19\n"
     ]
    }
   ],
   "source": [
    "import numpy as np\n",
    "\n",
    "food_a_mean = np.mean(food_a)\n",
    "food_b_mean = np.mean(food_b)\n",
    "food_c_mean = np.mean(food_c)\n",
    "\n",
    "print(food_a_mean, '{0:.2f}'.format(food_b_mean), round(food_c_mean, 2))"
   ]
  },
  {
   "cell_type": "code",
   "execution_count": 8,
   "id": "648c1f79-9b88-47ee-a2ca-849dceaf5996",
   "metadata": {},
   "outputs": [
    {
     "name": "stdout",
     "output_type": "stream",
     "text": [
      "45.0 30.0 30.0\n",
      "44.0 51.04 30.19\n"
     ]
    }
   ],
   "source": [
    "##1. 중앙값 구하기\n",
    "\n",
    "food_a_median = np.median(food_a)\n",
    "food_b_median = np.median(food_b)\n",
    "food_c_median = np.median(food_c)\n",
    "\n",
    "print(food_a_median, food_b_median, food_c_median)\n",
    "print(food_a_mean, '{0:.2f}'.format(food_b_mean), round(food_c_mean,2))\n"
   ]
  },
  {
   "cell_type": "code",
   "execution_count": 9,
   "id": "f9c767d8-f9ac-4fcc-816c-6ecdc551a1ff",
   "metadata": {},
   "outputs": [],
   "source": [
    "# 현재 A, C 식당의 평균과 중앙값의 차이는 크지 않지만 B식당의 평균과 중앙값의 차이는 크다.\n",
    "# 이것으로 알 수 있는 것은 B식당에 이상치(정상적이지 않은 값)가 존재한다."
   ]
  },
  {
   "cell_type": "code",
   "execution_count": null,
   "id": "66af818b-4e2c-4029-a180-797688980973",
   "metadata": {},
   "outputs": [],
   "source": []
  },
  {
   "cell_type": "code",
   "execution_count": 11,
   "id": "6a340dbc-af09-481e-95c0-8f69cdcfa37e",
   "metadata": {},
   "outputs": [],
   "source": [
    "#1.3 데이터 요약\n",
    "\n",
    "# > pandas 에 series, dataframe에서 describe() 함수를 지원한다. 이함수는 객체 수(count), 평균(mean), 표준편차(std),\n",
    "# 사분위수(min~max) 값을 확인 할 수 있다.\n"
   ]
  },
  {
   "cell_type": "code",
   "execution_count": 12,
   "id": "be8830aa-feb9-4728-9a38-9fd00f33fbd9",
   "metadata": {},
   "outputs": [],
   "source": [
    "import pandas as pd\n",
    "import numpy as np\n",
    "\n",
    "\n",
    "\n",
    "a_Series = pd.Series(food_a)\n",
    "b_Series = pd.Series(food_b)\n",
    "c_Series = pd.Series(food_c)\n"
   ]
  },
  {
   "cell_type": "code",
   "execution_count": 13,
   "id": "0b1ac791-025e-41f6-b3f9-44927928d201",
   "metadata": {},
   "outputs": [
    {
     "name": "stdout",
     "output_type": "stream",
     "text": [
      "<class 'list'>\n",
      "<class 'pandas.core.series.Series'>\n"
     ]
    }
   ],
   "source": [
    "print(type(food_a))\n",
    "#Series로 변환\n",
    "\n",
    "import pandas as pd\n",
    "\n",
    "food_a_series = pd.Series(food_a)\n",
    "\n",
    "#타입 확인\n",
    "print(type(food_a_series))"
   ]
  },
  {
   "cell_type": "code",
   "execution_count": 14,
   "id": "88b5e50f-1443-44f6-8c2b-090e953ac760",
   "metadata": {},
   "outputs": [
    {
     "data": {
      "text/plain": [
       "count    27.000000\n",
       "mean     44.000000\n",
       "std      14.509944\n",
       "min      20.000000\n",
       "25%      35.000000\n",
       "50%      45.000000\n",
       "75%      56.500000\n",
       "max      80.000000\n",
       "dtype: float64"
      ]
     },
     "execution_count": 14,
     "metadata": {},
     "output_type": "execute_result"
    }
   ],
   "source": [
    "food_a_series.describe()"
   ]
  },
  {
   "cell_type": "code",
   "execution_count": null,
   "id": "3fc8f4d4-dc57-402b-9812-8383a9519889",
   "metadata": {},
   "outputs": [],
   "source": [
    "# 1. 전체 배달 건수는 27건 (count- 개수)\n",
    "# 2. 평균 배달시간은 44분 (mean- 평균)\n",
    "# 3. 보통 14분 정도 더 걸릴수 있다. (std- 표준편차)\n",
    "# 4. 최소 20 에서 최대 80분이 소요되며 25%~75%상의 값이 10정도 차이가 나고\n",
    "# 평균과 표준편차의 값으로 유추할 수 있는 것은 25 ~ 75% 사이에 값이 포진되어 있다는 것을 알 수 있다. (min~max - 사분위수)\n",
    "\n",
    "\n",
    "# ** 평균이 44 이고 표준편차가 14 이므로 30 ~ 58 사이에 값이 포진 댐\n"
   ]
  },
  {
   "cell_type": "code",
   "execution_count": null,
   "id": "0b217ad8-b4dc-460c-98c5-e6e6ceb60b79",
   "metadata": {},
   "outputs": [],
   "source": []
  },
  {
   "cell_type": "code",
   "execution_count": 15,
   "id": "bc32c5bb-4118-4da8-a2d1-a293920a457e",
   "metadata": {},
   "outputs": [],
   "source": [
    "# 함수화 선언"
   ]
  },
  {
   "cell_type": "code",
   "execution_count": 18,
   "id": "dbc6e26a-960e-48ab-a736-337bd5ddb535",
   "metadata": {},
   "outputs": [
    {
     "name": "stdout",
     "output_type": "stream",
     "text": [
      "count     27.000000\n",
      "mean      51.037037\n",
      "std      110.789295\n",
      "min        5.000000\n",
      "25%       20.000000\n",
      "50%       30.000000\n",
      "75%       41.500000\n",
      "max      600.000000\n",
      "dtype: float64\n"
     ]
    }
   ],
   "source": [
    "# def 함수 정의 시 앞 부분에 선언\n",
    "# getDescribe : 함수이름\n",
    "# (in_list) : 입력 데이터\n",
    "\n",
    "def getDescribe(in_list):\n",
    "  # series 변환\n",
    "  conv_series = pd.Series(in_list)\n",
    "  # 정보 확인\n",
    "  print(conv_series.describe())\n",
    "  # 값 전달\n",
    "  return conv_series.describe()\n",
    "\n",
    "\n",
    "food_b_series = getDescribe(food_b)"
   ]
  },
  {
   "cell_type": "code",
   "execution_count": null,
   "id": "2d5f685a-f73f-4af0-bf9a-ef9d9bc9b4b7",
   "metadata": {},
   "outputs": [],
   "source": [
    "\n"
   ]
  },
  {
   "cell_type": "code",
   "execution_count": 20,
   "id": "273b6a91-9387-492b-a90e-795dbac825da",
   "metadata": {},
   "outputs": [
    {
     "data": {
      "text/plain": [
       "pandas.core.frame.DataFrame"
      ]
     },
     "execution_count": 20,
     "metadata": {},
     "output_type": "execute_result"
    }
   ],
   "source": [
    "# DataFrame 만들기\n",
    "\n",
    "\n",
    "df_food = pd.DataFrame()\n",
    "type(df_food)\n",
    "\n"
   ]
  },
  {
   "cell_type": "code",
   "execution_count": 23,
   "id": "da42a8c1-df95-4425-b97a-01534924ca80",
   "metadata": {},
   "outputs": [
    {
     "name": "stdout",
     "output_type": "stream",
     "text": [
      "count    27.000000\n",
      "mean     44.000000\n",
      "std      14.509944\n",
      "min      20.000000\n",
      "25%      35.000000\n",
      "50%      45.000000\n",
      "75%      56.500000\n",
      "max      80.000000\n",
      "dtype: float64\n",
      "count     27.000000\n",
      "mean      51.037037\n",
      "std      110.789295\n",
      "min        5.000000\n",
      "25%       20.000000\n",
      "50%       30.000000\n",
      "75%       41.500000\n",
      "max      600.000000\n",
      "dtype: float64\n",
      "count    27.000000\n",
      "mean     30.185185\n",
      "std      18.859882\n",
      "min       5.000000\n",
      "25%      20.000000\n",
      "50%      30.000000\n",
      "75%      40.000000\n",
      "max      70.000000\n",
      "dtype: float64\n"
     ]
    },
    {
     "data": {
      "text/html": [
       "<div>\n",
       "<style scoped>\n",
       "    .dataframe tbody tr th:only-of-type {\n",
       "        vertical-align: middle;\n",
       "    }\n",
       "\n",
       "    .dataframe tbody tr th {\n",
       "        vertical-align: top;\n",
       "    }\n",
       "\n",
       "    .dataframe thead th {\n",
       "        text-align: right;\n",
       "    }\n",
       "</style>\n",
       "<table border=\"1\" class=\"dataframe\">\n",
       "  <thead>\n",
       "    <tr style=\"text-align: right;\">\n",
       "      <th></th>\n",
       "      <th>foodA</th>\n",
       "      <th>foodB</th>\n",
       "      <th>foodC</th>\n",
       "    </tr>\n",
       "  </thead>\n",
       "  <tbody>\n",
       "    <tr>\n",
       "      <th>count</th>\n",
       "      <td>27.000000</td>\n",
       "      <td>27.000000</td>\n",
       "      <td>27.000000</td>\n",
       "    </tr>\n",
       "    <tr>\n",
       "      <th>mean</th>\n",
       "      <td>44.000000</td>\n",
       "      <td>51.037037</td>\n",
       "      <td>30.185185</td>\n",
       "    </tr>\n",
       "    <tr>\n",
       "      <th>std</th>\n",
       "      <td>14.509944</td>\n",
       "      <td>110.789295</td>\n",
       "      <td>18.859882</td>\n",
       "    </tr>\n",
       "    <tr>\n",
       "      <th>min</th>\n",
       "      <td>20.000000</td>\n",
       "      <td>5.000000</td>\n",
       "      <td>5.000000</td>\n",
       "    </tr>\n",
       "    <tr>\n",
       "      <th>25%</th>\n",
       "      <td>35.000000</td>\n",
       "      <td>20.000000</td>\n",
       "      <td>20.000000</td>\n",
       "    </tr>\n",
       "    <tr>\n",
       "      <th>50%</th>\n",
       "      <td>45.000000</td>\n",
       "      <td>30.000000</td>\n",
       "      <td>30.000000</td>\n",
       "    </tr>\n",
       "    <tr>\n",
       "      <th>75%</th>\n",
       "      <td>56.500000</td>\n",
       "      <td>41.500000</td>\n",
       "      <td>40.000000</td>\n",
       "    </tr>\n",
       "    <tr>\n",
       "      <th>max</th>\n",
       "      <td>80.000000</td>\n",
       "      <td>600.000000</td>\n",
       "      <td>70.000000</td>\n",
       "    </tr>\n",
       "  </tbody>\n",
       "</table>\n",
       "</div>"
      ],
      "text/plain": [
       "           foodA       foodB      foodC\n",
       "count  27.000000   27.000000  27.000000\n",
       "mean   44.000000   51.037037  30.185185\n",
       "std    14.509944  110.789295  18.859882\n",
       "min    20.000000    5.000000   5.000000\n",
       "25%    35.000000   20.000000  20.000000\n",
       "50%    45.000000   30.000000  30.000000\n",
       "75%    56.500000   41.500000  40.000000\n",
       "max    80.000000  600.000000  70.000000"
      ]
     },
     "execution_count": 23,
     "metadata": {},
     "output_type": "execute_result"
    }
   ],
   "source": [
    "df_food['foodA']=getDescribe(food_a)\n",
    "df_food['foodB']=getDescribe(food_b)\n",
    "df_food['foodC']=getDescribe(food_c)\n",
    "\n",
    "\n",
    "df_food"
   ]
  },
  {
   "cell_type": "code",
   "execution_count": null,
   "id": "1a2a02a0-1715-4a01-bb4c-be8ff2e4c118",
   "metadata": {},
   "outputs": [],
   "source": [
    "# dataframe에 열 추가 방법\n",
    "\n",
    "# dataframe_name['추가할 열 이름'] = data"
   ]
  }
 ],
 "metadata": {
  "kernelspec": {
   "display_name": "Python 3",
   "language": "python",
   "name": "python3"
  },
  "language_info": {
   "codemirror_mode": {
    "name": "ipython",
    "version": 3
   },
   "file_extension": ".py",
   "mimetype": "text/x-python",
   "name": "python",
   "nbconvert_exporter": "python",
   "pygments_lexer": "ipython3",
   "version": "3.9.5"
  }
 },
 "nbformat": 4,
 "nbformat_minor": 5
}
