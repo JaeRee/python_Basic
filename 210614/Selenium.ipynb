{
 "cells": [
  {
   "cell_type": "code",
   "execution_count": 1,
   "id": "4903405b-5c3b-4350-a97e-0fe59d34b81c",
   "metadata": {},
   "outputs": [
    {
     "name": "stdout",
     "output_type": "stream",
     "text": [
      "Collecting selenium\n",
      "  Downloading selenium-3.141.0-py2.py3-none-any.whl (904 kB)\n",
      "Requirement already satisfied: urllib3 in c:\\users\\5-17\\jupylab\\lib\\site-packages (from selenium) (1.26.5)\n",
      "Installing collected packages: selenium\n",
      "Successfully installed selenium-3.141.0\n"
     ]
    }
   ],
   "source": [
    "!pip install selenium"
   ]
  },
  {
   "cell_type": "code",
   "execution_count": 47,
   "id": "93a6e10f-4be1-43a0-a69c-436939b58e9e",
   "metadata": {},
   "outputs": [],
   "source": [
    "# 구글 이미지 검색하여 이미지 크롤링\n",
    "\n",
    "from selenium import webdriver\n",
    "from selenium.webdriver.common.keys import Keys\n",
    "from selenium.webdriver import ActionChains\n",
    "import time\n",
    "import urllib.request\n",
    "\n",
    "driver = webdriver.Chrome()                                         # wepdriver 를 이용해서 다운 받은 Chromedriver 실행\n",
    "driver.get(\"https://www.google.co.kr/imghp?hl=ko&ogbl\")\n",
    "elem = driver.find_element_by_name(\"q\")                        # 검색창을 찾음 \n",
    "elem.send_keys(\"아이스아메리카노\")                              # 키보드 입력값을 전송 // 구글에서 찾을 이미지 이름 \n",
    "elem.send_keys(Keys.RETURN)                                      # 검색창에서 엔터키를 누름\n",
    "images = driver.find_elements_by_css_selector(\".rg_i.Q4LuWd\")\n",
    "# elements - 이미지 여러개, \n",
    "# \"rg_i Q4LuWd\" 클래스 명이니까 앞에 .  Q4 앞에 . 점은 이어주기위함\n",
    "# .click() 을 하면 이미지 클릭, 이미지가 여러개니까 [0].click() 을 붙여 제일 앞에꺼 클릭\n",
    "\n",
    "\n",
    "\n",
    "# 스크롤 부분, 다운받기 전에 스크롤 전부 내림 -------------------------\n",
    "SCROLL_PAUSE_TIME = 1\n",
    "\n",
    "# Get scroll height\n",
    "last_height = driver.execute_script(\"return document.body.scrollHeight\")\n",
    "# exe.script = JavaScript 코드 실행.... (\"\") 는 브라우저의 높이를 리턴 \n",
    "\n",
    "while True:\n",
    "    # Scroll down to bottom 브라우저 끝까지 스크롤을 내림\n",
    "    driver.execute_script(\"window.scrollTo(0, document.body.scrollHeight);\")\n",
    "    \n",
    "\n",
    "    # Wait to load page \n",
    "    time.sleep(SCROLL_PAUSE_TIME)\n",
    "\n",
    "    # Calculate new scroll height and compare with last scroll height\n",
    "    new_height = driver.execute_script(\"return document.body.scrollHeight\")\n",
    "    if new_height == last_height:                # 이전 스크롤과 내린 스크롤이 같다면\n",
    "        try:\n",
    "            driver.find_element_by_css_selector(\".mye4qd\").click()\n",
    "        except:\n",
    "            break\n",
    "    last_height = new_height\n",
    "\n",
    "\n",
    "    \n",
    "#이미지 다운 -----------------------------------------------------------------------   \n",
    "count = 1\n",
    "for image in images:\n",
    "    try:\n",
    "        image.click()\n",
    "        time.sleep(2)    # 이미지가 뜨기전에 실행되어 텀을 줌\n",
    "        imgUrl = driver.find_element_by_xpath(\"/html/body/div[2]/c-wiz/div[3]/div[2]/div[3]/div/div/div[3]/div[2]/c-wiz/div/div[1]/div[1]/div/div[2]/a/img\").get_attribute(\"src\")\n",
    "        urllib.request.urlretrieve(imgUrl, str(count)+\"icemAme.jpg\")\n",
    "        count = count+1\n",
    "    except:\n",
    "        pass\n",
    "\n",
    "\n",
    "\n",
    "driver.close()\n",
    "\n",
    "\n",
    "\n",
    "#https://www.youtube.com/watch?v=1b7pXC1-IbE\n",
    "#파이썬 셀레니움 이미지크롤링"
   ]
  },
  {
   "cell_type": "code",
   "execution_count": null,
   "id": "6e2da4b9-d34a-48d1-9686-46cae96c3623",
   "metadata": {},
   "outputs": [],
   "source": []
  }
 ],
 "metadata": {
  "kernelspec": {
   "display_name": "Python 3",
   "language": "python",
   "name": "python3"
  },
  "language_info": {
   "codemirror_mode": {
    "name": "ipython",
    "version": 3
   },
   "file_extension": ".py",
   "mimetype": "text/x-python",
   "name": "python",
   "nbconvert_exporter": "python",
   "pygments_lexer": "ipython3",
   "version": "3.9.5"
  }
 },
 "nbformat": 4,
 "nbformat_minor": 5
}
