{
 "cells": [
  {
   "cell_type": "code",
   "execution_count": 2,
   "id": "406cb80d-1689-457f-a889-4ff2b2e0dd02",
   "metadata": {},
   "outputs": [
    {
     "name": "stdout",
     "output_type": "stream",
     "text": [
      "['서울시', '서초구', '반포대로', '201(반포동)']\n"
     ]
    }
   ],
   "source": [
    "adress =  [\"서울시\", \"서초구\", \"반포대로\", \"201(반포동)\"]\n",
    "print(adress)"
   ]
  },
  {
   "cell_type": "code",
   "execution_count": 4,
   "id": "1d0ff1ec-6931-46a0-9e7c-8c3344638886",
   "metadata": {},
   "outputs": [
    {
     "data": {
      "text/plain": [
       "'서울시서초구반포대로201(반포동)'"
      ]
     },
     "execution_count": 4,
     "metadata": {},
     "output_type": "execute_result"
    }
   ],
   "source": [
    "a = ''\n",
    "a.join(adress)"
   ]
  },
  {
   "cell_type": "code",
   "execution_count": null,
   "id": "e51e4507-b153-40d2-8696-abd42f47893d",
   "metadata": {},
   "outputs": [],
   "source": [
    "str_f = \"Today is beautyfil\"\n",
    "\n",
    "str_a = str_f.find()"
   ]
  }
 ],
 "metadata": {
  "kernelspec": {
   "display_name": "Python 3",
   "language": "python",
   "name": "python3"
  },
  "language_info": {
   "codemirror_mode": {
    "name": "ipython",
    "version": 3
   },
   "file_extension": ".py",
   "mimetype": "text/x-python",
   "name": "python",
   "nbconvert_exporter": "python",
   "pygments_lexer": "ipython3",
   "version": "3.8.8"
  }
 },
 "nbformat": 4,
 "nbformat_minor": 5
}
