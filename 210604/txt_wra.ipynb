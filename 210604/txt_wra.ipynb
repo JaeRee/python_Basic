{
 "cells": [
  {
   "cell_type": "code",
   "execution_count": 1,
   "id": "c4b8c26b-d016-4e91-9da1-542c55863b8b",
   "metadata": {},
   "outputs": [],
   "source": [
    "# https://wikidocs.net/26#_1  < 참고자료\n",
    "# TXT 파일 생성\n",
    "\n",
    "f = open(\"새파일.txt\",\"w\")\n",
    "f.close()"
   ]
  },
  {
   "cell_type": "code",
   "execution_count": 2,
   "id": "cee312b6-f06a-4041-b41c-cc790d1dff2c",
   "metadata": {},
   "outputs": [],
   "source": [
    "# 생성된 파일에 데이터 입력\n",
    "\n",
    "f = open(\"새파일.txt\",\"w\")\n",
    "for i in range(1,11):\n",
    "    data = \"%d번째 줄입니다.\\n\" % i\n",
    "    f.write(data)\n",
    "f.close()"
   ]
  },
  {
   "cell_type": "code",
   "execution_count": 8,
   "id": "0651571d-ed23-49e4-8c0b-51cc9c30ddab",
   "metadata": {},
   "outputs": [
    {
     "name": "stdout",
     "output_type": "stream",
     "text": [
      "1번째 줄입니다.\n",
      "2번째 줄입니다.\n",
      "3번째 줄입니다.\n",
      "4번째 줄입니다.\n",
      "5번째 줄입니다.\n",
      "6번째 줄입니다.\n",
      "7번째 줄입니다.\n",
      "8번째 줄입니다.\n",
      "9번째 줄입니다.\n",
      "10번째 줄입니다.\n",
      "\n"
     ]
    }
   ],
   "source": [
    "# 파일 읽어오기\n",
    "\n",
    "f = open(\"새파일.txt\",'r')\n",
    "data = f.read()\n",
    "print(data)\n",
    "f.close()"
   ]
  },
  {
   "cell_type": "code",
   "execution_count": 13,
   "id": "8777aee0-80c6-439e-84a3-56fc7d339b30",
   "metadata": {},
   "outputs": [],
   "source": [
    "# 파일에 새로운 내용 추가\n",
    "\n",
    "f = open(\"새파일.txt\",'a')\n",
    "for i in range(11,21):\n",
    "    data = \"%d번째 추가 줄 입니다.\\n\" %i\n",
    "    f.write(data)\n",
    "f.close()"
   ]
  },
  {
   "cell_type": "code",
   "execution_count": 14,
   "id": "9b912753-8cf6-4b2d-b198-da67577603fa",
   "metadata": {},
   "outputs": [
    {
     "name": "stdout",
     "output_type": "stream",
     "text": [
      "1번째 줄입니다.\n",
      "2번째 줄입니다.\n",
      "3번째 줄입니다.\n",
      "4번째 줄입니다.\n",
      "5번째 줄입니다.\n",
      "6번째 줄입니다.\n",
      "7번째 줄입니다.\n",
      "8번째 줄입니다.\n",
      "9번째 줄입니다.\n",
      "10번째 줄입니다.\n",
      "11번째 추가 줄 입니다.12번째 추가 줄 입니다.13번째 추가 줄 입니다.14번째 추가 줄 입니다.15번째 추가 줄 입니다.16번째 추가 줄 입니다.17번째 추가 줄 입니다.18번째 추가 줄 입니다.19번째 추가 줄 입니다.20번째 추가 줄 입니다.11번째 추가 줄 입니다.\n",
      "12번째 추가 줄 입니다.\n",
      "13번째 추가 줄 입니다.\n",
      "14번째 추가 줄 입니다.\n",
      "15번째 추가 줄 입니다.\n",
      "16번째 추가 줄 입니다.\n",
      "17번째 추가 줄 입니다.\n",
      "18번째 추가 줄 입니다.\n",
      "19번째 추가 줄 입니다.\n",
      "20번째 추가 줄 입니다.\n",
      "\n"
     ]
    }
   ],
   "source": [
    "f = open(\"새파일.txt\",'r')\n",
    "data=f.read()\n",
    "print(data)\n",
    "f.close()"
   ]
  },
  {
   "cell_type": "code",
   "execution_count": 16,
   "id": "05570c56-c73d-4488-8921-47e59a17da0c",
   "metadata": {},
   "outputs": [
    {
     "name": "stdout",
     "output_type": "stream",
     "text": [
      "1번째 줄입니다.\n",
      "\n"
     ]
    }
   ],
   "source": [
    "# readline : 파일의 첫번쨰 줄을 읽어옴\n",
    "f = open(\"새파일.txt\",'r')\n",
    "line = f.readline()\n",
    "print(line)\n",
    "f.close()"
   ]
  },
  {
   "cell_type": "code",
   "execution_count": 17,
   "id": "0bd54735-a4f7-4c86-b3ac-57b21ffa30c2",
   "metadata": {},
   "outputs": [
    {
     "name": "stdout",
     "output_type": "stream",
     "text": [
      "['1번째 줄입니다.\\n', '2번째 줄입니다.\\n', '3번째 줄입니다.\\n', '4번째 줄입니다.\\n', '5번째 줄입니다.\\n', '6번째 줄입니다.\\n', '7번째 줄입니다.\\n', '8번째 줄입니다.\\n', '9번째 줄입니다.\\n', '10번째 줄입니다.\\n', '11번째 추가 줄 입니다.12번째 추가 줄 입니다.13번째 추가 줄 입니다.14번째 추가 줄 입니다.15번째 추가 줄 입니다.16번째 추가 줄 입니다.17번째 추가 줄 입니다.18번째 추가 줄 입니다.19번째 추가 줄 입니다.20번째 추가 줄 입니다.11번째 추가 줄 입니다.\\n', '12번째 추가 줄 입니다.\\n', '13번째 추가 줄 입니다.\\n', '14번째 추가 줄 입니다.\\n', '15번째 추가 줄 입니다.\\n', '16번째 추가 줄 입니다.\\n', '17번째 추가 줄 입니다.\\n', '18번째 추가 줄 입니다.\\n', '19번째 추가 줄 입니다.\\n', '20번째 추가 줄 입니다.\\n']\n"
     ]
    }
   ],
   "source": [
    "# readlines : 파일의 내용을 리스트로 뽑아옴\n",
    "\n",
    "f = open(\"새파일.txt\",'r')\n",
    "line = f.readlines()\n",
    "print(line)\n",
    "f.close()"
   ]
  },
  {
   "cell_type": "code",
   "execution_count": 22,
   "id": "760f4e56-2cf7-4fa4-81c3-ca0448453306",
   "metadata": {},
   "outputs": [
    {
     "name": "stdout",
     "output_type": "stream",
     "text": [
      "-f\n",
      "C:\\Users\\5-17\\AppData\\Roaming\\jupyter\\runtime\\kernel-f0ad9f37-0ab4-4c41-be2f-e3014801e46e.json\n"
     ]
    }
   ],
   "source": [
    "#sys1.py\n",
    "import sys\n",
    "\n",
    "args = sys.argv[1:]\n",
    "for i in args:\n",
    "    print(i)"
   ]
  },
  {
   "cell_type": "code",
   "execution_count": null,
   "id": "1ca06814-22bd-439d-8c76-415ed94d2c6e",
   "metadata": {},
   "outputs": [],
   "source": []
  }
 ],
 "metadata": {
  "kernelspec": {
   "display_name": "Python 3",
   "language": "python",
   "name": "python3"
  },
  "language_info": {
   "codemirror_mode": {
    "name": "ipython",
    "version": 3
   },
   "file_extension": ".py",
   "mimetype": "text/x-python",
   "name": "python",
   "nbconvert_exporter": "python",
   "pygments_lexer": "ipython3",
   "version": "3.9.5"
  }
 },
 "nbformat": 4,
 "nbformat_minor": 5
}
