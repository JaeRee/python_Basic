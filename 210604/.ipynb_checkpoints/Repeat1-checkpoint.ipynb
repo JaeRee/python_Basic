{
 "cells": [
  {
   "cell_type": "code",
   "execution_count": 1,
   "id": "64be5343-ca61-4db7-90f2-cb1efe05900c",
   "metadata": {},
   "outputs": [
    {
     "name": "stdout",
     "output_type": "stream",
     "text": [
      "18\n"
     ]
    }
   ],
   "source": [
    "def afa(a,b):\n",
    "    return a+b\n",
    "\n",
    "a=8\n",
    "b=10\n",
    "c= afa(a,b)\n",
    "print(c)"
   ]
  },
  {
   "cell_type": "code",
   "execution_count": 2,
   "id": "91b9654b-1298-4105-a20f-9f51f2fb1722",
   "metadata": {},
   "outputs": [
    {
     "name": "stdout",
     "output_type": "stream",
     "text": [
      "8\n"
     ]
    }
   ],
   "source": [
    "def add(a,b):\n",
    "    result = a+b\n",
    "    return result\n",
    "\n",
    "a = add(3,5)\n",
    "print(a)"
   ]
  },
  {
   "cell_type": "code",
   "execution_count": 7,
   "id": "59e7e198-58b1-46f0-ae86-c249aa039f35",
   "metadata": {},
   "outputs": [],
   "source": [
    "def add(a,b):\n",
    "    print('%d, %d 의  합은 %d 입니다.' %(a,b,a+b))\n",
    "    "
   ]
  },
  {
   "cell_type": "code",
   "execution_count": 8,
   "id": "35297c95-41de-45be-be55-e62c11c43d44",
   "metadata": {},
   "outputs": [
    {
     "name": "stdout",
     "output_type": "stream",
     "text": [
      "5, 6 의  합은 11 입니다.\n"
     ]
    }
   ],
   "source": [
    "add(5,6)"
   ]
  },
  {
   "cell_type": "code",
   "execution_count": 16,
   "id": "859aa15b-cb79-4119-8417-0e9dd5ab50c7",
   "metadata": {},
   "outputs": [],
   "source": [
    "# 입력 값이 많을 때는 *매개변수를 이용한다.\n",
    "\n",
    "def add_many(*args):\n",
    "    result=0 #\n",
    "    for i in args:\n",
    "        result = result + i\n",
    "    \n",
    "    return result\n",
    "\n",
    "\n",
    "## UnboundLocalError: local variable 'result' referenced before assignment 오류뜸...\n",
    "## 로컬변수에 할당전에 참조되었음... 초기화 안시켜서 뜸 ㅠㅠ"
   ]
  },
  {
   "cell_type": "code",
   "execution_count": 17,
   "id": "aa941112-3e62-48ee-aa4d-a78229c60402",
   "metadata": {},
   "outputs": [
    {
     "data": {
      "text/plain": [
       "45"
      ]
     },
     "execution_count": 17,
     "metadata": {},
     "output_type": "execute_result"
    }
   ],
   "source": [
    "add_many(1,2,3,4,5,6,7,8,9,)"
   ]
  },
  {
   "cell_type": "code",
   "execution_count": null,
   "id": "46be12cc-2b0b-4b74-a64b-2e65ef5d9b18",
   "metadata": {},
   "outputs": [],
   "source": []
  }
 ],
 "metadata": {
  "kernelspec": {
   "display_name": "Python 3",
   "language": "python",
   "name": "python3"
  },
  "language_info": {
   "codemirror_mode": {
    "name": "ipython",
    "version": 3
   },
   "file_extension": ".py",
   "mimetype": "text/x-python",
   "name": "python",
   "nbconvert_exporter": "python",
   "pygments_lexer": "ipython3",
   "version": "3.9.5"
  }
 },
 "nbformat": 4,
 "nbformat_minor": 5
}
