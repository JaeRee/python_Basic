{
 "cells": [
  {
   "cell_type": "code",
   "execution_count": 18,
   "id": "c64808cd-ab2d-4b56-85f1-b22654558241",
   "metadata": {},
   "outputs": [],
   "source": [
    "'''Pandas에서 제공하는 데이터 자료구조는 Series와 Dataframe 두가지가 존재하는데 Series는 시계열과 유사한 데이터로서 index와 value 가 존재하고\n",
    "Dataframe은 딕셔너리데이터를 매트릭스 형태로 만들어 준 것과 같은 frame 을 가지고 있다. 이런 데이터 구조를 통해 시계열, 비시계열 데이터를 통합하\n",
    "여 다룰 수 있고 이를 좀더 자세히 살펴보자.'''"
   ]
  },
  {
   "cell_type": "code",
   "execution_count": null,
   "id": "8bc52788-ca4d-4735-b8f0-eaabd399d74c",
   "metadata": {},
   "outputs": [],
   "source": []
  },
  {
   "cell_type": "code",
   "execution_count": 19,
   "id": "b3762bd4-beb5-46a6-a5db-c77ad6ac3d1c",
   "metadata": {},
   "outputs": [
    {
     "name": "stdout",
     "output_type": "stream",
     "text": [
      "apple     2500\n",
      "banana    3800\n",
      "peer      1200\n",
      "cherry    6000\n",
      "dtype: int64\n"
     ]
    }
   ],
   "source": [
    "#### import\n",
    "from pandas import Series, DataFrame\n",
    "import pandas as pd\n",
    "#### series\n",
    "fruit = Series([2500,3800,1200,6000],index=['apple','banana','peer','cherry'])\n",
    "print(fruit)"
   ]
  },
  {
   "cell_type": "code",
   "execution_count": 22,
   "id": "e2270f2a-f95b-4df1-85b1-27824cae5a22",
   "metadata": {},
   "outputs": [
    {
     "name": "stdout",
     "output_type": "stream",
     "text": [
      "[2500 3800 1200 6000]\n",
      "Index(['apple', 'banana', 'peer', 'cherry'], dtype='object')\n"
     ]
    }
   ],
   "source": [
    "print(fruit.values)\n",
    "print(fruit.index)"
   ]
  },
  {
   "cell_type": "code",
   "execution_count": 23,
   "id": "ed26eb0d-f3e8-4184-9b17-8c2b9df13054",
   "metadata": {},
   "outputs": [
    {
     "data": {
      "text/plain": [
       "pandas.core.series.Series"
      ]
     },
     "execution_count": 23,
     "metadata": {},
     "output_type": "execute_result"
    }
   ],
   "source": [
    "'''Series의 형태는 딕셔너리와 매우 유사하여 key 가 index로 바뀌었다고 \n",
    "착각할 수 있지만 사실상 데이터 구조 자체가 매우 다르기 때문에 딕셔너\n",
    "리에서 사용하는 방식이 조금씩 다르기 때문에 주의해야 한다.'''\n",
    "\n",
    "\n"
   ]
  },
  {
   "cell_type": "code",
   "execution_count": 24,
   "id": "a7a474ef-2a8b-4f9d-b274-54c5c69e068f",
   "metadata": {},
   "outputs": [
    {
     "data": {
      "text/plain": [
       "pandas.core.series.Series"
      ]
     },
     "execution_count": 24,
     "metadata": {},
     "output_type": "execute_result"
    }
   ],
   "source": [
    "#### Seires( )\n",
    "fruitData = {'apple': 2500,'banana':3800,'peer':1200,'cherry':6000}\n",
    "fruit = Series(fruitData)\n",
    "type(fruitData)\n",
    "type(fruit)"
   ]
  },
  {
   "cell_type": "code",
   "execution_count": 38,
   "id": "acb2e292-b2b5-4495-aaf8-c822f84ceb0b",
   "metadata": {},
   "outputs": [
    {
     "name": "stdout",
     "output_type": "stream",
     "text": [
      "F_Name    Price\n",
      "apple     2500\n",
      "banana    3800\n",
      "peer      1200\n",
      "cherry    6000\n",
      "Name: fruitPrice, dtype: int64\n"
     ]
    }
   ],
   "source": [
    "#### name\n",
    "fruit = Series([2500, 3800, 1200, 6000], index=['apple', 'banana', 'peer', 'cherry'])\n",
    "fruit.name = 'fruitPrice'\n",
    "fruit.index.name = 'F_Name    Price'\n",
    "print(fruit) "
   ]
  },
  {
   "cell_type": "code",
   "execution_count": null,
   "id": "4198db9c-6f47-4603-b771-728e212550e5",
   "metadata": {},
   "outputs": [],
   "source": []
  },
  {
   "cell_type": "code",
   "execution_count": null,
   "id": "28e83974-3ebb-4bfb-bd54-0a46e04242eb",
   "metadata": {},
   "outputs": [],
   "source": []
  },
  {
   "cell_type": "code",
   "execution_count": 41,
   "id": "bf064993-863d-43a4-aaef-255131f7ef64",
   "metadata": {},
   "outputs": [
    {
     "name": "stdout",
     "output_type": "stream",
     "text": [
      "  fruitName  fruitPrice  num\n",
      "0     apple        2500   10\n",
      "1    banana        3800    5\n",
      "2    cherry        6000    3\n",
      "3      peer        1200    8\n"
     ]
    }
   ],
   "source": [
    "### DataFrame\n",
    "\n",
    "Data = {'fruitName':['apple','banana','cherry','peer'],\n",
    "'fruitPrice':[2500,3800,6000,1200],\n",
    "'num':[10,5,3,8]}\n",
    "fruitFrame =DataFrame(Data)\n",
    "print(fruitFrame)"
   ]
  },
  {
   "cell_type": "code",
   "execution_count": 43,
   "id": "3f816314-6c4b-4178-9f25-2c85c748c9a7",
   "metadata": {},
   "outputs": [
    {
     "name": "stdout",
     "output_type": "stream",
     "text": [
      "   fruitPrice  num fruitName\n",
      "0        2500   10     apple\n",
      "1        3800    5    banana\n",
      "2        6000    3    cherry\n",
      "3        1200    8      peer\n"
     ]
    }
   ],
   "source": [
    "### 컬럼 순서 지정하기\n",
    "fruitFrame = DataFrame(fruitData, columns = ['fruitPrice','num','fruitName'])\n",
    "print(fruitFrame) "
   ]
  },
  {
   "cell_type": "code",
   "execution_count": null,
   "id": "36567251-05df-44ec-b9b0-7f86342d0b85",
   "metadata": {},
   "outputs": [],
   "source": []
  },
  {
   "cell_type": "code",
   "execution_count": 44,
   "id": "0e425e45-0394-489e-ad93-07dba8ba5cdf",
   "metadata": {},
   "outputs": [
    {
     "data": {
      "text/plain": [
       "0     apple\n",
       "1    banana\n",
       "2    cherry\n",
       "3      peer\n",
       "Name: fruitName, dtype: object"
      ]
     },
     "execution_count": 44,
     "metadata": {},
     "output_type": "execute_result"
    }
   ],
   "source": [
    "## 특정 column 추출, 사전형식\n",
    "fruitFrame['fruitName']"
   ]
  },
  {
   "cell_type": "code",
   "execution_count": 45,
   "id": "4f115d31-02ae-4c50-b0b2-e2f7f0f2b52a",
   "metadata": {},
   "outputs": [
    {
     "data": {
      "text/plain": [
       "0     apple\n",
       "1    banana\n",
       "2    cherry\n",
       "3      peer\n",
       "Name: fruitName, dtype: object"
      ]
     },
     "execution_count": 45,
     "metadata": {},
     "output_type": "execute_result"
    }
   ],
   "source": [
    "## 특정 column 추출, 속성형식\n",
    "fruitFrame.fruitName"
   ]
  },
  {
   "cell_type": "code",
   "execution_count": 48,
   "id": "113fff85-6bd0-4084-a181-c7bd3b6574cb",
   "metadata": {},
   "outputs": [
    {
     "name": "stdout",
     "output_type": "stream",
     "text": [
      "   fruitPrice  num fruitName  year  stock\n",
      "0        2500   10     apple  2016    4.0\n",
      "1        3800    5    banana  2015    NaN\n",
      "2        6000    3    cherry  2011    2.0\n",
      "3        1200    8      peer  2020    1.0\n"
     ]
    }
   ],
   "source": [
    "## 컬럼 추가하기\n",
    "\n",
    "fruitFrame['year'] = 2016,2015,2011,2020\n",
    "print(fruitFrame)"
   ]
  },
  {
   "cell_type": "code",
   "execution_count": 47,
   "id": "68ae4739-d9e4-4f1f-ab1b-314ce4e5c5a0",
   "metadata": {},
   "outputs": [
    {
     "name": "stdout",
     "output_type": "stream",
     "text": [
      "   fruitPrice  num fruitName  year  stock\n",
      "0        2500   10     apple  2016    4.0\n",
      "1        3800    5    banana  2016    NaN\n",
      "2        6000    3    cherry  2016    2.0\n",
      "3        1200    8      peer  2016    1.0\n"
     ]
    }
   ],
   "source": [
    "### 컬럼 추가하기 - 다른 값\n",
    "variable=Series([4,2,1],index=[0,2,3])\n",
    "fruitFrame['stock'] = variable\n",
    "print(fruitFrame) "
   ]
  },
  {
   "cell_type": "code",
   "execution_count": 52,
   "id": "7db87d33-c0c2-47d8-bd7a-b2d59602705e",
   "metadata": {},
   "outputs": [
    {
     "name": "stdout",
     "output_type": "stream",
     "text": [
      "apple     2500\n",
      "banana    3800\n",
      "peer      1200\n",
      "cherry    6000\n",
      "dtype: int64\n",
      "\n",
      "\n",
      "apple     2500\n",
      "peer      1200\n",
      "cherry    6000\n",
      "dtype: int64\n"
     ]
    }
   ],
   "source": [
    "### Series 데이터 row 삭제하기 drop()\n",
    "\n",
    "fruit = Series([2500,3800,1200,6000],index=['apple','banana','peer','cherry'])\n",
    "new_fruit = fruit.drop('banana')\n",
    "print(fruit)\n",
    "print(\"\\n\")\n",
    "print(new_fruit)"
   ]
  },
  {
   "cell_type": "code",
   "execution_count": null,
   "id": "a6b91526-95b9-435b-b163-ddfd8f832311",
   "metadata": {},
   "outputs": [],
   "source": []
  },
  {
   "cell_type": "code",
   "execution_count": null,
   "id": "c3407359-e1ad-40fb-ac8d-ae9c713394e2",
   "metadata": {},
   "outputs": [],
   "source": [
    "## Dataframe column 행 삭제하기\n",
    "# Dataframe 의 인자에 index를 추가하면 원하는 index값을 지정 할 수 있다.\n",
    "# index는 columns와 다르게 DataFrame을 만들고자 하는 데이터에서 가져올 수 없고 따로 객체가 존재해야 한다."
   ]
  },
  {
   "cell_type": "code",
   "execution_count": 60,
   "id": "3b400d89-58dc-48f9-8557-0a9b1ea998cc",
   "metadata": {},
   "outputs": [
    {
     "name": "stdout",
     "output_type": "stream",
     "text": [
      "        fruitPrice  num\n",
      "apple         2500   10\n",
      "banana        3800    5\n",
      "cherry        6000    3\n",
      "peer          1200    8\n",
      "\n",
      "\n",
      "        fruitPrice  num\n",
      "banana        3800    5\n",
      "peer          1200    8\n"
     ]
    }
   ],
   "source": [
    "# Dataframe column 삭제하기\n",
    "fruitData = {'fruitName':['apple','banana','cherry','peer'],\n",
    "'fruitPrice':[2500,3800,6000,1200],\n",
    "'num':[10,5,3,8]}\n",
    "\n",
    "fruitName=fruitData['fruitName']\n",
    "fruitFrame = DataFrame(fruitData,index = fruitName,columns=['fruitPrice','num'])\n",
    "\n",
    "fruitFrame2=fruitFrame.drop(['apple','cherry'])\n",
    "print(fruitFrame)\n",
    "print(\"\\n\")\n",
    "print(fruitFrame2) "
   ]
  },
  {
   "cell_type": "code",
   "execution_count": null,
   "id": "42260d7a-5d43-48a8-b7b1-a68c0ab88874",
   "metadata": {},
   "outputs": [],
   "source": []
  },
  {
   "cell_type": "code",
   "execution_count": null,
   "id": "23372c21-87e4-4a2f-a3d5-f57bba408d52",
   "metadata": {},
   "outputs": [],
   "source": [
    "## Dataframe column 열 삭제하기\n",
    "# row삭제와 마찬가지로 여러 개의 컬럼을 삭제하려면 [‘num’,’fruitPrice’]처럼 리스트형태로 값을 지정하면 된다."
   ]
  },
  {
   "cell_type": "code",
   "execution_count": 66,
   "id": "5230658e-2fe6-40dc-afa8-3768c08e6d92",
   "metadata": {},
   "outputs": [
    {
     "name": "stdout",
     "output_type": "stream",
     "text": [
      "        fruitPrice  num\n",
      "apple         2500   10\n",
      "banana        3800    5\n",
      "cherry        6000    3\n",
      "peer          1200    8\n",
      "\n",
      "\n",
      "Empty DataFrame\n",
      "Columns: []\n",
      "Index: [apple, banana, cherry, peer]\n"
     ]
    }
   ],
   "source": [
    "fruitFrame3 = fruitFrame.drop( ['num','fruitPrice'],axis=1)\n",
    "print(fruitFrame)\n",
    "print(\"\\n\")\n",
    "print(fruitFrame3)"
   ]
  },
  {
   "cell_type": "code",
   "execution_count": null,
   "id": "a97a77f3-0ba9-4026-b1f5-cd7bd8e57f86",
   "metadata": {},
   "outputs": [],
   "source": []
  },
  {
   "cell_type": "code",
   "execution_count": 68,
   "id": "399f3670-6aad-419d-a7a7-10bd442c5190",
   "metadata": {},
   "outputs": [
    {
     "data": {
      "text/plain": [
       "apple     2500\n",
       "banana    3800\n",
       "peer      1200\n",
       "dtype: int64"
      ]
     },
     "execution_count": 68,
     "metadata": {},
     "output_type": "execute_result"
    }
   ],
   "source": [
    "# Series항목 추축하기 slice\n",
    "fruit = Series([2500,3800,1200,6000],index=['apple','banana','peer','cherry'])\n",
    "fruit['apple':'peer']"
   ]
  },
  {
   "cell_type": "code",
   "execution_count": null,
   "id": "da55d682-e3e1-45b5-921d-3b5cb8780246",
   "metadata": {},
   "outputs": [],
   "source": []
  },
  {
   "cell_type": "code",
   "execution_count": 73,
   "id": "9dd592a3-623d-4491-85ed-6aa69aeeffa4",
   "metadata": {},
   "outputs": [
    {
     "name": "stdout",
     "output_type": "stream",
     "text": [
      "        fruitPrice  num\n",
      "apple         2500   10\n",
      "banana        3800    5\n",
      "cherry        6000    3\n",
      "peer          1200    8\n",
      "\n",
      "\n"
     ]
    },
    {
     "data": {
      "text/html": [
       "<div>\n",
       "<style scoped>\n",
       "    .dataframe tbody tr th:only-of-type {\n",
       "        vertical-align: middle;\n",
       "    }\n",
       "\n",
       "    .dataframe tbody tr th {\n",
       "        vertical-align: top;\n",
       "    }\n",
       "\n",
       "    .dataframe thead th {\n",
       "        text-align: right;\n",
       "    }\n",
       "</style>\n",
       "<table border=\"1\" class=\"dataframe\">\n",
       "  <thead>\n",
       "    <tr style=\"text-align: right;\">\n",
       "      <th></th>\n",
       "      <th>fruitPrice</th>\n",
       "      <th>num</th>\n",
       "    </tr>\n",
       "  </thead>\n",
       "  <tbody>\n",
       "    <tr>\n",
       "      <th>apple</th>\n",
       "      <td>2500</td>\n",
       "      <td>10</td>\n",
       "    </tr>\n",
       "    <tr>\n",
       "      <th>banana</th>\n",
       "      <td>3800</td>\n",
       "      <td>5</td>\n",
       "    </tr>\n",
       "  </tbody>\n",
       "</table>\n",
       "</div>"
      ],
      "text/plain": [
       "        fruitPrice  num\n",
       "apple         2500   10\n",
       "banana        3800    5"
      ]
     },
     "execution_count": 73,
     "metadata": {},
     "output_type": "execute_result"
    }
   ],
   "source": [
    "# df 의 slice\n",
    "Data = {'fruitName':['apple','banana','cherry','peer'],\n",
    "        'fruitPrice':[2500,3800,6000,1200],\n",
    "        'num':[10,5,3,7]}\n",
    "fruitName=Data['fruitName']\n",
    "fruitName= DataFrame(Data,index = fruitName,columns=['fruitPrice','num'])\n",
    "print(fruitFrame)\n",
    "print(\"\\n\")\n",
    "fruitFrame['fruitPrice']\n",
    "fruitFrame['apple':'banana']"
   ]
  },
  {
   "cell_type": "code",
   "execution_count": null,
   "id": "8b592256-d9c4-4702-a94d-8ded1652a457",
   "metadata": {},
   "outputs": [],
   "source": []
  }
 ],
 "metadata": {
  "kernelspec": {
   "display_name": "Python 3",
   "language": "python",
   "name": "python3"
  },
  "language_info": {
   "codemirror_mode": {
    "name": "ipython",
    "version": 3
   },
   "file_extension": ".py",
   "mimetype": "text/x-python",
   "name": "python",
   "nbconvert_exporter": "python",
   "pygments_lexer": "ipython3",
   "version": "3.8.8"
  }
 },
 "nbformat": 4,
 "nbformat_minor": 5
}
